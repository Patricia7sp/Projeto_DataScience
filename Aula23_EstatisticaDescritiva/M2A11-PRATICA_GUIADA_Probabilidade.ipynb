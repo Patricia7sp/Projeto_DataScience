{
 "cells": [
  {
   "cell_type": "markdown",
   "metadata": {},
   "source": [
    "# PRÁTICA GUIADA - Probabilidades."
   ]
  },
  {
   "cell_type": "code",
   "execution_count": 19,
   "metadata": {},
   "outputs": [],
   "source": [
    "import matplotlib.pyplot as plt\n",
    "%matplotlib inline\n",
    "import numpy as np\n",
    "from scipy import stats\n",
    "import seaborn as sns\n",
    "import pandas as pd"
   ]
  },
  {
   "cell_type": "markdown",
   "metadata": {},
   "source": [
    "## Amostra de distribuições com numpy\n",
    "\n",
    "#### A biblioteca aleatória numpy oferece um conjunto de funções que geram valores aleatórios, esses valores podem vir de diferentes tipos de distribuições estatísticas e nos fornecem um conjunto de dados pertencentes aos valores do espaço de amostra dessas distribuições.\n",
    "\n",
    "#### Na prática, se precisássemos de um conjunto de 100 dados que sigam uma distribuição normal, teríamos que fazer uma chamada para a função normal indicando a média e o desvio padrão:\n",
    "\n",
    "```python\n",
    "    >> media = 0\n",
    "    >> desvio = 1\n",
    "    >> numpy.random.normal(media, desvio, 100)\n",
    "```\n",
    "\n",
    "#### Vamos trabalhar com dados de diferentes distribuições (dados por numpy.random) para visualizar o comportamento dessas variáveis. A quantidade de dados será grande para podermos apreciar corretamente sua forma gráfica.\n",
    "\n",
    "#### É importante reconhecer visualmente o comportamento estatístico das variáveis, já que é uma primeira aproximação à modelagem e previsão desses dados. Muitas vezes é possível ter uma ideia de como eles se comportam matematicamente apenas visualizando-os em um gráfico."
   ]
  },
  {
   "cell_type": "markdown",
   "metadata": {},
   "source": [
    "## Distribuição uniforme discreta.\n",
    "\n",
    "#### Diz-se que uma variável segue uma distribuição uniforme discreta se a probabilidade de aparição dos valores em cada ensaio for constante e igual: \n",
    "\n",
    "\\begin{equation*}\n",
    "P(x_i)= \\dfrac{1}{n}\n",
    "\\end{equation*}\n",
    "\n",
    "#### Onde **_P_** é a probabilidade, **_x_** valores dentro do espaço amostral e **_n_** a quantidade de elementos do espaço amostral."
   ]
  },
  {
   "cell_type": "markdown",
   "metadata": {},
   "source": [
    "#### A seguir, vamos realizar uma chamada à função `.randint()` que ajusta a valores provenientes de uma distribuição uniforme discreta, com a motivação de simular o lançamento de um dado equilibrado 4.500 vezes. Definimos o domínio do dado, onde somamos 1 ao valor máximo... por quê?"
   ]
  },
  {
   "cell_type": "code",
   "execution_count": 7,
   "metadata": {},
   "outputs": [],
   "source": [
    "valor_min = 1\n",
    "valor_max = 6 + 1"
   ]
  },
  {
   "cell_type": "markdown",
   "metadata": {},
   "source": [
    "#### Definimos a quantidade de `lançamentos` do dado."
   ]
  },
  {
   "cell_type": "code",
   "execution_count": 9,
   "metadata": {},
   "outputs": [],
   "source": [
    "lançamentos = 4500"
   ]
  },
  {
   "cell_type": "markdown",
   "metadata": {},
   "source": [
    "#### Fazemos uma chamada à função randint, que retorna o resultado de cada lançamento"
   ]
  },
  {
   "cell_type": "code",
   "execution_count": 21,
   "metadata": {},
   "outputs": [],
   "source": [
    "samples_uniforme = np.random.randint(low = valor_min, high = valor_max, size = lançamentos)"
   ]
  },
  {
   "cell_type": "markdown",
   "metadata": {},
   "source": [
    "#### Representamos graficamente os resultados."
   ]
  },
  {
   "cell_type": "code",
   "execution_count": 22,
   "metadata": {},
   "outputs": [
    {
     "data": {
      "image/png": "[encoded data removed]",
      "text/plain": [
       "<Figure size 432x288 with 1 Axes>"
      ]
     },
     "metadata": {
      "needs_background": "light"
     },
     "output_type": "display_data"
    }
   ],
   "source": [
    "eixo_x = 'número obtido'\n",
    "sns.distplot(samples_uniforme, axlabel = eixo_x, kde=False);"
   ]
  },
  {
   "cell_type": "markdown",
   "metadata": {},
   "source": [
    "#### Armazenando os resultados em um DataFrmae."
   ]
  },
  {
   "cell_type": "code",
   "execution_count": 30,
   "metadata": {},
   "outputs": [],
   "source": [
    "#samples_uniforme = list(samples_uniforme)\n",
    "DiceDF = pd.DataFrame(samples_uniforme, columns = ['lançamentos'])"
   ]
  },
  {
   "cell_type": "markdown",
   "metadata": {},
   "source": [
    "#### Verificando a forma dos dados."
   ]
  },
  {
   "cell_type": "code",
   "execution_count": 38,
   "metadata": {},
   "outputs": [
    {
     "data": {
      "text/plain": [
       "(4500, 1)"
      ]
     },
     "execution_count": 38,
     "metadata": {},
     "output_type": "execute_result"
    }
   ],
   "source": [
    "DiceDF.shape"
   ]
  },
  {
   "cell_type": "markdown",
   "metadata": {},
   "source": [
    "#### verificando os dados."
   ]
  },
  {
   "cell_type": "code",
   "execution_count": 39,
   "metadata": {},
   "outputs": [
    {
     "data": {
      "text/html": [
       "<div>\n",
       "<style scoped>\n",
       "    .dataframe tbody tr th:only-of-type {\n",
       "        vertical-align: middle;\n",
       "    }\n",
       "\n",
       "    .dataframe tbody tr th {\n",
       "        vertical-align: top;\n",
       "    }\n",
       "\n",
       "    .dataframe thead th {\n",
       "        text-align: right;\n",
       "    }\n",
       "</style>\n",
       "<table border=\"1\" class=\"dataframe\">\n",
       "  <thead>\n",
       "    <tr style=\"text-align: right;\">\n",
       "      <th></th>\n",
       "      <th>lançamentos</th>\n",
       "    </tr>\n",
       "  </thead>\n",
       "  <tbody>\n",
       "    <tr>\n",
       "      <th>0</th>\n",
       "      <td>4</td>\n",
       "    </tr>\n",
       "    <tr>\n",
       "      <th>1</th>\n",
       "      <td>1</td>\n",
       "    </tr>\n",
       "    <tr>\n",
       "      <th>2</th>\n",
       "      <td>6</td>\n",
       "    </tr>\n",
       "    <tr>\n",
       "      <th>3</th>\n",
       "      <td>1</td>\n",
       "    </tr>\n",
       "    <tr>\n",
       "      <th>4</th>\n",
       "      <td>1</td>\n",
       "    </tr>\n",
       "  </tbody>\n",
       "</table>\n",
       "</div>"
      ],
      "text/plain": [
       "   lançamentos\n",
       "0            4\n",
       "1            1\n",
       "2            6\n",
       "3            1\n",
       "4            1"
      ]
     },
     "execution_count": 39,
     "metadata": {},
     "output_type": "execute_result"
    }
   ],
   "source": [
    "DiceDF.head()"
   ]
  },
  {
   "cell_type": "markdown",
   "metadata": {},
   "source": [
    "#### contando as proporções dos resultados."
   ]
  },
  {
   "cell_type": "code",
   "execution_count": 54,
   "metadata": {},
   "outputs": [
    {
     "data": {
      "text/plain": [
       "2    0.172222\n",
       "6    0.168222\n",
       "3    0.168000\n",
       "5    0.165556\n",
       "1    0.164667\n",
       "4    0.161333\n",
       "Name: lançamentos, dtype: float64"
      ]
     },
     "execution_count": 54,
     "metadata": {},
     "output_type": "execute_result"
    }
   ],
   "source": [
    "DiceDF['lançamentos'].value_counts(normalize = True)"
   ]
  },
  {
   "cell_type": "markdown",
   "metadata": {},
   "source": [
    "#### confirmando os resultados de proporções."
   ]
  },
  {
   "cell_type": "code",
   "execution_count": 55,
   "metadata": {},
   "outputs": [
    {
     "data": {
      "text/plain": [
       "2    0.172222\n",
       "6    0.168222\n",
       "3    0.168000\n",
       "5    0.165556\n",
       "1    0.164667\n",
       "4    0.161333\n",
       "Name: lançamentos, dtype: float64"
      ]
     },
     "execution_count": 55,
     "metadata": {},
     "output_type": "execute_result"
    }
   ],
   "source": [
    "DiceDF['lançamentos'].value_counts()/DiceDF.shape[0]"
   ]
  },
  {
   "cell_type": "markdown",
   "metadata": {},
   "source": [
    "## Teorema de Bayes \n",
    "\n",
    "Classificação e previsão são dois dos aspectos mais importantes do Machine Learning e o Naive Bayes é um algoritmo simples, mas surpreendentemente poderoso para modelagem preditiva. Então pessoal, neste tutorial do Naive Bayes, serão abordados os seguintes tópicos:\n",
    "\n",
    "- definição\n",
    "- exemplo com baralho\n",
    "- exemplo com predição do tempo para jogo de golf\n",
    "- aplicações de mercado\n",
    "\n",
    "## Definição \n",
    "\n",
    "\n",
    "### O que é Naive Bayes?\n",
    "\n",
    "O Naive Bayes está entre um dos algoritmos mais simples, mas mais poderosos para classificação, com base no Teorema de Bayes, com uma suposição de independência entre os preditores. O modelo Naive Bayes é fácil de construir e particularmente útil para conjuntos de dados muito grandes. Existem duas partes nesse algoritmo:\n",
    "\n",
    "- Ingênuo\n",
    "\n",
    "- Bayes\n",
    "\n",
    "O classificador Naive Bayes assume que a presença de um recurso em uma classe não está relacionada a nenhum outro recurso. Mesmo que esses recursos dependam um do outro ou da existência de outros recursos, todas essas propriedades contribuem independentemente para a probabilidade de que uma determinada fruta seja uma maçã, uma laranja ou uma banana, e é por isso que é conhecida como \"ingênua\".\n",
    "\n",
    "### Teorema de Bayes\n",
    "\n",
    "- O que é o teorema de Bayes?\n",
    "\n",
    "Na teoria estatística e de probabilidade, o teorema de Bayes descreve a probabilidade de um evento, com base no conhecimento prévio de condições que podem estar relacionadas ao evento. Serve como uma maneira de descobrir a probabilidade condicional.\n",
    "\n",
    "Dada uma hipótese (H) e evidência (E), o teorema de Bayes afirma que a relação entre a probabilidade da hipótese antes de obter a evidência, P (H) e a probabilidade da hipótese após a obtenção da evidência, P (H | E), é:\n",
    "\n",
    "<br>\n",
    "<br>\n",
    "\\begin{equation*}\n",
    "P(Hipótese | Evento) = \\dfrac{ P(Evento | Hipótese) . P(Hipótese) }{ P(Evento) }\n",
    "\\end{equation*}\n",
    "<br>\n",
    "<br>\n",
    "\n",
    "- $ P(Hipótese | Evento) $: Probabilidade posterior, ou seja, probabilidade de evento após a evidência ser vista\n",
    "\n",
    "\n",
    "- $ P(Hipótese) $: Probabilidade à priori ou a probabilidade anterior - probabilidade de evento antes da evidência ser vista\n",
    "\n",
    "\n",
    "- $ P(Evento | Hipótese) $: Likelyhood (chance)\n",
    "\n",
    "\n",
    "- $ \\dfrac{ P(Evento | Hipótese) }{ P(Evento) } $: Likelyhood ratio (taxa de chance)\n"
   ]
  },
  {
   "cell_type": "markdown",
   "metadata": {},
   "source": [
    "## Exemplo do Teorema de Bayes - Jogo de Golf\n",
    "\n",
    "Considere um conjunto de dados fictício que descreva as condições climáticas para jogar uma partida de golfe. Dadas as condições climáticas, cada tupla classifica as condições como adequadas (“Sim”) ou impróprias (“Não”) para jogar golfe.\n",
    "\n",
    "Aqui está uma representação tabular do nosso conjunto de dados.\n",
    "\n",
    "<br>\n",
    "<img src=\"img/bayes_dataset.png\" width=800>\n",
    "<br>\n",
    "\n",
    "O conjunto de dados é dividido em duas partes, a saber, matriz de recursos e o vetor de resposta.\n",
    "\n",
    "A matriz de recursos contém todos os vetores (linhas) do conjunto de dados nos quais cada vetor consiste no valor dos recursos dependentes. No conjunto de dados acima, os recursos são \"Outlook\", \"Temperatura\", \"Umidade\" e \"Com Vento\".\n",
    "O vetor de resposta contém o valor da variável de classe (previsão ou saída) para cada linha da matriz de recurso. No conjunto de dados acima, o nome da variável da classe é \"Jogar golfe\".\n",
    "Suposição:\n",
    "\n",
    "A suposição fundamental de Naive Bayes é que cada recurso faz uma contribuição para o resultado:\n",
    "\n",
    "- independente\n",
    "- igual\n",
    "\n",
    "\n",
    "Com relação ao nosso conjunto de dados, esse conceito pode ser entendido como assumir que nenhum par de recursos é dependente. Por exemplo, a temperatura \"quente\" não tem nada a ver com a umidade ou a perspectiva de \"chuvoso\" não afeta os ventos. Portanto, os recursos são assumidos como independentes.\n",
    "\n",
    "Em segundo lugar, cada recurso recebe o mesmo peso (ou importância). Por exemplo, conhecer apenas a temperatura e a umidade por si só não pode prever o resultado com precisão. Nenhum dos atributos é irrelevante e supõe-se que esteja contribuindo igualmente para o resultado.\n",
    "\n",
    "Nota: As suposições feitas por Naive Bayes geralmente não são corretas em situações do mundo real. De fato, a suposição de independência nunca é correta, mas geralmente funciona bem na prática.\n",
    "\n",
    "Agora, antes de passar para a fórmula de Naive Bayes, é importante conhecer o teorema de Bayes.\n",
    "\n",
    "### Teorema de Bayes\n",
    "\n",
    "O Teorema de Bayes encontra a probabilidade de um evento ocorrer, dada a probabilidade de outro evento que já ocorreu. O teorema de Bayes é declarado matematicamente como segue.\n",
    "\n",
    "<br>\n",
    "\\begin{equation*}\n",
    "P(y | X) = \\dfrac{ P(X | y) . P(y) }{ P(X) }\n",
    "\\end{equation*}\n",
    "<br>\n",
    "\n",
    "onde y é variável de classe e X é um vetor de recurso dependente (de tamanho n) em que:\n",
    "\n",
    "<br>\n",
    "\\begin{equation*}\n",
    "X = (x_1, x_2, x_3, ... , x_n)\n",
    "\\end{equation*}\n",
    "<br>\n",
    "\n",
    "- Suposição ingênua\n",
    "\n",
    "Agora, é hora de colocar uma suposição ingênua no teorema de Bayes, que é a independência entre os recursos. Então agora, dividimos as evidências em partes independentes. Agora, consideremos que os eventos são independentes.\n",
    "\n",
    "<br>\n",
    "\\begin{equation*}\n",
    "P(y | x_1, x_2, x_3, ... , x_n) = \\dfrac{ P(x_1 | y) . P(x_2 | y) . P(x_3 | y) ... P(x_n | y) . P(y) }{ P(x_1).P(x_2).P(x_3) ... P(x_n) }\n",
    "\\end{equation*}\n",
    "<br>\n",
    "\n",
    "Então, finalmente, ficamos com a tarefa de calcular P (y) e P (xi | y). Observe que P (y) também é chamado de probabilidade de classe e P (xi | y) é chamado de probabilidade condicional. Os diferentes classificadores ingênuos de Bayes diferem principalmente pelas premissas que fazem sobre a distribuição de P (xi | y).\n",
    "\n",
    "Vamos tentar aplicar a fórmula acima manualmente em nosso conjunto de dados climáticos. Para isso, precisamos fazer algumas pré-computações em nosso conjunto de dados. Precisamos encontrar P (xi | yj) para cada xi em X e yj em y. Todos esses cálculos foram demonstrados nas tabelas abaixo:\n",
    "\n",
    "<br>\n",
    "<img src=\"img/bayes_charts.png\" width=500>\n",
    "<br>\n",
    "\n",
    "Portanto, na figura acima, calculamos \n",
    "\n",
    "<br>\n",
    "\\begin{equation*}\n",
    "P(x_i | y_j)\n",
    "\\end{equation*}\n",
    "<br>\n",
    "\n",
    "para cada xi em X e yj em y manualmente nas tabelas 1-4. Por exemplo, probabilidade de jogar golfe, já que a temperatura é baixa, ou seja, \n",
    "\n",
    "<br>\n",
    "\\begin{equation*}\n",
    "P (temp. = Frio | jogar golfe = Sim) = \\dfrac{ 3 }{ 9 }\n",
    "\\end{equation*}\n",
    "<br>\n",
    "\n",
    "Além disso, precisamos encontrar probabilidades de classe (P (y)) que foram calculadas na tabela 5. Por exemplo, P (jogar golfe = Sim) = 9/14.\n",
    "\n",
    "Então agora terminamos nossas pré-computações e o classificador está pronto! Vamos testá-lo em um novo conjunto de recursos (vamos chamá-lo hoje):\n",
    "\n",
    "- **today = (Sunny, Hot, Normal, False)**\n",
    "\n",
    "Portanto, a probabilidade de jogar golfe é dada por:\n",
    "\n",
    "<br>\n",
    "\\begin{equation*}\n",
    "P(Yes|today) = \\dfrac{ P(SunnyOutlook|Yes).P(HotTemperature|Yes).P(NormalHumidity|Yes).P(NoWind|Yes).P(Yes) }{ P(today) }\n",
    "\\end{equation*}\n",
    "<br>\n",
    "\n",
    "and probability to not play golf is given by:\n",
    "\n",
    "<br>\n",
    "\\begin{equation*}\n",
    "P(No|today) = \\dfrac{ P(SunnyOutlook|No).P(HotTemperature|No).P(NormalHumidity|No).P(NoWind|Yes).P(No) }{ P(today) }\n",
    "\\end{equation*}\n",
    "<br>\n",
    "\n",
    "Agora precisamos considerar que o total das probabilidades de jogar e não-jogar hoje é igual a 1:\n",
    "\n",
    "<br>\n",
    "\\begin{equation*}\n",
    "P(Yes|today) + P(No|today) = 1\n",
    "\\end{equation*}\n",
    "<br>"
   ]
  },
  {
   "cell_type": "markdown",
   "metadata": {},
   "source": [
    "#### Como P(today) é comum em ambas as probabilidades, podemos ignorar P(today) vamos encontrar probabilidades proporcionais."
   ]
  },
  {
   "cell_type": "code",
   "execution_count": 71,
   "metadata": {},
   "outputs": [
    {
     "data": {
      "text/plain": [
       "(0.7259259259259259, 0.1568)"
      ]
     },
     "execution_count": 71,
     "metadata": {},
     "output_type": "execute_result"
    }
   ],
   "source": [
    "P_Yes_today =  ( 3/9 * 2/9 * 6/9 * 6/9 * 9/14 ) / ( 5/14 * 4/14 * 7/14 * 8/14 )\n",
    "P_No_today = ( 2/5 * 2/5 * 1/5 * 2/5 * 5/14 ) / ( 5/14 * 4/14 * 7/14 * 8/14 )\n",
    "\n",
    "(P_Yes_today, P_No_today)"
   ]
  },
  {
   "cell_type": "markdown",
   "metadata": {},
   "source": [
    "#### Esses números podem ser convertidos em probabilidade, tornando a soma igual a 1 (normalização):"
   ]
  },
  {
   "cell_type": "code",
   "execution_count": 72,
   "metadata": {},
   "outputs": [
    {
     "data": {
      "text/plain": [
       "(0.8223684210526315, 0.17763157894736842)"
      ]
     },
     "execution_count": 72,
     "metadata": {},
     "output_type": "execute_result"
    }
   ],
   "source": [
    "P_Yes_today_norm = P_Yes_today / (P_Yes_today + P_No_today)\n",
    "P_No_today_norm = P_No_today / (P_Yes_today + P_No_today)\n",
    "\n",
    "(P_Yes_today_norm, P_No_today_norm)"
   ]
  },
  {
   "cell_type": "markdown",
   "metadata": {},
   "source": [
    "#### Portanto, a previsão de que o golfe seria jogado é \"Sim\"."
   ]
  },
  {
   "cell_type": "code",
   "execution_count": 74,
   "metadata": {},
   "outputs": [
    {
     "name": "stdout",
     "output_type": "stream",
     "text": [
      "True\n"
     ]
    }
   ],
   "source": [
    "print(P_Yes_today_norm > P_No_today_norm)"
   ]
  },
  {
   "cell_type": "markdown",
   "metadata": {},
   "source": [
    "# Teorema limite central - Rolagem de dois dados \n",
    "\n",
    "<br>\n",
    "<img src=\"img/prob_dois_dados.png\">\n",
    "<br>\n",
    "\n",
    "O programa representa o total da rolagem de dois dados por **n** vezes e exibe o total dso valores acumuladdos em um histograma através da função <span style=\"color:blue\"> **roll_pair( )**</span> que exibe o total das possibilidades dentro do intervalo de **n** vezes. Para a rolagem 1 e a rolagem 2, a função **random** escolherá um número inteiro aleatório de 1-6, e após isso o total da rolagem 1 será adicionado ao total da rolagem 2. Isto irá repetir **n** vezes e depois produzir um histograma, plotando os totais acumulados em uma distribuição.\n",
    "\n",
    "Sabemos que o valor médio da distribuição é 7 calculado como (2 + 3 + 4 + 5 + 6 + 7 + 8 + 9 + 10 + 11 + 12) / 12 ou 77/11 = 7.\n",
    "\n",
    "Podemos ver que a média da amostra não está extatamente no ponto médio, o que é esperado porque é uma estimativa da média populacional, ou amostra.\n",
    "\n",
    "O procedimento mias interessante aqui é aumentar o __n__ e identificar que a média cada vez mais se aproxima da probabilidade teórica nominal. De acordo com o teorema do limite central, o histograma dessas médias amostrais será uma **Distribuição Normal** ou **Gaussiana**, de acordo com o *teorema do limite central*.\n",
    "\n",
    "O exemplo abaixo realiza este experimento e plota a distribuição resultante de médias amostrais.\n",
    "\n",
    "Para uma ferramente interativa online [clique aqui](https://www.openprocessing.org/sketch/124236/)"
   ]
  },
  {
   "cell_type": "code",
   "execution_count": 84,
   "metadata": {},
   "outputs": [],
   "source": [
    "import matplotlib.pyplot as plt\n",
    "import random\n",
    "%matplotlib inline\n",
    "\n",
    "plt.ion()\n",
    "np.random.seed(1)\n",
    "\n",
    "def roll_pair():\n",
    "    total = []\n",
    "    n = 10000\n",
    "    random.seed \n",
    "    for choice in range(n):\n",
    "        roll1 = random.randint(1,6)\n",
    "        roll2 = random.randint(1,6)\n",
    "        total += [(roll1 + roll2)]\n",
    "        \n",
    "    # print (total)\n",
    "    \n",
    "    plt.hist(total, bins = 50)\n",
    "    plt.show()"
   ]
  },
  {
   "cell_type": "code",
   "execution_count": 78,
   "metadata": {},
   "outputs": [
    {
     "data": {
      "image/png": "[encoded data removed]",
      "text/plain": [
       "<Figure size 432x288 with 1 Axes>"
      ]
     },
     "metadata": {
      "needs_background": "light"
     },
     "output_type": "display_data"
    }
   ],
   "source": [
    "roll_pair()"
   ]
  },
  {
   "cell_type": "markdown",
   "metadata": {},
   "source": [
    "#### Demonstrando o teorema do limite central."
   ]
  },
  {
   "cell_type": "code",
   "execution_count": 81,
   "metadata": {},
   "outputs": [
    {
     "data": {
      "image/png": "[encoded data removed]",
      "text/plain": [
       "<Figure size 432x288 with 1 Axes>"
      ]
     },
     "metadata": {
      "needs_background": "light"
     },
     "output_type": "display_data"
    }
   ],
   "source": [
    "from numpy.random import seed\n",
    "from numpy.random import randint\n",
    "from numpy import mean\n",
    "from matplotlib import pyplot\n",
    "import matplotlib.pyplot\n",
    "\n",
    "# seed the random number generator\n",
    "seed(1)\n",
    "\n",
    "# rolling the dice n times\n",
    "n = 10000\n",
    "roll = randint(1, 7, n)\n",
    "\n",
    "plt.hist(roll, bins = 6)\n",
    "pyplot.show()"
   ]
  },
  {
   "cell_type": "markdown",
   "metadata": {},
   "source": [
    "#### Calcular a média de rolagens de k dados n vezes."
   ]
  },
  {
   "cell_type": "code",
   "execution_count": 83,
   "metadata": {},
   "outputs": [
    {
     "data": {
      "text/plain": [
       "<function matplotlib.pyplot.show(*args, **kw)>"
      ]
     },
     "execution_count": 83,
     "metadata": {},
     "output_type": "execute_result"
    },
    {
     "data": {
      "image/png": "[encoded data removed]",
      "text/plain": [
       "<Figure size 432x288 with 1 Axes>"
      ]
     },
     "metadata": {
      "needs_background": "light"
     },
     "output_type": "display_data"
    }
   ],
   "source": [
    "k = n\n",
    "seed(1)\n",
    "means = [mean(randint(1, 7, k)) for _ in range(n)]\n",
    "\n",
    "plt.hist(means)\n",
    "plt.show"
   ]
  },
  {
   "cell_type": "markdown",
   "metadata": {},
   "source": [
    "## Distribuição binomial.\n",
    "\n",
    "#### Mede o número de sucessos em uma sequência de _**n**_ ensaios independentes entre si, com uma probabilidade fixa **_p_** de ocorrência de sucesso entre os ensaios.\n",
    "\n",
    "#### Em uma distribuição binomial **_X ~ B (n, p)_**, **_p_** é a probabilidade de sucesso (que é fixa), e  _**n**_  é o número de ensaios. \n",
    "\n",
    "#### A função da probabilidade é:\n",
    "\n",
    "\\begin{equation*}\n",
    "f(x)=  \\binom {n}{x} (p)^x (1-p)^{(n-x)}\n",
    "\\end{equation*}\n",
    "\n",
    "#### Em que o termo $\\binom {n}{x}$ é conhecido como o binômio de Newton, $n, x$ são inteiros e $x \\le n$. O binômio é definido como:\n",
    "\n",
    "\\begin{equation*}\n",
    "\\binom {n}{x} = \\frac{n!}{x!(n - x)!}\n",
    "\\end{equation*}\n",
    "\n",
    "\n",
    "#### Onde **_x_** é a quantidade de acertos, **_p_** a probabilidade de sucesso, **_n_** a quantidade de ensaios.\n",
    "\n",
    "#### Neste caso, vamos simular o lançamento de uma moeda 8 vezes por ensaio, onde a probabilidade de sucesso (obter cara) será 0,5. A seguir, a função de distribuição para o caso:\n",
    "\n",
    "\\begin{equation*}\n",
    "f(x)= \\binom {8}{x} (0,5)^x (1-0,5)^{(8-x)}\n",
    "\\end{equation*}\n",
    "\n",
    "#### Vamos realizar um chamado à função `binomial` que ajusta a valores provenientes de una distribuição binomial e vamos realizar 10.000 ensaios para montar a distribuição.\n"
   ]
  },
  {
   "cell_type": "markdown",
   "metadata": {},
   "source": [
    "#### Definimos a quantidade de ensaios."
   ]
  },
  {
   "cell_type": "code",
   "execution_count": 131,
   "metadata": {},
   "outputs": [],
   "source": [
    "quantidade_ensaios = 1000"
   ]
  },
  {
   "cell_type": "markdown",
   "metadata": {},
   "source": [
    "#### Definimos a quantidade de lançamentos por ensaio."
   ]
  },
  {
   "cell_type": "code",
   "execution_count": 132,
   "metadata": {},
   "outputs": [],
   "source": [
    "lançamentos = 8"
   ]
  },
  {
   "cell_type": "markdown",
   "metadata": {},
   "source": [
    "#### Definimos la probabilidade de obter cara em cada lançamento."
   ]
  },
  {
   "cell_type": "code",
   "execution_count": 133,
   "metadata": {},
   "outputs": [],
   "source": [
    "probabilidade_sucesso = 0.5"
   ]
  },
  {
   "cell_type": "markdown",
   "metadata": {},
   "source": [
    "#### Binomial retorna o número de sucessos de cada vez que se realizou um ensaio de 8 lançamentos."
   ]
  },
  {
   "cell_type": "code",
   "execution_count": 134,
   "metadata": {},
   "outputs": [],
   "source": [
    "samples_binomial = np.random.binomial(n = lançamentos, p = probabilidade_sucesso, size = quantidade_ensaios)"
   ]
  },
  {
   "cell_type": "markdown",
   "metadata": {},
   "source": [
    "#### Por fim, construímos um gráfico."
   ]
  },
  {
   "cell_type": "code",
   "execution_count": 135,
   "metadata": {},
   "outputs": [
    {
     "data": {
      "image/png": "[encoded data removed]",
      "text/plain": [
       "<Figure size 432x288 with 1 Axes>"
      ]
     },
     "metadata": {
      "needs_background": "light"
     },
     "output_type": "display_data"
    }
   ],
   "source": [
    "eixo_x = 'Número de acertos por ensaio de 8 lançamentos'\n",
    "sns.distplot(samples_binomial, axlabel = eixo_x, kde = False);"
   ]
  },
  {
   "cell_type": "markdown",
   "metadata": {},
   "source": [
    "#### Verificando a série binomial (primeiras 100 observações)."
   ]
  },
  {
   "cell_type": "code",
   "execution_count": 136,
   "metadata": {},
   "outputs": [
    {
     "data": {
      "text/plain": [
       "array([3, 1, 4, 5, 6, 5, 3, 5, 2, 3, 5, 4, 4, 6, 4, 3, 3, 4, 6, 3, 3, 4,\n",
       "       4, 4, 4, 7, 6, 3, 4, 7, 3, 3, 2, 5, 4, 3, 3, 5, 4, 3, 3, 5, 4, 5,\n",
       "       3, 5, 3, 4, 8, 3, 2, 4, 2, 5, 3, 5, 4, 7, 3, 3, 5, 3, 4, 4, 2, 1,\n",
       "       2, 4, 3, 4, 2, 5, 3, 3, 3, 7, 3, 6, 6, 3, 5, 4, 3, 4, 6, 3, 2, 3,\n",
       "       4, 4, 5, 5, 5, 1, 2, 4, 2, 2, 3, 5])"
      ]
     },
     "execution_count": 136,
     "metadata": {},
     "output_type": "execute_result"
    }
   ],
   "source": [
    "samples_binomial[:100]"
   ]
  },
  {
   "cell_type": "markdown",
   "metadata": {},
   "source": [
    "#### Verificando o comprimento da série."
   ]
  },
  {
   "cell_type": "code",
   "execution_count": 137,
   "metadata": {},
   "outputs": [
    {
     "data": {
      "text/plain": [
       "1000"
      ]
     },
     "execution_count": 137,
     "metadata": {},
     "output_type": "execute_result"
    }
   ],
   "source": [
    "\n",
    "samples_binomial.size"
   ]
  },
  {
   "cell_type": "markdown",
   "metadata": {},
   "source": [
    "### Distribuição binomial: exemplo prático\n",
    "\n",
    "Suponhamos que em uma linha de produção são fabricadas lâmpadas incandescentes. E elas são embaladas de forma que cada embalagem contenha 10 unidades de lâmpadas. Um Green Belt sabe que a probabilidade de uma lâmpada sair de sua linha de produção com defeito é de 5%. E ele deseja calcular a probabilidade de uma mesma embalagem conter 3 unidades de lâmpadas com defeito. Para ajudarmos a este profissional, você, como entendedor de probabilidade e estatística que é, irá aplicar a seguinte equação da distribuição binomial:\n",
    "\n",
    "\\begin{equation*}\n",
    "f(3)= \\binom {10}{3} (0,05)^3 (1-0,05)^{(10-3)}\n",
    "\\end{equation*}\n",
    "\n",
    "Leia mais em: https://www.voitto.com.br/blog/artigo/distribuicao-binomial"
   ]
  },
  {
   "cell_type": "code",
   "execution_count": 138,
   "metadata": {},
   "outputs": [
    {
     "data": {
      "text/plain": [
       "0.010475059441406248"
      ]
     },
     "execution_count": 138,
     "metadata": {},
     "output_type": "execute_result"
    }
   ],
   "source": [
    "x=3\n",
    "n=10\n",
    "p=0.05\n",
    "q=1-p\n",
    "\n",
    "def factorial(n):\n",
    "    num = 1\n",
    "    while n >= 1:\n",
    "        num = num * n\n",
    "        n = n - 1\n",
    "    return num\n",
    "\n",
    "Binomial= ( factorial(n)/( factorial(n-x)*factorial(x) ) ) * ( p**x ) * (1-p)**(n-x)  \n",
    "\n",
    "Binomial"
   ]
  },
  {
   "cell_type": "code",
   "execution_count": 139,
   "metadata": {},
   "outputs": [
    {
     "data": {
      "text/plain": [
       "0.010475059441406257"
      ]
     },
     "execution_count": 139,
     "metadata": {},
     "output_type": "execute_result"
    }
   ],
   "source": [
    "stats.binom.pmf(k=x,n=n,p=p)"
   ]
  },
  {
   "cell_type": "markdown",
   "metadata": {},
   "source": [
    "## Densidade de Probabilidade.\n",
    "\n",
    "#### Uma variável aleatória X que possui uma distribuição binomial representa o número de sucessos em uma sequência de n tentativas sim / não independentes, cada uma das quais produz sucesso com probabilidade p.\n",
    "\n",
    "$ E (X) = np $ , $ Var (X) = np * (1-p) $\n",
    "\n",
    "#### onde $E(X)$ é o valor esperado ou média da distribuição.\n",
    "\n",
    "#### Para saber como funciona cada função, você pode buscar na documentação oficial do [Scipy.Stats.Binom](https://docs.scipy.org/doc/scipy/reference/generated/scipy.stats.binom.html).\n",
    "\n",
    "#### Neste experimento, a probabilidade de obter uma cara é de $\\frac{1}{2}$, o que significa que, em média, você pode esperar que 5 em 10 viradas de moeda sejam caras.\n",
    "\n",
    "#### Será feita a simulação de uma variável aleatória binomial usando [`.rvs()`](https://docs.scipy.org/doc/scipy/reference/generated/scipy.stats.rv_continuous.rvs.html). O tamanho do parâmetro especifica quantas simulações se deseja fazer. \n",
    "\n",
    "#### O comando pede ao Python que retorne 10000 variáveis aleatórias binomiais com os parâmetros n e p. Será impressa a média e o desvio padrão dessas 10000 variáveis aleatórias. Então será plotado o histograma de todas as variáveis aleatórias simuladas."
   ]
  },
  {
   "cell_type": "code",
   "execution_count": 140,
   "metadata": {},
   "outputs": [
    {
     "name": "stdout",
     "output_type": "stream",
     "text": [
      "mean: 4.9878\n",
      "SD: 1.59827\n"
     ]
    },
    {
     "data": {
      "image/png": "[encoded data removed]",
      "text/plain": [
       "<Figure size 432x288 with 1 Axes>"
      ]
     },
     "metadata": {
      "needs_background": "light"
     },
     "output_type": "display_data"
    }
   ],
   "source": [
    "# Importando a biblioteca Binomial\n",
    "from scipy.stats import binom\n",
    "\n",
    "# Criando uma série binomial e plotando a simulação em um histograma\n",
    "\n",
    "binomial_simulation = stats.binom.rvs(n = 10,\n",
    "                                      p = 0.5,\n",
    "                                      size = 10000,\n",
    "                                      random_state = 24\n",
    "                                     ) # rvs=Random Variates\n",
    "\n",
    "print('mean: %g'% np.mean(binomial_simulation))\n",
    "print('SD: %g' % np.std(binomial_simulation))\n",
    "plt.hist(binomial_simulation, bins = 10, density = True,histtype='barstacked')\n",
    "plt.xlabel ('x')\n",
    "plt.ylabel('distribution')\n",
    "plt.show()"
   ]
  },
  {
   "cell_type": "markdown",
   "metadata": {},
   "source": [
    "#### É possível definir todos os valores que o coin flip pode tomar com k = [`np.arange()`](https://numpy.org/doc/stable/reference/generated/numpy.arange.html) (0,10), pode-se observar zero caras, uma cara, indo até dez caras. \n",
    "\n",
    "#### Será utilizado [`.stats.binom.pmf()`](https://docs.scipy.org/doc/scipy-0.14.0/reference/generated/scipy.stats.binom.html) para calcular a função densidade de probabilidade para cada observação. Ele retorna uma lista de 10 elementos - esses elementos representam a probabilidade associada a cada observação."
   ]
  },
  {
   "cell_type": "markdown",
   "metadata": {},
   "source": [
    "### Criação de uma série binomial com 10 ensaios.\n",
    "\n",
    "#### Fixando a semente de início da criação da série randômica de números."
   ]
  },
  {
   "cell_type": "code",
   "execution_count": 141,
   "metadata": {},
   "outputs": [
    {
     "data": {
      "text/plain": [
       "RandomState(MT19937) at 0x10EEB26B0"
      ]
     },
     "execution_count": 141,
     "metadata": {},
     "output_type": "execute_result"
    }
   ],
   "source": [
    "stats.binom.random_state"
   ]
  },
  {
   "cell_type": "markdown",
   "metadata": {},
   "source": [
    "#### Criando os dados de Função densidade de Probabilidade da distribuição binomial."
   ]
  },
  {
   "cell_type": "code",
   "execution_count": 142,
   "metadata": {},
   "outputs": [
    {
     "data": {
      "text/plain": [
       "array([0.00097656, 0.00976563, 0.04394531, 0.1171875 , 0.20507813,\n",
       "       0.24609375, 0.20507813, 0.1171875 , 0.04394531, 0.00976563,\n",
       "       0.00097656])"
      ]
     },
     "execution_count": 142,
     "metadata": {},
     "output_type": "execute_result"
    }
   ],
   "source": [
    "#espaço amostral\n",
    "n = 10\n",
    "# probabilidade do evento\n",
    "p = 0.5\n",
    "# quantidade de eventos\n",
    "k = np.arange(0,11)\n",
    "# calculando a distribuição binomial (10 bernoulli's)\n",
    "binomial = stats.binom.pmf(k = k, n = n, p = p)  # pmf=Probability mass function\n",
    "binomial"
   ]
  },
  {
   "cell_type": "markdown",
   "metadata": {},
   "source": [
    "#### Quando somamos todas as probabilidades."
   ]
  },
  {
   "cell_type": "code",
   "execution_count": 143,
   "metadata": {},
   "outputs": [
    {
     "data": {
      "text/plain": [
       "1.0000000000000009"
      ]
     },
     "execution_count": 143,
     "metadata": {},
     "output_type": "execute_result"
    }
   ],
   "source": [
    "binomial.sum()"
   ]
  },
  {
   "cell_type": "markdown",
   "metadata": {},
   "source": [
    "#### Plotando o gráfico da função densidade de probabilidade."
   ]
  },
  {
   "cell_type": "code",
   "execution_count": 144,
   "metadata": {},
   "outputs": [
    {
     "data": {
      "image/png": "[encoded data removed]",
      "text/plain": [
       "<Figure size 432x288 with 1 Axes>"
      ]
     },
     "metadata": {
      "needs_background": "light"
     },
     "output_type": "display_data"
    }
   ],
   "source": [
    "plt.plot(k,binomial,'o-')\n",
    "plt.title('Binomial: n=%i , p=%.2f' %(n,p),fontsize=15)\n",
    "plt.xlabel('Number of Successes',fontsize=15)\n",
    "plt.ylabel('Probability of Successes',fontsize=15)\n",
    "plt.show()"
   ]
  },
  {
   "cell_type": "markdown",
   "metadata": {},
   "source": [
    "### Distribuição de Poisson\n",
    "\n",
    "<br>\n",
    "<img src=\"img/poisson.png\" width=400>\n",
    "<br>\n",
    "\n",
    "#### É uma distribuição de probabilidade de variável aleatória **discreta** que expressa a probabilidade de uma série de eventos ocorrer num certo período de tempo se estes eventos ocorrem **independentemente** de quando ocorreu o último evento. Por exemplo, o número de filhos de um casal, o número de clientes que entram em um banco durante a manhã ou o número de falhas de um carro durante um trajeto (embora exista o argumento de que esses eventos não são exatamente independentes).\n",
    "\n",
    "#### Esta distribuição tem $\\lambda$ como parâmetro, que é sempre maior que zero. **Este parâmetro indica o número médio de ocorrências de um evento por unidade contínua (como tempo ou espaço)**. Por exemplo, se o evento ocorre a uma média de 4 minutos, e estamos interessados no número de eventos que ocorrem num intervalo de 10 minutos, usariámos como modelo a distribuição de Poisson com $\\lambda = 'frac{10}{4} = 2.5$ .\n",
    "\n",
    "#### Quando uma variável **_X_** segue uma [distribuição de Poisson](https://en.wikipedia.org/wiki/Poisson_distribution), escreve-se **_X ~ Poisson ($\\lambda$)_** e a função de probabilidade é:\n",
    "\n",
    "\\begin{equation*}\n",
    "f(x)=  \\dfrac{e^{-\\lambda}  \\lambda^x}{x!}\n",
    "\\end{equation*}\n",
    "\n",
    "* $e$ é base do logaritmo natural ($e$ = 2.71828...),\n",
    "* ! significa fatorial, muito usado em arranjos e permutações. Ex: Placa de carro.\n",
    "\n",
    "#### A distribuição de Poisson representa um modelo probabilístico adequado para o estudo de um grande número de fenômenos observáveis. Eis alguns exemplos:\n",
    "\n",
    "- Chamadas telefônicas por unidade de tempo;\n",
    "- Defeitos por unidade de área;\n",
    "- Acidentes por unidade de tempo;\n",
    "- Chegada de clientes a um supermercado por unidade de tempo;\n",
    "- Número de glóbulos sangüíneos visíveis ao microscópio por unidade de área;\n",
    "- Número de partículas emitidas por uma fonte de material radioativo por unidade de tempo.\n",
    "\n",
    "#### Nota: tanto a média quanto a variância em uma distribuição de Poisson é dado por $\\lambda$"
   ]
  },
  {
   "cell_type": "markdown",
   "metadata": {},
   "source": [
    "### Exemplo\n",
    "\n",
    "#### Propomos o exemplo de um trem onde ocorre uma **média de 1,5 falhas por dia**, portanto $\\lambda = 1,5 $ e nossa função de probabilidades.\n",
    "\n",
    "\\begin{equation*}\n",
    "f(x)= e^{-1.5} \\dfrac{1.5^x}{x!}\n",
    "\\end{equation*}\n",
    "\n",
    "#### Vamos obter um conjunto de dados provenientes de uma distribuição de Poisson para um ano através da chamada à função `poisson`, com a motivação de modelar o problema apresentado."
   ]
  },
  {
   "cell_type": "markdown",
   "metadata": {},
   "source": [
    "#### Definimos os parâmetros para a distribuição não utilizamos a palavra lambda porque está reservada."
   ]
  },
  {
   "cell_type": "code",
   "execution_count": 145,
   "metadata": {},
   "outputs": [
    {
     "data": {
      "image/png": "[encoded data removed]",
      "text/plain": [
       "<Figure size 432x288 with 1 Axes>"
      ]
     },
     "metadata": {
      "needs_background": "light"
     },
     "output_type": "display_data"
    }
   ],
   "source": [
    "# Número de falhas diárias\n",
    "parametro_lambda = 1.5\n",
    "\n",
    "# Definimos a quantidade de dias em que contamos quantas falhas houve.\n",
    "dias_contados = 365\n",
    "\n",
    "# Fixando a semente para início da criação dos valores da distribuição\n",
    "np.random.seed(seed = 24)\n",
    "\n",
    "# poisson retorna a quantidade de falhas por dia.\n",
    "samples_poisson = np.random.poisson(lam = parametro_lambda, \n",
    "                                    size = dias_contados\n",
    "                                   )\n",
    "\n",
    "# construímos o gráfico\n",
    "eixo_x = 'Quantidade de falhas do trem por dia'\n",
    "sns.distplot(samples_poisson, axlabel = eixo_x, kde = False);"
   ]
  },
  {
   "cell_type": "markdown",
   "metadata": {},
   "source": [
    "#### O método [np.random.poisson()](https://docs.scipy.org/doc/numpy-1.14.0/reference/generated/numpy.random.poisson.html) cria amostras de uma distribuição de Poisson. A distribuição de Poisson é o limite da distribuição binomial para N. grande. Com a função [`np.unique`](https://numpy.org/doc/stable/reference/generated/numpy.unique.html) podemos obter as contagens únicas de cada valor para as \"quantidade de falhas do trem por dia\"."
   ]
  },
  {
   "cell_type": "code",
   "execution_count": 146,
   "metadata": {},
   "outputs": [
    {
     "data": {
      "text/plain": [
       "{0: 79, 1: 122, 2: 81, 3: 58, 4: 21, 5: 2, 6: 2}"
      ]
     },
     "execution_count": 146,
     "metadata": {},
     "output_type": "execute_result"
    }
   ],
   "source": [
    "unique, counts = np.unique(samples_poisson, return_counts = True)\n",
    "dict(zip(unique, counts))"
   ]
  },
  {
   "cell_type": "markdown",
   "metadata": {},
   "source": [
    "#### A seguir, uma amostra dos cem primeiros pontos."
   ]
  },
  {
   "cell_type": "code",
   "execution_count": 147,
   "metadata": {},
   "outputs": [
    {
     "data": {
      "text/plain": [
       "array([3, 3, 0, 1, 3, 1, 4, 6, 1, 4, 3, 2, 0, 2, 4, 3, 3, 2, 0, 2, 1, 1,\n",
       "       2, 3, 3, 1, 0, 1, 1, 0, 1, 1, 1, 2, 0, 2, 3, 1, 0, 3, 0, 1, 0, 2,\n",
       "       0, 3, 1, 1, 3, 0, 4, 1, 1, 3, 2, 1, 2, 0, 2, 1, 1, 1, 1, 2, 4, 1,\n",
       "       1, 4, 0, 3, 0, 0, 0, 2, 0, 0, 2, 1, 0, 1, 3, 1, 1, 2, 0, 1, 0, 1,\n",
       "       2, 3, 0, 3, 1, 1, 3, 3, 1, 4, 0, 3])"
      ]
     },
     "execution_count": 147,
     "metadata": {},
     "output_type": "execute_result"
    }
   ],
   "source": [
    "samples_poisson[:100]"
   ]
  },
  {
   "cell_type": "markdown",
   "metadata": {},
   "source": [
    "#### E o tamanho da amostra."
   ]
  },
  {
   "cell_type": "code",
   "execution_count": 148,
   "metadata": {},
   "outputs": [
    {
     "data": {
      "text/plain": [
       "365"
      ]
     },
     "execution_count": 148,
     "metadata": {},
     "output_type": "execute_result"
    }
   ],
   "source": [
    "samples_poisson.size"
   ]
  },
  {
   "cell_type": "markdown",
   "metadata": {},
   "source": [
    "### Distribuição Normal."
   ]
  },
  {
   "cell_type": "markdown",
   "metadata": {},
   "source": [
    "## Definição de Distribuição Normal\n",
    "\n",
    "A distribuição normal (ou Guassiana) modela uma grande quantidade de variáveis observadas na natureza, como a estatura ou peso de uma população.\n",
    "\n",
    "Também sob certas condições, algumas distribuições se comportam como normais, isto é conhecido como o **teorema do limite central**.\n",
    "\n",
    "É possível ajustar uma distribuição de Poisson a uma normal quando $\\lambda$ é um valor de grande magnitude (rodar posteriormente a distribuição Poisson alterando o lambda para algo em torno de 15 e dias_contados para em torno de 3000 onde a forma da distribuição ficará parecida com a normal).\n",
    "\n",
    "Também é possível ajustar uma binomial a uma distribuição normal fazendo-se uma normalização dos dados. Para isso, propõe-se como exemplo agregar o argumento ```fit=stats.norm``` à construção do gráfico.\n",
    "\n",
    "Dizemos que uma variável aleatória _**X**_ segue uma distribuição normal **_X ~ N ( $\\mu$, $\\sigma$)_** se sua distribuição de probabilidades estiver dada por:\n",
    "\n",
    "\\begin{equation*}\n",
    "p(x)= \\dfrac{1}{\\sqrt{2 \\pi \\sigma^²}} * e^ \\dfrac{-(x-\\mu)^2}{2 \\sigma^2}\n",
    "\\end{equation*}\n",
    "\n"
   ]
  },
  {
   "cell_type": "markdown",
   "metadata": {},
   "source": [
    "## Exemplo 1:\n",
    "\n",
    "#### Para a definição de uma distribuição normal, é necessário estabelecer uma média e um desvio padrão, como as características de uma certa amostra. \n",
    "\n",
    "#### Imaginemos um exemplo em que temos uma população de pessoas cuja altura segue uma distribuição normal, com $\\mu = 1.67 $ m e $\\sigma = 0.15 $ m\n",
    "\n",
    "#### A seguir, vamos usar um conjunto de amostras que vêm de uma distribuição normal, chamando à função [`.np.random.normal()`](https://docs.scipy.org/doc/numpy-1.15.0/reference/generated/numpy.random.normal.html) do numpy com os parâmetros propostos."
   ]
  },
  {
   "cell_type": "code",
   "execution_count": 152,
   "metadata": {},
   "outputs": [
    {
     "data": {
      "text/plain": [
       "<matplotlib.axes._subplots.AxesSubplot at 0x1a22d2bc50>"
      ]
     },
     "execution_count": 152,
     "metadata": {},
     "output_type": "execute_result"
    },
    {
     "data": {
      "image/png": "[encoded data removed]",
      "text/plain": [
       "<Figure size 432x288 with 1 Axes>"
      ]
     },
     "metadata": {
      "needs_background": "light"
     },
     "output_type": "display_data"
    }
   ],
   "source": [
    "# Gerando valores para uma distribuição normal e plotando um histograma\n",
    "mean = 1.67\n",
    "std = 0.15\n",
    "population = 225000\n",
    "pd.DataFrame(np.random.normal(loc = mean, scale = std, size = population)).plot.hist(bins = 100)"
   ]
  },
  {
   "cell_type": "markdown",
   "metadata": {},
   "source": [
    "## Exemplo 2:\n",
    "\n",
    "#### Da mesma forma, imaginemos um exemplo em que temos uma amostra de ursos cujo peso segue uma distribuição normal, com $\\mu = 342,73 $ kg e $\\sigma = 45,78 $ kg\n",
    "\n",
    "#### Também vamos usar um conjunto de amostras que vêm de uma distribuição normal, chamando à função [`.np.random.normal()`](https://docs.scipy.org/doc/numpy-1.15.0/reference/generated/numpy.random.normal.html) do numpy com os parâmetros propostos."
   ]
  },
  {
   "cell_type": "code",
   "execution_count": 153,
   "metadata": {},
   "outputs": [
    {
     "data": {
      "image/png": "[encoded data removed]",
      "text/plain": [
       "<Figure size 720x576 with 1 Axes>"
      ]
     },
     "metadata": {
      "needs_background": "light"
     },
     "output_type": "display_data"
    }
   ],
   "source": [
    "# definimos a média\n",
    "media = 342.73\n",
    "\n",
    "# definimos o desvio padrão\n",
    "desvio_padrao = 45.78\n",
    "\n",
    "# quantidade de amostras na população\n",
    "n_amostras = 3000\n",
    "\n",
    "# chamamos à função normal\n",
    "samples_normal = np.random.normal(loc = media, \n",
    "                                  scale = desvio_padrao, \n",
    "                                  size = n_amostras\n",
    "                                 )\n",
    "\n",
    "# construímos o gráfico\n",
    "eixo_x = 'Peso'\n",
    "plt.figure(figsize = (10,8))\n",
    "sns.distplot(samples_normal, axlabel = eixo_x)\n",
    "plt.show()"
   ]
  },
  {
   "cell_type": "code",
   "execution_count": null,
   "metadata": {},
   "outputs": [],
   "source": []
  }
 ],
 "metadata": {
  "kernelspec": {
   "display_name": "Python 3",
   "language": "python",
   "name": "python3"
  },
  "language_info": {
   "codemirror_mode": {
    "name": "ipython",
    "version": 3
   },
   "file_extension": ".py",
   "mimetype": "text/x-python",
   "name": "python",
   "nbconvert_exporter": "python",
   "pygments_lexer": "ipython3",
   "version": "3.8.3"
  }
 },
 "nbformat": 4,
 "nbformat_minor": 4
}
