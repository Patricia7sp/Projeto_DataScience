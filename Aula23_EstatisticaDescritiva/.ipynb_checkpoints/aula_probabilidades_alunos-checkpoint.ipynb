{
 "cells": [
  {
   "cell_type": "markdown",
   "metadata": {},
   "source": [
    "# Probabilidades\n",
    "\n",
    "## Introdução\n",
    "\n",
    "*fonte: Mundo Educação*\n",
    "\n",
    "Probabilidade é o estudo das chances de obtenção de cada resultado de um experimento aleatório. A essas chances são atribuídos os números reais do intervalo entre 0 e 1. Resultados mais próximos de 1 têm mais chances de ocorrer. Além disso, a probabilidade também pode ser apresentada na forma percentual.\n"
   ]
  },
  {
   "cell_type": "markdown",
   "metadata": {},
   "source": [
    "\n",
    "\n",
    "<br>\n",
    "<img src=\"./img/frequency-probabilities.gif\" width=400>\n",
    "<br>"
   ]
  },
  {
   "cell_type": "markdown",
   "metadata": {},
   "source": [
    "## Experimento aleatório e ponto amostral\n",
    "\n",
    "Um experimento aleatório pode ser repetido inúmeras vezes e nas mesmas condições e, mesmo assim, apresenta resultados diferentes. Cada um desses resultados possíveis é chamado de ponto amostral. São exemplos de experimentos aleatórios:\n",
    "\n",
    "- Cara ou coroa\n",
    "\n",
    "Lançar uma moeda e observar se a face voltada para cima é cara ou coroa é um exemplo de experimento aleatório. Se a moeda não for viciada e for lançada sempre nas mesmas condições, poderemos ter como resultado tanto cara quanto coroa.\n",
    "\n",
    "- Lançamento de um dado\n",
    "\n",
    "Lançar um dado e observar qual é o número da face superior também é um experimento aleatório. Esse número pode ser 1, 2, 3, 4, 5 ou 6 e cada um desses resultados apresenta a mesma chance de ocorrer. Em cada lançamento, o resultado pode ser igual ao anterior ou diferente dele.\n",
    "\n",
    "Observe que, no lançamento da moeda, as chances de repetir o resultado anterior são muito maiores.\n",
    "\n",
    "- Retirar uma carta aleatória de um baralho\n",
    "\n",
    "Cada carta tem a mesma chance de ocorrência cada vez que o experimento é realizado, por isso, esse é também um experimento aleatório.\n",
    "\n",
    "## Espaço amostral\n",
    "\n",
    "O espaço amostral (Ω) é o conjunto formado por todos os resultados possíveis de um experimento aleatório. Em outras palavras, é o conjunto formado por todos os pontos amostrais de um experimento. Veja exemplos:\n",
    "\n",
    "- O espaço amostral do experimento “cara ou coroa” é o conjunto S = {Cara, Coroa}. Os pontos amostrais desse experimento são os mesmos elementos desse conjunto.\n",
    "\n",
    "- O espaço amostral do experimento “lançamento de um dado” é o conjunto S = {1, 2, 3, 4, 5, 6}. Os pontos amostrais desse experimento são 1, 2, 3, 4, 5 e 6.\n",
    "\n",
    "O espaço amostral também é chamado de Universo e pode ser representado pelas outras notações usadas nos conjuntos. Além disso, todas as operações entre conjuntos valem também para espaços amostrais.\n",
    "\n",
    "O número de elementos do espaço amostral, número de pontos amostrais do espaço amostral ou número de casos possíveis em um espaço amostral é representado da seguinte maneira: n(Ω).\n",
    "\n",
    "## Evento\n",
    "\n",
    "Um evento é qualquer subconjunto de um espaço amostral. Ele pode conter nenhum elemento (conjunto vazio) ou todos os elementos de um espaço amostral. O número de elementos do evento é representado da seguinte maneira: n(E), sendo E o evento em questão.\n",
    "\n",
    "São exemplos de eventos:\n",
    "\n",
    "- Sair cara em um lançamento de uma moeda\n",
    "\n",
    "O evento é sair cara e possui um único elemento. A representação dos eventos também é feita com notações de conjuntos:\n",
    "\n",
    "E = {cara}\n",
    "\n",
    "O seu número de elementos é n(E) = 1.\n",
    "\n",
    "- Sair um número par no lançamento de um dado.\n",
    "\n",
    "O evento é sair um número par:\n",
    "\n",
    "E = {2, 4, 6}\n",
    "\n",
    "O seu número de elementos é n(E) = 3.\n",
    "Não pare agora... Tem mais depois da publicidade ;)\n",
    "\n",
    "Os eventos que possuem apenas um elemento (ponto amostral) são chamados de simples. Quando o evento é igual ao espaço amostral, ele é chamado de evento certo e sua probabilidade de ocorrência é de 100%. Quando um evento é igual ao conjunto vazio, ele é chamado de evento impossível e possui 0% de chances de ocorrência.\n",
    "\n",
    "## Cálculo da probabilidade\n",
    "\n",
    "Seja E um evento qualquer no espaço amostral Ω. A probabilidade do evento A ocorrer é a razão entre o número de resultados favoráveis e o número de resultados possíveis. Em outras palavras, é o número de elementos do evento dividido pelo número de elementos do espaço amostral a que ele pertence.\n",
    "\n",
    "<br>\n",
    "<br>\n",
    "\\begin{equation*}\n",
    "P(E) = \\dfrac{ n(E) }{ n(Ω) }\n",
    "\\end{equation*}\n",
    "<br>\n",
    "<br>\n",
    "\n",
    "Observações:\n",
    "\n",
    "- O número de elementos do evento sempre é menor ou igual ao número de elementos do espaço amostral e maior ou igual a zero. Por isso, o resultado dessa divisão sempre está no intervalo 0 ≤ P(A) ≤ 1;\n",
    "\n",
    "- Quando é necessário usar porcentagem, devemos multiplicar o resultado dessa divisão por 100 ou usar regra de três;\n",
    "\n",
    "- A probabilidade de um evento não acontecer é determinada por:\n",
    "\n",
    "<br>\n",
    "<br>\n",
    "\\begin{equation*}\n",
    "\\bar P (E)= 1 - P(E)\n",
    "\\end{equation*}\n",
    "<br>\n",
    "<br>\n",
    "\n",
    "## De maneira objetiva\n",
    "\n",
    "\"Probabilidade ... é, portanto, simplesmente uma fração cujo numerador é o número de casos favoráveis e cujo denominador é o número de todos os casos possíveis ... quando nada nos leva a esperar que qualquer um desses casos ocorra mais do que qualquer outro.\" Pierre-Simon Laplace, 1814.\n",
    "\n",
    "Vamos a alguns exemplos."
   ]
  },
  {
   "cell_type": "markdown",
   "metadata": {},
   "source": [
    "________"
   ]
  },
  {
   "cell_type": "markdown",
   "metadata": {},
   "source": [
    "# Probabilidades - exemplo com baralho de cartas\n",
    "\n",
    "<br>\n",
    "<img src=\"./img/baralho_cartas.png\" width=900>\n",
    "<br>\n",
    "\n",
    "*fonte: Wikipedia*\n",
    "\n",
    "O principal baralho de 52 cartas, em uso atualmente, inclui 13 cartas de cada um dos quatro naipes franceses, paus (♣), ouros (♦), copas (♥) e espadas (♠), com cartas de figuras. Cada naipe inclui um ás, que descreve um único símbolo de seu naipe (muito grande, muitas vezes apenas o ás de espadas) um rei, uma rainha, e um valete, cada um representado com um símbolo de seu naipe, com valores de dois a dez, com cada cartão mostrando o número de símbolos de seu naipe. Para além destas 52 cartas, baralhos comerciais geralmente incluem dois coringas. Em muitos jogos, os coringas não são usados. Os coringas são geralmente distinguidos pela cor. "
   ]
  },
  {
   "cell_type": "markdown",
   "metadata": {},
   "source": [
    "## Qual a probabilidade de retirarmos duas cartas de paus (naipe) em um baralho (52 cartas) em 2 retiradas com reposição (apos a retirada da carta, devolvemos ao baralho e reembaralhamos)?\n",
    "\n",
    "Monte o código para responder a pergunta acima.\n"
   ]
  },
  {
   "cell_type": "code",
   "execution_count": null,
   "metadata": {},
   "outputs": [],
   "source": [
    "# Código para calcular a probabilidade de se retirar duas cartas de paus com reposição\n"
   ]
  },
  {
   "cell_type": "markdown",
   "metadata": {},
   "source": [
    "## E se não devolvessemos a primeira carta ao baralho?\n"
   ]
  },
  {
   "cell_type": "code",
   "execution_count": null,
   "metadata": {},
   "outputs": [],
   "source": [
    "# Código para calcular a probabilidade de se retirar duas cartas de paus sem reposição\n",
    "\n"
   ]
  },
  {
   "cell_type": "markdown",
   "metadata": {},
   "source": [
    "___"
   ]
  },
  {
   "cell_type": "markdown",
   "metadata": {},
   "source": [
    "#  Lei dos Grandes Números - exemplo com lançamento de moedas \n",
    "\n",
    "<br>\n",
    "<img src=\"./img/moedas.png\" width=300>\n",
    "<br>\n",
    "\n",
    "*fonte: Entler, R. (1997), INTRODUÇÃO AO CÁLCULO DAS PROBABILIDADES*\n",
    "\n",
    "Num jogo de cara ou coroa, qual a probabilidade de a moeda cair do lado cara? O cálculo é bastante simples: o número de resultados esperados (1, exatamente o resultado cara) dividido pelo número de resultados possíveis (2, cara e coroa). Ou seja, a probabilidade é de 1/2, isto é um resultado satisfatório a cada dois lances (nesse caso, podemos dizer ainda que a probabilidade é de \"um para dois\", ou que temos \"50% de chance\").   \n",
    "\n",
    "Isso pode ser traduzido enganosamente como: terei um resultado cara a cada dois lances. Mas não é tão simples assim. Se você espera cara e, no primeiro lance, você obteve coroa, o lance seguinte tende a resultar em cara? NÃO. Dizemos que os lances sucessivos são independentes, o que significa que a cada lance o cálculo deve ser refeito. Se no primeiro lance deu coroa, no segundo, a probabilidade de obter cara continua sendo de 1/2. Esse número significa que, após a observação de um número imenso de lances (um número que tende ao infinito), você terá aproximadamente a mesma quantidade de resultados cara e de resultados coroa. É por isso que a teoria das probabilidades é conhecida como teoria dos grandes números. No máximo, podemos dizer que essa teoria sugere que, se você apostar um número muito grande de vezes nesse jogo, você tende a ganhar em 50% dos casos e perder nos outros 50%.\n",
    "\n",
    "## Simulador de lançamento de moedas"
   ]
  },
  {
   "cell_type": "code",
   "execution_count": null,
   "metadata": {},
   "outputs": [],
   "source": []
  },
  {
   "cell_type": "markdown",
   "metadata": {},
   "source": [
    "## Definição da Lei dos grandes números\n",
    "\n",
    "*Origem: Wikipédia, a enciclopédia livre*\n",
    "\n",
    "A lei dos grandes números (LGN) é um teorema fundamental da teoria da probabilidade, que descreve o resultado da realização da mesma experiência repetidas vezes. **De acordo com a LGN, a média aritmética dos resultados da realização da mesma experiência repetidas vezes tende a se aproximar do valor esperado** à medida que mais tentativas se sucederem. Em outras palavras, quanto mais tentativas são realizadas, mais a probabilidade da média aritmética dos resultados observados irá se aproximar da probabilidade real.\n",
    "\n",
    "A LGN tem aplicações práticas na ciência de modo geral, tal como na agricultura e na economia, dentre outras áreas importantes. É possível descobrir por meio de numerosas observações e de experiências suficientes a probabilidade de um evento natural acontecer (por exemplo, a probabilidade de chover) ou de uma fração de uma população satisfazer a uma condição (por exemplo, a probabilidade de ser produzida uma determinada quantidade de peças defeituosas em uma linha de montagem).\n",
    "\n",
    "A LGN é importante ainda porque garante resultados estáveis a longo prazo para médias de eventos aleatórios. Considere um caso particular de um jogo de roleta em um cassino. Embora o cassino possa perder dinheiro em uma única rodada de uma roleta, os seus ganhos tenderão a se aproximar de uma probabilidade da média aritmética dos resultados observados depois de um grande número de rodadas. De outra forma, qualquer série de vitórias de um apostador será superada pelos parâmetros do jogo depois de algumas rodadas.\n",
    "\n",
    "Entretanto, a LGN se aplica apenas para um grande número de observações. Não há princípio para que um pequeno número de observações coincida com o valor esperado ou para que a sequência de um valor seja superada por outro valor imediatamente (ver falácia do apostador)."
   ]
  },
  {
   "cell_type": "markdown",
   "metadata": {},
   "source": [
    "___"
   ]
  },
  {
   "cell_type": "markdown",
   "metadata": {},
   "source": [
    "# Simulação com dados\n",
    "\n",
    "<br>\n",
    "<img src=\"./img/dado.png\" width=200>\n",
    "<br>\n",
    "\n",
    "A função do dado é gerar um resultado aleatório que fica restrito ao número de faces dele. Esse resultado, então, pode ser manipulado (caso seja um número) através de fórmulas caso o jogo exija. Por exemplo, um número entre 20 e 25 utilizando dados de seis lados exige a aplicação de uma fórmula matemática. Os dados são comumente utilizados em jogos de tabuleiro tradicionais e jogos de RPG.\n",
    "\n",
    "Uma pequena curiosidade quanto aos dados clássicos (fabricados de forma correta), de seis lados: a soma dos lados opostos resulta no número sete. Ou seja, se de um lado temos o número um automaticamente teríamos o número seis do outro lado. Isso ocorre também com o dois casando com o cinco, e o três com o quatro. Isso se aplica também a qualquer outro dado, a soma de dois lados opostos sempre é igual ao número de faces mais um. Assim, um D20 somaria 21 nos lados opostos, um D12 somaria 13, e assim por diante. "
   ]
  },
  {
   "cell_type": "markdown",
   "metadata": {},
   "source": [
    "## Agora é sua vez, demonstre a lei dos grandes números e calcule a probabilidade de tirar uma das faces de um dado de 6 faces.\n",
    "Se lançarmos o dado 10, 20, 30, 50, 100, 1000, 10000, 100000000, 1000000000 de vezes"
   ]
  },
  {
   "cell_type": "code",
   "execution_count": null,
   "metadata": {},
   "outputs": [],
   "source": [
    "# Probabilidade nominal de se tirar uma das faces de um dado\n",
    "\n",
    "1/6\n"
   ]
  },
  {
   "cell_type": "code",
   "execution_count": null,
   "metadata": {},
   "outputs": [],
   "source": [
    "# Calcule a probabilidade de tirar o número 1 para [10, 20, 30, 50, 100, 1000, 10000, 100000, 1000000] \n",
    "# lançamentos de dados\n",
    "# Dica olhar a função np.random.randint para simular lancamentos de dados \n",
    "# Simulação de MonteCarlo para múltiplos lançamentos de dados\n",
    "\n",
    "\n",
    "\n"
   ]
  },
  {
   "cell_type": "markdown",
   "metadata": {},
   "source": [
    "## Três dados comuns e honestos serão lançados. Calcule a probabilidade de obter o número 6 em mais de um dado.\n",
    "\n",
    "### Tente resolver este exercício com lápis e papel."
   ]
  },
  {
   "cell_type": "markdown",
   "metadata": {},
   "source": [
    "Dê dois cliques para ver a resposta\n",
    "<!--\n",
    "A probabilidade do número 6 ser obtido mais de uma vez significa que ele deve aparecer nos três dados OU em pelo menos dois.\n",
    "\n",
    "- A probabilidade de se obter \"6\" nos três dados é:\n",
    "```python\n",
    "1/6 × 1/6 × 1/6 = 1/216 \n",
    "```\n",
    "\n",
    "- A probabilidade de se obter \"6\" em pelo menos dois dados é:\n",
    "\n",
    "Obs: Deve-se considerar que podemos obter as seguintes combinações,\n",
    "\n",
    "dado1 = 6 e dado2 = 6 e dado3 ≠ 6 ou..\n",
    "dado1 = 6 e dado2 ≠ 6 e dado3 = 6 ou..\n",
    "dado1 ≠ 6 e dado2 = 6 e dado3 = 6;\n",
    "\n",
    "```python\n",
    "1/6 × 1/6 × 5/6 = 5/216\n",
    "1/6 × 5/6 × 1/6 = 5/216\n",
    "5/6 × 1/6 × 1/6 = 5/216\n",
    "```\n",
    "Somando estas probabilidades temos:\n",
    "\n",
    "\n",
    "```python\n",
    "15/216\n",
    "```\n",
    "\n",
    "Como pode aparecer duas OU três vezes, somamos as duas probabilidades:\n",
    "\n",
    "```python\n",
    "1/216 + 15/216 = 16/216\n",
    "```\n",
    "\n",
    "\n",
    "Leia mais em Brainly.com.br - https://brainly.com.br/tarefa/4343213#readmore\n",
    "\n",
    "Vamos testar este exemplo na prática, através de um simulador que capaz de realizar **n** lançamentos, e comparar os resultados com a probabilidade teórica calculada (16/216 = 0.074074).\n",
    "-->"
   ]
  },
  {
   "cell_type": "markdown",
   "metadata": {},
   "source": [
    "### Vamos fazer um simulador para calcular a probabilidade de obter o que se pede abaixo?\n",
    "\n",
    "Dicas:\n",
    "1-Considere a seguinte função para resolver o problema\n",
    "https://numpy.org/doc/stable/reference/random/generated/numpy.random.binomial.html"
   ]
  },
  {
   "cell_type": "markdown",
   "metadata": {},
   "source": [
    "##### Lançando 3 dados por 1000000 vezes: Probabilidade de se obter nenhum, um, dois e três dados com número seis (com 1/6 de probabilidade) "
   ]
  },
  {
   "cell_type": "code",
   "execution_count": null,
   "metadata": {},
   "outputs": [],
   "source": []
  },
  {
   "cell_type": "markdown",
   "metadata": {},
   "source": [
    "##### Lançando 3 dados por 1000000 vezes: Probabilidade de se obter nenhum dado com número seis"
   ]
  },
  {
   "cell_type": "code",
   "execution_count": null,
   "metadata": {},
   "outputs": [],
   "source": []
  },
  {
   "cell_type": "markdown",
   "metadata": {},
   "source": [
    "##### Lançando 3 dados por 1000 vezes: Probabilidade de se obter um dado com número seis"
   ]
  },
  {
   "cell_type": "code",
   "execution_count": null,
   "metadata": {},
   "outputs": [],
   "source": []
  },
  {
   "cell_type": "markdown",
   "metadata": {},
   "source": [
    "##### Lançando 3 dados por 1000 vezes: Probabilidade de se obter dois dados com número seis"
   ]
  },
  {
   "cell_type": "code",
   "execution_count": null,
   "metadata": {},
   "outputs": [],
   "source": []
  },
  {
   "cell_type": "markdown",
   "metadata": {},
   "source": [
    "##### Lançando 3 dados por 1000 vezes: Probabilidade de se obter três dados com número seis"
   ]
  },
  {
   "cell_type": "code",
   "execution_count": null,
   "metadata": {},
   "outputs": [],
   "source": []
  },
  {
   "cell_type": "markdown",
   "metadata": {},
   "source": [
    "##### Lançando 3 dados por 1000 vezes: Probabilidade de se obter pelos menos dois dados com o número seis"
   ]
  },
  {
   "cell_type": "code",
   "execution_count": null,
   "metadata": {},
   "outputs": [],
   "source": []
  },
  {
   "cell_type": "markdown",
   "metadata": {},
   "source": [
    "------------\n",
    "\n",
    "# Probabilidade Condicional - definição\n",
    "\n",
    "<br>\n",
    "<img src=\"./img/prob_condicional.png\" width=170>\n",
    "<br>\n",
    "\n",
    "Probabilidade condicional é um segundo evento de um espaço amostral que ocorre em um evento depois que já tenha ocorrido o primeiro. Para melhor compreensão do que seja probabilidade condicional, considere um espaço amostral S finito não vazio e um evento A de S, se quisermos outro evento B desse espaço amostral S, essa nova probabilidade é indicada por P(B | A) e dizemos que é a probabilidade condicional de B em relação a A.\n",
    "\n",
    "<br>\n",
    "<br>\n",
    "\\begin{equation*}\n",
    "P(B | A) = \\dfrac{ P(B ∩ A) }{ P(A) }\n",
    "\\end{equation*}\n",
    "<br>\n",
    "<br>\n"
   ]
  },
  {
   "cell_type": "markdown",
   "metadata": {},
   "source": [
    "______________"
   ]
  },
  {
   "cell_type": "markdown",
   "metadata": {},
   "source": [
    "# Teorema de Bayes \n",
    "\n",
    "Classificação e previsão são dois dos aspectos mais importantes do Machine Learning e o Naive Bayes é um algoritmo simples, mas surpreendentemente poderoso para modelagem preditiva.\n",
    "## Definição \n",
    "\n",
    "\n",
    "### O que é Naive Bayes?\n",
    "\n",
    "O Naive Bayes está entre um dos algoritmos mais simples, mas mais poderosos para classificação, com base no Teorema de Bayes, com uma suposição de independência entre os preditores. O modelo Naive Bayes é fácil de construir e particularmente útil para conjuntos de dados muito grandes. Existem duas partes nesse algoritmo:\n",
    "\n",
    "- Ingênuo\n",
    "\n",
    "- Bayes\n",
    "\n",
    "O classificador Naive Bayes assume que a presença de um recurso em uma classe não está relacionada a nenhum outro recurso. Mesmo que esses recursos dependam um do outro ou da existência de outros recursos, todas essas propriedades contribuem independentemente para a probabilidade de que uma determinada fruta seja uma maçã, uma laranja ou uma banana, e é por isso que é conhecida como \"ingênua\".\n",
    "\n",
    "### Teorema de Bayes\n",
    "\n",
    "- O que é o teorema de Bayes?\n",
    "\n",
    "Na teoria estatística e de probabilidade, o teorema de Bayes descreve a probabilidade de um evento, com base no conhecimento prévio de condições que podem estar relacionadas ao evento. Serve como uma maneira de descobrir a probabilidade condicional.\n",
    "\n",
    "Dada uma hipótese (H) e evidência (E), o teorema de Bayes afirma que a relação entre a probabilidade da hipótese antes de obter a evidência, P (H) e a probabilidade da hipótese após a obtenção da evidência, P (H | E), é:\n",
    "\n",
    "<br>\n",
    "<br>\n",
    "\\begin{equation*}\n",
    "P(Hipótese | Evento) = \\dfrac{ P(Evento | Hipótese) . P(Hipótese) }{ P(Evento) }\n",
    "\\end{equation*}\n",
    "<br>\n",
    "<br>\n",
    "\n",
    "- $ P(Hipótese | Evento) $: Probabilidade posterior, ou seja, probabilidade de evento após a evidência ser vista\n",
    "\n",
    "\n",
    "- $ P(Hipótese) $: Probabilidade à priori ou a probabilidade anterior - probabilidade de evento antes da evidência ser vista\n",
    "\n",
    "\n",
    "- $ P(Evento | Hipótese) $: Likelyhood (chance)\n",
    "\n",
    "\n",
    "- $ \\dfrac{ P(Evento | Hipótese) }{ P(Evento) } $: Likelyhood ratio (taxa de chance)\n",
    "\n",
    "\n",
    "Podemos encontrar vários exemplo em:\n",
    "1. https://en.wikipedia.org/wiki/Bayes%27_theorem\n"
   ]
  },
  {
   "cell_type": "markdown",
   "metadata": {},
   "source": [
    "## Exemplo do Teorema de Bayes - Jogo de Golf\n",
    "\n",
    "Considere um conjunto de dados fictício que descreva as condições climáticas para jogar uma partida de golfe. Dadas as condições climáticas, cada tupla classifica as condições como adequadas (“Sim”) ou impróprias (“Não”) para jogar golfe.\n",
    "\n",
    "Aqui está uma representação tabular do nosso conjunto de dados.\n",
    "\n",
    "<br>\n",
    "<img src=\"./img/bayes_dataset.png\" width=800>\n",
    "<br>\n",
    "\n",
    "O conjunto de dados é dividido em duas partes, a saber, matriz de recursos e o vetor de resposta.\n",
    "\n",
    "A matriz de recursos contém todos os vetores (linhas) do conjunto de dados nos quais cada vetor consiste no valor dos recursos dependentes. No conjunto de dados acima, os recursos são \"Outlook\", \"Temperatura\", \"Umidade\" e \"Com Vento\".\n",
    "O vetor de resposta contém o valor da variável de classe (previsão ou saída) para cada linha da matriz de recurso. No conjunto de dados acima, o nome da variável da classe é \"Jogar golfe\".\n",
    "Suposição:\n",
    "\n",
    "A suposição fundamental de Naive Bayes é que cada recurso faz uma contribuição para o resultado:\n",
    "\n",
    "- independente\n",
    "- igual\n",
    "\n",
    "\n",
    "Com relação ao nosso conjunto de dados, esse conceito pode ser entendido como assumir que nenhum par de recursos é dependente. Por exemplo, a temperatura \"quente\" não tem nada a ver com a umidade ou a perspectiva de \"chuvoso\" não afeta os ventos. Portanto, os recursos são assumidos como independentes.\n",
    "\n",
    "Em segundo lugar, cada recurso recebe o mesmo peso (ou importância). Por exemplo, conhecer apenas a temperatura e a umidade por si só não pode prever o resultado com precisão. Nenhum dos atributos é irrelevante e supõe-se que esteja contribuindo igualmente para o resultado.\n",
    "\n",
    "Nota: As suposições feitas por Naive Bayes geralmente não são corretas em situações do mundo real. De fato, a suposição de independência nunca é correta, mas geralmente funciona bem na prática.\n",
    "\n",
    "Agora, antes de passar para a fórmula de Naive Bayes, é importante conhecer o teorema de Bayes.\n"
   ]
  },
  {
   "cell_type": "code",
   "execution_count": null,
   "metadata": {},
   "outputs": [],
   "source": []
  },
  {
   "cell_type": "markdown",
   "metadata": {},
   "source": [
    "### Teorema de Bayes\n",
    "\n",
    "O Teorema de Bayes encontra a probabilidade de um evento ocorrer, dada a probabilidade de outro evento que já ocorreu. O teorema de Bayes é declarado matematicamente como segue.\n",
    "\n",
    "<br>\n",
    "\\begin{equation*}\n",
    "P(y | X) = \\dfrac{ P(X | y) . P(y) }{ P(X) }\n",
    "\\end{equation*}\n",
    "<br>\n",
    "\n",
    "onde y é variável de classe e X é um vetor de recurso dependente (de tamanho n) em que:\n",
    "\n",
    "<br>\n",
    "\\begin{equation*}\n",
    "X = (x_1, x_2, x_3, ... , x_n)\n",
    "\\end{equation*}\n",
    "<br>\n",
    "\n",
    "- Suposição ingênua\n",
    "\n",
    "Agora, é hora de colocar uma suposição ingênua no teorema de Bayes, que é a independência entre os recursos. Então agora, dividimos as evidências em partes independentes. Agora, consideremos que os eventos são independentes.\n",
    "\n",
    "<br>\n",
    "\\begin{equation*}\n",
    "P(y | x_1, x_2, x_3, ... , x_n) = \\dfrac{ P(x_1 | y) . P(x_2 | y) . P(x_3 | y) ... P(x_n | y) . P(y) }{ P(x_1).P(x_2).P(x_3) ... P(x_n) }\n",
    "\\end{equation*}\n",
    "<br>\n",
    "\n",
    "Então, finalmente, ficamos com a tarefa de calcular P (y) e P (xi | y). Observe que P (y) também é chamado de probabilidade de classe e P (xi | y) é chamado de probabilidade condicional. Os diferentes classificadores ingênuos de Bayes diferem principalmente pelas premissas que fazem sobre a distribuição de P (xi | y).\n",
    "\n",
    "Vamos tentar aplicar a fórmula acima manualmente em nosso conjunto de dados climáticos. Para isso, precisamos fazer algumas pré-computações em nosso conjunto de dados. Precisamos encontrar P (xi | yj) para cada xi em X e yj em y. Todos esses cálculos foram demonstrados nas tabelas abaixo:\n",
    "\n",
    "<br>\n",
    "<img src=\"./img/bayes_charts.png\" width=500>\n",
    "<br>\n",
    "\n",
    "Portanto, na figura acima, calculamos \n",
    "\n",
    "<br>\n",
    "\\begin{equation*}\n",
    "P(x_i | y_j)\n",
    "\\end{equation*}\n",
    "<br>\n",
    "\n",
    "para cada xi em X e yj em y manualmente nas tabelas 1-4. Por exemplo, probabilidade de jogar golfe, já que a temperatura é baixa, ou seja, \n",
    "\n",
    "<br>\n",
    "\\begin{equation*}\n",
    "P (temp. = Frio | jogar golfe = Sim) = \\dfrac{ 3 }{ 9 }\n",
    "\\end{equation*}\n",
    "<br>\n",
    "\n",
    "Além disso, precisamos encontrar probabilidades de classe (P (y)) que foram calculadas na tabela 5. Por exemplo, P (jogar golfe = Sim) = 9/14.\n",
    "\n",
    "Então agora terminamos nossas pré-computações e o classificador está pronto! Vamos testá-lo em um novo conjunto de recursos (vamos chamá-lo hoje):\n",
    "\n",
    "- **today = (Sunny, Hot, Normal, False)**\n",
    "\n",
    "Portanto, a probabilidade de jogar golfe é dada por:\n",
    "\n",
    "<br>\n",
    "\\begin{equation*}\n",
    "P(Yes|today) = \\dfrac{ P(SunnyOutlook|Yes).P(HotTemperature|Yes).P(NormalHumidity|Yes).P(NoWind|Yes).P(Yes) }{ P(today) }\n",
    "\\end{equation*}\n",
    "<br>\n",
    "\n",
    "and probability to not play golf is given by:\n",
    "\n",
    "<br>\n",
    "\\begin{equation*}\n",
    "P(No|today) = \\dfrac{ P(SunnyOutlook|No).P(HotTemperature|No).P(NormalHumidity|No).P(NoWind|Yes).P(No) }{ P(today) }\n",
    "\\end{equation*}\n",
    "<br>\n",
    "\n",
    "Agora precisamos considerar que o total das probabilidades de jogar e não-jogar hoje é igual a 1:\n",
    "\n",
    "<br>\n",
    "\\begin{equation*}\n",
    "P(Yes|today) + P(No|today) = 1\n",
    "\\end{equation*}\n",
    "<br>"
   ]
  },
  {
   "cell_type": "markdown",
   "metadata": {},
   "source": [
    "# Vamos aplicar tudo isso no seguinte problema:\n",
    "\n",
    "1. Considere a clínica de dor do Zé, onde 10% dos pacientes tem prescrição médica para uso de remédios que controlam dores. Sabemos que 5% dos pacientes são viciados em remédios, se considerarmos somente os pacientes que necessitam de remédio para controlar a dor, essa parcela é de 8%. Se o paciente for viciado em medicamento, qual a probabilidade do mesmo precisar de prescrição de remédios para combater a dor.\n",
    "\n",
    "#### Dicas:\n",
    "    1. Quais os eventos que devem ocorrer?\n",
    "    2. Qual evento deve ocorrer primeiro?\n",
    "    3. Qual a probabilidade de acontecer o primeiro evento?\n",
    "    4. Qual a probabilidade de acontecer o segundo evento sabendo que o primeiro evento ocorreu?\n",
    "    5. Qual a probabilidade de ocorrer o segundo evento independente do primeiro?\n",
    "\n"
   ]
  },
  {
   "cell_type": "code",
   "execution_count": null,
   "metadata": {},
   "outputs": [],
   "source": []
  },
  {
   "cell_type": "markdown",
   "metadata": {},
   "source": [
    "### Mais Exemplos \n",
    "\n",
    "https://www.statisticshowto.com/bayes-theorem-problems"
   ]
  },
  {
   "cell_type": "markdown",
   "metadata": {},
   "source": [
    "________________"
   ]
  },
  {
   "cell_type": "markdown",
   "metadata": {},
   "source": [
    "_______"
   ]
  },
  {
   "cell_type": "markdown",
   "metadata": {},
   "source": [
    "# AVANÇADO\n",
    "\n",
    "Para fixação dos conceitos de probabilidade, passamos problemas matemáticos clássicos envolvendo o cálculo das probabilidades para os resultados em **Python.** \n",
    "\n",
    "- (1) Paradoxo da Casa dos Pombos\n",
    "- (2) Paradoxo do Aniversariante\n",
    "- (3) Paradoxo de Monty Hall - *Let's make a deal!*\n",
    "- (4) Calculando **π** com simulação de Monte-Carlo "
   ]
  },
  {
   "cell_type": "markdown",
   "metadata": {},
   "source": [
    "______"
   ]
  },
  {
   "cell_type": "markdown",
   "metadata": {},
   "source": [
    "## Paradoxo da Casa dos Pombos\n",
    "\n",
    "Se a probabilidade de ganhar com uma aposta teoricamente é 1 em 3268760 porque mesmo com 11 milhões de pessoas jogando a cada concurso às vezes ninguem acerta???? Depois de pesquisar teorias alternativas de probabilidade é possível explicar pelo o  princípio do pombal ou princípio da casa dos pombos. Para entender melhor esse principio é preciso entender o seguinte problema!!\n",
    "\n",
    "\n",
    "Eis o problema:Imagine que você construiu 4 casas de pombo e você tem 4 pombos para serem colocados em cada casa. Entende-se que  nenhum pombo tem casa e eles ficam na rua atualmente mas esse teorema foi formulado na época que eram  usados os pombos correio e todos os pombos tinham emprego e não ficavam abandonas pelo centro da cidade...\n",
    "Até agora tudo bem pois se existe 4 casas de 4 pombos então todos tem seu lugar reservado .Continuando com o experimento,você decide distribuir aleatoriamente 4 pombos em 4 casas de pombos e algo saiu errado!!\n",
    "\n",
    "\n",
    "O que acontece de errado é que na maioria das vezes vai haver mais casas com 2 ou mais pombos do que todas as casas igualmente distribuidas para cada pombo. A moral da historia é que isso resume a diferença entre dispor dados de forma organizada e dispor de de forma aleatória. Quando colocamos de forma aleatória, então temos mais probabilidade de ocorrer colisões e de forma ordenada nunca haverá colisões.\n",
    "\n",
    "\n",
    "O enunciado matemático pra isso é a afirmação de que se n pombos devem ser postos em m casas, e se n > m, então pelo menos uma casa irá conter mais de um pombo. Matematicamente falando, isto quer dizer que se o número de elementos de um conjunto finito A é maior do que o número de elementos de um outro conjunto B, então uma função de A em B não pode ser injetora. Uma função injetora de um conjunto A em um conjunto B é uma função que associa apenas um único elemento de A com um único elemento de B. Esse resultado parece bastante obvio porém suas conclusões é que nós interessam.\n",
    "\n",
    "Na formula abaixo:\n",
    "- m= numero de casas.\n",
    "- n= numero de pombos.\n",
    "\n",
    "<br>\n",
    "<img src=\"./img/paradoxo_pombos.png\" width=150>\n",
    "<br>\n",
    "\n",
    "\n",
    "O resultado da expressão é igual a probabilidade de haver pelo menos uma colisão (2 pombos irem para a mesma casa) quando você distribui n pombos aleatoriamente em m casas de pombos.\n"
   ]
  },
  {
   "cell_type": "markdown",
   "metadata": {},
   "source": [
    "_________"
   ]
  },
  {
   "cell_type": "markdown",
   "metadata": {},
   "source": [
    "## Paradoxo do Aniversariante\n",
    "\n",
    "Qual a probabilidade de duas pessoas fazerem aniversário no mesmo dia em uma sala com **N** pessoas?\n",
    "\n",
    "*fonte: Wikipedia*\n",
    "\n",
    "Em teoria das probabilidades, o paradoxo do aniversário afirma que dado um grupo de 23 (ou mais) pessoas escolhidas aleatoriamente, a chance de que duas pessoas terão a mesma data de aniversário é de mais de 50%. Para 57 ou mais pessoas, a probabilidade é maior do que 99%, entretanto, ela não pode ser exatamente 100% exceto que se tenha pelo menos 367 pessoas. Calcular essa probabilidade (e as relacionadas a ela) é o problema do aniversário. A matemática por trás disso tem sido utilizada para executar o ataque do aniversário.\n",
    "\n",
    "O problema foi apresentado pela primeira vez pelo matemático polonês Richard von Mises. \n",
    "\n",
    "Para calcular aproximadamente a probabilidade de que em uma sala com n pessoas, pelo menos duas possuam o mesmo aniversário, desprezamos variações na distribuição, tais como anos bissextos, gêmeos, variações sazonais ou semanais, e assumimos que 365 possíveis aniversários são todos igualmente prováveis. Distribuições de aniversários na realidade não são uniformes uma vez que as datas não são equiprováveis.\n",
    "\n",
    "É mais fácil calcular a probabilidade p(n) de que todos os n aniversários sejam diferentes. Se n > 365, pelo Princípio da Casa dos Pombos esta probabilidade é 0. Por outro lado, se n ≤ 365, ele é dado por \n",
    "\n",
    "<br>\n",
    "<img src=\"./img/paradoxo_aniversario.png\">\n",
    "<br>\n",
    "\n",
    "porque a segunda pessoa não pode ter o mesmo aniversário do que o primeiro (364/365), o terceiro não pode ter o mesmo aniversário do que o segundo (363/365), etc.\n",
    "\n",
    "O evento de pelo menos duas pessoas entre n terem o mesmo aniversário é o complementar de todos n serem diferentes. Consequentemente, sua probabilidade p(n) é\n",
    "\n",
    "```python\n",
    "    p(n) = 1 − pc(n)\n",
    "```\n",
    "\n",
    "Esta probabilidade ultrapassa 1/2 para n = 23 (com valor aproximado de 50.7%). A seguinte tabela mostra a probabilidade para alguns valores de n (ignorando anos bissextos como descrito anteriormente): \n",
    "\n",
    "<br>\n",
    "<img src=\"./img/paradoxo_aniversario_2.png\">\n",
    "<br>"
   ]
  },
  {
   "cell_type": "code",
   "execution_count": null,
   "metadata": {},
   "outputs": [],
   "source": [
    "import random\n",
    "\n",
    "num_p = int(input(\"Digite o número de pessoas: \"))\n",
    "num_loops = int(input(\"Digite o número de repetições: \")) # numero de testes\n",
    "favoraveis = 0\n",
    "for _ in range(num_loops):\n",
    "    ani_dates = [random.randint(1, 366) for _ in range(num_p)] # sortear nova lista de datas (dias) de aniversario\n",
    "    if(any(ani_dates.count(i) > 1 for i in ani_dates)): # verificar se existe a mesma data (valor) mais do que uma vez na lista\n",
    "        favoraveis += 1\n",
    "\n",
    "probs_perc = (favoraveis/num_loops)*100\n",
    "print('Em {} pessoas e {} testes deram-se {} vezes em que pelo menos duas pessoas fazem anos no mesmo dia'.format(num_p, num_loops, favoraveis))\n",
    "print('percentagem(%):', \"%.8f\" %probs_perc)"
   ]
  },
  {
   "cell_type": "code",
   "execution_count": null,
   "metadata": {},
   "outputs": [],
   "source": [
    "import matplotlib.pyplot as plt\n",
    "%matplotlib inline\n",
    "\n",
    "def birthday_probs(x):\n",
    "    p = (1.0/365)**x\n",
    "    for i in range((366-x),366):\n",
    "        p *= i\n",
    "    return 1-p\n",
    "\n",
    "plt.plot([birthday_probs(i)*100 for i in range(366)])\n",
    "plt.xlabel(\"Num de pessoas\")\n",
    "plt.ylabel(\"Probabilidades de partilhar o dia do aniversário\")\n",
    "plt.ylim(ymin=0)\n",
    "plt.xlim(xmin=0, xmax=80)\n",
    "plt.show()"
   ]
  },
  {
   "cell_type": "code",
   "execution_count": null,
   "metadata": {},
   "outputs": [],
   "source": [
    "birthday_probs(21)"
   ]
  },
  {
   "cell_type": "markdown",
   "metadata": {},
   "source": [
    "________"
   ]
  },
  {
   "cell_type": "markdown",
   "metadata": {},
   "source": [
    "## Monty Hall\n",
    "\n",
    "O problema de Monty Hall, também conhecido por paradoxo de Monty Hall é um problema matemático e paradoxo que surgiu a partir de um concurso televisivo dos Estados Unidos chamado Let’s Make a Deal, exibido na década de 1970.\n",
    "\n",
    "O jogo consistia no seguinte: Monty Hall, o apresentador, apresentava três portas aos concorrentes. Atrás de uma delas estava um prêmio (um carro) e as outras duas dois bodes.\n",
    "\n",
    "- Na 1.ª etapa o concorrente escolhe uma das três portas (que ainda não é aberta);\n",
    "- Na 2.ª etapa, Monty abre uma das outras duas portas que o concorrente não escolheu, revelando que o carro não se encontra nessa porta e revelando um dos bodes;\n",
    "- Na 3.ª etapa Monty pergunta ao concorrente se quer decidir permanecer com a porta que escolheu no início do jogo ou se ele pretende mudar para a outra porta que ainda está fechada para então a abrir.\n",
    "\n",
    "Agora, com duas portas apenas para escolher — pois uma delas já se viu, na 2.ª etapa, que não tinha o prêmio — e sabendo que o carro está atrás de uma das restantes duas, o concorrente tem que tomar a decisão.\n",
    "\n",
    "\n",
    "Qual é a estratégia mais lógica? Ficar com a porta escolhida inicialmente ou mudar de porta? Com qual das duas portas ainda fechadas o concorrente tem mais probabilidades de ganhar? Por quê?\n",
    "\n",
    "<br>\n",
    "<img src=\"./img/bode.png\" width=\"450\" />\n",
    "<br>"
   ]
  },
  {
   "cell_type": "code",
   "execution_count": null,
   "metadata": {},
   "outputs": [],
   "source": [
    "import random\n",
    "print(\"\"\"\n",
    "This is the Monty Hall problem.\n",
    "There are 3 doors in front of you, and there is a prize behind one of them.\n",
    "Once you select a door, I will open one of the two you had not selected which does not have a prize behind it.\n",
    "You will then have the opportunity to switch from the door you originally selected to an alternate door..\n",
    "\"\"\")\n",
    "\n",
    "A = \"A\"\n",
    "B = \"B\"\n",
    "C = \"C\"\n",
    "\n",
    "doors = [\"A\", \"B\", \"C\"]\n",
    "\n",
    "prize = random.choice(doors)\n",
    "\n",
    "selection = str(input(\"Select door 'A', 'B', or 'C': \"))\n",
    "\n",
    "print(\"\"\"\n",
    "This problem relies on conditional probabilities.\n",
    "It is suggested that you switch doors, you will have a higher probability of winning of you do.\"\"\")\n",
    "\n",
    "\n",
    "if selection == prize:\n",
    "    remaining = list(set(doors) - set(prize))\n",
    "    #open_door = random.choice(list(set(doors) - set(random.choice(remaining))))\n",
    "    open_door = set(random.choice(remaining))\n",
    "    alternate = random.choice(list(set(doors) - set(open_door) - set(prize)))\n",
    "\n",
    "else:\n",
    "    open_door = random.choice(list(set(doors) - set(selection) - set(prize)))\n",
    "    alternate = random.choice(\n",
    "        list(set(doors) - set(open_door) - set(selection)))\n",
    "\n",
    "print(\"The door I will now open is: %r\" % open_door)\n",
    "\n",
    "second_chance = str(input(\"Would you like to change doors? Type 'Yes' or 'No': \"))\n",
    "\n",
    "if second_chance == \"Yes\":\n",
    "    print(\"The door you will switch to is: %r \" % alternate)\n",
    "\n",
    "    if alternate == prize:\n",
    "        print(\"Congrats, you win! The prize was behind the alternate, %r\" % alternate)\n",
    "    else:\n",
    "        print (\"Sorry, the prize was behind the original door %r\" % prize)\n",
    "\n",
    "\n",
    "if second_chance != \"Yes\":\n",
    "    print(\"\"\"You decided to keep your initial door, %r\"\"\" % selection)\n",
    "    if selection != prize:\n",
    "        print(\"\"\"Sorry, the prize was behind the alternate door, %r\"\"\" % prize)\n",
    "    else:\n",
    "        print(\"Congrats, you win! The prize was behind your original selection, %r\" % selection)\n",
    "\n",
    "\n",
    "print(\"This is a check:\")\n",
    "\n",
    "print (\"Prize: %r\" % prize)\n",
    "print (\"Selection: %r \" % selection)\n",
    "print (\"Alternate: %r \" % alternate)\n",
    "print (\"Door opened: %r \" % open_door)\n"
   ]
  },
  {
   "cell_type": "markdown",
   "metadata": {},
   "source": [
    "### O Paradoxo de Mounty Hall\n",
    "\n",
    "<br>\n",
    "<img src=\"./img/mounty_hall_solution.png\" width=\"450\" />\n",
    "<br>\n",
    "\n",
    "Na realidade não é assim tão indiferente mudar ou ficar na mesma porta. No início, quando se escolheu uma das portas, havia 1/3 de probabilidade de ganhar o carro. Não existe razão nenhuma aparente para essa probabilidade mudar após o Monty Hall ter aberto uma das portas que não era premiada. As outras duas portas não escolhidas tinham em conjunto 2/3 de probabilidade de ocultarem o carro, e quando uma dessa portas é aberta (por não ter prêmio) a porta não escolhida que continua fechada passa a ter 2/3 de probabilidade de ser a porta do carro.\n",
    "\n",
    "A confusão é feita seguindo o raciocínio que parece mais lógico: \"mas a porta escolhida também continua fechada... então cada uma das portas fechadas passa a ter 1/2 de chance de ter o carro?\"\n",
    "\n",
    "- Sem trocar portas:\n",
    "$ P(E)= \\dfrac{1}{3} $ ; $ \\bar P (E)= \\dfrac{2}{3} $\n",
    "<br>\n",
    "\n",
    "- Trocando as portas:\n",
    " $ P(E)= \\dfrac{2}{3} $ ; $ \\bar P (E)= \\dfrac{1}{3} $\n",
    "<br>"
   ]
  },
  {
   "cell_type": "markdown",
   "metadata": {},
   "source": [
    "### Comparando os resultados da simulação com a probabilidade nominal"
   ]
  },
  {
   "cell_type": "code",
   "execution_count": null,
   "metadata": {},
   "outputs": [],
   "source": [
    "import argparse, random\n",
    "\n",
    "def simulate(num_doors, switch, verbose):\n",
    "    \"\"\"(int, bool): bool\n",
    "\n",
    "    Carry out the game for one contestant.  If 'switch' is True,\n",
    "    the contestant will switch their chosen door when offered the chance.\n",
    "    Returns a Boolean value telling whether the simulated contestant won.\n",
    "    \"\"\"\n",
    "\n",
    "    # Doors are numbered from 0 up to num_doors-1 (inclusive).\n",
    "\n",
    "    # Randomly choose the door hiding the prize.\n",
    "    winning_door = random.randint(0, num_doors-1)\n",
    "    if verbose:\n",
    "        print('Prize is behind door {}'.format(winning_door+1))\n",
    "\n",
    "    # The contestant picks a random door, too.\n",
    "    choice = random.randint(0, num_doors-1)\n",
    "    if verbose:\n",
    "        print('Contestant chooses door {}'.format(choice+1))\n",
    "\n",
    "    # The host opens all but two doors.\n",
    "    closed_doors = list(range(num_doors))\n",
    "    while len(closed_doors) > 2:\n",
    "        # Randomly choose a door to open.\n",
    "        door_to_remove = random.choice(closed_doors)\n",
    "\n",
    "        # The host will never open the winning door, or the door\n",
    "        # chosen by the contestant.\n",
    "        if door_to_remove == winning_door or door_to_remove == choice:\n",
    "            continue\n",
    "\n",
    "        # Remove the door from the list of closed doors.\n",
    "        closed_doors.remove(door_to_remove)\n",
    "        if verbose:\n",
    "            print('Host opens door {}'.format(door_to_remove+1))\n",
    "\n",
    "    # There are always two doors remaining.\n",
    "    assert len(closed_doors) == 2\n",
    "\n",
    "    # Does the contestant want to switch their choice?\n",
    "    if switch:\n",
    "        if verbose:\n",
    "            print('Contestant switches from door {} '.format(choice+1), end='')\n",
    "\n",
    "        # There are two closed doors left.  The contestant will never\n",
    "        # choose the same door, so we'll remove that door as a choice.\n",
    "        available_doors = list(closed_doors) # Make a copy of the list.\n",
    "        available_doors.remove(choice)\n",
    "\n",
    "        # Change choice to the only door available.\n",
    "        choice = available_doors.pop()\n",
    "        if verbose:\n",
    "            print('to {}'.format(choice+1))\n",
    "\n",
    "    # Did the contestant win?\n",
    "    won = (choice == winning_door)\n",
    "    if verbose:\n",
    "        if won:\n",
    "            print('Contestant WON', end='\\n\\n')\n",
    "        else:\n",
    "            print('Contestant LOST', end='\\n\\n')\n",
    "    return won\n",
    "\n",
    "\n",
    "def monty_hall(doors=3, trials=1000, verbose=False):\n",
    "\n",
    "    print('Simulating {} trials...'.format(trials))\n",
    "\n",
    "    # Carry out the trials\n",
    "    winning_non_switchers = 0\n",
    "    winning_switchers = 0\n",
    "    for i in range(trials):\n",
    "        # First, do a trial where the contestant never switches.\n",
    "        won = simulate(doors, switch=False, verbose=verbose)\n",
    "        if won:\n",
    "            winning_non_switchers += 1\n",
    "\n",
    "        # Next, try one where the contestant switches.\n",
    "        won = simulate(doors, switch=True, verbose=verbose)\n",
    "        if won:\n",
    "            winning_switchers += 1\n",
    "\n",
    "    print('    Switching won {0:5} times out of {1} ({2}% of the time)'.format(\n",
    "            winning_switchers, trials,\n",
    "            (winning_switchers / trials * 100 ) ))\n",
    "    print('Not switching won {0:5} times out of {1} ({2}% of the time)'.format(\n",
    "            winning_non_switchers, trials,\n",
    "            (winning_non_switchers / trials * 100 ) ))\n",
    "    "
   ]
  },
  {
   "cell_type": "code",
   "execution_count": null,
   "metadata": {},
   "outputs": [],
   "source": [
    "monty_hall(3, 10000)"
   ]
  },
  {
   "cell_type": "markdown",
   "metadata": {},
   "source": [
    "________"
   ]
  },
  {
   "cell_type": "markdown",
   "metadata": {},
   "source": [
    "## Calculando π com Monte Carlo\n",
    "\n",
    "<br>\n",
    "<img src=\"./img/pi.png\">\n",
    "<br>\n",
    "\n",
    "Na matemática, o número __π__ é uma proporção numérica definida pela relação entre o perímetro de uma circunferência e seu diâmetro; por outras palavras, se uma circunferência tem perímetro P e diâmetro D, então \n",
    "\n",
    "```python\n",
    "π = P/D\n",
    "```\n",
    "\n",
    "É representado pela letra grega π. A letra grega π (lê-se: pi), foi adotada para o número a partir da palavra grega para perímetro, provavelmente por William Jones em 1706, e popularizada por Leonhard Euler alguns anos mais tarde. Outros nomes para esta constante são constante circular ou número de Ludolph. \n",
    "\n",
    "O valor de __π__ pertence aos números irracionais. \n",
    "\n",
    "Para a maioria dos cálculos simples é comum aproximar __π__ por 3,14. \n",
    "\n",
    "Uma boa parte das calculadoras científicas de 8 dígitos aproxima __π__ por 3,1415926. \n",
    "\n",
    "Para calcular rotas de navegações interplanetárias a NASA utiliza __π ≈ 3,141592653589793__ (com 15 casas decimais). Para calcular um círculo com 46 bilhões de anos-luz de raio em volta do universo observável seria suficiente uma aproximação de __π__ com apenas 40 casas decimais para garantir precisão de 1 átomo de hidrogênio.\n",
    "\n",
    "Um engenheiro japonês e um estudante americano de Ciência da computação calcularam, usando um computador com doze núcleos físicos, cinco trilhões de dígitos, o equivalente a 6 terabytes de dados.\n",
    "\n",
    "### Método estatístico"
   ]
  },
  {
   "cell_type": "markdown",
   "metadata": {},
   "source": [
    "\n",
    "<br>\n",
    "<img src=\"./img/Pi_30K.gif\" width=400>\n",
    "<br>"
   ]
  },
  {
   "cell_type": "markdown",
   "metadata": {},
   "source": [
    "Um método interessante para o cálculo de __π__  pode ser realizado através de Monte Carlo utilizando-se a estatística. Nesse método são sorteados aleatoriamente pontos num quadrado compreendido entre as coordenadas O=(0,0) e B=(1,1).\n",
    "\n",
    "Em seguida calcula-se a distância dos pontos sorteados cn=(xn,yn) até a origem O=(0,0). __π__ pode ser aproximado através do número de pontos inscritos na circunferência de raio 1 em relação ao total de pontos sorteados no quadrado de lado 1.\n",
    "\n",
    "\\begin{equation*}\n",
    "A = r^2π\\\\\n",
    "\\end{equation*}\n",
    "\n",
    "\\begin{equation*}\n",
    "A_q = \\frac{r^2π}{4}\\\\\n",
    "\\end{equation*}\n",
    "\n",
    "\\begin{equation*}\n",
    "4A_q = r^2π\\\\\n",
    "\\end{equation*}\n",
    "\n",
    "\\begin{equation*}\n",
    "\\frac{4A_q}{r^2} = π\n",
    "\\end{equation*}\n",
    "\n",
    "Lançando pontos aleatoriamente sobre o quadrado, os pontos que caem dentro do quadrante somarão a sua área.\n",
    "\n",
    "Então a área do quadrante nada mais é do que a probabilidade de pontos cairem dentro dele.\n",
    "\n",
    "\\begin{equation*}\n",
    "A_q = \\frac{P_{dentro}}{P_{total}}\n",
    "\\end{equation*}"
   ]
  },
  {
   "cell_type": "code",
   "execution_count": null,
   "metadata": {},
   "outputs": [],
   "source": [
    "import matplotlib.pyplot as plt\n",
    "import random\n",
    "\n",
    "inside = 0\n",
    "n = 10000\n",
    "\n",
    "x_inside = []\n",
    "y_inside = []\n",
    "x_outside = []\n",
    "y_outside = []\n",
    "\n",
    "for _ in range(n):\n",
    "    x = random.uniform(-1.0,1.0)\n",
    "    y = random.uniform(-1.0,1.0)\n",
    "    if x**2+y**2 < 1:\n",
    "        inside += 1\n",
    "        x_inside.append(x)\n",
    "        y_inside.append(y)\n",
    "    else:\n",
    "        x_outside.append(x)\n",
    "        y_outside.append(y)\n",
    "        "
   ]
  },
  {
   "cell_type": "code",
   "execution_count": null,
   "metadata": {},
   "outputs": [],
   "source": [
    "pi = 4*inside/n\n",
    "\n",
    "print(pi)"
   ]
  },
  {
   "cell_type": "code",
   "execution_count": null,
   "metadata": {},
   "outputs": [],
   "source": [
    "import warnings\n",
    "warnings.filterwarnings(\"ignore\")\n",
    "\n",
    "fig, ax = plt.subplots()\n",
    "ax.set_aspect('equal')\n",
    "ax.scatter(x_inside, y_inside, color='b', marker='s')\n",
    "ax.scatter(x_outside, y_outside, color='r', marker='s')\n",
    "fig.show()"
   ]
  },
  {
   "cell_type": "markdown",
   "metadata": {},
   "source": [
    "# Hora de falar de distribuição?\n",
    "\n",
    "\n",
    "## Quando falamos de distribuição estamos falando de uma distribuição de probablidades, que outras palavras pode ser descrita como sendo, um conjunto dos possíveis valores que teremos em um experimento e qual a probabilidade de encontrar cada um desses valores.\n",
    "\n",
    "### Se considerarmos uma base de dados a distribuição irá nos mostrar a frequência de ocorrência de cada elemento presente na base\n",
    "\n",
    "### Alguns exemplos de distribuição\n",
    "\n",
    "<img src=\"./img/1_DmPUIjvecL7KllOamoFSDw.png\" width=\"550\" />\n",
    "\n",
    "### Um exemplo prático\n",
    "<img src=\"./img/Captura de tela de 2020-09-01 21-54-37.png\" width=\"550\" />"
   ]
  },
  {
   "cell_type": "markdown",
   "metadata": {},
   "source": [
    "# Alguns conceitos básicos:\n",
    "\n",
    "1. O que é moda?\n",
    "2. O que é mediana?\n",
    "3. O que é média?\n",
    "\n",
    "<img src=\"./img/media-moda-mediana-matematica.webp\" width=\"450\" />\n",
    "\n",
    "\n",
    "E como medimos a dispersão de dados de dados?\n",
    "<img src=\"./img/FWHM-for-a-Gaussian-distribution-In-this-case-the-FWHM-results-related-to-the-s-as-FWHM.png\" width=\"450\" />\n",
    "\n"
   ]
  },
  {
   "cell_type": "markdown",
   "metadata": {},
   "source": [
    "### Primeiro exercício\n",
    "\n",
    "1. Considere que vamos rodar dois dados, a figura abaixo nos mostra todas possíveis combinações\n",
    "\n",
    "<img src=\"./img/Captura de tela de 2020-09-01 21-57-49.png\" width=\"550\" />\n",
    "\n",
    "Construa uma distribição considerando a soma de dois dados, para isso repita o procedimento 100, 10000, 1000000, 100000000, e plote a distribuição"
   ]
  },
  {
   "cell_type": "code",
   "execution_count": null,
   "metadata": {},
   "outputs": [],
   "source": [
    "## resolver o problema aqui"
   ]
  },
  {
   "cell_type": "markdown",
   "metadata": {},
   "source": [
    "## Distribuição normal\n",
    "\n",
    "media == moda == mediana\n",
    "\n",
    "Temos uma distribuição totalmente simétrica"
   ]
  },
  {
   "cell_type": "markdown",
   "metadata": {},
   "source": [
    "## Distribuição Normal Padrão\n",
    "\n",
    "Aqui temos uma distribuição padrão que que a média é igual a zero e o desvio padrão igual a 1. Podemos transformar qualquer distribuição normal em uma distribuição normal padrão, da seguinte maneira:\n",
    "\n",
    "<img src=\"./img/Captura de tela de 2020-09-01 22-29-39.png\" width=\"500\">\n",
    "\n",
    "\n",
    "Crie uma lista de 100 números aleatórios (entre 1 e 5) e em seguida transforme essa lista em uma distribuição normal padrão"
   ]
  },
  {
   "cell_type": "code",
   "execution_count": null,
   "metadata": {},
   "outputs": [],
   "source": []
  },
  {
   "cell_type": "code",
   "execution_count": null,
   "metadata": {},
   "outputs": [],
   "source": []
  },
  {
   "cell_type": "markdown",
   "metadata": {},
   "source": [
    "# Teorema Central do Limite\n",
    "\n",
    "1. Crie uma lista de 5000 dados aleatórios (valores entre 1 e 10000)\n",
    "2. Crie 50 listas (com 100 elementos cada) com os dados da lista acima\n",
    "    1. Se um dado for para uma sublista ele deve ser excluído da lista original\n",
    "3. Calcule a média de cada uma dessas 50 sublistas\n",
    "4. Plote o histograma das médias\n",
    "5. Calcule a média e a variância da lista original\n",
    "6. Calcule a média e a variância das médias das sublistas"
   ]
  },
  {
   "cell_type": "code",
   "execution_count": null,
   "metadata": {},
   "outputs": [],
   "source": []
  },
  {
   "cell_type": "markdown",
   "metadata": {},
   "source": [
    "## Problema da vida real \n",
    "\n",
    "### Estimativas bases para o planejamento financeiro\n",
    "\n",
    "Vamos imaginar uma empresa que esta em fase de planejamento financeiro para o ano seguinte. Uma das estapas do planejamento é estimar o quanto cada integrante do time de vendas vai bater as metas. O diretor pediu um modelo aleatório para estimar o quanto cada um irá bater a meta no próximo ano e o quanto deverá ser pago de bônus.\n",
    "\n",
    "Assuma o histórico individual dos últimos 10 anos.\n",
    "\n",
    "- Responsável 1: [25.0, 233.33, 31.25, 0.0, 11.11, 25.0, 50.0, 0.0, 43.75, 0.0]\n",
    "- Responsável 2: [50.0, 18.75, 46.15, 87.5, 0.0, 40.0, 20.0, 300.0, 200.0, 33.33]\n",
    "- Responsável 3: [35.29, 0.0, 250.0, 0.0, 37.5, 350.0, 43.75, 133.33, 0.0, 45.45]\n",
    "- Responsável 4: [28.57, 600.0, 71.43, 500.0, 38.89, 7.69, 233.33, 36.36, 116.67, 30.77]\n",
    "- Responsável 5: [20.0, 9.09, 166.67, 80.0, 140.0, 0.0, 21.05, 25.0, 166.67, 38.89]\n",
    "- Responsável 6: [150.0, 71.43, 5.88, 0.0, 0.0, 21.43, 35.71, 0.0, 20.0, 26.32]\n",
    "- Responsável 7: [100.0, 63.64, 50.0, 30.0, 133.33, 41.18, 200.0, 14.29, 50.0, 0.0]\n",
    "\n",
    "Considere também a faixa de bônus é dada da seguinte maneira:\n",
    "- 0 = 0% do volume de venda \n",
    "- 1 - 25 = 1% do volume de venda \n",
    "- 26 - 50 = 2% do volume de venda \n",
    "- 51 - 75 = 3% do volume de venda \n",
    "- 76 - 100 = 5% do volume de venda \n",
    "- acima de 100% = 5% volume + 0.25% do que execeder 100% da meta\n",
    "\n",
    "Usando Monte Carlo faça uma estimativa do quanto cada responsável irá vender no ano e por consequência o quanto cada irá receber de bônus. Assuma que o valor da meta estimada para o ano é de 2 milhões em vendas / responsável"
   ]
  },
  {
   "cell_type": "code",
   "execution_count": null,
   "metadata": {},
   "outputs": [],
   "source": []
  }
 ],
 "metadata": {
  "kernelspec": {
   "display_name": "Python 3",
   "language": "python",
   "name": "python3"
  },
  "language_info": {
   "codemirror_mode": {
    "name": "ipython",
    "version": 3
   },
   "file_extension": ".py",
   "mimetype": "text/x-python",
   "name": "python",
   "nbconvert_exporter": "python",
   "pygments_lexer": "ipython3",
   "version": "3.8.5"
  },
  "latex_envs": {
   "LaTeX_envs_menu_present": true,
   "autoclose": false,
   "autocomplete": true,
   "bibliofile": "biblio.bib",
   "cite_by": "apalike",
   "current_citInitial": 1,
   "eqLabelWithNumbers": true,
   "eqNumInitial": 1,
   "hotkeys": {
    "equation": "Ctrl-E",
    "itemize": "Ctrl-I"
   },
   "labels_anchors": false,
   "latex_user_defs": false,
   "report_style_numbering": false,
   "user_envs_cfg": false
  },
  "toc": {
   "base_numbering": 1,
   "nav_menu": {},
   "number_sections": true,
   "sideBar": true,
   "skip_h1_title": false,
   "title_cell": "Table of Contents",
   "title_sidebar": "Contents",
   "toc_cell": false,
   "toc_position": {},
   "toc_section_display": true,
   "toc_window_display": false
  },
  "varInspector": {
   "cols": {
    "lenName": 16,
    "lenType": 16,
    "lenVar": 40
   },
   "kernels_config": {
    "python": {
     "delete_cmd_postfix": "",
     "delete_cmd_prefix": "del ",
     "library": "var_list.py",
     "varRefreshCmd": "print(var_dic_list())"
    },
    "r": {
     "delete_cmd_postfix": ") ",
     "delete_cmd_prefix": "rm(",
     "library": "var_list.r",
     "varRefreshCmd": "cat(var_dic_list()) "
    }
   },
   "types_to_exclude": [
    "module",
    "function",
    "builtin_function_or_method",
    "instance",
    "_Feature"
   ],
   "window_display": false
  }
 },
 "nbformat": 4,
 "nbformat_minor": 4
}
