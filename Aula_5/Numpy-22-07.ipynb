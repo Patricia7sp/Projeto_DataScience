{
 "cells": [
  {
   "cell_type": "markdown",
   "metadata": {},
   "source": [
    "# NumPy \n",
    "\n",
    "Nessa aula vamos aprender um pouco sobre como trabalhar com a biblioteca Numpy. É um pacote para a linguagem Python que suporta arrays e matrizes multidimensionais, possuindo uma larga coleção de funções matemáticas para trabalhar com estas estruturas."
   ]
  },
  {
   "cell_type": "markdown",
   "metadata": {},
   "source": [
    "### Load NumPy and check version"
   ]
  },
  {
   "cell_type": "code",
   "execution_count": 2,
   "metadata": {},
   "outputs": [
    {
     "data": {
      "text/plain": [
       "'1.19.1'"
      ]
     },
     "execution_count": 2,
     "metadata": {},
     "output_type": "execute_result"
    }
   ],
   "source": [
    "# Como o NumPy não é nativo do Python nós precisamos fazer uma importação da biblioteca \n",
    "import numpy as np\n",
    "\n",
    "\n",
    "#vamos verificar a versão instalada\n",
    "np.__version__"
   ]
  },
  {
   "cell_type": "markdown",
   "metadata": {},
   "source": [
    "#### Numpy é uma biblioteca enorme que trabalha com computação científica (tanto que é conhecida o container dos containers dos array) "
   ]
  },
  {
   "cell_type": "code",
   "execution_count": 3,
   "metadata": {},
   "outputs": [],
   "source": [
    "x = np.arange(10)\n",
    "#print(x)\n",
    "#type(x)"
   ]
  },
  {
   "cell_type": "markdown",
   "metadata": {},
   "source": [
    "### Vamos começar a fazendo um execício sobre lista.\n",
    "Será criada uma lista de 0 à 1000000, crie uma segunda lista na qual os elementos sejam o quadrado de cada elemento da primeira lista"
   ]
  },
  {
   "cell_type": "code",
   "execution_count": 4,
   "metadata": {},
   "outputs": [],
   "source": [
    "z = list(range(1000000))\n",
    "## vamos embora!\n",
    "z2=[]\n",
    "for i in range (0, len(z)):\n",
    "    z2.append(z[i]**2)"
   ]
  },
  {
   "cell_type": "markdown",
   "metadata": {},
   "source": [
    "### Agora vamos ver como é a performance do array comparada com a lista"
   ]
  },
  {
   "cell_type": "code",
   "execution_count": 5,
   "metadata": {},
   "outputs": [],
   "source": [
    "#y = np.arange(1000000)\n",
    "#y = y ** 2"
   ]
  },
  {
   "cell_type": "markdown",
   "metadata": {},
   "source": [
    "### Em uma lista podemos adicionar vários tipos diferentes de variáveis "
   ]
  },
  {
   "cell_type": "code",
   "execution_count": 6,
   "metadata": {},
   "outputs": [
    {
     "name": "stdout",
     "output_type": "stream",
     "text": [
      "['Dog', 'Mammal', 45, 7]\n"
     ]
    }
   ],
   "source": [
    "animal = ['Dog', 'Mammal', 45, 7]\n",
    "print(animal)"
   ]
  },
  {
   "cell_type": "code",
   "execution_count": 7,
   "metadata": {},
   "outputs": [
    {
     "data": {
      "text/plain": [
       "array(['Dog', 'Mammal', '45', '7'], dtype='<U6')"
      ]
     },
     "execution_count": 7,
     "metadata": {},
     "output_type": "execute_result"
    }
   ],
   "source": [
    "## No array isso não acontece, todas as variáveis serão do mesmo tipo \n",
    "np.array(animal)"
   ]
  },
  {
   "cell_type": "markdown",
   "metadata": {},
   "source": [
    "### Array pode ser ter quanta dimensões desejarmos, porém o mais comum é termos arrays de 1, 2 e 3 dimensões"
   ]
  },
  {
   "cell_type": "code",
   "execution_count": 8,
   "metadata": {},
   "outputs": [],
   "source": [
    "#Como será que fica um array de 3 dimensões?\n",
    "ndim = np.arange(27).reshape(3,3,3)\n",
    "#print(ndim)"
   ]
  },
  {
   "cell_type": "code",
   "execution_count": 9,
   "metadata": {},
   "outputs": [],
   "source": [
    "#um array de quatro dimensões\n",
    "twos = np.arange(16).reshape(2,2,2,2)\n",
    "#print(twos)"
   ]
  },
  {
   "cell_type": "markdown",
   "metadata": {},
   "source": [
    "### Quando desejamos utilizar um array para salvar dados, devemos fazer uma declaração de variável inicialmente para \"guardar\" memória para salvar futuros dados"
   ]
  },
  {
   "cell_type": "code",
   "execution_count": 10,
   "metadata": {},
   "outputs": [
    {
     "name": "stdout",
     "output_type": "stream",
     "text": [
      "[[1. 1. 1. 1. 1.]\n",
      " [1. 1. 1. 1. 1.]\n",
      " [1. 1. 1. 1. 1.]]\n",
      "\n",
      "[[0. 0. 0. 0. 0.]\n",
      " [0. 0. 0. 0. 0.]\n",
      " [0. 0. 0. 0. 0.]]\n",
      "\n",
      "[[1. 0. 0. 0. 0.]\n",
      " [0. 1. 0. 0. 0.]\n",
      " [0. 0. 1. 0. 0.]]\n"
     ]
    }
   ],
   "source": [
    "## Há algumas maneiras de se fazer isso\n",
    "print(np.ones((3,5)), end='\\n\\n')\n",
    "print(np.zeros((3,5)), end='\\n\\n')\n",
    "print(np.eye(3,5))"
   ]
  },
  {
   "cell_type": "markdown",
   "metadata": {},
   "source": [
    "### Como acessar dados dentro do array"
   ]
  },
  {
   "cell_type": "code",
   "execution_count": 11,
   "metadata": {},
   "outputs": [
    {
     "name": "stdout",
     "output_type": "stream",
     "text": [
      "[4 5 8 8 1 9 6 7 3 9 9 2 1 2 4]\n"
     ]
    }
   ],
   "source": [
    "## vamos criar um array de maneira randômica de tamanho 15\n",
    "data = np.random.randint(10, size=15)\n",
    "print(data)"
   ]
  },
  {
   "cell_type": "code",
   "execution_count": 12,
   "metadata": {},
   "outputs": [
    {
     "data": {
      "text/plain": [
       "array([1, 9, 6, 7])"
      ]
     },
     "execution_count": 12,
     "metadata": {},
     "output_type": "execute_result"
    }
   ],
   "source": [
    "data[4:8]"
   ]
  },
  {
   "cell_type": "code",
   "execution_count": 13,
   "metadata": {},
   "outputs": [
    {
     "data": {
      "text/plain": [
       "array([[4, 5, 8, 8, 1],\n",
       "       [9, 6, 7, 3, 9],\n",
       "       [9, 2, 1, 2, 4]])"
      ]
     },
     "execution_count": 13,
     "metadata": {},
     "output_type": "execute_result"
    }
   ],
   "source": [
    "data = data.reshape(3,5)\n",
    "data"
   ]
  },
  {
   "cell_type": "code",
   "execution_count": 14,
   "metadata": {},
   "outputs": [
    {
     "data": {
      "text/plain": [
       "4"
      ]
     },
     "execution_count": 14,
     "metadata": {},
     "output_type": "execute_result"
    }
   ],
   "source": [
    "data[0,0]"
   ]
  },
  {
   "cell_type": "markdown",
   "metadata": {},
   "source": [
    "### Vamos fazer mais um exercício?\n",
    "\n",
    "Coloque a lista seguinte e em ordem crescente:\n",
    "1. lista_exercico = [8, 5, 2, 4, 9]"
   ]
  },
  {
   "cell_type": "markdown",
   "metadata": {},
   "source": [
    "### Argsort --> uma função do numpy que irá retornar a sequência de indices que nos dará uma sequência crescente ou decrescente"
   ]
  },
  {
   "cell_type": "code",
   "execution_count": 15,
   "metadata": {},
   "outputs": [
    {
     "name": "stdout",
     "output_type": "stream",
     "text": [
      "[2 3 1 0 4]\n",
      "[2 4 5 8 9]\n",
      "[8 5 2 4 9]\n"
     ]
    }
   ],
   "source": [
    "x = np.array([8, 5, 2, 4, 9])\n",
    "print(np.argsort(x))\n",
    "print(x[x.argsort()])\n",
    "print(x)"
   ]
  },
  {
   "cell_type": "code",
   "execution_count": 16,
   "metadata": {},
   "outputs": [],
   "source": [
    "##podemos usar o sequenciamento de indices de um array e um outro\n",
    "\n",
    "grade = np.array([3, 5, 1, 6, 2, 7])\n",
    "ages = np.array([8, 10, 6, 11, 7, 12])"
   ]
  },
  {
   "cell_type": "code",
   "execution_count": 17,
   "metadata": {},
   "outputs": [],
   "source": [
    "sort_index = np.argsort(ages)"
   ]
  },
  {
   "cell_type": "code",
   "execution_count": 18,
   "metadata": {},
   "outputs": [
    {
     "name": "stdout",
     "output_type": "stream",
     "text": [
      "[1 2 3 5 6 7]\n",
      "[ 6  7  8 10 11 12]\n"
     ]
    }
   ],
   "source": [
    "print(grade[sort_index])\n",
    "print(ages[sort_index])"
   ]
  },
  {
   "cell_type": "code",
   "execution_count": 19,
   "metadata": {},
   "outputs": [
    {
     "name": "stdout",
     "output_type": "stream",
     "text": [
      "[12, 11, 10, 8, 7, 6]\n"
     ]
    }
   ],
   "source": [
    "## orde decrescente \n",
    "print(list(ages[sort_index])[::-1])"
   ]
  },
  {
   "cell_type": "markdown",
   "metadata": {},
   "source": [
    "### Vamos manipular algum array"
   ]
  },
  {
   "cell_type": "code",
   "execution_count": 20,
   "metadata": {},
   "outputs": [
    {
     "name": "stdout",
     "output_type": "stream",
     "text": [
      "[  4  -6  -8 -10   4   4  -4  -9  -7   2  -6   6   6  -6  -2   8   5 -10\n",
      "  -6  -4  -9   9   3  -6   0  -9   0  -1   1   7  -1  -4  -5  -3   5  -4\n",
      "   1  -1  -8   0   3  -2  -6   3  -5  -5  -6   8   9  -1   9   9 -10   1\n",
      " -10  -8  -1  -7   6  -1  -2  -3  -8   7  -6   0   9   5  -6   4  -7  -3\n",
      "   1  -2  -7   5   4   2   4  -7   1   3   9   0  -3   6   7   9  -8  -5\n",
      "  -9   6  -7  -6   1   9  -7   6   5   4]\n"
     ]
    }
   ],
   "source": [
    "import numpy.random as npr\n",
    "x = npr.randint(-10,10, size=100)\n",
    "print(x)"
   ]
  },
  {
   "cell_type": "markdown",
   "metadata": {},
   "source": [
    "### Mais um exercício \n",
    "1. No array acima, substitua os valores menores que -1 por -1, e valores maiores que 5 por 5. Fazendo uso de for "
   ]
  },
  {
   "cell_type": "code",
   "execution_count": 21,
   "metadata": {},
   "outputs": [
    {
     "name": "stdout",
     "output_type": "stream",
     "text": [
      "[ 4 -1 -1 -1  4  4 -1 -1 -1  2 -1  5  5 -1 -1  5  5 -1 -1 -1 -1  5  3 -1\n",
      "  0 -1  0 -1  1  5 -1 -1 -1 -1  5 -1  1 -1 -1  0  3 -1 -1  3 -1 -1 -1  5\n",
      "  5 -1  5  5 -1  1 -1 -1 -1 -1  5 -1 -1 -1 -1  5 -1  0  5  5 -1  4 -1 -1\n",
      "  1 -1 -1  5  4  2  4 -1  1  3  5  0 -1  5  5  5 -1 -1 -1  5 -1 -1  1  5\n",
      " -1  5  5  4]\n"
     ]
    }
   ],
   "source": [
    "##Quer uma maneira fácil de se fazer isso?\n",
    "print(x.clip(-1, 5))"
   ]
  },
  {
   "cell_type": "markdown",
   "metadata": {},
   "source": [
    "### Como fazer uma escolha aleatória?"
   ]
  },
  {
   "cell_type": "code",
   "execution_count": 22,
   "metadata": {},
   "outputs": [
    {
     "data": {
      "text/plain": [
       "array([-2,  2, -6,  5, -9,  9,  6, -3, -8,  1])"
      ]
     },
     "execution_count": 22,
     "metadata": {},
     "output_type": "execute_result"
    }
   ],
   "source": [
    "y = npr.choice(x, 10, replace=False)\n",
    "y"
   ]
  },
  {
   "cell_type": "markdown",
   "metadata": {},
   "source": [
    "### que tal uma escolha baseada em probabilidades?"
   ]
  },
  {
   "cell_type": "code",
   "execution_count": 23,
   "metadata": {},
   "outputs": [
    {
     "data": {
      "text/plain": [
       "array([9])"
      ]
     },
     "execution_count": 23,
     "metadata": {},
     "output_type": "execute_result"
    }
   ],
   "source": [
    "npr.choice(y, 1, p=[.05, .1, .15, .15, .05, .1, 0.15, .07, .08, 0.1])"
   ]
  },
  {
   "cell_type": "markdown",
   "metadata": {},
   "source": [
    "### Para não perder o costume um exercício\n",
    "1. Encontre os elementos unicos do array a seguir\n",
    "2. O retorno deve ser o elemento e seu index\n",
    "3. A quantidade observada em cada elemento"
   ]
  },
  {
   "cell_type": "code",
   "execution_count": 24,
   "metadata": {},
   "outputs": [],
   "source": [
    "symbols = np.array(['BCD', 'ACD', 'ACD', 'ACD', 'ABD', 'ABC', 'ABC', 'ABD', 'ABD',\n",
    "       'BCD', 'BCD', 'ABC', 'ABC', 'BCD', 'ACD'])"
   ]
  },
  {
   "cell_type": "code",
   "execution_count": 25,
   "metadata": {},
   "outputs": [],
   "source": [
    "a, b, c = np.unique(symbols, return_index=True, return_counts=True)"
   ]
  },
  {
   "cell_type": "code",
   "execution_count": 26,
   "metadata": {},
   "outputs": [
    {
     "data": {
      "text/plain": [
       "array(['ABC', 'ABD', 'ACD', 'BCD'], dtype='<U3')"
      ]
     },
     "execution_count": 26,
     "metadata": {},
     "output_type": "execute_result"
    }
   ],
   "source": [
    "a"
   ]
  },
  {
   "cell_type": "code",
   "execution_count": 27,
   "metadata": {},
   "outputs": [
    {
     "data": {
      "text/plain": [
       "array([4, 3, 4, 4])"
      ]
     },
     "execution_count": 27,
     "metadata": {},
     "output_type": "execute_result"
    }
   ],
   "source": [
    "c"
   ]
  },
  {
   "cell_type": "code",
   "execution_count": 28,
   "metadata": {},
   "outputs": [
    {
     "data": {
      "text/plain": [
       "(4,)"
      ]
     },
     "execution_count": 28,
     "metadata": {},
     "output_type": "execute_result"
    }
   ],
   "source": [
    "a.shape"
   ]
  },
  {
   "cell_type": "code",
   "execution_count": 29,
   "metadata": {},
   "outputs": [
    {
     "data": {
      "text/plain": [
       "array([5, 4, 1, 0])"
      ]
     },
     "execution_count": 29,
     "metadata": {},
     "output_type": "execute_result"
    }
   ],
   "source": [
    "b"
   ]
  },
  {
   "cell_type": "markdown",
   "metadata": {},
   "source": [
    "### Como combinar arrays? "
   ]
  },
  {
   "cell_type": "code",
   "execution_count": 30,
   "metadata": {},
   "outputs": [],
   "source": [
    "array_1 = [[1,2],[3,4]]\n",
    "array_2 = [[5,6],[7,8]]"
   ]
  },
  {
   "cell_type": "code",
   "execution_count": 31,
   "metadata": {},
   "outputs": [
    {
     "data": {
      "text/plain": [
       "array([[1, 2],\n",
       "       [3, 4],\n",
       "       [5, 6],\n",
       "       [7, 8]])"
      ]
     },
     "execution_count": 31,
     "metadata": {},
     "output_type": "execute_result"
    }
   ],
   "source": [
    "np.concatenate((array_1, array_2))"
   ]
  },
  {
   "cell_type": "code",
   "execution_count": 32,
   "metadata": {},
   "outputs": [
    {
     "data": {
      "text/plain": [
       "array([[1, 2, 5, 6],\n",
       "       [3, 4, 7, 8]])"
      ]
     },
     "execution_count": 32,
     "metadata": {},
     "output_type": "execute_result"
    }
   ],
   "source": [
    "np.concatenate((array_1,array_2), axis=1)"
   ]
  },
  {
   "cell_type": "markdown",
   "metadata": {},
   "source": [
    "### Flatten Array"
   ]
  },
  {
   "cell_type": "code",
   "execution_count": 33,
   "metadata": {},
   "outputs": [
    {
     "data": {
      "text/plain": [
       "array([[[ 0,  1,  2],\n",
       "        [ 3,  4,  5],\n",
       "        [ 6,  7,  8]],\n",
       "\n",
       "       [[ 9, 10, 11],\n",
       "        [12, 13, 14],\n",
       "        [15, 16, 17]],\n",
       "\n",
       "       [[18, 19, 20],\n",
       "        [21, 22, 23],\n",
       "        [24, 25, 26]]])"
      ]
     },
     "execution_count": 33,
     "metadata": {},
     "output_type": "execute_result"
    }
   ],
   "source": [
    "arr = np.arange(27).reshape(3,3,3)\n",
    "arr"
   ]
  },
  {
   "cell_type": "code",
   "execution_count": 34,
   "metadata": {},
   "outputs": [
    {
     "data": {
      "text/plain": [
       "array([ 0,  1,  2,  3,  4,  5,  6,  7,  8,  9, 10, 11, 12, 13, 14, 15, 16,\n",
       "       17, 18, 19, 20, 21, 22, 23, 24, 25, 26])"
      ]
     },
     "execution_count": 34,
     "metadata": {},
     "output_type": "execute_result"
    }
   ],
   "source": [
    "arr.flatten()"
   ]
  },
  {
   "cell_type": "markdown",
   "metadata": {},
   "source": [
    "### Comando Where"
   ]
  },
  {
   "cell_type": "code",
   "execution_count": 35,
   "metadata": {},
   "outputs": [
    {
     "data": {
      "text/plain": [
       "array([ -3,   0,   4,  -4,  -1,  -7,  -6,   9,   5,  -6, -10,   1,  -3,\n",
       "        -5,   5,   7,  -1,  -8,   1,   0,   2,  -2,  -7,  -1,   4,  -2,\n",
       "         2,   1,  -8,   7,  -1,   1,   0,   5,   0,  -6,   3,   6,   6,\n",
       "         7,   3,   4,   9, -10,   8,  -4,  -8,   9,  -3,   4,  -3,  -3,\n",
       "         2,  -6,   3,   9,   3, -10,  -6,   1, -10,  -4,   8,   0,   4,\n",
       "        -1,  -4,  -8,   7,  -8,  -9,   3,  -8,  -3,  -5,  -8,   7,   1,\n",
       "        -3,  -7,   2,  -6,  -7,  -4,  -9,   2,  -2,   2,  -9,  -7, -10,\n",
       "         2,  -1,   2,   7,   5,   0,   6,  -2,   2])"
      ]
     },
     "execution_count": 35,
     "metadata": {},
     "output_type": "execute_result"
    }
   ],
   "source": [
    "x = npr.randint(-10,10, size=100)\n",
    "x"
   ]
  },
  {
   "cell_type": "code",
   "execution_count": 36,
   "metadata": {},
   "outputs": [
    {
     "data": {
      "text/plain": [
       "array([ -3,   0, 200,  -4,  -1,  -7,  -6, 200, 200,  -6, -10, 200,  -3,\n",
       "        -5, 200, 200,  -1,  -8, 200,   0, 200,  -2,  -7,  -1, 200,  -2,\n",
       "       200, 200,  -8, 200,  -1, 200,   0, 200,   0,  -6, 200, 200, 200,\n",
       "       200, 200, 200, 200, -10, 200,  -4,  -8, 200,  -3, 200,  -3,  -3,\n",
       "       200,  -6, 200, 200, 200, -10,  -6, 200, -10,  -4, 200,   0, 200,\n",
       "        -1,  -4,  -8, 200,  -8,  -9, 200,  -8,  -3,  -5,  -8, 200, 200,\n",
       "        -3,  -7, 200,  -6,  -7,  -4,  -9, 200,  -2, 200,  -9,  -7, -10,\n",
       "       200,  -1, 200, 200, 200,   0, 200,  -2, 200])"
      ]
     },
     "execution_count": 36,
     "metadata": {},
     "output_type": "execute_result"
    }
   ],
   "source": [
    "positive = np.where(x > 0, 200, x)\n",
    "positive"
   ]
  },
  {
   "cell_type": "markdown",
   "metadata": {},
   "source": [
    "## \n",
    "## Desafio:\n",
    "## "
   ]
  },
  {
   "cell_type": "code",
   "execution_count": 59,
   "metadata": {},
   "outputs": [
    {
     "data": {
      "text/plain": [
       "array([[[ 0,  1,  2,  3,  4],\n",
       "        [ 5,  6,  7,  8,  9],\n",
       "        [10, 11, 12, 13, 14],\n",
       "        [15, 16, 17, 18, 19],\n",
       "        [20, 21, 22, 23, 24]],\n",
       "\n",
       "       [[25, 26, 27, 28, 29],\n",
       "        [30, 31, 32, 33, 34],\n",
       "        [35, 36, 37, 38, 39],\n",
       "        [40, 41, 42, 43, 44],\n",
       "        [45, 46, 47, 48, 49]],\n",
       "\n",
       "       [[50, 51, 52, 53, 54],\n",
       "        [55, 56, 57, 58, 59],\n",
       "        [60, 61, 62, 63, 64],\n",
       "        [65, 66, 67, 68, 69],\n",
       "        [70, 71, 72, 73, 74]]])"
      ]
     },
     "execution_count": 59,
     "metadata": {},
     "output_type": "execute_result"
    }
   ],
   "source": [
    "new_arr = np.arange(75).reshape(3,5,5)\n",
    "new_arr"
   ]
  },
  {
   "cell_type": "code",
   "execution_count": 64,
   "metadata": {},
   "outputs": [
    {
     "name": "stdout",
     "output_type": "stream",
     "text": [
      "43\n",
      "43\n"
     ]
    }
   ],
   "source": [
    "print(new_arr[1,3,3])\n",
    "print(new_arr[1][3][3])"
   ]
  },
  {
   "cell_type": "code",
   "execution_count": 106,
   "metadata": {},
   "outputs": [
    {
     "name": "stdout",
     "output_type": "stream",
     "text": [
      "[31 56]\n",
      "[55 56 57 58 59]\n"
     ]
    }
   ],
   "source": [
    "print(new_arr[1:,1,1])\n",
    "print(new_arr[1:][1][1])"
   ]
  },
  {
   "cell_type": "code",
   "execution_count": 67,
   "metadata": {},
   "outputs": [
    {
     "name": "stdout",
     "output_type": "stream",
     "text": [
      "[[[25 26 27 28 29]\n",
      "  [30 31 32 33 34]\n",
      "  [35 36 37 38 39]\n",
      "  [40 41 42 43 44]\n",
      "  [45 46 47 48 49]]\n",
      "\n",
      " [[50 51 52 53 54]\n",
      "  [55 56 57 58 59]\n",
      "  [60 61 62 63 64]\n",
      "  [65 66 67 68 69]\n",
      "  [70 71 72 73 74]]]\n",
      "--------------\n",
      "[[50 51 52 53 54]\n",
      " [55 56 57 58 59]\n",
      " [60 61 62 63 64]\n",
      " [65 66 67 68 69]\n",
      " [70 71 72 73 74]]\n",
      "--------------\n",
      "[55 56 57 58 59]\n"
     ]
    }
   ],
   "source": [
    "print(new_arr[1:])\n",
    "print('--------------')\n",
    "print(new_arr[1:][1])\n",
    "print('--------------')\n",
    "print(new_arr[1:][1][1])"
   ]
  },
  {
   "cell_type": "code",
   "execution_count": 68,
   "metadata": {},
   "outputs": [
    {
     "name": "stdout",
     "output_type": "stream",
     "text": [
      "[[[25 26 27 28 29]\n",
      "  [30 31 32 33 34]\n",
      "  [35 36 37 38 39]\n",
      "  [40 41 42 43 44]\n",
      "  [45 46 47 48 49]]\n",
      "\n",
      " [[50 51 52 53 54]\n",
      "  [55 56 57 58 59]\n",
      "  [60 61 62 63 64]\n",
      "  [65 66 67 68 69]\n",
      "  [70 71 72 73 74]]]\n",
      "--------------\n",
      "[[30 31 32 33 34]\n",
      " [55 56 57 58 59]]\n",
      "--------------\n",
      "[31 56]\n"
     ]
    }
   ],
   "source": [
    "print(new_arr[1:])\n",
    "print('--------------')\n",
    "print(new_arr[1:,1])\n",
    "print('--------------')\n",
    "print(new_arr[1:,1,1])"
   ]
  },
  {
   "cell_type": "code",
   "execution_count": 94,
   "metadata": {},
   "outputs": [
    {
     "name": "stdout",
     "output_type": "stream",
     "text": [
      "[[[ 0  1  2  3  4]\n",
      "  [ 5  6  7  8  9]\n",
      "  [10 11 12 13 14]\n",
      "  [15 16 17 18 19]\n",
      "  [20 21 22 23 24]]\n",
      "\n",
      " [[25 26 27 28 29]\n",
      "  [30 31 32 33 34]\n",
      "  [35 36 37 38 39]\n",
      "  [40 41 42 43 44]\n",
      "  [45 46 47 48 49]]\n",
      "\n",
      " [[50 51 52 53 54]\n",
      "  [55 56 57 58 59]\n",
      "  [60 61 62 63 64]\n",
      "  [65 66 67 68 69]\n",
      "  [70 71 72 73 74]]]\n",
      "------------------------\n",
      "------------------------\n",
      "[[[ 0  1  2  3  4]\n",
      "  [ 5  6  7  8  9]\n",
      "  [10 11 12 13 14]\n",
      "  [15 16 17 18 19]\n",
      "  [20 21 22 23 24]]\n",
      "\n",
      " [[50 51 52 53 54]\n",
      "  [55 56 57 58 59]\n",
      "  [60 61 62 63 64]\n",
      "  [65 66 67 68 69]\n",
      "  [70 71 72 73 74]]]\n"
     ]
    }
   ],
   "source": [
    "x_items = [0,2]\n",
    "print(new_arr)\n",
    "print('------------------------')\n",
    "print('------------------------')\n",
    "print(new_arr[x_items])\n"
   ]
  },
  {
   "cell_type": "code",
   "execution_count": null,
   "metadata": {},
   "outputs": [],
   "source": [
    "[[[ 7  9]\n",
    "  [17 19]]\n",
    "\n",
    " [[57 59]\n",
    "  [67 69]]]"
   ]
  },
  {
   "cell_type": "code",
   "execution_count": 95,
   "metadata": {},
   "outputs": [],
   "source": [
    "x_items = [0,2]\n",
    "y_items = [1,3]\n",
    "z_items = [2,4]"
   ]
  },
  {
   "cell_type": "code",
   "execution_count": 95,
   "metadata": {},
   "outputs": [
    {
     "name": "stdout",
     "output_type": "stream",
     "text": [
      "[[[ 0  1  2  3  4]\n",
      "  [ 5  6  7  8  9]\n",
      "  [10 11 12 13 14]\n",
      "  [15 16 17 18 19]\n",
      "  [20 21 22 23 24]]\n",
      "\n",
      " [[25 26 27 28 29]\n",
      "  [30 31 32 33 34]\n",
      "  [35 36 37 38 39]\n",
      "  [40 41 42 43 44]\n",
      "  [45 46 47 48 49]]\n",
      "\n",
      " [[50 51 52 53 54]\n",
      "  [55 56 57 58 59]\n",
      "  [60 61 62 63 64]\n",
      "  [65 66 67 68 69]\n",
      "  [70 71 72 73 74]]]\n",
      "------------------------\n",
      "------------------------\n",
      "[[[ 0  1  2  3  4]\n",
      "  [ 5  6  7  8  9]\n",
      "  [10 11 12 13 14]\n",
      "  [15 16 17 18 19]\n",
      "  [20 21 22 23 24]]\n",
      "\n",
      " [[50 51 52 53 54]\n",
      "  [55 56 57 58 59]\n",
      "  [60 61 62 63 64]\n",
      "  [65 66 67 68 69]\n",
      "  [70 71 72 73 74]]]\n",
      "------------------------\n",
      "------------------------\n",
      "[[ 5  6  7  8  9]\n",
      " [65 66 67 68 69]]\n",
      "------------------------\n",
      "------------------------\n",
      "[ 7 69]\n"
     ]
    }
   ],
   "source": [
    "print(new_arr)\n",
    "print('------------------------')\n",
    "print('------------------------')\n",
    "print(new_arr[x_items])\n",
    "print('------------------------')\n",
    "print('------------------------')\n",
    "print(new_arr[x_items,y_items])\n",
    "print('------------------------')\n",
    "print('------------------------')\n",
    "print(new_arr[x_items,y_items,z_items])"
   ]
  },
  {
   "cell_type": "code",
   "execution_count": 93,
   "metadata": {},
   "outputs": [
    {
     "name": "stdout",
     "output_type": "stream",
     "text": [
      "[[[ 0  1  2  3  4]\n",
      "  [ 5  6  7  8  9]\n",
      "  [10 11 12 13 14]\n",
      "  [15 16 17 18 19]\n",
      "  [20 21 22 23 24]]\n",
      "\n",
      " [[25 26 27 28 29]\n",
      "  [30 31 32 33 34]\n",
      "  [35 36 37 38 39]\n",
      "  [40 41 42 43 44]\n",
      "  [45 46 47 48 49]]\n",
      "\n",
      " [[50 51 52 53 54]\n",
      "  [55 56 57 58 59]\n",
      "  [60 61 62 63 64]\n",
      "  [65 66 67 68 69]\n",
      "  [70 71 72 73 74]]]\n",
      "------------------------\n",
      "------------------------\n",
      "[[[ 0  1  2  3  4]\n",
      "  [ 5  6  7  8  9]\n",
      "  [10 11 12 13 14]\n",
      "  [15 16 17 18 19]\n",
      "  [20 21 22 23 24]]\n",
      "\n",
      " [[50 51 52 53 54]\n",
      "  [55 56 57 58 59]\n",
      "  [60 61 62 63 64]\n",
      "  [65 66 67 68 69]\n",
      "  [70 71 72 73 74]]]\n",
      "------------------------\n",
      "------------------------\n",
      "[[[ 5  6  7  8  9]\n",
      "  [15 16 17 18 19]]\n",
      "\n",
      " [[55 56 57 58 59]\n",
      "  [65 66 67 68 69]]]\n",
      "------------------------\n",
      "------------------------\n",
      "[[[ 7  9]\n",
      "  [17 19]]\n",
      "\n",
      " [[57 59]\n",
      "  [67 69]]]\n"
     ]
    }
   ],
   "source": [
    "print(new_arr)\n",
    "print('------------------------')\n",
    "print('------------------------')\n",
    "print(new_arr[x_items])\n",
    "print('------------------------')\n",
    "print('------------------------')\n",
    "print(new_arr[x_items][:,y_items])\n",
    "print('------------------------')\n",
    "print('------------------------')\n",
    "print(new_arr[x_items][:,y_items][:,:,z_items])"
   ]
  },
  {
   "cell_type": "code",
   "execution_count": null,
   "metadata": {},
   "outputs": [],
   "source": []
  }
 ],
 "metadata": {
  "kernelspec": {
   "display_name": "Python 3",
   "language": "python",
   "name": "python3"
  },
  "language_info": {
   "codemirror_mode": {
    "name": "ipython",
    "version": 3
   },
   "file_extension": ".py",
   "mimetype": "text/x-python",
   "name": "python",
   "nbconvert_exporter": "python",
   "pygments_lexer": "ipython3",
   "version": "3.7.6"
  }
 },
 "nbformat": 4,
 "nbformat_minor": 4
}
