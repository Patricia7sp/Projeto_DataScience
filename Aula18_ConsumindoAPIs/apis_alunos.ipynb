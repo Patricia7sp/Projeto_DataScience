{
 "cells": [
  {
   "cell_type": "markdown",
   "metadata": {},
   "source": [
    "# Introdução"
   ]
  },
  {
   "cell_type": "markdown",
   "metadata": {},
   "source": [
    "- <strong>Curso:</strong> Data Science\n",
    "- <strong>Turma:</strong> Noite 01 (04/02/2020 a 02/07/2020)\n",
    "- <strong>Aula:</strong>  Consumindo APIs\n",
    "- <strong>Data:</strong>  02/06/2020\n",
    "- <strong>Autor:</strong> Eduardo Tiecher @ Digital House\n",
    "- <strong>Instruções gerais:</strong><br>\n",
    "  - Vocês precisarão instalar provavelmente apenas uma biblioteca para essa aula (nba_api). Para os exercícios mais avançados, tem um processo mais complexo de instalação de aplicações e bibliotecas (a saber: google-api-python-client, google-auth-httplib2, google-auth-oauthlib)\n",
    "  - Precisaremos ter contas em alguns dos serviços que iremos utilizar se der tempo de chegar nos exercícios mais avançados. Tentem criar suas contas antes da aula, pois alguns são bastante complexos. Se não conseguirem não tem problema, aprenderemos bastante já com os serviços mais básicos. \n",
    "    - Para os exercícios intermediários, precisaremos de uma conta no Spotify (gratuita é suficiente). Mesmo que não consigam chegar nos exercícios avançados, por favor garantam que a conta esteja criada.\n",
    "    - Para os exercícios avançados serão necessários uma conta no Google API, no Google Cloud Platform - GCP e no Twitter (a proposta é passar pelo processo de criação de conta durante a aula)."
   ]
  },
  {
   "cell_type": "markdown",
   "metadata": {},
   "source": [
    "___"
   ]
  },
  {
   "cell_type": "markdown",
   "metadata": {},
   "source": [
    "# TEORIA"
   ]
  },
  {
   "cell_type": "markdown",
   "metadata": {},
   "source": [
    "## API (Application Programming Interface)"
   ]
  },
  {
   "cell_type": "markdown",
   "metadata": {},
   "source": [
    "Antes de falarmos de API, precisamos entender como a internet funciona e porque devemos separar as partes de um software."
   ]
  },
  {
   "cell_type": "markdown",
   "metadata": {},
   "source": [
    "## Como funciona o protocolo HTTP\n",
    "\n",
    "A internet trafega através do protocolo **HTTP (*Hypertext Transfer Protocol*)**. O protocolo HTTP foi criado por **Tim Berners-Lee**, o criador da web, enquanto ele trabalhava na CERN em 1989 (sua equipe e ele também foram responsáveis pelo HTML).\n",
    "\n",
    "O HTTP possui duas entidades básicas: a **Request (pedido)** e a **Response (resposta)**\n",
    "\n",
    "Sempre que entramos em uma página, enviamos uma request para o servidor do site e esperamos uma response com o HTML da página."
   ]
  },
  {
   "cell_type": "markdown",
   "metadata": {},
   "source": [
    "Sempre que enviamos um ***Request (pedido)*** devemos especificar um método. A tabela abaixo cita os métodos mais comuns e explica brevemente o objetivo de cada um:\n",
    "\n",
    "| Método |        Objetivo       |\n",
    "|:------:|:---------------------:|\n",
    "| GET    | Obter informações     |\n",
    "| POST   | Salvar informações    |\n",
    "| PUT    | Atualizar informações |\n",
    "| DELETE | Deletar informações   |\n",
    "\n",
    "Todos eles são comumente utilizados por APIs.\n",
    "\n",
    "O método ***GET*** é o que seu navegador usa para baixar o HTML da página.\n",
    "\n",
    "O metódo ***POST*** também é muito utilizado sempre que você envia algum formulário em um site.\n",
    "\n",
    "Além do método, as requisições também possuem um **header**:\n",
    "\n",
    "O **Header (cabeçalho)** tem a função de dizer para o servidor diversos dados sobre quem fez a solicitação. Dessa forma, o servidor consegue até permitir que você veja mais informações dependendo do seu nível de acesso."
   ]
  },
  {
   "cell_type": "markdown",
   "metadata": {},
   "source": [
    "### PROTOCOLO DE COMUNICAÇÃO HTTP\n",
    "<img src=\"https://www.pubnub.com/wp-content/uploads/2014/11/HTTP-LONG-POLLING.png\">\n",
    "<br>\n",
    "Os clientes, nossos computadores, conseguem acessar páginas e aplicações na internet atravez deste protocolo, que responde as requisições com arquivos de acordo com seu nível de acesso e com o que foi solicitado.\n",
    "Se você acessar o site da Digital House por exemplo e pedir para inspecionar (no Chrome `Ctrl+Shift+i`) os dados de rede, vai ver todos as solicitações e respostas do seu navegador ao servidor.\n",
    "<br>\n",
    "O resultado será algo parecido com isso:\n",
    "<img src=\"https://developer.chrome.com/devtools/images/network-panel.png\">"
   ]
  },
  {
   "cell_type": "markdown",
   "metadata": {},
   "source": [
    "## Códigos de status\n",
    "A solicitação que acabamos de fazer tinha um código de status de 200. Os códigos de status são retornados com cada solicitação feita para um servidor da web. Códigos de status indicam informações sobre o que aconteceu com uma solicitação. Aqui estão alguns códigos que são relevantes para solicitações GET :\n",
    "\n",
    "- 200 - tudo correu bem, e o resultado foi devolvido (se houver)\n",
    "- 301- o servidor está redirecionando você para um terminal diferente. Isso pode acontecer quando uma empresa troca nomes de domínio ou um nome de terminal é alterado.\n",
    "- 401- o servidor acha que você não está autenticado. Isso acontece quando você não envia as credenciais corretas para acessar uma API (falaremos sobre autenticação em uma postagem posterior).\n",
    "- 400- o servidor acha que você fez um pedido incorreto. Isso pode acontecer quando você não envia os dados corretos, entre outras coisas.\n",
    "- 403 - o recurso que você está tentando acessar é proibido - você não tem as permissões certas para visualizá-lo.\n",
    "- 404 - o recurso que você tentou acessar não foi encontrado no servidor.\n",
    "\n",
    "Se tentarmos acessar um site ou endereço que não existe, receberemos o código acima."
   ]
  },
  {
   "cell_type": "code",
   "execution_count": null,
   "metadata": {},
   "outputs": [],
   "source": [
    "import requests\n",
    "\n",
    "response = requests.get(\"http://www.globo.com/cursos/data_science\")\n",
    "print(response.status_code)"
   ]
  },
  {
   "cell_type": "code",
   "execution_count": null,
   "metadata": {},
   "outputs": [],
   "source": [
    "response = requests.get(\"http://api.open-notify.org/iss-pass.json\")\n",
    "print(response.status_code)"
   ]
  },
  {
   "cell_type": "code",
   "execution_count": null,
   "metadata": {},
   "outputs": [],
   "source": [
    "# This is the latitude and longitude of New York City.\n",
    "parameters = {\"q\": 'data science'}\n",
    "\n",
    "# Make a get request with the parameters.\n",
    "response = requests.get(\"http://google.com/search\", params=parameters)\n",
    "print(response.status_code)\n",
    "\n",
    "# Equivalente a URL: http://google.com/search?q=data+science"
   ]
  },
  {
   "cell_type": "markdown",
   "metadata": {},
   "source": [
    "## O que é uma API?"
   ]
  },
  {
   "cell_type": "markdown",
   "metadata": {},
   "source": [
    "Podemos dizer que uma API é como se fosse uma página da web só que para computadores. Só eles conseguirem acessar, ler e interagir da maneira adequada com as APIs.\n",
    "\n",
    "Ao trabalhar com projetos que envolvem dados, é muito comum vocês utilizarão APIs tanto internas (fornecidas pelas próprias empresas em que vocês trabalham) quanto externas.\n",
    "\n",
    "APIs são uma das principais formas para se obter dados que devem ser analisados.\n",
    "\n",
    "<center>\n",
    "<img src=\"https://cdn-images-1.medium.com/max/1600/1*CkynRe-J1FVnUAk7JmOTdQ.gif\" alt=\"drawing\" width=\"600px\"></center>"
   ]
  },
  {
   "cell_type": "markdown",
   "metadata": {},
   "source": [
    "### Por que acessar uma API ao invez de um banco de dados diretamente?\n",
    "\n",
    "Porque o mundo está cheio de pessoas mal intencionadas e ao dar acesso direto ao banco de dados você está correndo risco de ter seus dados apagados, alterados ou que as pessoas tenham acesso a dados que deveriam ser confidenciais.\n",
    "\n",
    "É uma forma de separar, controlar e até multiplicar os acessos a sistemas de forma organizada.\n",
    "Imagine se cada cliente de um restaurante fosse fazer os pedidos direto ao Chef na cozinha, é provável que os pedidos saiam errados, fora de ordem ou o Chef fique estressado, por isso existe o garçom que faz o papel de levar os pedidos e trazer a comida organizando uma fila de pedidos.\n",
    "A API faz exatamente isso, controlando o que pedir e para quem pedir.\n",
    "\n",
    "<img src=\"https://cdn-images-1.medium.com/max/1600/1*Elr2TpvMI7xfSack20B6bA.png\">"
   ]
  },
  {
   "cell_type": "code",
   "execution_count": null,
   "metadata": {},
   "outputs": [],
   "source": [
    "from IPython.display import Audio,Image, YouTubeVideo\n",
    "id='s7wmiS2mSXY'\n",
    "\n",
    "YouTubeVideo(id=id,width=600,height=300)"
   ]
  },
  {
   "cell_type": "markdown",
   "metadata": {},
   "source": [
    "Mas por que usar uma API em vez de um conjunto de dados estáticos que você pode baixar? As APIs são úteis nos seguintes casos:\n",
    "\n",
    "- Os dados estão mudando rapidamente. Um exemplo disso são os dados do preço das ações. Não faz muito sentido gerar um conjunto de dados e baixá-lo a cada minuto - isso demandará muita largura de banda e será bastante lento.\n",
    "- Você quer um pequeno pedaço de um conjunto muito maior de dados. Comentários do Reddit são um exemplo. E se você quiser apenas puxar seus próprios comentários no Reddit? Não faz muito sentido baixar todo o banco de dados Reddit, depois filtrar apenas seus próprios comentários.\n",
    "- Há computação repetida envolvida. Spotify tem uma API que pode dizer o gênero de uma peça musical. Você poderia, teoricamente, criar seu próprio classificador e usá-lo para categorizar a música, mas nunca terá tantos dados quanto o Spotify.\n",
    "\n",
    "Em casos como os acima, uma API é a solução certa.\n",
    "\n",
    "Agora, vamos consultar uma API simples para recuperar dados sobre a Estação Espacial Internacional (ISS). O uso de uma API nos poupará tempo e esforço ao fazermos todos os cálculos.\n",
    "Então, faremos uma solicitação GET para http://api.open-notify.org/iss-passum terminal que não existe, de acordo com a documentação da API ."
   ]
  },
  {
   "cell_type": "code",
   "execution_count": null,
   "metadata": {},
   "outputs": [],
   "source": [
    "response = requests.get(\"http://api.open-notify.org/iss-pass\")\n",
    "print(response.status_code)"
   ]
  },
  {
   "cell_type": "code",
   "execution_count": null,
   "metadata": {},
   "outputs": [],
   "source": [
    "response = requests.get(\"http://api.open-notify.org/iss-pass.json\")\n",
    "print(response.status_code)"
   ]
  },
  {
   "cell_type": "code",
   "execution_count": null,
   "metadata": {},
   "outputs": [],
   "source": [
    "# This is the latitude and longitude of New York City.\n",
    "parameters = {\"lat\": 40.71, \"lon\": -74}\n",
    "\n",
    "# Make a get request with the parameters.\n",
    "iss = requests.get(\"http://api.open-notify.org/iss-pass.json\", params=parameters)\n",
    "print(response.status_code)"
   ]
  },
  {
   "cell_type": "code",
   "execution_count": null,
   "metadata": {},
   "outputs": [],
   "source": [
    "iss.url # e a reposta ao  parametro acima"
   ]
  },
  {
   "cell_type": "code",
   "execution_count": null,
   "metadata": {
    "scrolled": true
   },
   "outputs": [],
   "source": [
    "response.text # tras a base de informacoes"
   ]
  },
  {
   "cell_type": "code",
   "execution_count": null,
   "metadata": {},
   "outputs": [],
   "source": [
    "response.content"
   ]
  },
  {
   "cell_type": "code",
   "execution_count": null,
   "metadata": {},
   "outputs": [],
   "source": [
    "type(response.content)"
   ]
  },
  {
   "cell_type": "markdown",
   "metadata": {},
   "source": [
    "## XML × JSON × YAML\n",
    "\n",
    "Anos atrás a comunicação entre serviços se dava por XML usando o padrão SOAP. Na era da mobilidade, JSON passou a ser largamente usado. Hoje, aos poucos está sendo substituido por YAML, que é similar,  porém mais amigável para leitura por humanos.\n",
    "\n",
    "<img src=\"XML×JSON×YAML.png\" width=\"75%\"></img>\n",
    "\n",
    "A estrutura de um json se parece muito com os dicionários em Python\n",
    "\n",
    "Ele foi feito para que máquinas entendam seus dados e os utilizem como quiser.\n",
    "\n",
    "Outra característica das APIs REST é a **divisão dos recursos**. Por exemplo:\n",
    "\n",
    "https://jsonplaceholder.typicode.com/users/1\n",
    "\n",
    "Ao abrirmos esta URL estamos fazendo um GET (o navegador executa o GET) para obtermos informações do usuário (/users) com código 1 (/1). Podemos trocar o código do usuário para buscar outros usuários.\n",
    "\n",
    "Também podemos pedir todos os usuários digitando:\n",
    "\n",
    "https://jsonplaceholder.typicode.com/users"
   ]
  },
  {
   "cell_type": "markdown",
   "metadata": {},
   "source": [
    "## Trabalhando com dados JSON\n",
    "Você deve ter notado que o conteúdo da resposta anterior era um string (embora tenha sido mostrado como um objeto, podemos facilmente converter o conteúdo em uma string usando response.content.decode(\"utf-8\")).\n",
    "\n",
    "As strings são a forma como passamos as informações para as APIs, mas é difícil obter as informações que queremos delas. Como decodificar a string que recebemos e trabalhar com ela em Python?\n",
    "\n",
    "O JSON é uma maneira de codificar estruturas de dados, como listas e dicionários, para seqüências de caracteres que garantem que elas sejam facilmente legíveis por máquinas. JSON é o formato principal no qual os dados são passados para as APIs e a maioria dos servidores de API envia suas respostas nesse formato.\n",
    "\n",
    "O Python tem um ótimo suporte a JSON, com a biblioteca 'json'. Ele faz parte da biblioteca padrão, portanto, não precisamos instalar nada para usá-lo. Podemos converter listas e dicionários em JSON e converter strings em listas e dicionários . No caso dos nossos dados do ISS Pass, é um dicionário codificado para uma string no formato JSON.\n",
    "\n",
    "A biblioteca json possui dois métodos principais:\n",
    "\n",
    "- dumps - Utiliza um objeto Python e o converte em uma string.\n",
    "- loads - Leva uma string JSON e a converte em um objeto Python."
   ]
  },
  {
   "cell_type": "code",
   "execution_count": null,
   "metadata": {},
   "outputs": [],
   "source": [
    "response.json() # tras no formato json"
   ]
  },
  {
   "cell_type": "code",
   "execution_count": null,
   "metadata": {},
   "outputs": [],
   "source": [
    "meu_dicionario = response.json() # criando um dicionario\n",
    "meu_dicionario"
   ]
  },
  {
   "cell_type": "code",
   "execution_count": null,
   "metadata": {},
   "outputs": [],
   "source": [
    "meu_dicionario['message'] # esta fazendo uma chamada uma determinada chave do dicionario, como se fosse chamar \\\n",
    "# uma coluna do dataframe"
   ]
  },
  {
   "cell_type": "code",
   "execution_count": null,
   "metadata": {},
   "outputs": [],
   "source": [
    "request = meu_dicionario['request'] # adiciono a chava request dentro de outra variavel e consegui acessar os\\\n",
    "# parametro da chave individualmente\n",
    "request['datetime']"
   ]
  },
  {
   "cell_type": "code",
   "execution_count": null,
   "metadata": {},
   "outputs": [],
   "source": [
    "meu_dicionario['request']"
   ]
  },
  {
   "cell_type": "code",
   "execution_count": null,
   "metadata": {},
   "outputs": [],
   "source": [
    "type(response.json())"
   ]
  },
  {
   "cell_type": "code",
   "execution_count": null,
   "metadata": {
    "scrolled": true
   },
   "outputs": [],
   "source": [
    "import json\n",
    "print(json.dumps(response.json(),  sort_keys=True, indent=4))"
   ]
  },
  {
   "cell_type": "code",
   "execution_count": null,
   "metadata": {},
   "outputs": [],
   "source": []
  },
  {
   "cell_type": "markdown",
   "metadata": {},
   "source": [
    "## Parâmetros de consulta\n",
    "Você verá que, no último exemplo, recebemos um código de status '400', que indica uma solicitação incorreta. Se você observar a documentação da API do OpenNotify, veremos que o ponto de extremidade do ISS Pass requer dois parâmetros.\n",
    "\n",
    "O ponto de extremidade do ISS Pass retorna quando o ISS passará em seguida sobre um determinado local na Terra. Para calcular isso, precisamos passar as coordenadas do local para a API. Fazemos isso passando dois parâmetros - latitude e longitude.\n",
    "\n",
    "Podemos fazer isso adicionando um argumento opcional de palavra-chave params, a nosso pedido. Neste caso, existem dois parâmetros que precisamos passar:\n",
    "\n",
    "- lat - A latitude do local que queremos.\n",
    "- lon - A longitude do local que queremos.\n",
    "\n",
    "Podemos criar um dicionário com esses parâmetros e depois passá-los para a função 'requests.get'.\n",
    "\n",
    "Nós também podemos fazer a mesma coisa diretamente, adicionando os parâmetros de consulta para a url, como este: http://api.open-notify.org/iss-pass.json?lat=40.71&lon=-74.\n",
    "\n",
    "É quase sempre preferível configurar os parâmetros como um dicionário, porque requests cuida de algumas coisas que surgem, como formatar corretamente os parâmetros da consulta.\n",
    "\n",
    "Faremos uma solicitação usando as coordenadas da cidade de São Paulo e veremos a resposta que recebermos.\n",
    "\n",
    "__São Paulo__<br>\n",
    "Latitude: -23.68<br>\n",
    "Longitude: -46.87"
   ]
  },
  {
   "cell_type": "code",
   "execution_count": null,
   "metadata": {
    "scrolled": true
   },
   "outputs": [],
   "source": [
    "# Este comando busca os mesmos dados que o comando que usamos para buscar os dados de São Paulo acima\n",
    "response = requests.get(\"http://api.open-notify.org/iss-pass.json?lat=-23.68&lon=-46.87\")\n",
    "print(json.dumps(response.json(), sort_keys=True, indent=4))"
   ]
  },
  {
   "cell_type": "markdown",
   "metadata": {},
   "source": [
    "## Uma mesma API pode conter diversas **ROTAS** ou endpoints diferentes \n",
    "\n",
    "Como o servidor faz para saber o que está sendo pedido na solicitação? Isso é especificado na URL (Uniform Resource Locator), uma espécie de caminho que indica onde um recurso pode ser encontrado.\n",
    "\n",
    "- protocol: Indica o protocolo que será utilizado para acessar (HTTP, FTP, HTTPS)\n",
    "- host: Indica como encontrar na rede (local ou internet) o servidor que tem o recurso\n",
    "- port: Indica em qual porta o servidor está escutando. A 'porta' de um IP é o que permite que um computador se comunique simultaneamente com outros. Cada comunicação requer uma porta (são ao todo 65.535)\n",
    "- path: Indica o caminho para localizar o recurso dentro do servidor. Como se fossem pastas do navegador de arquivos\n",
    "- query: Indica qual é a consulta que está sendo realizada. Inclui quais são os argumentos desejados ou necessários, bem como os valores a ser utilizado para cada argumento\n",
    "\n",
    "<img src=\"http://digitalad.com.br/DH/Picture1.png\">\n",
    "<br>\n",
    "\n",
    "Por exemplo, podemos usar a funcionalidade dessa API da ISS para descobrir todas as pessoas que estão em orbita."
   ]
  },
  {
   "cell_type": "code",
   "execution_count": null,
   "metadata": {
    "scrolled": true
   },
   "outputs": [],
   "source": [
    "# Get the response from the API endpoint.\n",
    "response = requests.get(\"http://api.open-notify.org/astros.json\")\n",
    "data = response.json()\n",
    "print(json.dumps(response.json(), sort_keys=True, indent=4))"
   ]
  },
  {
   "cell_type": "markdown",
   "metadata": {},
   "source": [
    "Para conseguir capturar um dado específico do JSON, basta fazer as referências como se buscasse em um dicionário, identificando o tipo de cada elemento ou nível do dicionário (exemplo: um dicionário de listas, um dicionário de dicionários, etc)."
   ]
  },
  {
   "cell_type": "code",
   "execution_count": null,
   "metadata": {},
   "outputs": [],
   "source": [
    "print('Total de astronautas:', data[\"number\"])\n",
    "print('Primeiro da lista:', data[\"people\"][0])\n",
    "print('Nome do 1o da lista:', data[\"people\"][0]['name'])"
   ]
  },
  {
   "cell_type": "code",
   "execution_count": null,
   "metadata": {},
   "outputs": [],
   "source": [
    "data['people']"
   ]
  },
  {
   "cell_type": "markdown",
   "metadata": {},
   "source": [
    "___"
   ]
  },
  {
   "cell_type": "markdown",
   "metadata": {},
   "source": [
    "# PRÁTICA"
   ]
  },
  {
   "cell_type": "markdown",
   "metadata": {},
   "source": [
    "## APIs simples"
   ]
  },
  {
   "cell_type": "markdown",
   "metadata": {},
   "source": [
    "### Mercado Livre\n",
    "Vamos utilizar a API do MercadoLivre para consultar anúncios<br>\n",
    "<strong>O que fazer</strong>: acesso, download, tratamento e cálculo<br>\n",
    "<strong>Documentação</strong>: https://developers.mercadolivre.com.br/pt_br/api-docs-pt-br<br>\n",
    "<strong>Objetivo</strong>: Qual o preço médio dos anúncios de iphones em Minas Gerais<br>\n",
    "<strong>Desafio</strong>: Resolve o exercício através de uma função para permitir realizar a mesma consulta com outros itens ou estados<br>\n",
    "<strong>Dica</strong>: Carregue seus dados para um dataframe para facilitar a manipulação dos dados"
   ]
  },
  {
   "cell_type": "code",
   "execution_count": null,
   "metadata": {
    "scrolled": true
   },
   "outputs": [],
   "source": [
    "import requests\n",
    "import pandas as pd\n",
    "import numpy as np\n",
    "response = requests.get('https://api.mercadolibre.com/sites/MLB/search?q=iphone')\n"
   ]
  },
  {
   "cell_type": "code",
   "execution_count": null,
   "metadata": {
    "scrolled": true
   },
   "outputs": [],
   "source": [
    "response.json()"
   ]
  },
  {
   "cell_type": "code",
   "execution_count": null,
   "metadata": {},
   "outputs": [],
   "source": [
    "response"
   ]
  },
  {
   "cell_type": "code",
   "execution_count": null,
   "metadata": {
    "scrolled": true
   },
   "outputs": [],
   "source": [
    "response.content"
   ]
  },
  {
   "cell_type": "code",
   "execution_count": null,
   "metadata": {},
   "outputs": [],
   "source": [
    "iphone = pd.DataFrame(response.json()['results'])\n",
    "iphone.head()"
   ]
  },
  {
   "cell_type": "code",
   "execution_count": null,
   "metadata": {
    "scrolled": true
   },
   "outputs": [],
   "source": [
    "iphone.tail(1).T"
   ]
  },
  {
   "cell_type": "code",
   "execution_count": null,
   "metadata": {},
   "outputs": [],
   "source": [
    "iphone_address = iphone.address.apply(pd.Series).head() # transforma em uma series com 4 colunas\n",
    "iphone_address"
   ]
  },
  {
   "cell_type": "code",
   "execution_count": null,
   "metadata": {
    "scrolled": true
   },
   "outputs": [],
   "source": [
    "# vou fazer a uniao minha variavel iphone_address  apartir do merge \\\n",
    "# nao esquecendo de apagar a coluna address para as informacoes nao ficarem duplicadas.\n",
    "iphone_state = iphone.merge(iphone_address,left_index=True, right_index=True).drop('address', axis=1)\n",
    "iphone_state.head().T"
   ]
  },
  {
   "cell_type": "code",
   "execution_count": null,
   "metadata": {},
   "outputs": [],
   "source": [
    "iphone_state.loc[iphone_state.state_name=='Minas Gerais'].price.mean()"
   ]
  },
  {
   "cell_type": "code",
   "execution_count": null,
   "metadata": {},
   "outputs": [],
   "source": [
    "iphone_state.loc[iphone_state.state_name=='Minas Gerais'].price.count()"
   ]
  },
  {
   "cell_type": "code",
   "execution_count": null,
   "metadata": {},
   "outputs": [],
   "source": []
  },
  {
   "cell_type": "code",
   "execution_count": null,
   "metadata": {},
   "outputs": [],
   "source": [
    "print('Contagem:', iphone_state.loc[iphone_state.state_name=='Minas Gerais',:].price.count())\n",
    "print('Média:', round(iphone_state.loc[iphone_state.state_name=='Minas Gerais',:].price.mean(),2))"
   ]
  },
  {
   "cell_type": "code",
   "execution_count": null,
   "metadata": {},
   "outputs": [],
   "source": []
  },
  {
   "cell_type": "code",
   "execution_count": null,
   "metadata": {},
   "outputs": [],
   "source": [
    "\n"
   ]
  },
  {
   "cell_type": "markdown",
   "metadata": {},
   "source": [
    "### NBA\n",
    "Vamos utilizar a API da NBA para entender os principais jogadores das finais.<br>\n",
    "<strong>O que fazer</strong>: consulta a API através de módulos e funções de uma biblioteca<br>\n",
    "<strong>Documentação</strong>: https://github.com/swar/nba_api<br>\n",
    "<strong>Objetivo</strong>: Qual a distância média de arremessos dos jogadores Kawhi Leonard e Stephen Curry na temporada 18/19<br>\n",
    "<strong>Desafio</strong>: Plote um gráfico comparando o perfil de localização dos arremessos.<br>\n",
    "<strong>Dica</strong>: A biblioteca tem muitos módulos e funções. Seja objetivo em encontrar aqueles que interessam ao problema"
   ]
  },
  {
   "cell_type": "code",
   "execution_count": null,
   "metadata": {},
   "outputs": [],
   "source": [
    "import requests\n",
    "import pandas as pd\n",
    "import numpy as np\n",
    "nba = requests.get('nba_api/stats/endpoints/alltimeleadersgrids.py')"
   ]
  },
  {
   "cell_type": "code",
   "execution_count": null,
   "metadata": {},
   "outputs": [],
   "source": []
  },
  {
   "cell_type": "markdown",
   "metadata": {},
   "source": [
    "___"
   ]
  },
  {
   "cell_type": "markdown",
   "metadata": {},
   "source": [
    "## APIs com autenticação"
   ]
  },
  {
   "cell_type": "markdown",
   "metadata": {},
   "source": [
    "### Spotify\n",
    "Vamos utilizar a API do Spotify para experimentar o processo de autenticação.<br>\n",
    "<strong>O que fazer</strong>: estudando a estrutura da API para conseguir a informação desejada<br>\n",
    "<strong>Documentação</strong>: https://developer.spotify.com/documentation/web-api/<br>\n",
    "<strong>Objetivo</strong>: Qual a popularidade média da cantora Teresa Cristina e sua música mais popular?<br>\n",
    "<strong>Dica</strong>: É crítico entender a estrutura da API (quais são as possíveis requisições e quais dados cada uma entrega). Utilize o console (https://developer.spotify.com/console/) para facilitar esse entendimento."
   ]
  },
  {
   "cell_type": "code",
   "execution_count": null,
   "metadata": {},
   "outputs": [],
   "source": []
  },
  {
   "cell_type": "markdown",
   "metadata": {},
   "source": [
    "___"
   ]
  },
  {
   "cell_type": "markdown",
   "metadata": {},
   "source": [
    "## APIs com autenticação complexa (e/ou billing)"
   ]
  },
  {
   "cell_type": "markdown",
   "metadata": {},
   "source": [
    "### Google Agenda\n",
    "\n",
    "Vamos utilizar a API do Google Agenda para experimentar o processo de autenticação do Google.<br>\n",
    "<strong>O que fazer</strong>: entender aspectos da autenticação por crendenciais e tokens.<br>\n",
    "<strong>Documentação</strong>: https://developers.google.com/calendar/v3/reference<br>\n",
    "<strong>Objetivo</strong>: Trazer os próximos 4 eventos na sua agenda do Google.<br>\n",
    "<strong>Dica</strong>: o processo é complexo, mas o Google disponibiliza vários \"quick start projects\" funcionais. Para esse exercício podem seguir esse: https://developers.google.com/calendar/quickstart/python<br>\n",
    "<strong>Bibliotecas</strong>: pip install --upgrade google-api-python-client google-auth-httplib2 google-auth-oauthlib"
   ]
  },
  {
   "cell_type": "code",
   "execution_count": null,
   "metadata": {},
   "outputs": [],
   "source": []
  },
  {
   "cell_type": "markdown",
   "metadata": {},
   "source": [
    "### Twitter\n",
    "Explorar o serviço.<br>\n"
   ]
  },
  {
   "cell_type": "code",
   "execution_count": null,
   "metadata": {},
   "outputs": [],
   "source": []
  },
  {
   "cell_type": "markdown",
   "metadata": {},
   "source": [
    "___"
   ]
  },
  {
   "cell_type": "markdown",
   "metadata": {},
   "source": [
    "# Próximos passos\n",
    "\n",
    "Há milhares de APIs e cada uma delas tem um jeito próprio de lidar, ou seja, de fazer nossas solicitações de dados e envio de dados.\n",
    "\n",
    "Uma das muitas vantagens das APIs é tornar as soluções encaixaveis e reutilizaveis em outros programas.\n",
    "\n",
    "Na nossa área de ciência de dados, não só utilizamos APIs para consultar dados mas muitas vezes para fornecer nossa aplicação de machine learning como um serviço.\n",
    "\n",
    "Há várias plataformas que monitoram as inúmeras APIs disponíveis: \n",
    "- https://99apis.com/home\n",
    "- https://www.programmableweb.com/\n",
    "- https://rapidapi.com/\n",
    "\n",
    "Há também softwares utilizados na administração de APIs (tanto para consultas quanto para publicação). Um dos mais famosos é o Postman (https://www.postman.com/)"
   ]
  },
  {
   "cell_type": "code",
   "execution_count": null,
   "metadata": {},
   "outputs": [],
   "source": []
  },
  {
   "cell_type": "code",
   "execution_count": null,
   "metadata": {},
   "outputs": [],
   "source": []
  },
  {
   "cell_type": "code",
   "execution_count": null,
   "metadata": {},
   "outputs": [],
   "source": []
  }
 ],
 "metadata": {
  "kernelspec": {
   "display_name": "Python 3",
   "language": "python",
   "name": "python3"
  },
  "language_info": {
   "codemirror_mode": {
    "name": "ipython",
    "version": 3
   },
   "file_extension": ".py",
   "mimetype": "text/x-python",
   "name": "python",
   "nbconvert_exporter": "python",
   "pygments_lexer": "ipython3",
   "version": "3.8.3"
  }
 },
 "nbformat": 4,
 "nbformat_minor": 4
}
