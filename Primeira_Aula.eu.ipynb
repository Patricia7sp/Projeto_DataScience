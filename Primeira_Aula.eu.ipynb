{
 "cells": [
  {
   "cell_type": "markdown",
   "metadata": {},
   "source": [
    "# Nessa aula vamos discutir a base dos comando do python\n",
    "\n",
    "1 - Vamos começar trabalhando manipulando algumas variáveis"
   ]
  },
  {
   "cell_type": "code",
   "execution_count": 77,
   "metadata": {},
   "outputs": [],
   "source": [
    "import pandas as pd"
   ]
  },
  {
   "cell_type": "code",
   "execution_count": 16,
   "metadata": {},
   "outputs": [],
   "source": [
    "# podemos definir uma variável dando um nome para ela, da seguinte maneira\n",
    "age = 30"
   ]
  },
  {
   "cell_type": "code",
   "execution_count": 17,
   "metadata": {},
   "outputs": [
    {
     "data": {
      "text/plain": [
       "int"
      ]
     },
     "execution_count": 17,
     "metadata": {},
     "output_type": "execute_result"
    }
   ],
   "source": [
    "type(age)"
   ]
  },
  {
   "cell_type": "code",
   "execution_count": 18,
   "metadata": {},
   "outputs": [
    {
     "name": "stdout",
     "output_type": "stream",
     "text": [
      "30\n"
     ]
    }
   ],
   "source": [
    "# podemos imprimir o valor da variável, como?\n",
    "print(age)"
   ]
  },
  {
   "cell_type": "code",
   "execution_count": 19,
   "metadata": {},
   "outputs": [
    {
     "name": "stdout",
     "output_type": "stream",
     "text": [
      "30\n"
     ]
    }
   ],
   "source": [
    "# podemos também imprimir a variável sem dar nome a ela\n",
    "print(30)"
   ]
  },
  {
   "cell_type": "code",
   "execution_count": 20,
   "metadata": {},
   "outputs": [
    {
     "name": "stdout",
     "output_type": "stream",
     "text": [
      "30\n",
      "40\n"
     ]
    }
   ],
   "source": [
    "#Porém quando temos uma variável com nome, temos a grande vantagem de poder mudar seu valor:\n",
    "age = 30\n",
    "print(age)\n",
    "age = 40\n",
    "print(age)"
   ]
  },
  {
   "cell_type": "markdown",
   "metadata": {},
   "source": [
    "### Boas práticas em relação ao definirmos nomes de variáveis "
   ]
  },
  {
   "cell_type": "code",
   "execution_count": 21,
   "metadata": {},
   "outputs": [],
   "source": [
    "#nomes compostos de variáveis são separados por _ , esse padrão é conhecido como: snake_case in Python\n",
    "#nomes não podem começar com números, porém podem conter números\n",
    "#se duas variáveis forém mudar de valores sempre usar letras minusculas \n",
    "# Para fazer quebra de linha usa  \\ (barra invertida)\n",
    "\n",
    "friend_age = 23\n",
    "countries_visited = 90 #\\\n",
    "#muito bom"
   ]
  },
  {
   "cell_type": "code",
   "execution_count": 22,
   "metadata": {},
   "outputs": [],
   "source": [
    "# Se sua variável tiver um valor fixo escrever em letras maiusculas \n",
    "\n",
    "PI = 3.14159\n",
    "RADIANS_TO_DEGREES = 180 / PI"
   ]
  },
  {
   "cell_type": "code",
   "execution_count": 23,
   "metadata": {},
   "outputs": [
    {
     "data": {
      "text/plain": [
       "57.295827908797776"
      ]
     },
     "execution_count": 23,
     "metadata": {},
     "output_type": "execute_result"
    }
   ],
   "source": [
    "RADIANS_TO_DEGREES"
   ]
  },
  {
   "cell_type": "markdown",
   "metadata": {},
   "source": [
    "### Vamos falar de números?"
   ]
  },
  {
   "cell_type": "code",
   "execution_count": 24,
   "metadata": {},
   "outputs": [],
   "source": [
    "#vamos ter dois tipos de número em python\n",
    "\n",
    "age = 35  # integer\n",
    "PI = 3.14159  # float"
   ]
  },
  {
   "cell_type": "code",
   "execution_count": 25,
   "metadata": {},
   "outputs": [],
   "source": [
    "## adicionar o conceito de definição de variáveis "
   ]
  },
  {
   "cell_type": "markdown",
   "metadata": {},
   "source": [
    "### Operações Matemáticas"
   ]
  },
  {
   "cell_type": "code",
   "execution_count": 26,
   "metadata": {},
   "outputs": [
    {
     "name": "stdout",
     "output_type": "stream",
     "text": [
      "5.0\n"
     ]
    }
   ],
   "source": [
    "# Nada de especial acontece\n",
    "\n",
    "maths_operation = 1 + 3 * 4 / 2 - 2\n",
    "print(maths_operation)"
   ]
  },
  {
   "cell_type": "code",
   "execution_count": 27,
   "metadata": {},
   "outputs": [],
   "source": [
    "# se eu tenho apenas números inteiros porque o resultado foi um float?\n",
    "# https://www.tutorialspoint.com/python/python_variable_types.htm"
   ]
  },
  {
   "cell_type": "code",
   "execution_count": 28,
   "metadata": {},
   "outputs": [
    {
     "name": "stdout",
     "output_type": "stream",
     "text": [
      "4.0\n"
     ]
    }
   ],
   "source": [
    "# resultado da divisão é sempre um float\n",
    "\n",
    "float_division = 12 / 3\n",
    "print(float_division)"
   ]
  },
  {
   "cell_type": "code",
   "execution_count": 29,
   "metadata": {},
   "outputs": [],
   "source": [
    "##E a multiplicação?\n",
    "##E se somarmos um inteiro com um float?"
   ]
  },
  {
   "cell_type": "code",
   "execution_count": 30,
   "metadata": {},
   "outputs": [
    {
     "name": "stdout",
     "output_type": "stream",
     "text": [
      "4\n"
     ]
    }
   ],
   "source": [
    "# pode pegar somente a parte inteira da divisão\n",
    "integer_division = 12 // 3  # não é um tipo de arredondamento\n",
    "print(integer_division)"
   ]
  },
  {
   "cell_type": "code",
   "execution_count": 31,
   "metadata": {},
   "outputs": [
    {
     "name": "stdout",
     "output_type": "stream",
     "text": [
      "2\n"
     ]
    }
   ],
   "source": [
    "#alguém poderia explicar o camando a seguir?\n",
    "remainder = 12 % 5\n",
    "print(remainder)"
   ]
  },
  {
   "cell_type": "code",
   "execution_count": 32,
   "metadata": {},
   "outputs": [
    {
     "name": "stdout",
     "output_type": "stream",
     "text": [
      "1\n"
     ]
    }
   ],
   "source": [
    "x = 37\n",
    "remainder = x % 2\n",
    "print(remainder)"
   ]
  },
  {
   "cell_type": "code",
   "execution_count": 33,
   "metadata": {},
   "outputs": [],
   "source": [
    "# Em quais situações esse tipo de comando nos ajuda?"
   ]
  },
  {
   "cell_type": "markdown",
   "metadata": {},
   "source": [
    "### Variáveis podem ser palavras? Frases?"
   ]
  },
  {
   "cell_type": "code",
   "execution_count": 34,
   "metadata": {},
   "outputs": [],
   "source": [
    "my_string = \"Hello, world!\"\n",
    "single_quote_string = 'Hello, world!'"
   ]
  },
  {
   "cell_type": "code",
   "execution_count": 35,
   "metadata": {},
   "outputs": [
    {
     "name": "stdout",
     "output_type": "stream",
     "text": [
      "Hello World!\n",
      "H\n",
      "llo\n",
      "llo World!\n",
      "Hello World!Hello World!\n"
     ]
    }
   ],
   "source": [
    "str = 'Hello World!'\n",
    "\n",
    "print (str)          # imprimi a string completa\n",
    "print (str[0])       # imprimi o primeiro caracter da string\n",
    "print (str[2:5])     # imprimi do terceiro ao quinto caracter\n",
    "print (str[2:])      # imprimi os caracteres a partir do terceiro\n",
    "print (str * 2)      # imprimi a string duas vezes"
   ]
  },
  {
   "cell_type": "code",
   "execution_count": 36,
   "metadata": {},
   "outputs": [],
   "source": [
    "string_with_quotes = \"Hello, it's me.\"\n",
    "another_with_quotes = 'He said \"You are amazing!\" yesterday.'"
   ]
  },
  {
   "cell_type": "code",
   "execution_count": 37,
   "metadata": {},
   "outputs": [],
   "source": [
    "multiline = \"\"\"Hello, world.\n",
    "\n",
    "My name is Jose. Welcome to my program.\n",
    "\"\"\"\n",
    "## Vocẽs podem imprimir para ver como fica?"
   ]
  },
  {
   "cell_type": "code",
   "execution_count": 38,
   "metadata": {},
   "outputs": [],
   "source": [
    "# como juntar palavras formar frases?\n",
    "# por que esse procedimento é tão importante? no trabalho do dia a dia\n",
    "name = \" Jose\"\n",
    "greeting = \"Hello, \" + name"
   ]
  },
  {
   "cell_type": "code",
   "execution_count": 39,
   "metadata": {},
   "outputs": [
    {
     "ename": "TypeError",
     "evalue": "'str' object is not callable",
     "output_type": "error",
     "traceback": [
      "\u001b[0;31m---------------------------------------------------------------------------\u001b[0m",
      "\u001b[0;31mTypeError\u001b[0m                                 Traceback (most recent call last)",
      "\u001b[0;32m<ipython-input-39-6772359246a7>\u001b[0m in \u001b[0;36m<module>\u001b[0;34m\u001b[0m\n\u001b[1;32m      1\u001b[0m \u001b[0;31m# é possível juntar número com uma palavra?\u001b[0m\u001b[0;34m\u001b[0m\u001b[0;34m\u001b[0m\u001b[0;34m\u001b[0m\u001b[0m\n\u001b[0;32m----> 2\u001b[0;31m \u001b[0mage\u001b[0m \u001b[0;34m=\u001b[0m \u001b[0mstr\u001b[0m\u001b[0;34m(\u001b[0m\u001b[0;36m34\u001b[0m\u001b[0;34m)\u001b[0m\u001b[0;34m\u001b[0m\u001b[0;34m\u001b[0m\u001b[0m\n\u001b[0m\u001b[1;32m      3\u001b[0m \u001b[0mage\u001b[0m \u001b[0;34m=\u001b[0m \u001b[0;34m\"You are \"\u001b[0m \u001b[0;34m+\u001b[0m \u001b[0mage\u001b[0m \u001b[0;34m+\u001b[0m \u001b[0mname\u001b[0m\u001b[0;34m\u001b[0m\u001b[0;34m\u001b[0m\u001b[0m\n\u001b[1;32m      4\u001b[0m \u001b[0mprint\u001b[0m\u001b[0;34m(\u001b[0m\u001b[0mage\u001b[0m\u001b[0;34m)\u001b[0m\u001b[0;34m\u001b[0m\u001b[0;34m\u001b[0m\u001b[0m\n",
      "\u001b[0;31mTypeError\u001b[0m: 'str' object is not callable"
     ]
    }
   ],
   "source": [
    "# é possível juntar número com uma palavra? \n",
    "age = str(34)\n",
    "age = \"You are \" + age + name\n",
    "print(age)"
   ]
  },
  {
   "cell_type": "code",
   "execution_count": null,
   "metadata": {},
   "outputs": [],
   "source": [
    "#sempre será necessário fazer a converter um número para string?\n",
    "age = 34\n",
    "another_greeting = f\"I am {age}\"\n",
    "print(another_greeting)"
   ]
  },
  {
   "cell_type": "code",
   "execution_count": null,
   "metadata": {},
   "outputs": [],
   "source": [
    "#tem alguma maneira diferente de fazer isso?\n",
    "age = 999\n",
    "another_greeting = \"I am {}\".format(age)\n",
    "print(another_greeting)"
   ]
  },
  {
   "cell_type": "code",
   "execution_count": null,
   "metadata": {},
   "outputs": [],
   "source": [
    "# atualizar o valor de age?\n",
    "age = 78\n",
    "print(another_greeting)"
   ]
  },
  {
   "cell_type": "code",
   "execution_count": null,
   "metadata": {},
   "outputs": [],
   "source": [
    "# Tem como solucionar esse problema?\n",
    "another_greeting = \"I am {age}, I'm {name}\"\n",
    "final_greeting = another_greeting.format(age = 204, name = \"Patricia\")\n",
    "print(final_greeting)\n"
   ]
  },
  {
   "cell_type": "markdown",
   "metadata": {},
   "source": [
    "### Quem sabe um pouco de interação"
   ]
  },
  {
   "cell_type": "markdown",
   "metadata": {},
   "source": [
    "#### my_name = \"Elis\"\n",
    "your_name = input(\"Enter your name: \")\n",
    "\n",
    "print(f\"Hello {your_name}. My name is {my_name}.\")"
   ]
  },
  {
   "cell_type": "code",
   "execution_count": null,
   "metadata": {},
   "outputs": [],
   "source": [
    "age = int(input(\"Enter your age: \"))\n",
    "print(f\"You have lived for {age * 12} months.\")"
   ]
  },
  {
   "cell_type": "code",
   "execution_count": null,
   "metadata": {},
   "outputs": [],
   "source": [
    "## Para brincar um pouco, calcule a quantidade de segundos aõ invés de meses"
   ]
  },
  {
   "cell_type": "code",
   "execution_count": null,
   "metadata": {},
   "outputs": [],
   "source": [
    "age = int(input(\"Enter your age: \"))\n",
    "print(f\"You have lived for {age * 36000} segundos.\")"
   ]
  },
  {
   "cell_type": "markdown",
   "metadata": {},
   "source": [
    "### Já tivemos um primeiro contato com as variáveis, agora podemos fazer algumas comparações?"
   ]
  },
  {
   "cell_type": "code",
   "execution_count": null,
   "metadata": {},
   "outputs": [],
   "source": [
    "## Vamos ver os sinais de comparação mais importantes\n",
    "\n",
    "# A == B  (vamos verificar se A é igual a B)\n",
    "# A > B (vamos verificar se A é maior que B)\n",
    "# A < B (vamos verificar se B é maior que A)\n",
    "# A >= B (vamos verificar se A é maior ou igual a B)\n",
    "# A != B (Vamos verificar se A é diferente de B)"
   ]
  },
  {
   "cell_type": "code",
   "execution_count": null,
   "metadata": {},
   "outputs": [],
   "source": [
    "# o comparativo vale palavras também?\n",
    "# vamos comparar a variável my_name com a variável name \n",
    "name = \"ele\"\n",
    "\n",
    "# vamos fazer um print condicional?\n",
    "if name == my_name:\n",
    "    print (name)\n",
    "else:\n",
    "    print(\"Nome nao existe\")"
   ]
  },
  {
   "cell_type": "markdown",
   "metadata": {},
   "source": [
    "### E se for necessário utilizar multiplas condições?"
   ]
  },
  {
   "cell_type": "code",
   "execution_count": null,
   "metadata": {},
   "outputs": [],
   "source": [
    "name = \"EliS\"\n",
    "name_2 = \"Elis\"\n",
    "name_3 = \"ElIs\"\n",
    "\n",
    "# or = a ação será executada se alguma condição for satisfeita \n",
    "# and = a ação será executada se todas condições forem satisfeitas \n",
    "\n",
    "# vamos fazer um print condicional?\n",
    "if name == my_name or name_3 == my_name or name_2 == my_name:\n",
    "    print (name)"
   ]
  },
  {
   "cell_type": "code",
   "execution_count": null,
   "metadata": {},
   "outputs": [],
   "source": [
    "# vamos fazer um print condicional?\n",
    "if name == my_name and name_3 == my_name and name_2 == my_name:\n",
    "    print (name)"
   ]
  },
  {
   "cell_type": "markdown",
   "metadata": {},
   "source": [
    "### E se em uma aplicação for necessário ter 1000 nomes, vamos ter que definir 1000 variáveis? "
   ]
  },
  {
   "cell_type": "code",
   "execution_count": null,
   "metadata": {},
   "outputs": [],
   "source": [
    "# qual a melhor maneira?\n",
    "\n",
    "#maneira 1:\n",
    "friend1 = \"Rolf\"\n",
    "friend2 = \"Bob\"\n",
    "friend3 = \"Anne\"\n",
    "\n",
    "#maneira 2\n",
    "friend = [\"Rolf\", \"Anne\", \"Bob\"]"
   ]
  },
  {
   "cell_type": "code",
   "execution_count": null,
   "metadata": {},
   "outputs": [],
   "source": [
    "#imprimir elementos de uma lista\n",
    "# o primeiro elemento da lista é localizado pelo index 0, index = localizador\n",
    "print (friend[0])"
   ]
  },
  {
   "cell_type": "code",
   "execution_count": null,
   "metadata": {},
   "outputs": [],
   "source": [
    "#comprimento de uma lista\n",
    "len(friend)"
   ]
  },
  {
   "cell_type": "code",
   "execution_count": null,
   "metadata": {},
   "outputs": [],
   "source": [
    "#valor máximo contido em uma lista\n",
    "max(friend)"
   ]
  },
  {
   "cell_type": "code",
   "execution_count": null,
   "metadata": {},
   "outputs": [],
   "source": [
    "#valor minimo contido em uma lista\n",
    "min (friend)"
   ]
  },
  {
   "cell_type": "code",
   "execution_count": null,
   "metadata": {},
   "outputs": [],
   "source": [
    "# uma das grandes vantagens de usar é o fato de poder adicionar ou remover elementos\n",
    "# vamos adicionar novos elementos usamos .append()\n",
    "friend.append(str(3))\n",
    "print (friend)"
   ]
  },
  {
   "cell_type": "code",
   "execution_count": null,
   "metadata": {},
   "outputs": [],
   "source": [
    "# Como localizar algum elemento específico utilizando o .index()?\n",
    "friend.index('Anne')"
   ]
  },
  {
   "cell_type": "code",
   "execution_count": null,
   "metadata": {},
   "outputs": [],
   "source": [
    "# é considerada boa prática fazer listas com apenas um tipo de informação\n",
    "# ou seja, adicionar o número 3 (mesmo que em formato de string) na lista friend, não é considerado uam boa prática"
   ]
  },
  {
   "cell_type": "code",
   "execution_count": null,
   "metadata": {},
   "outputs": [],
   "source": [
    "#vamos remover\n",
    "friend.remove(3)"
   ]
  },
  {
   "cell_type": "code",
   "execution_count": null,
   "metadata": {},
   "outputs": [],
   "source": [
    "#vamos trabalhar com uma lista de números agora  - Lista de numeros aleatorios 1 a 100\n",
    "import random\n",
    "lista_teste = random.sample(range(1, 100), 10)\n",
    "sum(lista_teste)"
   ]
  },
  {
   "cell_type": "code",
   "execution_count": null,
   "metadata": {},
   "outputs": [],
   "source": [
    "len(lista_teste)"
   ]
  },
  {
   "cell_type": "code",
   "execution_count": null,
   "metadata": {},
   "outputs": [],
   "source": [
    "lista_teste"
   ]
  },
  {
   "cell_type": "markdown",
   "metadata": {},
   "source": [
    "### Que tal adiconarmos uma coisa diferente, chamada 'for loop'!!"
   ]
  },
  {
   "cell_type": "code",
   "execution_count": null,
   "metadata": {},
   "outputs": [],
   "source": [
    "for i in range (0, len(friend)):\n",
    "    print (friend[i])"
   ]
  },
  {
   "cell_type": "code",
   "execution_count": null,
   "metadata": {},
   "outputs": [],
   "source": [
    "for amigo in friend:\n",
    "    print(amigo)"
   ]
  },
  {
   "cell_type": "code",
   "execution_count": null,
   "metadata": {},
   "outputs": [],
   "source": [
    "#podemos fazer um loop duplo?\n",
    "idade = [12, 14, 10]\n",
    "\n",
    "for i in range (0, len(friend)):\n",
    "    for j in range (0, len(idade)):\n",
    "        print (friend[i], ' ', idade[j])"
   ]
  },
  {
   "cell_type": "markdown",
   "metadata": {},
   "source": [
    "### Podemos fazer uma lista de listas"
   ]
  },
  {
   "cell_type": "code",
   "execution_count": 2,
   "metadata": {},
   "outputs": [
    {
     "name": "stdout",
     "output_type": "stream",
     "text": [
      "24\n",
      "Bob\n"
     ]
    }
   ],
   "source": [
    "#\n",
    "friends = [[\"Rolf\", 24], [\"Bob\", 30], [\"Anne\", 27]]\n",
    "print(friends[0][1])  # 24\n",
    "print(friends[1][0])  # Bob\n"
   ]
  },
  {
   "cell_type": "code",
   "execution_count": 3,
   "metadata": {},
   "outputs": [
    {
     "data": {
      "text/plain": [
       "[[24], ['Bob', 30], ['Anne', 27]]"
      ]
     },
     "execution_count": 3,
     "metadata": {},
     "output_type": "execute_result"
    }
   ],
   "source": [
    "# tem como remover apenas 'Rolf'?\n",
    "friends[0].remove('Rolf')\n",
    "friends"
   ]
  },
  {
   "cell_type": "code",
   "execution_count": null,
   "metadata": {},
   "outputs": [],
   "source": [
    "# como faço para adicionar uma nova lista em uma lista de listas?"
   ]
  },
  {
   "cell_type": "markdown",
   "metadata": {},
   "source": [
    "### Já ouviu falar em tuples?"
   ]
  },
  {
   "cell_type": "code",
   "execution_count": null,
   "metadata": {},
   "outputs": [],
   "source": [
    "#como definimos taples?\n",
    "# inicialmente o conceito de tuple é muito similar à lista, porém não é possível adicionar ou remover elementos \n",
    "\n",
    "amigos_novos = ('João', 'Lindomar')"
   ]
  },
  {
   "cell_type": "code",
   "execution_count": null,
   "metadata": {},
   "outputs": [],
   "source": [
    "# tenta esse teste aí \n",
    "amigos_novos.remove('João')"
   ]
  },
  {
   "cell_type": "code",
   "execution_count": null,
   "metadata": {},
   "outputs": [],
   "source": [
    "#porque trabalhamos com tuples?"
   ]
  },
  {
   "cell_type": "markdown",
   "metadata": {},
   "source": [
    "## Primeiro desafio do curso!\n",
    "\n",
    "1. Vocês terão 15 minutos para essa tarefa \n",
    "2. Serão dadas duas listas e vocês terão que retornar uma lista com os elementos comuns em ambas listas. \n",
    "3. Na lista final não deve haver elementos repetidos\n",
    "4. As listas são:\n",
    "    1. lista1 = [1, 100, 23, 40, 23, 50, 50, 49, 50]\n",
    "    2. lista2 = [30, 50, 80, 70, 40, 40, 34, 32, 40, 50]"
   ]
  },
  {
   "cell_type": "code",
   "execution_count": 28,
   "metadata": {},
   "outputs": [],
   "source": [
    "lista1 = [1, 100, 23, 40, 23, 50, 50, 49, 50]\n",
    "lista2 = [30, 50, 80, 70, 40, 40, 34, 32, 40, 50]"
   ]
  },
  {
   "cell_type": "code",
   "execution_count": null,
   "metadata": {},
   "outputs": [],
   "source": []
  },
  {
   "cell_type": "code",
   "execution_count": 29,
   "metadata": {},
   "outputs": [],
   "source": [
    "lista1.extend(lista2)"
   ]
  },
  {
   "cell_type": "code",
   "execution_count": 30,
   "metadata": {},
   "outputs": [
    {
     "data": {
      "text/plain": [
       "[1, 100, 23, 40, 23, 50, 50, 49, 50, 30, 50, 80, 70, 40, 40, 34, 32, 40, 50]"
      ]
     },
     "execution_count": 30,
     "metadata": {},
     "output_type": "execute_result"
    }
   ],
   "source": [
    "lista1"
   ]
  },
  {
   "cell_type": "code",
   "execution_count": 35,
   "metadata": {},
   "outputs": [],
   "source": [
    "conjunto = set(lista1)"
   ]
  },
  {
   "cell_type": "code",
   "execution_count": 36,
   "metadata": {},
   "outputs": [
    {
     "data": {
      "text/plain": [
       "{1, 23, 30, 32, 34, 40, 49, 50, 70, 80, 100}"
      ]
     },
     "execution_count": 36,
     "metadata": {},
     "output_type": "execute_result"
    }
   ],
   "source": [
    "conjunto"
   ]
  },
  {
   "cell_type": "code",
   "execution_count": 3,
   "metadata": {},
   "outputs": [
    {
     "data": {
      "text/plain": [
       "{40, 50}"
      ]
     },
     "execution_count": 3,
     "metadata": {},
     "output_type": "execute_result"
    }
   ],
   "source": [
    "set_lista1 = set(lista1)\n",
    "set_lista2 = set(lista2)\n",
    "set_lista1.intersection(set_lista2)"
   ]
  },
  {
   "cell_type": "code",
   "execution_count": 7,
   "metadata": {},
   "outputs": [
    {
     "data": {
      "text/plain": [
       "{1, 23, 40, 49, 50, 100}"
      ]
     },
     "execution_count": 7,
     "metadata": {},
     "output_type": "execute_result"
    }
   ],
   "source": [
    "set_lista1"
   ]
  },
  {
   "cell_type": "code",
   "execution_count": 39,
   "metadata": {},
   "outputs": [
    {
     "data": {
      "text/plain": [
       "[40, 50]"
      ]
     },
     "execution_count": 39,
     "metadata": {},
     "output_type": "execute_result"
    }
   ],
   "source": [
    "# usando o for para criar a lista nova sem numeros repetidos\n",
    "\n",
    "lista1 = [1, 100, 23, 40, 23, 50, 50, 49, 50]\n",
    "lista2 = [30, 50, 80, 70, 40, 40, 34, 32, 40, 50]\n",
    "lista3 = []\n",
    "\n",
    "for elementoListas in lista1:\n",
    "    if elementoListas in lista2 and elementoListas not in lista3:\n",
    "\n",
    "        lista3.append(elementoListas)\n",
    "lista3"
   ]
  },
  {
   "cell_type": "code",
   "execution_count": 48,
   "metadata": {},
   "outputs": [],
   "source": [
    "#Definindo funcao para elementos comuns em listas distintas\n",
    "\n",
    "def elementos_comuns(lista1, lista2):\n",
    "    \n",
    "    lista_comum = []\n",
    "    for elementoListas in lista1:\n",
    "        if elementoListas in lista2 and elementoListas not in lista_comum:\n",
    "            lista_comum.append(elementoListas)\n",
    "    return(lista_comum, len(lista1), len(lista2))\n",
    "    \n",
    "\n"
   ]
  },
  {
   "cell_type": "code",
   "execution_count": 50,
   "metadata": {},
   "outputs": [
    {
     "data": {
      "text/plain": [
       "[1, 23, 40, 50]"
      ]
     },
     "execution_count": 50,
     "metadata": {},
     "output_type": "execute_result"
    }
   ],
   "source": [
    "lista3 = [1, 100, 23, 40, 23, 50, 50, 49, 50]\n",
    "lista4 = [30, 50, 80, 23, 1, 70, 40, 40, 34, 32, 40, 50]\n",
    "\n",
    "lista_final, comprimento1, comprimento2 = elementos_comuns(lista3, lista4)\n",
    "lista_final"
   ]
  },
  {
   "cell_type": "code",
   "execution_count": 52,
   "metadata": {},
   "outputs": [
    {
     "data": {
      "text/plain": [
       "9"
      ]
     },
     "execution_count": 52,
     "metadata": {},
     "output_type": "execute_result"
    }
   ],
   "source": [
    "comprimento1 # tamanho da lista"
   ]
  },
  {
   "cell_type": "markdown",
   "metadata": {},
   "source": [
    "### Hora de falar de sets"
   ]
  },
  {
   "cell_type": "code",
   "execution_count": null,
   "metadata": {},
   "outputs": [],
   "source": []
  },
  {
   "cell_type": "code",
   "execution_count": 10,
   "metadata": {},
   "outputs": [
    {
     "name": "stdout",
     "output_type": "stream",
     "text": [
      "{'Maria', 'Marcos', 'Luciana'}\n"
     ]
    }
   ],
   "source": [
    "#como declarar?\n",
    "amigos_mala = {'Maria', 'Luciana'}\n",
    "\n",
    "#adicionar novos elementos\n",
    "amigos_mala.add('Marcos')\n",
    "\n",
    "#também é possível remover elementos\n",
    "\n",
    "#vamos mostrar nosso set\n",
    "print(amigos_mala)"
   ]
  },
  {
   "cell_type": "code",
   "execution_count": 11,
   "metadata": {},
   "outputs": [
    {
     "name": "stdout",
     "output_type": "stream",
     "text": [
      "{'Maria', 'Marcos', 'Luciana'}\n"
     ]
    }
   ],
   "source": [
    "#adicionar novos elementos\n",
    "#a posição do novo elemento é aleatória\n",
    "amigos_mala.add('Marcos')\n",
    "\n",
    "print(amigos_mala)"
   ]
  },
  {
   "cell_type": "code",
   "execution_count": 12,
   "metadata": {},
   "outputs": [],
   "source": [
    "## porque trabalhos com set?"
   ]
  },
  {
   "cell_type": "code",
   "execution_count": 13,
   "metadata": {},
   "outputs": [],
   "source": [
    "#vamos criar um novo set\n",
    "amigos_DH = {'Luis', 'Marcos', 'Julia', 'Liz'}"
   ]
  },
  {
   "cell_type": "code",
   "execution_count": 18,
   "metadata": {},
   "outputs": [
    {
     "data": {
      "text/plain": [
       "{'Julia', 'Liz', 'Luciana', 'Luis', 'Maria'}"
      ]
     },
     "execution_count": 18,
     "metadata": {},
     "output_type": "execute_result"
    }
   ],
   "source": [
    "#Amigos exclusivos em ambs sets - Elementos unicos em cada lista\n",
    "nao_esta_ambos = amigos_mala.symmetric_difference(amigos_DH)\n",
    "nao_esta_ambos"
   ]
  },
  {
   "cell_type": "code",
   "execution_count": 15,
   "metadata": {},
   "outputs": [
    {
     "name": "stdout",
     "output_type": "stream",
     "text": [
      "{'Maria', 'Luciana'}\n"
     ]
    }
   ],
   "source": [
    "mala_mas_nao_DH = amigos_mala.difference(amigos_DH)\n",
    "print (mala_mas_nao_DH)"
   ]
  },
  {
   "cell_type": "code",
   "execution_count": 19,
   "metadata": {},
   "outputs": [
    {
     "data": {
      "text/plain": [
       "{'Marcos'}"
      ]
     },
     "execution_count": 19,
     "metadata": {},
     "output_type": "execute_result"
    }
   ],
   "source": [
    "#intersection - elementos que estao na mesma lista\n",
    "interseccao = amigos_mala.intersection(amigos_DH)\n",
    "interseccao"
   ]
  },
  {
   "cell_type": "code",
   "execution_count": 17,
   "metadata": {},
   "outputs": [
    {
     "data": {
      "text/plain": [
       "{'Julia', 'Liz', 'Luciana', 'Luis', 'Marcos', 'Maria'}"
      ]
     },
     "execution_count": 17,
     "metadata": {},
     "output_type": "execute_result"
    }
   ],
   "source": [
    "#union\n",
    "uniao = amigos_mala.union(amigos_DH)\n",
    "uniao"
   ]
  },
  {
   "cell_type": "code",
   "execution_count": 23,
   "metadata": {},
   "outputs": [
    {
     "data": {
      "text/plain": [
       "['Julia', 'Liz']"
      ]
     },
     "execution_count": 23,
     "metadata": {},
     "output_type": "execute_result"
    }
   ],
   "source": [
    "# como a operação de listas podem se beneficiar dessas operações\n",
    "lista=['Julia', 'Liz', 'Luciana', 'Luis', 'Maria', 'Julia', 'Liz', 'Luciana', 'Luis', 'Maria']\n",
    "lista2=['Julia', 'Liz', 'Luciana2', 'Luis2', 'Maria2']\n",
    "\n",
    "interseccao_list = list(set(lista).intersection(set(lista2)))\n",
    "interseccao_list"
   ]
  },
  {
   "cell_type": "markdown",
   "metadata": {},
   "source": [
    "### Não podemos esquecer de dicionário!!"
   ]
  },
  {
   "cell_type": "code",
   "execution_count": 55,
   "metadata": {},
   "outputs": [],
   "source": [
    "#como vamos declarar?\n",
    "friend_ages = {\"Rolf\": 24, \"Adam\": 30, \"Anne\": 27, 'Zé': 24}"
   ]
  },
  {
   "cell_type": "code",
   "execution_count": 85,
   "metadata": {},
   "outputs": [],
   "source": [
    "\n",
    "# como fazemos para buscar valores em um dicionário?\n",
    "#print(friend_ages['Zé'])"
   ]
  },
  {
   "cell_type": "code",
   "execution_count": 56,
   "metadata": {},
   "outputs": [
    {
     "data": {
      "text/plain": [
       "{'Rolf': 24, 'Adam': 30, 'Anne': 27, 'Zé': 24, 'Breno': 33}"
      ]
     },
     "execution_count": 56,
     "metadata": {},
     "output_type": "execute_result"
    }
   ],
   "source": [
    "#como adicionar mais elementos ?\n",
    "friend_ages['Breno'] = 33\n",
    "friend_ages"
   ]
  },
  {
   "cell_type": "code",
   "execution_count": 57,
   "metadata": {},
   "outputs": [],
   "source": [
    "#comandos que podem ajudar\n",
    "#friend_ages.keys()\n",
    "#friend_ages.values()\n",
    "#friend_ages.items()"
   ]
  },
  {
   "cell_type": "code",
   "execution_count": 58,
   "metadata": {},
   "outputs": [
    {
     "data": {
      "text/plain": [
       "dict_values([24, 30, 27, 24, 33])"
      ]
     },
     "execution_count": 58,
     "metadata": {},
     "output_type": "execute_result"
    }
   ],
   "source": [
    "#vamos selecionar todos os amigos com 24 anos?\n",
    "friend_ages.values()"
   ]
  },
  {
   "cell_type": "code",
   "execution_count": 89,
   "metadata": {},
   "outputs": [],
   "source": [
    "#key, value = friend_ages.popitem()"
   ]
  },
  {
   "cell_type": "code",
   "execution_count": 90,
   "metadata": {},
   "outputs": [
    {
     "data": {
      "text/plain": [
       "dict_items([('Rolf', 24), ('Adam', 30), ('Anne', 27), ('Zé', 24), ('Breno', 33)])"
      ]
     },
     "execution_count": 90,
     "metadata": {},
     "output_type": "execute_result"
    }
   ],
   "source": [
    "friend_ages.items()"
   ]
  },
  {
   "cell_type": "code",
   "execution_count": 91,
   "metadata": {},
   "outputs": [
    {
     "data": {
      "text/plain": [
       "5"
      ]
     },
     "execution_count": 91,
     "metadata": {},
     "output_type": "execute_result"
    }
   ],
   "source": [
    "len(friend_ages)"
   ]
  },
  {
   "cell_type": "code",
   "execution_count": 92,
   "metadata": {},
   "outputs": [
    {
     "name": "stdout",
     "output_type": "stream",
     "text": [
      "{'Rolf': 25, 'Adam': 30, 'Anne': 27, 'Zé': 24, 'Breno': 33}\n"
     ]
    }
   ],
   "source": [
    "friend_ages[\"Rolf\"] = 25\n",
    "print(friend_ages)"
   ]
  },
  {
   "cell_type": "code",
   "execution_count": 93,
   "metadata": {},
   "outputs": [
    {
     "name": "stdout",
     "output_type": "stream",
     "text": [
      "{'Rolf': 25, 'Adam': 30, 'Anne': 27, 'Zé': 24, 'Breno': 33}\n"
     ]
    }
   ],
   "source": [
    "# pademos converter ums lista de tuples em um dicionário, utilizando o comando dict\n",
    "friends = [(\"Rolf\", 24), (\"Adam\", 30), (\"Anne\", 27)]\n",
    "friend_ages1 = dict(friends)\n",
    "print(friend_ages)"
   ]
  },
  {
   "cell_type": "code",
   "execution_count": 94,
   "metadata": {},
   "outputs": [
    {
     "data": {
      "text/plain": [
       "25"
      ]
     },
     "execution_count": 94,
     "metadata": {},
     "output_type": "execute_result"
    }
   ],
   "source": [
    "friend_ages['Rolf']"
   ]
  },
  {
   "cell_type": "markdown",
   "metadata": {},
   "source": [
    "### Vamos de mais um exercício?\n",
    "\n",
    "1. Vamos trabalhar com o dicionário friend_ages\n",
    "2. Imprima somente os nomes dos amigos com idade igual ou superior à 25"
   ]
  },
  {
   "cell_type": "code",
   "execution_count": 95,
   "metadata": {},
   "outputs": [
    {
     "data": {
      "text/plain": [
       "dict_keys(['Rolf', 'Adam', 'Anne', 'Zé', 'Breno'])"
      ]
     },
     "execution_count": 95,
     "metadata": {},
     "output_type": "execute_result"
    }
   ],
   "source": [
    "    friend_ages.keys()"
   ]
  },
  {
   "cell_type": "code",
   "execution_count": 96,
   "metadata": {},
   "outputs": [
    {
     "data": {
      "text/plain": [
       "dict_values([25, 30, 27, 24, 33])"
      ]
     },
     "execution_count": 96,
     "metadata": {},
     "output_type": "execute_result"
    }
   ],
   "source": [
    "friend_ages.values()"
   ]
  },
  {
   "cell_type": "code",
   "execution_count": 101,
   "metadata": {},
   "outputs": [
    {
     "data": {
      "text/plain": [
       "{'Rolf': 25, 'Adam': 30, 'Anne': 27, 'Zé': 24, 'Breno': 33}"
      ]
     },
     "execution_count": 101,
     "metadata": {},
     "output_type": "execute_result"
    }
   ],
   "source": [
    "valor"
   ]
  },
  {
   "cell_type": "code",
   "execution_count": 78,
   "metadata": {},
   "outputs": [
    {
     "data": {
      "text/html": [
       "<div>\n",
       "<style scoped>\n",
       "    .dataframe tbody tr th:only-of-type {\n",
       "        vertical-align: middle;\n",
       "    }\n",
       "\n",
       "    .dataframe tbody tr th {\n",
       "        vertical-align: top;\n",
       "    }\n",
       "\n",
       "    .dataframe thead th {\n",
       "        text-align: right;\n",
       "    }\n",
       "</style>\n",
       "<table border=\"1\" class=\"dataframe\">\n",
       "  <thead>\n",
       "    <tr style=\"text-align: right;\">\n",
       "      <th></th>\n",
       "      <th>Nome</th>\n",
       "      <th>Idade</th>\n",
       "    </tr>\n",
       "  </thead>\n",
       "  <tbody>\n",
       "    <tr>\n",
       "      <th>0</th>\n",
       "      <td>Rolf</td>\n",
       "      <td>25.0</td>\n",
       "    </tr>\n",
       "    <tr>\n",
       "      <th>1</th>\n",
       "      <td>Adam</td>\n",
       "      <td>30.0</td>\n",
       "    </tr>\n",
       "    <tr>\n",
       "      <th>2</th>\n",
       "      <td>Anne</td>\n",
       "      <td>27.0</td>\n",
       "    </tr>\n",
       "    <tr>\n",
       "      <th>3</th>\n",
       "      <td>Zé</td>\n",
       "      <td>24.0</td>\n",
       "    </tr>\n",
       "    <tr>\n",
       "      <th>4</th>\n",
       "      <td>Breno</td>\n",
       "      <td>33.0</td>\n",
       "    </tr>\n",
       "  </tbody>\n",
       "</table>\n",
       "</div>"
      ],
      "text/plain": [
       "    Nome  Idade\n",
       "0   Rolf   25.0\n",
       "1   Adam   30.0\n",
       "2   Anne   27.0\n",
       "3     Zé   24.0\n",
       "4  Breno   33.0"
      ]
     },
     "execution_count": 78,
     "metadata": {},
     "output_type": "execute_result"
    }
   ],
   "source": [
    "value = [25.0, 30.0, 27.0, 24.0, 33.0]\n",
    "key = [\"Rolf\", \"Adam\", \"Anne\", \"Zé\", \"Breno\"]\n",
    "friend_amigos = pd.DataFrame({\"Nome\": key, \"Idade\": value})\n",
    "friend_amigos\n"
   ]
  },
  {
   "cell_type": "code",
   "execution_count": 145,
   "metadata": {},
   "outputs": [
    {
     "data": {
      "text/html": [
       "<div>\n",
       "<style scoped>\n",
       "    .dataframe tbody tr th:only-of-type {\n",
       "        vertical-align: middle;\n",
       "    }\n",
       "\n",
       "    .dataframe tbody tr th {\n",
       "        vertical-align: top;\n",
       "    }\n",
       "\n",
       "    .dataframe thead th {\n",
       "        text-align: right;\n",
       "    }\n",
       "</style>\n",
       "<table border=\"1\" class=\"dataframe\">\n",
       "  <thead>\n",
       "    <tr style=\"text-align: right;\">\n",
       "      <th></th>\n",
       "      <th>Nome</th>\n",
       "      <th>Idade</th>\n",
       "    </tr>\n",
       "  </thead>\n",
       "  <tbody>\n",
       "    <tr>\n",
       "      <th>0</th>\n",
       "      <td>Rolf</td>\n",
       "      <td>25.0</td>\n",
       "    </tr>\n",
       "    <tr>\n",
       "      <th>1</th>\n",
       "      <td>Adam</td>\n",
       "      <td>30.0</td>\n",
       "    </tr>\n",
       "    <tr>\n",
       "      <th>2</th>\n",
       "      <td>Anne</td>\n",
       "      <td>27.0</td>\n",
       "    </tr>\n",
       "    <tr>\n",
       "      <th>4</th>\n",
       "      <td>Breno</td>\n",
       "      <td>33.0</td>\n",
       "    </tr>\n",
       "  </tbody>\n",
       "</table>\n",
       "</div>"
      ],
      "text/plain": [
       "    Nome  Idade\n",
       "0   Rolf   25.0\n",
       "1   Adam   30.0\n",
       "2   Anne   27.0\n",
       "4  Breno   33.0"
      ]
     },
     "execution_count": 145,
     "metadata": {},
     "output_type": "execute_result"
    }
   ],
   "source": [
    "friend_amigos[friend_amigos[\"Idade\"] >= 25.0]"
   ]
  },
  {
   "cell_type": "code",
   "execution_count": 151,
   "metadata": {},
   "outputs": [
    {
     "data": {
      "text/plain": [
       "33.0"
      ]
     },
     "execution_count": 151,
     "metadata": {},
     "output_type": "execute_result"
    }
   ],
   "source": [
    "friend_amigos[\"Idade\"].max()"
   ]
  },
  {
   "cell_type": "code",
   "execution_count": 152,
   "metadata": {},
   "outputs": [
    {
     "data": {
      "text/plain": [
       "27.0"
      ]
     },
     "execution_count": 152,
     "metadata": {},
     "output_type": "execute_result"
    }
   ],
   "source": [
    "friend_amigos[\"Idade\"].median()"
   ]
  },
  {
   "cell_type": "code",
   "execution_count": 70,
   "metadata": {},
   "outputs": [],
   "source": [
    "#Resolvendo o desafio com uma funcao\n",
    "\n",
    "def friend_25(dicionario_teste, idade_minima):\n",
    "    nomes_salvos = []\n",
    "\n",
    "    nomes = list(dicionario_teste.keys())\n",
    "    idades = list(dicionario_teste.values())\n",
    "    \n",
    "    for i in range(0, len(idades)):\n",
    "        if idades[i] >= idade_minima:\n",
    "            nomes_salvos.append(nomes[i])\n",
    "    return(nomes_salvos)\n",
    "        "
   ]
  },
  {
   "cell_type": "code",
   "execution_count": 74,
   "metadata": {},
   "outputs": [
    {
     "data": {
      "text/plain": [
       "['Adam', 'Anne', 'Breno']"
      ]
     },
     "execution_count": 74,
     "metadata": {},
     "output_type": "execute_result"
    }
   ],
   "source": [
    "resultado = friend_25(friend_ages, 25)\n",
    "resultado"
   ]
  },
  {
   "cell_type": "code",
   "execution_count": 79,
   "metadata": {},
   "outputs": [
    {
     "data": {
      "text/plain": [
       "['Adam', 'Anne']"
      ]
     },
     "execution_count": 79,
     "metadata": {},
     "output_type": "execute_result"
    }
   ],
   "source": [
    "friend_ages = {\"Rolf\": 24, \"Adam\": 30, \"Anne\": 27, 'Zé': 24}\n",
    "\n",
    "lista = []\n",
    "\n",
    "for key in  friend_ages:\n",
    "    if friend_ages[key] >= 25:\n",
    "        lista.append(key)\n",
    "lista"
   ]
  },
  {
   "cell_type": "markdown",
   "metadata": {},
   "source": [
    "### Essa parte é extra para vocês estudarem após a aula"
   ]
  },
  {
   "cell_type": "code",
   "execution_count": null,
   "metadata": {},
   "outputs": [],
   "source": [
    "## Estrutura while e if\n",
    "\n",
    "import random\n",
    "lista_teste = random.sample(range(1, 100), 10)\n",
    "\n",
    "while len(lista_teste) > 5:\n",
    "    print(\"A lista atual é:\", lista_teste)\n",
    "    \n",
    "    user_input = int(input('Digite um número para ser excluído: '))\n",
    "    \n",
    "    if user_input in lista_teste:\n",
    "        lista_teste.remove(user_input)\n",
    "        \n",
    "print(\"Vamos parar por aqui\")"
   ]
  },
  {
   "cell_type": "code",
   "execution_count": null,
   "metadata": {},
   "outputs": [],
   "source": [
    "friends = [(\"Rolf\", 25), (\"Anne\", 37), (\"Charlie\", 31), (\"Bob\", 22)]\n",
    "for name, age in friends:  \n",
    "    print(f\"{name} is {age} years old.\")"
   ]
  },
  {
   "cell_type": "code",
   "execution_count": null,
   "metadata": {},
   "outputs": [],
   "source": [
    "cars = [\"ok\", \"ok\", \"ok\", \"faulty\", \"ok\", \"ok\"]\n",
    "\n",
    "for status in cars:\n",
    "    if status == \"faulty\":\n",
    "        print(\"Stopping the production line!\")\n",
    "        break\n",
    "\n",
    "    else:\n",
    "        print(\"All cars built successfully. No faulty cars!\")"
   ]
  },
  {
   "cell_type": "code",
   "execution_count": null,
   "metadata": {},
   "outputs": [],
   "source": []
  },
  {
   "cell_type": "code",
   "execution_count": null,
   "metadata": {},
   "outputs": [],
   "source": []
  }
 ],
 "metadata": {
  "kernelspec": {
   "display_name": "Python 3",
   "language": "python",
   "name": "python3"
  },
  "language_info": {
   "codemirror_mode": {
    "name": "ipython",
    "version": 3
   },
   "file_extension": ".py",
   "mimetype": "text/x-python",
   "name": "python",
   "nbconvert_exporter": "python",
   "pygments_lexer": "ipython3",
   "version": "3.7.6"
  }
 },
 "nbformat": 4,
 "nbformat_minor": 4
}
