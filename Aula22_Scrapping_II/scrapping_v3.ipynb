{
 "cells": [
  {
   "cell_type": "markdown",
   "metadata": {},
   "source": [
    "# Teoria"
   ]
  },
  {
   "cell_type": "markdown",
   "metadata": {},
   "source": [
    "## O que é"
   ]
  },
  {
   "cell_type": "markdown",
   "metadata": {},
   "source": [
    "A coleta de dados web, ou raspagem web, é uma forma de mineração que permite a extração de dados de sites da web convertendo-os em informação estruturada para posterior análise. O tipo mais básico de coleta é o download manual das páginas, copiando e colando o conteúdo, e isso pode ser feito por qualquer pessoa. Contudo, essa técnica geralmente é feita através de um software que simula uma navegação humana por diversos sites, extraindo informações específicas. É um campo com ativa evolução que compartilha um objetivo comum com a visão da web semântica, uma iniciativa ambiciosa que ainda requer avanços no processamento de texto, compreensão semantical, inteligência artificial e interação homem-computador. A coleta de dados web é muito semelhante à indexação web (utilizado pela maioria dos motores de busca), mas a motivação final é muito diferente. A indexação web é usada para ajudar a tornar os motores de busca mais eficientes, já a coleta de dados é tipicamente usada para diferentes razões, como comparação de preços online, monitoramentos meteorológicos, pesquisas de mercado, coleta de dados governamentais, monitoramento de dados e, em alguns casos, roubo.\n",
    "\n",
    "https://pt.wikipedia.org/wiki/Coleta_de_dados_web"
   ]
  },
  {
   "cell_type": "markdown",
   "metadata": {},
   "source": [
    "<img src='./img/alternativas.png'>"
   ]
  },
  {
   "cell_type": "markdown",
   "metadata": {},
   "source": [
    "<img src='./img/tecnicas.png'>"
   ]
  },
  {
   "cell_type": "markdown",
   "metadata": {},
   "source": [
    "## Cases"
   ]
  },
  {
   "cell_type": "markdown",
   "metadata": {},
   "source": [
    "<b> Disputa envolvendo empresas de recolocação profissional </b>\n",
    "\n",
    "Em 2003, Gelre Informática S/C Ltda. ajuizou ação de indenização contra Catho On Line S/C Ltda alegando que a Catho acessou de forma anormal o sítio eletrônico da Gelre com o objetivo de capturar dados que não estariam disponíveis da mesma forma se o acesso tivesse ocorrido como um cliente-usuário.\n",
    "\n",
    "Nesse contexto, a Catho foi condenada a pagar R$ 13,6 milhões à concorrente Gelre por ter se apropriado de quase 300 mil currículos entre 2001 e 2002 com o objetivo de oferecer os seus serviços a quem procurava emprego.\n",
    "\n",
    "De acordo com a sentença do então juiz de Direito, e atual desembargador, Luís Mario Galbetti, na época da 33ª Vara Cível de São Paulo, as principais provas contra a Catho foram encontradas em computadores da própria empresa apreendidos após determinação da Justiça. Segundo o juiz, funcionários da Catho se cadastraram no site da Gelre e passaram a usar programas para capturar currículos da concorrente.\n",
    "\n",
    "O esquema começou a ser descoberto quando a Gelre identificou uma movimentação atípica em seus bancos de dados. Um rastreamento dos acessos aos currículos levou os peritos a computadores em escritórios da Catho, que foram apreendidos sob determinação judicial.\n",
    "\n",
    "A perícia realizada neste processo indicou que, na comparação dos bancos de dados da Catho e da Gelre foram encontrados 272.479 currículos exatamente iguais, razão pela qual a Catho foi condenada ao pagamento de indenização no valor de R$ 13,6 milhões. Observando que no confronto dos 3,8 milhões de endereços da Catho com os 499 mil da Gelre foram encontrados 272.479 endereços eletrônicos coincidentes, o Juiz arbitrou como valor indenizatório devido á Gelre o montante de BRL 13.623.950,00. Para encontrar este valor este magistrado levou em conta o valor cobrado pela Catho de BRL 50,00 por mês por currículo inserido.\n",
    "\n",
    "https://www.ldsoft.com.br/blogs/riscos-envolvendo-a-pratica-de-scraping-a-luz-do-ordenamento-juridico-nacional/\n",
    "\n",
    "<b> Alguns outros casos </b>\n",
    "https://jaxenter.com/data-scraping-cases-165385.html"
   ]
  },
  {
   "cell_type": "markdown",
   "metadata": {},
   "source": [
    "## Provedores de serviço"
   ]
  },
  {
   "cell_type": "markdown",
   "metadata": {},
   "source": [
    "<table>\n",
    "<tr>\n",
    "    <td align='center'><b>Octoparse</b></td>\n",
    "    <td align='center'><b>80Legs</b></td>\n",
    "    <td align='center'><b>Mozenda</b></td>\n",
    "    <td align='center'><b>Import.io</b></td>\n",
    "<tr>\n",
    "    <td>\n",
    "        <img src=\"./img/octoparse.jpg\">Octoparse\n",
    "    </td>\n",
    "    <td>\n",
    "        <img src=\"./img/mozenda.jpg\">Mozenda\n",
    "    </td>\n",
    "    <td>\n",
    "        <img src=\"./img/80legs.png\">80Legs\n",
    "    </td>\n",
    "    <td>\n",
    "        <img src=\"./img/import.io.jpg\">Import.io\n",
    "    </td>\n",
    "\n",
    "</table>\n",
    "\n",
    "https://elemento.ag/blog/ferramentas-web-scrapping-para-2020/"
   ]
  },
  {
   "cell_type": "markdown",
   "metadata": {},
   "source": [
    "## HTML"
   ]
  },
  {
   "cell_type": "markdown",
   "metadata": {},
   "source": [
    "<img src='https://cdn-images-1.medium.com/max/1000/0*ETFzXPCNHkPpqNv_.png'>"
   ]
  },
  {
   "cell_type": "markdown",
   "metadata": {},
   "source": [
    "Referência: https://www.w3schools.com/"
   ]
  },
  {
   "cell_type": "markdown",
   "metadata": {},
   "source": [
    "# Prática"
   ]
  },
  {
   "cell_type": "markdown",
   "metadata": {},
   "source": [
    "## Páginas estáticas"
   ]
  },
  {
   "cell_type": "markdown",
   "metadata": {},
   "source": [
    "Referência: https://www.w3schools.com/"
   ]
  },
  {
   "cell_type": "code",
   "execution_count": 1,
   "metadata": {},
   "outputs": [],
   "source": [
    "import pandas as pd\n",
    "import numpy as np"
   ]
  },
  {
   "cell_type": "code",
   "execution_count": 2,
   "metadata": {},
   "outputs": [
    {
     "data": {
      "text/html": [
       "<div>\n",
       "<style scoped>\n",
       "    .dataframe tbody tr th:only-of-type {\n",
       "        vertical-align: middle;\n",
       "    }\n",
       "\n",
       "    .dataframe tbody tr th {\n",
       "        vertical-align: top;\n",
       "    }\n",
       "\n",
       "    .dataframe thead th {\n",
       "        text-align: right;\n",
       "    }\n",
       "</style>\n",
       "<table border=\"1\" class=\"dataframe\">\n",
       "  <thead>\n",
       "    <tr style=\"text-align: right;\">\n",
       "      <th></th>\n",
       "      <th>a</th>\n",
       "      <th>b</th>\n",
       "    </tr>\n",
       "  </thead>\n",
       "  <tbody>\n",
       "    <tr>\n",
       "      <th>0</th>\n",
       "      <td>1</td>\n",
       "      <td>4</td>\n",
       "    </tr>\n",
       "    <tr>\n",
       "      <th>1</th>\n",
       "      <td>2</td>\n",
       "      <td>5</td>\n",
       "    </tr>\n",
       "    <tr>\n",
       "      <th>2</th>\n",
       "      <td>3</td>\n",
       "      <td>6</td>\n",
       "    </tr>\n",
       "  </tbody>\n",
       "</table>\n",
       "</div>"
      ],
      "text/plain": [
       "   a  b\n",
       "0  1  4\n",
       "1  2  5\n",
       "2  3  6"
      ]
     },
     "execution_count": 2,
     "metadata": {},
     "output_type": "execute_result"
    }
   ],
   "source": [
    "df = pd.DataFrame.from_dict({'a':[1,2,3],'b':[4,5,6]})\n",
    "df"
   ]
  },
  {
   "cell_type": "code",
   "execution_count": 3,
   "metadata": {},
   "outputs": [
    {
     "name": "stdout",
     "output_type": "stream",
     "text": [
      "<table border=\"1\" class=\"dataframe\">\n",
      "  <thead>\n",
      "    <tr style=\"text-align: right;\">\n",
      "      <th></th>\n",
      "      <th>a</th>\n",
      "      <th>b</th>\n",
      "    </tr>\n",
      "  </thead>\n",
      "  <tbody>\n",
      "    <tr>\n",
      "      <th>0</th>\n",
      "      <td>1</td>\n",
      "      <td>4</td>\n",
      "    </tr>\n",
      "    <tr>\n",
      "      <th>1</th>\n",
      "      <td>2</td>\n",
      "      <td>5</td>\n",
      "    </tr>\n",
      "    <tr>\n",
      "      <th>2</th>\n",
      "      <td>3</td>\n",
      "      <td>6</td>\n",
      "    </tr>\n",
      "  </tbody>\n",
      "</table>\n"
     ]
    }
   ],
   "source": [
    "print(df.to_html())"
   ]
  },
  {
   "cell_type": "code",
   "execution_count": 4,
   "metadata": {},
   "outputs": [
    {
     "data": {
      "text/plain": [
       "'<table border=\"1\" class=\"dataframe\">\\n  <thead>\\n    <tr style=\"text-align: right;\">\\n      <th></th>\\n      <th>a</th>\\n      <th>b</th>\\n    </tr>\\n  </thead>\\n  <tbody>\\n    <tr>\\n      <th>0</th>\\n      <td>1</td>\\n      <td>4</td>\\n    </tr>\\n    <tr>\\n      <th>1</th>\\n      <td>2</td>\\n      <td>5</td>\\n    </tr>\\n    <tr>\\n      <th>2</th>\\n      <td>3</td>\\n      <td>6</td>\\n    </tr>\\n  </tbody>\\n</table>'"
      ]
     },
     "execution_count": 4,
     "metadata": {},
     "output_type": "execute_result"
    }
   ],
   "source": [
    "#f = open('aula.html', 'x') # x -> create, w -> write, r -> read, a -> append (escreve no final)\n",
    "f = open('aula.html', 'w')\n",
    "f.write(df.to_html())\n",
    "f.close()\n",
    "f = open('aula.html', 'r')\n",
    "f.read()"
   ]
  },
  {
   "cell_type": "code",
   "execution_count": 5,
   "metadata": {
    "scrolled": true
   },
   "outputs": [
    {
     "data": {
      "text/plain": [
       "_io.TextIOWrapper"
      ]
     },
     "execution_count": 5,
     "metadata": {},
     "output_type": "execute_result"
    }
   ],
   "source": [
    "type(f)"
   ]
  },
  {
   "cell_type": "code",
   "execution_count": 6,
   "metadata": {
    "scrolled": true
   },
   "outputs": [
    {
     "name": "stdout",
     "output_type": "stream",
     "text": [
      "<table border=\"1\" class=\"dataframe\">\n",
      "  <thead>\n",
      "    <tr style=\"text-align: right;\">\n",
      "      <th></th>\n",
      "      <th>a</th>\n",
      "      <th>b</th>\n",
      "    </tr>\n",
      "  </thead>\n",
      "  <tbody>\n",
      "    <tr>\n",
      "      <th>0</th>\n",
      "      <td>1</td>\n",
      "      <td>4</td>\n",
      "    </tr>\n",
      "    <tr>\n",
      "      <th>1</th>\n",
      "      <td>2</td>\n",
      "      <td>5</td>\n",
      "    </tr>\n",
      "    <tr>\n",
      "      <th>2</th>\n",
      "      <td>3</td>\n",
      "      <td>6</td>\n",
      "    </tr>\n",
      "  </tbody>\n",
      "</table>\n"
     ]
    }
   ],
   "source": [
    "f = open('aula.html', 'r')\n",
    "print(f.read())"
   ]
  },
  {
   "cell_type": "markdown",
   "metadata": {},
   "source": [
    "----\n",
    "<font color='red' size=5> Abrindo o arquivo gerado ('aula.html') no navegador (comando a seguir ou através do windows explorer).</font>\n",
    "\n",
    "----\n"
   ]
  },
  {
   "cell_type": "code",
   "execution_count": 7,
   "metadata": {},
   "outputs": [
    {
     "name": "stdout",
     "output_type": "stream",
     "text": [
      "/bin/bash: aula.html: comando não encontrado\n"
     ]
    }
   ],
   "source": [
    "!aula.html"
   ]
  },
  {
   "cell_type": "markdown",
   "metadata": {},
   "source": [
    "### Beautiful Soup\n",
    "Referência: https://www.crummy.com/software/BeautifulSoup/bs4/doc/"
   ]
  },
  {
   "cell_type": "code",
   "execution_count": 8,
   "metadata": {
    "scrolled": true
   },
   "outputs": [
    {
     "data": {
      "text/plain": [
       "<table border=\"1\" class=\"dataframe\">\n",
       "<thead>\n",
       "<tr style=\"text-align: right;\">\n",
       "<th></th>\n",
       "<th>a</th>\n",
       "<th>b</th>\n",
       "</tr>\n",
       "</thead>\n",
       "<tbody>\n",
       "<tr>\n",
       "<th>0</th>\n",
       "<td>1</td>\n",
       "<td>4</td>\n",
       "</tr>\n",
       "<tr>\n",
       "<th>1</th>\n",
       "<td>2</td>\n",
       "<td>5</td>\n",
       "</tr>\n",
       "<tr>\n",
       "<th>2</th>\n",
       "<td>3</td>\n",
       "<td>6</td>\n",
       "</tr>\n",
       "</tbody>\n",
       "</table>"
      ]
     },
     "execution_count": 8,
     "metadata": {},
     "output_type": "execute_result"
    }
   ],
   "source": [
    "from bs4 import BeautifulSoup\n",
    "f = open('aula.html', 'r')\n",
    "soup = BeautifulSoup(f, 'html.parser')\n",
    "soup"
   ]
  },
  {
   "cell_type": "code",
   "execution_count": 9,
   "metadata": {
    "scrolled": true
   },
   "outputs": [
    {
     "name": "stdout",
     "output_type": "stream",
     "text": [
      "4\n"
     ]
    },
    {
     "data": {
      "text/plain": [
       "[<tr style=\"text-align: right;\">\n",
       " <th></th>\n",
       " <th>a</th>\n",
       " <th>b</th>\n",
       " </tr>,\n",
       " <tr>\n",
       " <th>0</th>\n",
       " <td>1</td>\n",
       " <td>4</td>\n",
       " </tr>,\n",
       " <tr>\n",
       " <th>1</th>\n",
       " <td>2</td>\n",
       " <td>5</td>\n",
       " </tr>,\n",
       " <tr>\n",
       " <th>2</th>\n",
       " <td>3</td>\n",
       " <td>6</td>\n",
       " </tr>]"
      ]
     },
     "execution_count": 9,
     "metadata": {},
     "output_type": "execute_result"
    }
   ],
   "source": [
    "tr = soup.find_all('tr')\n",
    "print(len(tr))\n",
    "tr"
   ]
  },
  {
   "cell_type": "code",
   "execution_count": 10,
   "metadata": {},
   "outputs": [
    {
     "data": {
      "text/plain": [
       "<tr style=\"text-align: right;\">\n",
       "<th></th>\n",
       "<th>a</th>\n",
       "<th>b</th>\n",
       "</tr>"
      ]
     },
     "execution_count": 10,
     "metadata": {},
     "output_type": "execute_result"
    }
   ],
   "source": [
    "tr[0]"
   ]
  },
  {
   "cell_type": "code",
   "execution_count": 11,
   "metadata": {},
   "outputs": [
    {
     "data": {
      "text/plain": [
       "<tr>\n",
       "<th>0</th>\n",
       "<td>1</td>\n",
       "<td>4</td>\n",
       "</tr>"
      ]
     },
     "execution_count": 11,
     "metadata": {},
     "output_type": "execute_result"
    }
   ],
   "source": [
    "tr[1]"
   ]
  },
  {
   "cell_type": "code",
   "execution_count": 12,
   "metadata": {},
   "outputs": [
    {
     "data": {
      "text/plain": [
       "<td>1</td>"
      ]
     },
     "execution_count": 12,
     "metadata": {},
     "output_type": "execute_result"
    }
   ],
   "source": [
    "tr[1].td"
   ]
  },
  {
   "cell_type": "code",
   "execution_count": 13,
   "metadata": {},
   "outputs": [
    {
     "data": {
      "text/plain": [
       "[<td>1</td>, <td>4</td>]"
      ]
     },
     "execution_count": 13,
     "metadata": {},
     "output_type": "execute_result"
    }
   ],
   "source": [
    "td = tr[1].find_all('td')\n",
    "td"
   ]
  },
  {
   "cell_type": "code",
   "execution_count": 14,
   "metadata": {},
   "outputs": [
    {
     "data": {
      "text/plain": [
       "<td>1</td>"
      ]
     },
     "execution_count": 14,
     "metadata": {},
     "output_type": "execute_result"
    }
   ],
   "source": [
    "td[0]"
   ]
  },
  {
   "cell_type": "code",
   "execution_count": 15,
   "metadata": {},
   "outputs": [
    {
     "data": {
      "text/plain": [
       "'1'"
      ]
     },
     "execution_count": 15,
     "metadata": {},
     "output_type": "execute_result"
    }
   ],
   "source": [
    "td[0].text"
   ]
  },
  {
   "cell_type": "code",
   "execution_count": 16,
   "metadata": {
    "scrolled": true
   },
   "outputs": [],
   "source": [
    "f = open('aula.html', 'a')\n",
    "df = pd.DataFrame.from_dict({'a':[2,4,6],'b':[8,10,12]})\n",
    "f.write(df.to_html(border=5, classes='exemplo'))\n",
    "f.close()"
   ]
  },
  {
   "cell_type": "code",
   "execution_count": 17,
   "metadata": {
    "scrolled": true
   },
   "outputs": [],
   "source": [
    "from bs4 import BeautifulSoup\n",
    "f = open('aula.html', 'r')\n",
    "soup = BeautifulSoup(f, 'html.parser')\n",
    "table = soup.find_all('table', border = '5')"
   ]
  },
  {
   "cell_type": "code",
   "execution_count": 18,
   "metadata": {
    "scrolled": true
   },
   "outputs": [
    {
     "data": {
      "text/plain": [
       "[<table border=\"5\" class=\"dataframe exemplo\">\n",
       " <thead>\n",
       " <tr style=\"text-align: right;\">\n",
       " <th></th>\n",
       " <th>a</th>\n",
       " <th>b</th>\n",
       " </tr>\n",
       " </thead>\n",
       " <tbody>\n",
       " <tr>\n",
       " <th>0</th>\n",
       " <td>2</td>\n",
       " <td>8</td>\n",
       " </tr>\n",
       " <tr>\n",
       " <th>1</th>\n",
       " <td>4</td>\n",
       " <td>10</td>\n",
       " </tr>\n",
       " <tr>\n",
       " <th>2</th>\n",
       " <td>6</td>\n",
       " <td>12</td>\n",
       " </tr>\n",
       " </tbody>\n",
       " </table>]"
      ]
     },
     "execution_count": 18,
     "metadata": {},
     "output_type": "execute_result"
    }
   ],
   "source": [
    "table"
   ]
  },
  {
   "cell_type": "code",
   "execution_count": 19,
   "metadata": {
    "scrolled": true
   },
   "outputs": [
    {
     "name": "stdout",
     "output_type": "stream",
     "text": [
      "<table border=\"1\" class=\"dataframe\">\n",
      "  <thead>\n",
      "    <tr style=\"text-align: right;\">\n",
      "      <th></th>\n",
      "      <th>a</th>\n",
      "      <th>b</th>\n",
      "    </tr>\n",
      "  </thead>\n",
      "  <tbody>\n",
      "    <tr>\n",
      "      <th>0</th>\n",
      "      <td>1</td>\n",
      "      <td>4</td>\n",
      "    </tr>\n",
      "    <tr>\n",
      "      <th>1</th>\n",
      "      <td>2</td>\n",
      "      <td>5</td>\n",
      "    </tr>\n",
      "    <tr>\n",
      "      <th>2</th>\n",
      "      <td>3</td>\n",
      "      <td>6</td>\n",
      "    </tr>\n",
      "  </tbody>\n",
      "</table><table border=\"5\" class=\"dataframe exemplo\">\n",
      "  <thead>\n",
      "    <tr style=\"text-align: right;\">\n",
      "      <th></th>\n",
      "      <th>a</th>\n",
      "      <th>b</th>\n",
      "    </tr>\n",
      "  </thead>\n",
      "  <tbody>\n",
      "    <tr>\n",
      "      <th>0</th>\n",
      "      <td>2</td>\n",
      "      <td>8</td>\n",
      "    </tr>\n",
      "    <tr>\n",
      "      <th>1</th>\n",
      "      <td>4</td>\n",
      "      <td>10</td>\n",
      "    </tr>\n",
      "    <tr>\n",
      "      <th>2</th>\n",
      "      <td>6</td>\n",
      "      <td>12</td>\n",
      "    </tr>\n",
      "  </tbody>\n",
      "</table>\n"
     ]
    }
   ],
   "source": [
    "f = open('aula.html', 'r')\n",
    "print(f.read())\n",
    "f.close()"
   ]
  },
  {
   "cell_type": "markdown",
   "metadata": {},
   "source": [
    "#### Exercício (tempo previsto: <10 min)\n",
    "\n",
    "- A partir do arquivo 'exercicio01.html', construa um código que imprima os seguintes valores:\n",
    "  - Célula que está na 1a COLUNA da 2a LINHA da tabela com id 1\n",
    "  - Última célula da tabela da classe exemplo\n",
    "  - Título da 1a coluna \n"
   ]
  },
  {
   "cell_type": "code",
   "execution_count": 20,
   "metadata": {
    "scrolled": true
   },
   "outputs": [
    {
     "name": "stdout",
     "output_type": "stream",
     "text": [
      "/bin/bash: exercicio01.html: comando não encontrado\n"
     ]
    }
   ],
   "source": [
    "!exercicio01.html"
   ]
  },
  {
   "cell_type": "code",
   "execution_count": 21,
   "metadata": {
    "scrolled": true
   },
   "outputs": [
    {
     "ename": "FileNotFoundError",
     "evalue": "[Errno 2] No such file or directory: 'exercicio01.html'",
     "output_type": "error",
     "traceback": [
      "\u001b[0;31m---------------------------------------------------------------------------\u001b[0m",
      "\u001b[0;31mFileNotFoundError\u001b[0m                         Traceback (most recent call last)",
      "\u001b[0;32m<ipython-input-21-6b10327fcb5d>\u001b[0m in \u001b[0;36m<module>\u001b[0;34m\u001b[0m\n\u001b[0;32m----> 1\u001b[0;31m \u001b[0mf\u001b[0m \u001b[0;34m=\u001b[0m \u001b[0mopen\u001b[0m\u001b[0;34m(\u001b[0m\u001b[0;34m'exercicio01.html'\u001b[0m\u001b[0;34m,\u001b[0m \u001b[0;34m'r'\u001b[0m\u001b[0;34m)\u001b[0m\u001b[0;34m\u001b[0m\u001b[0;34m\u001b[0m\u001b[0m\n\u001b[0m\u001b[1;32m      2\u001b[0m \u001b[0msoup\u001b[0m \u001b[0;34m=\u001b[0m \u001b[0mBeautifulSoup\u001b[0m\u001b[0;34m(\u001b[0m\u001b[0mf\u001b[0m\u001b[0;34m,\u001b[0m \u001b[0;34m'html.parser'\u001b[0m\u001b[0;34m)\u001b[0m\u001b[0;34m\u001b[0m\u001b[0;34m\u001b[0m\u001b[0m\n\u001b[1;32m      3\u001b[0m \u001b[0msoup\u001b[0m\u001b[0;34m\u001b[0m\u001b[0;34m\u001b[0m\u001b[0m\n",
      "\u001b[0;31mFileNotFoundError\u001b[0m: [Errno 2] No such file or directory: 'exercicio01.html'"
     ]
    }
   ],
   "source": [
    "f = open('exercicio01.html', 'r')\n",
    "soup = BeautifulSoup(f, 'html.parser')\n",
    "soup"
   ]
  },
  {
   "cell_type": "code",
   "execution_count": null,
   "metadata": {},
   "outputs": [],
   "source": [
    "table = soup.find_all('table', id = '1')\n",
    "table"
   ]
  },
  {
   "cell_type": "code",
   "execution_count": null,
   "metadata": {},
   "outputs": [],
   "source": [
    "type(table)"
   ]
  },
  {
   "cell_type": "code",
   "execution_count": null,
   "metadata": {},
   "outputs": [],
   "source": [
    "rows = table[0].find_all('tr')\n",
    "rows"
   ]
  },
  {
   "cell_type": "code",
   "execution_count": null,
   "metadata": {},
   "outputs": [],
   "source": [
    "values = rows[2].find_all('td')\n",
    "values[0].text"
   ]
  },
  {
   "cell_type": "code",
   "execution_count": null,
   "metadata": {},
   "outputs": [],
   "source": [
    "%load solucao_1.py"
   ]
  },
  {
   "cell_type": "code",
   "execution_count": null,
   "metadata": {},
   "outputs": [],
   "source": [
    "f = open('exercicio01.html', 'r')\n",
    "soup = BeautifulSoup(f, 'html.parser')\n",
    "table = soup.find_all('table', id = '1')\n",
    "rows = table[0].find_all('tr')\n",
    "values = rows[2].find_all('td')\n",
    "values[0].text"
   ]
  },
  {
   "cell_type": "code",
   "execution_count": null,
   "metadata": {},
   "outputs": [],
   "source": [
    "f = open('exercicio01.html', 'r')\n",
    "BeautifulSoup(f, 'html.parser').find_all('table', id = '1')[0].find_all('tr')[2].find_all('td')[0].text"
   ]
  },
  {
   "cell_type": "markdown",
   "metadata": {},
   "source": [
    "### Extensão Selector Gadget\n",
    "https://www.crummy.com/software/BeautifulSoup/bs4/doc/"
   ]
  },
  {
   "cell_type": "code",
   "execution_count": null,
   "metadata": {},
   "outputs": [],
   "source": [
    "import requests\n",
    "\n",
    "pagina = requests.get('https://www.crummy.com/software/BeautifulSoup/bs4/doc/')"
   ]
  },
  {
   "cell_type": "code",
   "execution_count": null,
   "metadata": {
    "scrolled": true
   },
   "outputs": [],
   "source": [
    "pagina.content"
   ]
  },
  {
   "cell_type": "code",
   "execution_count": null,
   "metadata": {},
   "outputs": [],
   "source": [
    "soup_2 = BeautifulSoup(pagina.content, 'html.parser')"
   ]
  },
  {
   "cell_type": "code",
   "execution_count": null,
   "metadata": {
    "scrolled": true
   },
   "outputs": [],
   "source": [
    "table = soup_2.select('.sphinxsidebarwrapper .internal')\n",
    "for i in table:\n",
    "    print(i.text)"
   ]
  },
  {
   "cell_type": "code",
   "execution_count": null,
   "metadata": {},
   "outputs": [],
   "source": [
    "table[0].text"
   ]
  },
  {
   "cell_type": "markdown",
   "metadata": {},
   "source": [
    "#### Exercício\n",
    "Usando o selector gadget, imprima a lista da primeira página do site da Amazon com os livros de 'data science'"
   ]
  },
  {
   "cell_type": "code",
   "execution_count": null,
   "metadata": {
    "scrolled": true
   },
   "outputs": [],
   "source": [
    "####### ----- Escreva seu código aqui ----- #######"
   ]
  },
  {
   "cell_type": "code",
   "execution_count": null,
   "metadata": {},
   "outputs": [],
   "source": [
    "# %load solucao_2.py\n",
    "url = 'https://www.amazon.com.br/s?k=data+science&__mk_pt_BR=%C3%85M%C3%85%C5%BD%C3%95%C3%91&ref=nb_sb_noss_2'\n",
    "pagina = requests.get(url)\n",
    "soup_2 = BeautifulSoup(pagina.content, 'html.parser')\n",
    "table = soup_2.select('.a-color-base.a-text-normal')\n",
    "for i in table:\n",
    "    print(i.text)"
   ]
  },
  {
   "cell_type": "markdown",
   "metadata": {},
   "source": [
    "## Páginas dinâmicas\n",
    "\n",
    "Em páginas dinâmicas, é necessário interagir com o site para que ele gere, dinamicamente, os dados de interesse."
   ]
  },
  {
   "cell_type": "code",
   "execution_count": null,
   "metadata": {
    "scrolled": true
   },
   "outputs": [],
   "source": [
    "f = open('aula.html', 'a')\n",
    "f.write('<p></p>')\n",
    "f.write('<p></p>')\n",
    "f.write('<form oninput=\"x.value=parseInt(a.value)+parseInt(b.value)\"><input type=\"range\" id=\"a\" value=\"50\">+<input type=\"number\" id=\"b\" value=\"25\">=<output name=\"x\" for=\"a b\"></output></form>')\n",
    "f.close()"
   ]
  },
  {
   "cell_type": "code",
   "execution_count": null,
   "metadata": {},
   "outputs": [],
   "source": [
    "!aula.html"
   ]
  },
  {
   "cell_type": "markdown",
   "metadata": {},
   "source": [
    "### Selenium\n",
    "\n",
    "Refência: https://selenium-python.readthedocs.io/"
   ]
  },
  {
   "cell_type": "code",
   "execution_count": null,
   "metadata": {},
   "outputs": [],
   "source": [
    "from selenium import webdriver\n",
    "\n",
    "# no WSL\n",
    "# driver = webdriver.Chrome('/usr/bin/chromedriver')\n",
    "\n",
    "# driver = webdriver.Chrome(executable_path='./chr_drv_84/chromedriver.exe')\n",
    "driver = webdriver.Chrome(executable_path='./chromedriver.exe')\n",
    "\n"
   ]
  },
  {
   "cell_type": "code",
   "execution_count": null,
   "metadata": {},
   "outputs": [],
   "source": [
    "from requests import get\n",
    "#url que iremos analisar\n",
    "url = 'https://groceries.asda.com/cat/home-entertainment/_/102592'\n",
    "response = get(url)"
   ]
  },
  {
   "cell_type": "code",
   "execution_count": null,
   "metadata": {
    "scrolled": true
   },
   "outputs": [],
   "source": [
    "print(response.content)"
   ]
  },
  {
   "cell_type": "code",
   "execution_count": null,
   "metadata": {},
   "outputs": [],
   "source": [
    "# chamada da página, deve abrir também a página on browser controlado pelo Selenium\n",
    "driver.get('https://groceries.asda.com/cat/home-entertainment/_/102592')"
   ]
  },
  {
   "cell_type": "code",
   "execution_count": null,
   "metadata": {},
   "outputs": [],
   "source": [
    "# utiliza o método que retorna uma lista com diversos elementos, através do nome da classe\n",
    "produtosClass = driver.find_elements_by_class_name('co-product__anchor')\n",
    "type(produtosClass)"
   ]
  },
  {
   "cell_type": "code",
   "execution_count": null,
   "metadata": {},
   "outputs": [],
   "source": [
    "print(len(produtosClass))\n",
    "# imprime os elementos da lista\n",
    "for i in range(len(produtosClass)):\n",
    "    print(produtosClass[i].text)"
   ]
  },
  {
   "cell_type": "code",
   "execution_count": null,
   "metadata": {},
   "outputs": [],
   "source": [
    "\"\"\"\n",
    "//*[@id=\"main-content\"]/main/div[9]/div[1]/ul/li[3]/div/div[2]/div[1]/h3/a\n",
    "//*[@id=\"main-content\"]/main/div[9]/div[1]/ul/li[4]/div/div[2]/div[1]/h3/a\n",
    "//*[@id=\"main-content\"]/main/div[9]/div[1]/ul/li[19]/div/div[2]/div[1]/h3/a\n",
    "\"\"\"\n"
   ]
  },
  {
   "cell_type": "code",
   "execution_count": null,
   "metadata": {},
   "outputs": [],
   "source": [
    "produtosXpath = driver.find_elements_by_xpath('//*[@id=\"main-content\"]/main/div[9]/div[1]/ul/li[2]/div/div[2]/div[1]/h3/a')\n",
    "print(len(produtosXpath), type(produtosXpath))\n",
    "produtosXpath[0].text"
   ]
  },
  {
   "cell_type": "code",
   "execution_count": null,
   "metadata": {},
   "outputs": [],
   "source": [
    "#//*[@id=\"main-content\"]/main/div[6]/div[1]/ul/li[3]/div/div[2]/div[1]/h3/a\n",
    "produtosXpath = driver.find_elements_by_xpath('//*[@id=\"main-content\"]/main/div[9]/div[1]/ul/li[3]/div/div[2]/div[1]/h3/a')\n",
    "print(len(produtosXpath))\n",
    "for i in range(len(produtosXpath)):\n",
    "    print(produtosXpath[i].text)"
   ]
  },
  {
   "cell_type": "code",
   "execution_count": null,
   "metadata": {},
   "outputs": [],
   "source": [
    "#//*[@id=\"main-content\"]/main/div[9]/div[1]/ul/li[2]/div/div[2]/div[1]/h3/a\n",
    "#//*[@id=\"main-content\"]/main/div[9]/div[1]/ul/li[3]/div/div[2]/div[1]/h3/a\n",
    "#//*[@id=\"main-content\"]/main/div[6]/div[1]/ul/li[5]/div/div[2]/div[1]/h3/a\n",
    "\n",
    "produtosXpath = driver.find_elements_by_xpath('//*[@id=\"main-content\"]/main/div[9]/div[1]/ul/li[*]/div/div[2]/div[1]/h3/a')\n",
    "print(len(produtosXpath))\n",
    "for i in range(len(produtosXpath)):\n",
    "    print(produtosXpath[i].text)"
   ]
  },
  {
   "cell_type": "markdown",
   "metadata": {},
   "source": [
    "#### Exercício (tempo previsto: <15 min)\n",
    "- Imprima os preços dos produtos da 1a página"
   ]
  },
  {
   "cell_type": "code",
   "execution_count": null,
   "metadata": {},
   "outputs": [],
   "source": [
    "####### ----- Escreva seu código aqui ----- #######"
   ]
  },
  {
   "cell_type": "code",
   "execution_count": null,
   "metadata": {},
   "outputs": [],
   "source": [
    "price_class = driver.find_elements_by_class_name('co-product__price')\n",
    "print(len(price_class))\n",
    "for i in range(len(price_class)):\n",
    "    print(price_class[i].text)"
   ]
  },
  {
   "cell_type": "markdown",
   "metadata": {},
   "source": [
    "#### Exercício (tempo previsto: <10 min)\n",
    "- Abra a página do Whiskas de 2 Kg"
   ]
  },
  {
   "cell_type": "code",
   "execution_count": null,
   "metadata": {},
   "outputs": [],
   "source": [
    "####### ----- Escreva seu código aqui ----- #######"
   ]
  },
  {
   "cell_type": "code",
   "execution_count": null,
   "metadata": {},
   "outputs": [],
   "source": [
    "# %load solucao_3.py\n",
    "from selenium.webdriver.common.keys import Keys\n",
    "driver.get('https://groceries.asda.com/cat/home-entertainment/_/102592')\n"
   ]
  },
  {
   "cell_type": "code",
   "execution_count": null,
   "metadata": {},
   "outputs": [],
   "source": [
    "search_term=\"whiskas\"\n",
    "# localizar a caixa de pesquisa\n",
    "searchTextBox=driver.find_element_by_id(\"search\")\n",
    "# limpar a caixa de pesquisa\n",
    "searchTextBox.clear()\n",
    "# incluir o termo de pesquisa\n",
    "searchTextBox.send_keys(search_term)"
   ]
  },
  {
   "cell_type": "code",
   "execution_count": null,
   "metadata": {},
   "outputs": [],
   "source": [
    "# buscar o termo no site\n",
    "searchTextBox.send_keys(Keys.RETURN)"
   ]
  },
  {
   "cell_type": "code",
   "execution_count": null,
   "metadata": {},
   "outputs": [],
   "source": [
    "volume_class = driver.find_elements_by_class_name('co-product__volume')\n",
    "index_list = []\n",
    "print(len(volume_class))\n",
    "for i in range(len(volume_class)):\n",
    "    if volume_class[i].text == '2kg':\n",
    "        index_list.append(i)\n",
    "index_list"
   ]
  },
  {
   "cell_type": "code",
   "execution_count": null,
   "metadata": {},
   "outputs": [],
   "source": [
    "link_class = driver.find_elements_by_class_name('co-product__anchor')\n",
    "for i in index_list:\n",
    "    print(link_class[i].text)"
   ]
  },
  {
   "cell_type": "code",
   "execution_count": null,
   "metadata": {},
   "outputs": [],
   "source": [
    "element = link_class[0]\n",
    "element.click()"
   ]
  },
  {
   "cell_type": "code",
   "execution_count": null,
   "metadata": {
    "scrolled": true
   },
   "outputs": [],
   "source": [
    "driver.page_source"
   ]
  },
  {
   "cell_type": "markdown",
   "metadata": {},
   "source": [
    "#### Exercício (tempo previsto: 30-60 min)\n",
    "\n",
    "- Imprima o preço de qualquer veículo com suas informações a partir do site da FIPE"
   ]
  },
  {
   "cell_type": "code",
   "execution_count": null,
   "metadata": {},
   "outputs": [],
   "source": [
    "####### ----- Escreva seu código aqui ----- #######"
   ]
  },
  {
   "cell_type": "code",
   "execution_count": null,
   "metadata": {},
   "outputs": [],
   "source": [
    "from selenium import webdriver\n",
    "\n",
    "driver = webdriver.Chrome(executable_path='./chr_drv_85/chromedriver.exe')"
   ]
  },
  {
   "cell_type": "code",
   "execution_count": null,
   "metadata": {},
   "outputs": [],
   "source": [
    "driver.get('https://veiculos.fipe.org.br/')"
   ]
  },
  {
   "cell_type": "code",
   "execution_count": null,
   "metadata": {},
   "outputs": [],
   "source": [
    "#front > div.content > div.tab.vertical.tab-veiculos > ul > li:nth-child(1) > a > div.title\n",
    "driver.find_element_by_css_selector('#front > div.content > div.tab.vertical.tab-veiculos > ul > li:nth-child(1) > a > div.title').click()"
   ]
  },
  {
   "cell_type": "code",
   "execution_count": null,
   "metadata": {},
   "outputs": [],
   "source": [
    "driver.find_element_by_id('selectMarcacarro').click()"
   ]
  },
  {
   "cell_type": "code",
   "execution_count": null,
   "metadata": {},
   "outputs": [],
   "source": [
    "ordem = '4'\n",
    "opcao_marca = '#selectMarcacarro > option:nth-child(' + ordem + ')'"
   ]
  },
  {
   "cell_type": "code",
   "execution_count": null,
   "metadata": {},
   "outputs": [],
   "source": [
    "opcao_marca"
   ]
  },
  {
   "cell_type": "code",
   "execution_count": null,
   "metadata": {},
   "outputs": [],
   "source": [
    "driver.find_element_by_css_selector(opcao_marca).click()"
   ]
  },
  {
   "cell_type": "code",
   "execution_count": null,
   "metadata": {},
   "outputs": [],
   "source": [
    "driver.find_element_by_id('selectAnoModelocarro').click()"
   ]
  },
  {
   "cell_type": "code",
   "execution_count": null,
   "metadata": {},
   "outputs": [],
   "source": [
    "ordem = '2'\n",
    "opcao_modelo = '#selectAnoModelocarro > option:nth-child('+ ordem + ')'\n",
    "driver.find_element_by_css_selector(opcao_modelo).click()"
   ]
  },
  {
   "cell_type": "code",
   "execution_count": null,
   "metadata": {},
   "outputs": [],
   "source": [
    "#selectAnocarro\n",
    "driver.find_element_by_id('selectAnocarro').click()"
   ]
  },
  {
   "cell_type": "code",
   "execution_count": null,
   "metadata": {},
   "outputs": [],
   "source": [
    "ordem = '1'\n",
    "\n",
    "opcao_ano = '#selectAnocarro > option:nth-child('+ ordem + ')'\n",
    "#elemento = driver.find_element_by_css_selector(opcao_ano)\n",
    "driver.find_element_by_xpath(\"/html/body/div[1]/section[2]/div[1]/div[2]/ul/li[1]/div/article[1]/div[2]/div[2]/div[2]/select/option[2]\").click()"
   ]
  },
  {
   "cell_type": "code",
   "execution_count": null,
   "metadata": {},
   "outputs": [],
   "source": [
    "driver.find_element_by_css_selector('#buttonPesquisarcarro').click()"
   ]
  },
  {
   "cell_type": "code",
   "execution_count": null,
   "metadata": {},
   "outputs": [],
   "source": [
    "preco = driver.find_element_by_css_selector('#resultadoConsultacarroFiltros > table > tbody > tr.last > td:nth-child(2) > p')\n",
    "preco.text"
   ]
  },
  {
   "cell_type": "code",
   "execution_count": null,
   "metadata": {},
   "outputs": [],
   "source": [
    "from selenium.webdriver.support.wait import WebDriverWait\n",
    "from selenium.webdriver.support import expected_conditions as EC\n",
    "from selenium.webdriver.common.by import By\n",
    "from selenium.common.exceptions import NoSuchElementException\n",
    "\n",
    "driver = webdriver.Chrome(executable_path='./chr_drv_85/chromedriver.exe')\n",
    "driver.get('https://veiculos.fipe.org.br/')\n",
    "driver.find_element_by_css_selector('#front > div.content > div.tab.vertical.tab-veiculos > ul > li:nth-child(1) > a > div.title').click()\n",
    "\n",
    "# Para configurar uma espera condicional, utilizar o bloco abaixo. O código a seguir aguarda até que o elemento com css_selector \n",
    "# 'selectMarcacarro_chosen' seja clicável\n",
    "lista_marcas = WebDriverWait(driver, 2).until(EC.element_to_be_clickable((By.CSS_SELECTOR,'#selectMarcacarro_chosen')))\n",
    "lista_marcas.click()\n",
    "\n",
    "# Tambem podemos configurar um código para exibir uma mensagem em caso de erro\n",
    "try:\n",
    "    ordem = '3'\n",
    "    opcao_marca = '#selectMarcacarro > div > ul > li:nth-child('+ ordem + ')'\n",
    "    driver.find_element_by_css_selector(opcao_marca).click()\n",
    "except NoSuchElementException:\n",
    "    print('elemento - ', opcao_marca, ' - não encontrado')\n",
    "\n",
    "lista_marcas.click()\n",
    "ordem = '3'\n",
    "opcao_marca = '#selectMarcacarro_chosen > div > ul > li:nth-child('+ ordem + ')'\n",
    "driver.find_element_by_css_selector(opcao_marca).click()\n",
    "\n",
    "driver.find_element_by_id('selectAnoModelocarro_chosen').click()\n",
    "ordem = '2'\n",
    "opcao_modelo = '#selectAnoModelocarro_chosen > div > ul > li:nth-child('+ ordem + ')'\n",
    "driver.find_element_by_css_selector(opcao_modelo).click()\n",
    "\n",
    "driver.find_element_by_id('selectAnocarro_chosen').click()\n",
    "ordem = '2'\n",
    "opcao_ano = '#selectAnocarro_chosen > div > ul > li:nth-child('+ ordem + ')'\n",
    "driver.find_element_by_css_selector(opcao_ano).click()\n",
    "\n",
    "driver.find_element_by_css_selector('#buttonPesquisarcarro').click()\n",
    "\n",
    "preco = driver.find_element_by_css_selector('#resultadoConsultacarroFiltros > table > tbody > tr.last > td:nth-child(2) > p')\n",
    "print(preco.text)\n",
    "\n",
    "driver.quit()"
   ]
  },
  {
   "cell_type": "markdown",
   "metadata": {},
   "source": [
    "### Selenium IDE"
   ]
  },
  {
   "cell_type": "markdown",
   "metadata": {},
   "source": [
    "\n",
    "![Selenium](./img/seleniumIDE.png)\n",
    "\n",
    "https://www.seleniumhq.org/selenium-ide/"
   ]
  },
  {
   "cell_type": "code",
   "execution_count": null,
   "metadata": {},
   "outputs": [],
   "source": [
    "# executable_path='./chromedriver_win32/chromedriver.exe'\n",
    "# %load test_scrapping.py\n",
    "# Generated by Selenium IDE\n",
    "import pytest\n",
    "import time\n",
    "import json\n",
    "from selenium import webdriver\n",
    "from selenium.webdriver.common.by import By\n",
    "from selenium.webdriver.common.action_chains import ActionChains\n",
    "from selenium.webdriver.support import expected_conditions\n",
    "from selenium.webdriver.support.wait import WebDriverWait\n",
    "from selenium.webdriver.support import expected_conditions as EC\n",
    "from selenium.webdriver.common.keys import Keys\n",
    "from selenium.webdriver.common.desired_capabilities import DesiredCapabilities\n",
    "\"\"\"\n",
    "======================================= LER COM ATENÇÃO =======================================\n",
    "1. O arquivo cria uma classe 'TestScrapping'. Portanto, para ser utilizada, precisa ser criada uma instância dessa classe. Por isso a célula \n",
    "> teste = TestScrapping()\n",
    "\n",
    "2 A classe possui um método \"setup_method\" que nada mais faz do que inicializar um webdriver. Por isso a célula\n",
    "> teste.setup_method()\n",
    "obs. O código que vem do gravador não inclui o path. É preciso ajustar isso antes de usar.\n",
    "\n",
    "3 A função 'test_scrapping' é um método da classe 'TestScrapping',  que é a parte do código que efetivamente executa o teste. Por isso a célula \n",
    "> teste.test_scrapping()\n",
    "\n",
    "4. Não consegui extrair do gravador um código que funcionasse exatamente como na gravação. Copiei o código que utilizei no exercício. Curiosamente, quando dentro da classe, foi necessário utilizar a funcionalidade da espera condicional para o primeiro elemento do processo. Sem isso não funcionava.\n",
    "======================================= LER COM ATENÇÃO =======================================\n",
    "\"\"\"\n",
    "class TestScrapping():\n",
    "  def setup_method(self, method):\n",
    "    self.driver = webdriver.Chrome(executable_path='./chromedriver_win32/chromedriver.exe')\n",
    "    self.vars = {}\n",
    "  \n",
    "  def teardown_method(self, method):\n",
    "    self.driver.quit()\n",
    "  \n",
    "  def test_scrapping(self):\n",
    "    self.driver.get(\"https://veiculos.fipe.org.br/\")\n",
    "#    self.driver.find_element_by_css_selector('#front > div.content > div.tab.vertical.tab-veiculos > ul > li:nth-child(1) > a > div.title').click()\n",
    "\n",
    "    try:\n",
    "        element = WebDriverWait(self.driver, 10).until(EC.element_to_be_clickable((By.CSS_SELECTOR,'#front > div.content > div.tab.vertical.tab-veiculos > ul > li:nth-child(1) > a > div.title')))\n",
    "        element.click()\n",
    "        print('ok')\n",
    "    except:\n",
    "        print('elemento não encontrado')\n",
    "        driver.quit()\n",
    "\n",
    "\n",
    "    try:\n",
    "        element = WebDriverWait(self.driver, 10).until(EC.element_to_be_clickable((By.CSS_SELECTOR,'#selectMarcacarro')))\n",
    "        element.click()\n",
    "        print('ok')\n",
    "    except:\n",
    "        print('elemento não encontrado')\n",
    "        driver.quit()\n",
    "\n",
    "\n",
    "    #driver.find_element_by_id('selectMarcacarro').click()\n",
    "    ordem = '10'\n",
    "    opcao_marca = '#selectMarcacarro > option:nth-child('+ ordem + ')'\n",
    "    self.driver.find_element_by_css_selector(opcao_marca).click()\n",
    "\n",
    "    self.driver.find_element_by_id('selectAnoModelocarro').click()\n",
    "    ordem = '2'\n",
    "    opcao_modelo = '#selectAnoModelocarro > option:nth-child('+ ordem + ')'\n",
    "    self.driver.find_element_by_css_selector(opcao_modelo).click()\n",
    "\n",
    "    self.driver.find_element_by_id('selectAnocarro').click()\n",
    "    ordem = '2'\n",
    "    opcao_ano = '#selectAnocarro > option:nth-child('+ ordem + ')'\n",
    "    self.driver.find_element_by_css_selector(opcao_ano).click()\n",
    "\n",
    "    self.driver.find_element_by_css_selector('#buttonPesquisarcarro').click()\n",
    "\n",
    "    preco = self.driver.find_element_by_css_selector('#resultadoConsultacarroFiltros > table > tbody > tr.last > td:nth-child(2) > p')\n",
    "    preco.text    \n",
    "\n",
    "        \n",
    "        "
   ]
  },
  {
   "cell_type": "code",
   "execution_count": null,
   "metadata": {},
   "outputs": [],
   "source": [
    "teste = TestScrapping()"
   ]
  },
  {
   "cell_type": "code",
   "execution_count": null,
   "metadata": {},
   "outputs": [],
   "source": [
    "teste.setup_method(method=None)"
   ]
  },
  {
   "cell_type": "code",
   "execution_count": null,
   "metadata": {},
   "outputs": [],
   "source": [
    "teste.test_scrapping3()"
   ]
  },
  {
   "cell_type": "markdown",
   "metadata": {},
   "source": [
    "# Próximos Passos"
   ]
  },
  {
   "cell_type": "markdown",
   "metadata": {},
   "source": [
    "\n",
    "![Next Steps](./img/next_steps.png)\n",
    "https://elemento.ag/blog/ferramentas-web-scrapping-para-2020/"
   ]
  },
  {
   "cell_type": "code",
   "execution_count": null,
   "metadata": {},
   "outputs": [],
   "source": []
  }
 ],
 "metadata": {
  "kernelspec": {
   "display_name": "Python 3",
   "language": "python",
   "name": "python3"
  },
  "language_info": {
   "codemirror_mode": {
    "name": "ipython",
    "version": 3
   },
   "file_extension": ".py",
   "mimetype": "text/x-python",
   "name": "python",
   "nbconvert_exporter": "python",
   "pygments_lexer": "ipython3",
   "version": "3.8.3"
  },
  "toc-autonumbering": true,
  "toc-showcode": false,
  "toc-showtags": false
 },
 "nbformat": 4,
 "nbformat_minor": 4
}
