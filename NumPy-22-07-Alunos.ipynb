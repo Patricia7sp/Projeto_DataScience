{
 "cells": [
  {
   "cell_type": "markdown",
   "metadata": {},
   "source": [
    "# NumPy \n",
    "\n",
    "Nessa aula vamos aprender um pouco sobre como trabalhar com a biblioteca Numpy. É um pacote para a linguagem Python que suporta arrays e matrizes multidimensionais, possuindo uma larga coleção de funções matemáticas para trabalhar com estas estruturas."
   ]
  },
  {
   "cell_type": "markdown",
   "metadata": {},
   "source": [
    "### Load NumPy and check version"
   ]
  },
  {
   "cell_type": "code",
   "execution_count": 6,
   "metadata": {},
   "outputs": [
    {
     "data": {
      "text/plain": [
       "'1.18.5'"
      ]
     },
     "execution_count": 6,
     "metadata": {},
     "output_type": "execute_result"
    }
   ],
   "source": [
    "# Como o NumPy não é nativo do Python nós precisamos fazer uma importação da biblioteca \n",
    "import numpy as np\n",
    "\n",
    "\n",
    "#vamos verificar a versão instalada\n",
    "np.__version__"
   ]
  },
  {
   "cell_type": "markdown",
   "metadata": {},
   "source": [
    "\n",
    "\n",
    "#### Numpy é uma biblioteca enorme que trabalha com computação científica (tanto que é conhecida o container dos containers dos array) "
   ]
  },
  {
   "cell_type": "code",
   "execution_count": 38,
   "metadata": {},
   "outputs": [
    {
     "name": "stdout",
     "output_type": "stream",
     "text": [
      "[0 1 2 3 4 5 6 7 8 9]\n"
     ]
    },
    {
     "data": {
      "text/plain": [
       "numpy.ndarray"
      ]
     },
     "execution_count": 38,
     "metadata": {},
     "output_type": "execute_result"
    }
   ],
   "source": [
    "x = np.arange(10)\n",
    "print(x)\n",
    "type(x)"
   ]
  },
  {
   "cell_type": "markdown",
   "metadata": {},
   "source": [
    "### Vamos começar a fazendo um execício sobre lista.\n",
    "Será criada uma lista de 0 à 1000000, crie uma segunda lista na qual os elementos sejam o quadrado de cada elemento da primeira lista"
   ]
  },
  {
   "cell_type": "code",
   "execution_count": 32,
   "metadata": {},
   "outputs": [
    {
     "data": {
      "text/plain": [
       "[0, 1, 4, 9, 16]"
      ]
     },
     "execution_count": 32,
     "metadata": {},
     "output_type": "execute_result"
    }
   ],
   "source": [
    "z = list(range(1000000))\n",
    "y = []\n",
    "for i in z:\n",
    "  y.append(i**2)# append adiciona ao quadrado\n",
    "y[0:5]# VAI LER OS DADOS DO INDICE 0 AO 5"
   ]
  },
  {
   "cell_type": "markdown",
   "metadata": {},
   "source": [
    "### Agora vamos ver como é a performance do array comparada com a lista"
   ]
  },
  {
   "cell_type": "code",
   "execution_count": 29,
   "metadata": {},
   "outputs": [
    {
     "data": {
      "text/plain": [
       "array([ 0,  1,  4,  9, 16])"
      ]
     },
     "execution_count": 29,
     "metadata": {},
     "output_type": "execute_result"
    }
   ],
   "source": [
    "z = np.arange(10000)\n",
    "y = z **2\n",
    "y[0:5]"
   ]
  },
  {
   "cell_type": "code",
   "execution_count": 36,
   "metadata": {},
   "outputs": [
    {
     "data": {
      "text/plain": [
       "[0, 1, 4, 9, 16, 25, 36, 49, 64, 81]"
      ]
     },
     "execution_count": 36,
     "metadata": {},
     "output_type": "execute_result"
    }
   ],
   "source": [
    "y[0:10]"
   ]
  },
  {
   "cell_type": "markdown",
   "metadata": {},
   "source": [
    "### Em uma lista podemos adicionar vários tipos diferentes de variáveis "
   ]
  },
  {
   "cell_type": "code",
   "execution_count": null,
   "metadata": {},
   "outputs": [],
   "source": [
    "animal = ['Dog', 'Mammal', 45, 7]\n",
    "print(animal)"
   ]
  },
  {
   "cell_type": "code",
   "execution_count": null,
   "metadata": {},
   "outputs": [],
   "source": [
    "## No array isso não acontece, todas as variáveis serão do mesmo tipo \n",
    "np.array(animal)"
   ]
  },
  {
   "cell_type": "markdown",
   "metadata": {},
   "source": [
    "### Array pode ser ter quanta dimensões desejarmos, porém o mais comum é termos arrays de 1, 2 e 3 dimensões"
   ]
  },
  {
   "cell_type": "code",
   "execution_count": 40,
   "metadata": {},
   "outputs": [
    {
     "name": "stdout",
     "output_type": "stream",
     "text": [
      "[[[ 0  1  2]\n",
      "  [ 3  4  5]\n",
      "  [ 6  7  8]]\n",
      "\n",
      " [[ 9 10 11]\n",
      "  [12 13 14]\n",
      "  [15 16 17]]\n",
      "\n",
      " [[18 19 20]\n",
      "  [21 22 23]\n",
      "  [24 25 26]]]\n"
     ]
    }
   ],
   "source": [
    "#Como será que fica um array de 3 dimensões?\n",
    "ndim = np.arange(27).reshape(3,3,3)\n",
    "print(ndim)"
   ]
  },
  {
   "cell_type": "code",
   "execution_count": 43,
   "metadata": {},
   "outputs": [
    {
     "name": "stdout",
     "output_type": "stream",
     "text": [
      "[[[[ 0  1]\n",
      "   [ 2  3]]\n",
      "\n",
      "  [[ 4  5]\n",
      "   [ 6  7]]]\n",
      "\n",
      "\n",
      " [[[ 8  9]\n",
      "   [10 11]]\n",
      "\n",
      "  [[12 13]\n",
      "   [14 15]]]]\n"
     ]
    }
   ],
   "source": [
    "#um array de quatro dimensões\n",
    "twos = np.arange(16).reshape(2,2,2,2)\n",
    "print(twos)"
   ]
  },
  {
   "cell_type": "markdown",
   "metadata": {},
   "source": [
    "### Quando desejamos utilizar um array para salvar dados, devemos fazer uma declaração de variável inicialmente para \"guardar\" memória para salvar futuros dados"
   ]
  },
  {
   "cell_type": "code",
   "execution_count": 44,
   "metadata": {},
   "outputs": [
    {
     "name": "stdout",
     "output_type": "stream",
     "text": [
      "[[1. 1. 1. 1. 1.]\n",
      " [1. 1. 1. 1. 1.]\n",
      " [1. 1. 1. 1. 1.]]\n",
      "\n",
      "[[0. 0. 0. 0. 0.]\n",
      " [0. 0. 0. 0. 0.]\n",
      " [0. 0. 0. 0. 0.]]\n",
      "\n",
      "[[1. 0. 0. 0. 0.]\n",
      " [0. 1. 0. 0. 0.]\n",
      " [0. 0. 1. 0. 0.]]\n"
     ]
    }
   ],
   "source": [
    "## Há algumas maneiras de se fazer isso\n",
    "print(np.ones((3,5)), end='\\n\\n')\n",
    "print(np.zeros((3,5)), end='\\n\\n')\n",
    "print(np.eye(3,5))"
   ]
  },
  {
   "cell_type": "markdown",
   "metadata": {},
   "source": [
    "### Como acessar dados dentro do array"
   ]
  },
  {
   "cell_type": "code",
   "execution_count": 56,
   "metadata": {},
   "outputs": [
    {
     "name": "stdout",
     "output_type": "stream",
     "text": [
      "[26 17 29 25  1 23  9 28 28  4 11 23 27 17 28]\n"
     ]
    }
   ],
   "source": [
    "## vamos criar um array de maneira randômica de tamanho 15\n",
    "data = np.random.randint(30, size=15)\n",
    "print(data)"
   ]
  },
  {
   "cell_type": "code",
   "execution_count": 57,
   "metadata": {},
   "outputs": [
    {
     "data": {
      "text/plain": [
       "array([ 1, 23,  9, 28])"
      ]
     },
     "execution_count": 57,
     "metadata": {},
     "output_type": "execute_result"
    }
   ],
   "source": [
    "data[4:8]"
   ]
  },
  {
   "cell_type": "code",
   "execution_count": 58,
   "metadata": {},
   "outputs": [
    {
     "data": {
      "text/plain": [
       "array([[26, 17, 29, 25,  1],\n",
       "       [23,  9, 28, 28,  4],\n",
       "       [11, 23, 27, 17, 28]])"
      ]
     },
     "execution_count": 58,
     "metadata": {},
     "output_type": "execute_result"
    }
   ],
   "source": [
    "data = data.reshape(3,5)\n",
    "data"
   ]
  },
  {
   "cell_type": "code",
   "execution_count": 59,
   "metadata": {},
   "outputs": [
    {
     "data": {
      "text/plain": [
       "26"
      ]
     },
     "execution_count": 59,
     "metadata": {},
     "output_type": "execute_result"
    }
   ],
   "source": [
    "data[0,0] \n"
   ]
  },
  {
   "cell_type": "markdown",
   "metadata": {},
   "source": [
    "### Vamos fazer mais um exercício?\n",
    "\n",
    "Coloque a lista seguinte e em ordem crescente:\n",
    "1. lista_exercico = [8, 5, 2, 4, 9]"
   ]
  },
  {
   "cell_type": "code",
   "execution_count": 68,
   "metadata": {},
   "outputs": [],
   "source": [
    " beta = np.array = [8, 5, 2, 4, 9] # TRANSFORMANDO EM UMA ARRAY\n"
   ]
  },
  {
   "cell_type": "code",
   "execution_count": 64,
   "metadata": {},
   "outputs": [],
   "source": [
    "beta.sort()"
   ]
  },
  {
   "cell_type": "code",
   "execution_count": 65,
   "metadata": {},
   "outputs": [
    {
     "data": {
      "text/plain": [
       "[2, 4, 5, 8, 9]"
      ]
     },
     "execution_count": 65,
     "metadata": {},
     "output_type": "execute_result"
    }
   ],
   "source": [
    "beta"
   ]
  },
  {
   "cell_type": "markdown",
   "metadata": {},
   "source": [
    "### Argsort --> uma função do numpy que irá retornar a sequência de indices que nos dará uma sequência crescente ou decrescente"
   ]
  },
  {
   "cell_type": "code",
   "execution_count": 4,
   "metadata": {},
   "outputs": [
    {
     "name": "stdout",
     "output_type": "stream",
     "text": [
      "Lista original:  [8 5 2 4 9]\n",
      "\n",
      "Lista de index:  [2 3 1 0 4]\n",
      "\n",
      "lista ordenada:  [2 4 5 8 9]\n"
     ]
    }
   ],
   "source": [
    "beta = np.array ([8, 5, 2, 4, 9])\n",
    "\n",
    "print('Lista original: ', beta, end='\\n\\n')\n",
    "print('Lista de index: ', np.argsort(beta), end='\\n\\n')\n",
    "print('lista ordenada: ', beta[beta.argsort()])\n"
   ]
  },
  {
   "cell_type": "code",
   "execution_count": null,
   "metadata": {},
   "outputs": [],
   "source": []
  },
  {
   "cell_type": "code",
   "execution_count": null,
   "metadata": {},
   "outputs": [],
   "source": [
    "##podemos usar o sequenciamento de indices de um array e um outro\n",
    "\n",
    "grade = np.array([3, 5, 1, 6, 2, 7])\n",
    "ages = np.array([8, 10, 6, 11, 7, 12])"
   ]
  },
  {
   "cell_type": "code",
   "execution_count": null,
   "metadata": {},
   "outputs": [],
   "source": [
    "sort_index = np.argsort(ages)"
   ]
  },
  {
   "cell_type": "code",
   "execution_count": null,
   "metadata": {},
   "outputs": [],
   "source": [
    "print(grade[sort_index])\n",
    "print(ages[sort_index])"
   ]
  },
  {
   "cell_type": "code",
   "execution_count": null,
   "metadata": {},
   "outputs": [],
   "source": [
    "## orde decrescente \n",
    "print(list(ages[sort_index])[::-1])"
   ]
  },
  {
   "cell_type": "markdown",
   "metadata": {},
   "source": [
    "### Vamos manipular algum array"
   ]
  },
  {
   "cell_type": "code",
   "execution_count": 14,
   "metadata": {},
   "outputs": [
    {
     "name": "stdout",
     "output_type": "stream",
     "text": [
      "[ -2  -7  -3   5   6   0  -8  -8  -8   4  -8   7   6   5  -6   1   6  -1\n",
      "  -8   2  -6  -9   3   9  -6  -6  -7  -3   7   5  -9   4  -3   6  -8  -1\n",
      "   9  -8   4   7   6   5  -3   3  -4   2   8 -10  -8   0   7  -2   3   0\n",
      "   7  -6   8  -2   9   4 -10   3   2   0  -7  -4  -7   5   0   5  -7  -1\n",
      "   6   1  -6  -5  -3  -4  -8   0   8   3   2  -9  -4   0 -10  -8   9  -6\n",
      "   8  -6  -7  -1   6   6  -4  -5  -4  -3]\n"
     ]
    }
   ],
   "source": [
    "import numpy.random as npr\n",
    "#para fixar os numeros aleatorios npr.seed\n",
    "npr.seed(100)\n",
    "x = npr.randint(-10,10, size=100)\n",
    "print(x)"
   ]
  },
  {
   "cell_type": "code",
   "execution_count": null,
   "metadata": {},
   "outputs": [],
   "source": []
  },
  {
   "cell_type": "markdown",
   "metadata": {},
   "source": [
    "### Mais um exercício \n",
    "1. No array acima, substitua os valores menores que -1 por -1, e valores maiores que 5 por 5. Fazendo uso de for "
   ]
  },
  {
   "cell_type": "code",
   "execution_count": 15,
   "metadata": {},
   "outputs": [
    {
     "data": {
      "text/plain": [
       "array([-1, -1, -1,  5,  5,  0, -1, -1, -1,  4, -1,  5,  5,  5, -1,  1,  5,\n",
       "       -1, -1,  2, -1, -1,  3,  5, -1, -1, -1, -1,  5,  5, -1,  4, -1,  5,\n",
       "       -1, -1,  5, -1,  4,  5,  5,  5, -1,  3, -1,  2,  5, -1, -1,  0,  5,\n",
       "       -1,  3,  0,  5, -1,  5, -1,  5,  4, -1,  3,  2,  0, -1, -1, -1,  5,\n",
       "        0,  5, -1, -1,  5,  1, -1, -1, -1, -1, -1,  0,  5,  3,  2, -1, -1,\n",
       "        0, -1, -1,  5, -1,  5, -1, -1, -1,  5,  5, -1, -1, -1, -1])"
      ]
     },
     "execution_count": 15,
     "metadata": {},
     "output_type": "execute_result"
    }
   ],
   "source": [
    "y = []\n",
    "for substituicao in x:\n",
    "    if substituicao < -1:\n",
    "        substituicao = -1\n",
    "        y.append(substituicao)\n",
    "    elif substituicao > 5:\n",
    "        substituicao = 5\n",
    "        y.append(substituicao)\n",
    "    else:\n",
    "        substituicao = substituicao\n",
    "        y.append(substituicao)\n",
    "y = np.array(y)\n",
    "y"
   ]
  },
  {
   "cell_type": "code",
   "execution_count": 16,
   "metadata": {},
   "outputs": [
    {
     "data": {
      "text/plain": [
       "array([-1, -1, -1,  5,  5,  0, -1, -1, -1,  4, -1,  5,  5,  5, -1,  1,  5,\n",
       "       -1, -1,  2, -1, -1,  3,  5, -1, -1, -1, -1,  5,  5, -1,  4, -1,  5,\n",
       "       -1, -1,  5, -1,  4,  5,  5,  5, -1,  3, -1,  2,  5, -1, -1,  0,  5,\n",
       "       -1,  3,  0,  5, -1,  5, -1,  5,  4, -1,  3,  2,  0, -1, -1, -1,  5,\n",
       "        0,  5, -1, -1,  5,  1, -1, -1, -1, -1, -1,  0,  5,  3,  2, -1, -1,\n",
       "        0, -1, -1,  5, -1,  5, -1, -1, -1,  5,  5, -1, -1, -1, -1])"
      ]
     },
     "execution_count": 16,
     "metadata": {},
     "output_type": "execute_result"
    }
   ],
   "source": [
    "# Maneira mais facil de se fazer a mudanca dos valores\n",
    "x.clip(-1, 5)"
   ]
  },
  {
   "cell_type": "markdown",
   "metadata": {},
   "source": [
    "### Como fazer uma escolha aleatória?"
   ]
  },
  {
   "cell_type": "code",
   "execution_count": 21,
   "metadata": {},
   "outputs": [
    {
     "data": {
      "text/plain": [
       "array([ 7, -8, -8,  8, -1, -3,  9,  6, -2, -2])"
      ]
     },
     "execution_count": 21,
     "metadata": {},
     "output_type": "execute_result"
    }
   ],
   "source": [
    "#replace True - Permite a escolha do mesmo elemento multiplas vezes\n",
    "#replace false - Nao permite\n",
    "\n",
    "y = npr.choice(x, 10, replace=True)\n",
    "\n",
    "y"
   ]
  },
  {
   "cell_type": "markdown",
   "metadata": {},
   "source": [
    "### que tal uma escolha baseada em probabilidades?"
   ]
  },
  {
   "cell_type": "code",
   "execution_count": 20,
   "metadata": {},
   "outputs": [
    {
     "data": {
      "text/plain": [
       "array([-6])"
      ]
     },
     "execution_count": 20,
     "metadata": {},
     "output_type": "execute_result"
    }
   ],
   "source": [
    "npr.choice(y, 1, p=[.05, .1, .15, .15, .05, .1, 0.15, .07, .08, 0.1])"
   ]
  },
  {
   "cell_type": "markdown",
   "metadata": {},
   "source": [
    "### Para não perder o costume um exercício\n",
    "1. Encontre os elementos unicos do array a seguir\n",
    "2. O retorno deve ser o elemento e seu index\n",
    "3. A quantidade observada em cada elemento"
   ]
  },
  {
   "cell_type": "code",
   "execution_count": 23,
   "metadata": {},
   "outputs": [],
   "source": [
    "symbols = np.array(['BCD', 'ACD', 'ACD', 'ACD', 'ABD', 'ABC', 'ABC', 'ABD', 'ABD',\n",
    "       'BCD', 'BCD', 'ABC', 'ABC', 'BCD', 'ACD'])"
   ]
  },
  {
   "cell_type": "code",
   "execution_count": 31,
   "metadata": {},
   "outputs": [
    {
     "data": {
      "text/plain": [
       "['BCD', 'ABD', 'ABC', 'ACD']"
      ]
     },
     "execution_count": 31,
     "metadata": {},
     "output_type": "execute_result"
    }
   ],
   "source": [
    "#1\n",
    "Unicos = list(set(symbols)) \n",
    "Unicos"
   ]
  },
  {
   "cell_type": "code",
   "execution_count": 42,
   "metadata": {},
   "outputs": [
    {
     "data": {
      "text/plain": [
       "{'BCD': 13, 'ACD': 14, 'ABD': 8, 'ABC': 12}"
      ]
     },
     "execution_count": 42,
     "metadata": {},
     "output_type": "execute_result"
    }
   ],
   "source": [
    "#2\n",
    "indice = {}\n",
    "i= 0\n",
    "for index in range(0,len(symbols)):\n",
    "    indice[symbols[index]]=i\n",
    "    i += 1\n",
    "    \n",
    "indice"
   ]
  },
  {
   "cell_type": "code",
   "execution_count": 43,
   "metadata": {},
   "outputs": [],
   "source": [
    "a, b, c = np.unique(symbols, return_index=True, return_counts=True)"
   ]
  },
  {
   "cell_type": "code",
   "execution_count": 47,
   "metadata": {},
   "outputs": [
    {
     "name": "stdout",
     "output_type": "stream",
     "text": [
      "['ABC' 'ABD' 'ACD' 'BCD']\n"
     ]
    }
   ],
   "source": [
    "print(a) # elementos"
   ]
  },
  {
   "cell_type": "code",
   "execution_count": 48,
   "metadata": {},
   "outputs": [
    {
     "name": "stdout",
     "output_type": "stream",
     "text": [
      "[5 4 1 0]\n"
     ]
    }
   ],
   "source": [
    "print(b) # "
   ]
  },
  {
   "cell_type": "code",
   "execution_count": 49,
   "metadata": {},
   "outputs": [
    {
     "name": "stdout",
     "output_type": "stream",
     "text": [
      "[4 3 4 4]\n"
     ]
    }
   ],
   "source": [
    "print(c) #index"
   ]
  },
  {
   "cell_type": "code",
   "execution_count": 51,
   "metadata": {},
   "outputs": [
    {
     "data": {
      "text/plain": [
       "(4,)"
      ]
     },
     "execution_count": 51,
     "metadata": {},
     "output_type": "execute_result"
    }
   ],
   "source": [
    "a.shape # retorna a forma de uma matriz"
   ]
  },
  {
   "cell_type": "markdown",
   "metadata": {},
   "source": [
    "### Como combinar arrays? "
   ]
  },
  {
   "cell_type": "code",
   "execution_count": null,
   "metadata": {},
   "outputs": [],
   "source": [
    "array_1 = [[1,2],[3,4]]\n",
    "array_2 = [[5,6],[7,8]]"
   ]
  },
  {
   "cell_type": "code",
   "execution_count": null,
   "metadata": {},
   "outputs": [],
   "source": [
    "np.concatenate((array_1, array_2))"
   ]
  },
  {
   "cell_type": "code",
   "execution_count": null,
   "metadata": {},
   "outputs": [],
   "source": [
    "np.concatenate((array_1,array_2), axis=1)"
   ]
  },
  {
   "cell_type": "markdown",
   "metadata": {},
   "source": [
    "### Flatten Array"
   ]
  },
  {
   "cell_type": "code",
   "execution_count": null,
   "metadata": {},
   "outputs": [],
   "source": [
    "arr = np.arange(27).reshape(3,3,3)\n",
    "arr"
   ]
  },
  {
   "cell_type": "code",
   "execution_count": null,
   "metadata": {},
   "outputs": [],
   "source": [
    "arr.flatten()"
   ]
  },
  {
   "cell_type": "markdown",
   "metadata": {},
   "source": [
    "### Comando Where"
   ]
  },
  {
   "cell_type": "code",
   "execution_count": 52,
   "metadata": {},
   "outputs": [
    {
     "data": {
      "text/plain": [
       "array([  4,   8,   0,  -4,  -5,  -3,   9, -10,   3,  -3,   8,   4,   6,\n",
       "        -5,   6,  -8,   7,   6,   5,  -7,   9,   2,  -5,  -8, -10,   3,\n",
       "        -1,   3,  -7,   5,   8,   5,   3,   1,   7,  -5,   7,  -3,  -4,\n",
       "        -5,   9, -10,  -1,   3,  -9,  -6,   9,  -9, -10,  -4,  -7,  -7,\n",
       "         9,   8,  -1,   4,   8,   4,  -3,   7,   8,  -2,   3,   2,  -7,\n",
       "        -8,   1,   8,  -7,  -8, -10,  -4,   1,   8,   2,   7,  -9,  -8,\n",
       "         1,   8,  -4,   2,  -8,  -6,  -5,   7,  -3,  -5,  -6,   6,  -9,\n",
       "         3,   6,   7, -10,  -7,   8,   0,  -4,  -7])"
      ]
     },
     "execution_count": 52,
     "metadata": {},
     "output_type": "execute_result"
    }
   ],
   "source": [
    "\n",
    "x = npr.randint(-10,10, size=100)\n",
    "x"
   ]
  },
  {
   "cell_type": "code",
   "execution_count": 54,
   "metadata": {},
   "outputs": [
    {
     "data": {
      "text/plain": [
       "array([200, 200, 200,  -4,  -5,  -3, 200, -10, 200,  -3, 200, 200, 200,\n",
       "        -5, 200,  -8, 200, 200, 200,  -7, 200, 200,  -5,  -8, -10, 200,\n",
       "        -1, 200,  -7, 200, 200, 200, 200, 200, 200,  -5, 200,  -3,  -4,\n",
       "        -5, 200, -10,  -1, 200,  -9,  -6, 200,  -9, -10,  -4,  -7,  -7,\n",
       "       200, 200,  -1, 200, 200, 200,  -3, 200, 200,  -2, 200, 200,  -7,\n",
       "        -8, 200, 200,  -7,  -8, -10,  -4, 200, 200, 200, 200,  -9,  -8,\n",
       "       200, 200,  -4, 200,  -8,  -6,  -5, 200,  -3,  -5,  -6, 200,  -9,\n",
       "       200, 200, 200, -10,  -7, 200, 200,  -4,  -7])"
      ]
     },
     "execution_count": 54,
     "metadata": {},
     "output_type": "execute_result"
    }
   ],
   "source": [
    "#primeiro parametro e a condicao deseja\n",
    "#segundo parametro e a acao caso a condicao seja verdadeira\n",
    "# terceiro parametro caso a acao seja falsa\n",
    "positive = np.where((x > -1), 200, x) # para todos elementos maiores que -1, substitua por 200, se nao permance os valores de x\n",
    "positive"
   ]
  },
  {
   "cell_type": "code",
   "execution_count": 59,
   "metadata": {},
   "outputs": [
    {
     "data": {
      "text/plain": [
       "array([[[ 0,  1,  2,  3,  4],\n",
       "        [ 5,  6,  7,  8,  9],\n",
       "        [10, 11, 12, 13, 14],\n",
       "        [15, 16, 17, 18, 19],\n",
       "        [20, 21, 22, 23, 24]],\n",
       "\n",
       "       [[25, 26, 27, 28, 29],\n",
       "        [30, 31, 32, 33, 34],\n",
       "        [35, 36, 37, 38, 39],\n",
       "        [40, 41, 42, 43, 44],\n",
       "        [45, 46, 47, 48, 49]],\n",
       "\n",
       "       [[50, 51, 52, 53, 54],\n",
       "        [55, 56, 57, 58, 59],\n",
       "        [60, 61, 62, 63, 64],\n",
       "        [65, 66, 67, 68, 69],\n",
       "        [70, 71, 72, 73, 74]]])"
      ]
     },
     "execution_count": 59,
     "metadata": {},
     "output_type": "execute_result"
    }
   ],
   "source": [
    "#pegando elementos de uma array que nao estajam em sequencia\n",
    "nova_array = np.arange(75).reshape(3,5,5)\n",
    "nova_array"
   ]
  },
  {
   "cell_type": "code",
   "execution_count": 61,
   "metadata": {},
   "outputs": [
    {
     "data": {
      "text/plain": [
       "43"
      ]
     },
     "execution_count": 61,
     "metadata": {},
     "output_type": "execute_result"
    }
   ],
   "source": [
    "nova_array[1,3,3] # pegando o elemento da segunda array - indice 1 - da terceira coluna - indice3"
   ]
  },
  {
   "cell_type": "code",
   "execution_count": null,
   "metadata": {},
   "outputs": [],
   "source": []
  }
 ],
 "metadata": {
  "kernelspec": {
   "display_name": "Python 3",
   "language": "python",
   "name": "python3"
  },
  "language_info": {
   "codemirror_mode": {
    "name": "ipython",
    "version": 3
   },
   "file_extension": ".py",
   "mimetype": "text/x-python",
   "name": "python",
   "nbconvert_exporter": "python",
   "pygments_lexer": "ipython3",
   "version": "3.7.6"
  }
 },
 "nbformat": 4,
 "nbformat_minor": 4
}
