{
 "cells": [
  {
   "cell_type": "markdown",
   "metadata": {
    "colab_type": "text",
    "id": "o1YTLpvUxiru"
   },
   "source": [
    "# NumPy \n",
    "\n",
    "Nessa aula vamos aprender um pouco sobre como trabalhar com a biblioteca Numpy. É um pacote para a linguagem Python que suporta arrays e matrizes multidimensionais, possuindo uma larga coleção de funções matemáticas para trabalhar com estas estruturas."
   ]
  },
  {
   "cell_type": "markdown",
   "metadata": {
    "colab_type": "text",
    "id": "fCadVtAGxirw"
   },
   "source": [
    "### Load NumPy and check version"
   ]
  },
  {
   "cell_type": "code",
   "execution_count": null,
   "metadata": {
    "colab": {},
    "colab_type": "code",
    "id": "dv0vBeMlxiry"
   },
   "outputs": [],
   "source": [
    "# Como o NumPy não é nativo do Python nós precisamos fazer uma importação da biblioteca \n",
    "import numpy as np\n",
    "\n",
    "\n",
    "#vamos verificar a versão instalada\n",
    "np.__version__"
   ]
  },
  {
   "cell_type": "markdown",
   "metadata": {
    "colab_type": "text",
    "id": "7I-6NwBhxir4"
   },
   "source": [
    "#### Numpy é uma biblioteca enorme que trabalha com computação científica (tanto que é conhecida o container dos containers dos array) "
   ]
  },
  {
   "cell_type": "code",
   "execution_count": null,
   "metadata": {
    "colab": {},
    "colab_type": "code",
    "id": "m_9zw2vsxir5"
   },
   "outputs": [],
   "source": [
    "x = np.arange(10)\n",
    "#print(x)\n",
    "#type(x)"
   ]
  },
  {
   "cell_type": "markdown",
   "metadata": {
    "colab_type": "text",
    "id": "jq8GCCl-xir8"
   },
   "source": [
    "### Vamos começar a fazendo um execício sobre lista.\n",
    "Será criada uma lista de 0 à 1000000, crie uma segunda lista na qual os elementos sejam o quadrado de cada elemento da primeira lista"
   ]
  },
  {
   "cell_type": "code",
   "execution_count": null,
   "metadata": {
    "colab": {},
    "colab_type": "code",
    "id": "IpwFnF0Qxir9"
   },
   "outputs": [],
   "source": [
    "z = list(range(1000000))\n",
    "## vamos embora!"
   ]
  },
  {
   "cell_type": "markdown",
   "metadata": {
    "colab_type": "text",
    "id": "YDJfbYByxisA"
   },
   "source": [
    "### Agora vamos ver como é a performance do array comparada com a lista"
   ]
  },
  {
   "cell_type": "code",
   "execution_count": null,
   "metadata": {
    "colab": {},
    "colab_type": "code",
    "id": "sreyafP3xisB"
   },
   "outputs": [],
   "source": []
  },
  {
   "cell_type": "markdown",
   "metadata": {
    "colab_type": "text",
    "id": "r8179a81xisE"
   },
   "source": [
    "### Em uma lista podemos adicionar vários tipos diferentes de variáveis "
   ]
  },
  {
   "cell_type": "code",
   "execution_count": null,
   "metadata": {
    "colab": {},
    "colab_type": "code",
    "id": "IJK9HQ17xisE"
   },
   "outputs": [],
   "source": [
    "animal = ['Dog', 'Mammal', 45, 7]\n",
    "print(animal)"
   ]
  },
  {
   "cell_type": "code",
   "execution_count": null,
   "metadata": {
    "colab": {},
    "colab_type": "code",
    "id": "4SFuTD1txisH"
   },
   "outputs": [],
   "source": [
    "## No array isso não acontece, todas as variáveis serão do mesmo tipo \n",
    "np.array(animal)"
   ]
  },
  {
   "cell_type": "markdown",
   "metadata": {
    "colab_type": "text",
    "id": "RoVkmBYOxisL"
   },
   "source": [
    "### Array pode ser ter quanta dimensões desejarmos, porém o mais comum é termos arrays de 1, 2 e 3 dimensões"
   ]
  },
  {
   "cell_type": "code",
   "execution_count": null,
   "metadata": {
    "colab": {},
    "colab_type": "code",
    "id": "1nOiLe0kxisM"
   },
   "outputs": [],
   "source": [
    "#Como será que fica um array de 3 dimensões?\n",
    "ndim = np.arange(27).reshape(3,3,3)\n",
    "#print(ndim)"
   ]
  },
  {
   "cell_type": "code",
   "execution_count": null,
   "metadata": {
    "colab": {},
    "colab_type": "code",
    "id": "KW6nnKqSxisP"
   },
   "outputs": [],
   "source": [
    "#um array de quatro dimensões\n",
    "twos = np.arange(16).reshape(2,2,2,2)\n",
    "#print(twos)"
   ]
  },
  {
   "cell_type": "markdown",
   "metadata": {
    "colab_type": "text",
    "id": "FmzKSy5bxisS"
   },
   "source": [
    "### Quando desejamos utilizar um array para salvar dados, devemos fazer uma declaração de variável inicialmente para \"guardar\" memória para salvar futuros dados"
   ]
  },
  {
   "cell_type": "code",
   "execution_count": null,
   "metadata": {
    "colab": {},
    "colab_type": "code",
    "id": "b-VwMX3NxisT"
   },
   "outputs": [],
   "source": [
    "## Há algumas maneiras de se fazer isso\n",
    "print(np.ones((3,5)), end='\\n\\n')\n",
    "print(np.zeros((3,5)), end='\\n\\n')\n",
    "print(np.eye(3,5))"
   ]
  },
  {
   "cell_type": "markdown",
   "metadata": {
    "colab_type": "text",
    "id": "KmCEI-5KxisW"
   },
   "source": [
    "### Como acessar dados dentro do array"
   ]
  },
  {
   "cell_type": "code",
   "execution_count": null,
   "metadata": {
    "colab": {},
    "colab_type": "code",
    "id": "Z5i9kPgDxisW"
   },
   "outputs": [],
   "source": [
    "## vamos criar um array de maneira randômica de tamanho 15\n",
    "data = np.random.randint(10, size=15)\n",
    "print(data)"
   ]
  },
  {
   "cell_type": "code",
   "execution_count": null,
   "metadata": {
    "colab": {},
    "colab_type": "code",
    "id": "bBmddinjxisY"
   },
   "outputs": [],
   "source": [
    "data[4:8]"
   ]
  },
  {
   "cell_type": "code",
   "execution_count": null,
   "metadata": {
    "colab": {},
    "colab_type": "code",
    "id": "VJreVJ0mxisb"
   },
   "outputs": [],
   "source": [
    "data = data.reshape(3,5)\n",
    "data"
   ]
  },
  {
   "cell_type": "code",
   "execution_count": null,
   "metadata": {
    "colab": {},
    "colab_type": "code",
    "id": "V70MbZHqxisd"
   },
   "outputs": [],
   "source": [
    "data[0,0]"
   ]
  },
  {
   "cell_type": "markdown",
   "metadata": {
    "colab_type": "text",
    "id": "4_hIGVVhxisf"
   },
   "source": [
    "### Vamos fazer mais um exercício?\n",
    "\n",
    "Coloque a lista seguinte e em ordem crescente:\n",
    "1. lista_exercico = [8, 5, 2, 4, 9]"
   ]
  },
  {
   "cell_type": "markdown",
   "metadata": {
    "colab_type": "text",
    "id": "fnTI1DdFxisg"
   },
   "source": [
    "### Argsort --> uma função do numpy que irá retornar a sequência de indices que nos dará uma sequência crescente ou decrescente"
   ]
  },
  {
   "cell_type": "code",
   "execution_count": null,
   "metadata": {
    "colab": {},
    "colab_type": "code",
    "id": "b72b3IzMxisg"
   },
   "outputs": [],
   "source": []
  },
  {
   "cell_type": "code",
   "execution_count": null,
   "metadata": {
    "colab": {},
    "colab_type": "code",
    "id": "kKa5PSOkxisj"
   },
   "outputs": [],
   "source": [
    "##podemos usar o sequenciamento de indices de um array e um outro\n",
    "\n",
    "grade = np.array([3, 5, 1, 6, 2, 7])\n",
    "ages = np.array([8, 10, 6, 11, 7, 12])"
   ]
  },
  {
   "cell_type": "code",
   "execution_count": null,
   "metadata": {
    "colab": {},
    "colab_type": "code",
    "id": "JvUdP3Jfxisl"
   },
   "outputs": [],
   "source": [
    "sort_index = np.argsort(ages)"
   ]
  },
  {
   "cell_type": "code",
   "execution_count": null,
   "metadata": {
    "colab": {},
    "colab_type": "code",
    "id": "62B_W6Azxisp"
   },
   "outputs": [],
   "source": [
    "print(grade[sort_index])\n",
    "print(ages[sort_index])"
   ]
  },
  {
   "cell_type": "code",
   "execution_count": null,
   "metadata": {
    "colab": {},
    "colab_type": "code",
    "id": "Wdf5_rJDxisr"
   },
   "outputs": [],
   "source": [
    "## orde decrescente \n",
    "print(list(ages[sort_index])[::-1])"
   ]
  },
  {
   "cell_type": "markdown",
   "metadata": {
    "colab_type": "text",
    "id": "s8NVJmUMxist"
   },
   "source": [
    "### Vamos manipular algum array"
   ]
  },
  {
   "cell_type": "code",
   "execution_count": null,
   "metadata": {
    "colab": {},
    "colab_type": "code",
    "id": "Wp-e-UgWxist"
   },
   "outputs": [],
   "source": [
    "import numpy.random as npr\n",
    "x = npr.randint(-10,10, size=100)\n",
    "print(x)"
   ]
  },
  {
   "cell_type": "markdown",
   "metadata": {
    "colab_type": "text",
    "id": "AolpzyOSxisv"
   },
   "source": [
    "### Mais um exercício \n",
    "1. No array acima, substitua os valores menores que -1 por -1, e valores maiores que 5 por 5. Fazendo uso de for "
   ]
  },
  {
   "cell_type": "code",
   "execution_count": null,
   "metadata": {
    "colab": {},
    "colab_type": "code",
    "id": "P5C7cicMxisw"
   },
   "outputs": [],
   "source": []
  },
  {
   "cell_type": "markdown",
   "metadata": {
    "colab_type": "text",
    "id": "E67FsQfixisz"
   },
   "source": [
    "### Como fazer uma escolha aleatória?"
   ]
  },
  {
   "cell_type": "code",
   "execution_count": null,
   "metadata": {
    "colab": {},
    "colab_type": "code",
    "id": "uVBt7_smxisz"
   },
   "outputs": [],
   "source": [
    "y = npr.choice(x, 10, replace=False)\n",
    "y"
   ]
  },
  {
   "cell_type": "markdown",
   "metadata": {
    "colab_type": "text",
    "id": "-GBZeLQpxis1"
   },
   "source": [
    "### que tal uma escolha baseada em probabilidades?"
   ]
  },
  {
   "cell_type": "code",
   "execution_count": null,
   "metadata": {
    "colab": {},
    "colab_type": "code",
    "id": "rxfEfFFfxis2"
   },
   "outputs": [],
   "source": [
    "npr.choice(y, 1, p=[.05, .1, .15, .15, .05, .1, 0.15, .07, .08, 0.1])"
   ]
  },
  {
   "cell_type": "markdown",
   "metadata": {
    "colab_type": "text",
    "id": "_8EJADcqxis3"
   },
   "source": [
    "### Para não perder o costume um exercício\n",
    "1. Encontre os elementos unicos do array a seguir\n",
    "2. O retorno deve ser o elemento e seu index\n",
    "3. A quantidade observada em cada elemento"
   ]
  },
  {
   "cell_type": "code",
   "execution_count": null,
   "metadata": {
    "colab": {},
    "colab_type": "code",
    "id": "vL9Gc_Ltxis4"
   },
   "outputs": [],
   "source": [
    "symbols = np.array(['BCD', 'ACD', 'ACD', 'ACD', 'ABD', 'ABC', 'ABC', 'ABD', 'ABD',\n",
    "       'BCD', 'BCD', 'ABC', 'ABC', 'BCD', 'ACD'])"
   ]
  },
  {
   "cell_type": "code",
   "execution_count": null,
   "metadata": {
    "colab": {},
    "colab_type": "code",
    "id": "oI08RVLIxis-"
   },
   "outputs": [],
   "source": []
  },
  {
   "cell_type": "code",
   "execution_count": null,
   "metadata": {
    "colab": {},
    "colab_type": "code",
    "id": "lVeBS5nCxitA"
   },
   "outputs": [],
   "source": []
  },
  {
   "cell_type": "code",
   "execution_count": null,
   "metadata": {
    "colab": {},
    "colab_type": "code",
    "id": "7UYMgLvxxitB"
   },
   "outputs": [],
   "source": []
  },
  {
   "cell_type": "code",
   "execution_count": null,
   "metadata": {
    "colab": {},
    "colab_type": "code",
    "id": "OVkLv4ztxitE"
   },
   "outputs": [],
   "source": []
  },
  {
   "cell_type": "code",
   "execution_count": null,
   "metadata": {
    "colab": {},
    "colab_type": "code",
    "id": "J18vTubJxitG"
   },
   "outputs": [],
   "source": []
  },
  {
   "cell_type": "markdown",
   "metadata": {
    "colab_type": "text",
    "id": "XPc0l71GxitI"
   },
   "source": [
    "### Como combinar arrays? "
   ]
  },
  {
   "cell_type": "code",
   "execution_count": null,
   "metadata": {
    "colab": {},
    "colab_type": "code",
    "id": "ilj0abylxitJ"
   },
   "outputs": [],
   "source": [
    "array_1 = [[1,2],[3,4]]\n",
    "array_2 = [[5,6],[7,8]]"
   ]
  },
  {
   "cell_type": "code",
   "execution_count": null,
   "metadata": {
    "colab": {},
    "colab_type": "code",
    "id": "OefWy7KbxitL"
   },
   "outputs": [],
   "source": [
    "np.concatenate((array_1, array_2))"
   ]
  },
  {
   "cell_type": "code",
   "execution_count": null,
   "metadata": {
    "colab": {},
    "colab_type": "code",
    "id": "sV6Lq6MtxitO"
   },
   "outputs": [],
   "source": [
    "np.concatenate((array_1,array_2), axis=1)"
   ]
  },
  {
   "cell_type": "markdown",
   "metadata": {
    "colab_type": "text",
    "id": "7BpJkI-kxitP"
   },
   "source": [
    "### Flatten Array"
   ]
  },
  {
   "cell_type": "code",
   "execution_count": null,
   "metadata": {
    "colab": {},
    "colab_type": "code",
    "id": "7R_Hc5bKxitQ"
   },
   "outputs": [],
   "source": [
    "arr = np.arange(27).reshape(3,3,3)\n",
    "arr"
   ]
  },
  {
   "cell_type": "code",
   "execution_count": null,
   "metadata": {
    "colab": {},
    "colab_type": "code",
    "id": "dWz9wDwtxitT"
   },
   "outputs": [],
   "source": [
    "arr.flatten()"
   ]
  },
  {
   "cell_type": "markdown",
   "metadata": {
    "colab_type": "text",
    "id": "LoAKyHPmxitW"
   },
   "source": [
    "### Comando Where"
   ]
  },
  {
   "cell_type": "code",
   "execution_count": null,
   "metadata": {
    "colab": {},
    "colab_type": "code",
    "id": "TGKyL36nxitW"
   },
   "outputs": [],
   "source": [
    "x = npr.randint(-10,10, size=100)\n",
    "x"
   ]
  },
  {
   "cell_type": "code",
   "execution_count": null,
   "metadata": {
    "colab": {},
    "colab_type": "code",
    "id": "8I-QbpfdxitY"
   },
   "outputs": [],
   "source": [
    "positive = np.where(x > 0, 200, x)\n",
    "positive"
   ]
  },
  {
   "cell_type": "code",
   "execution_count": null,
   "metadata": {
    "colab": {},
    "colab_type": "code",
    "id": "kMtme5L2xita"
   },
   "outputs": [],
   "source": []
  }
 ],
 "metadata": {
  "colab": {
   "name": "NumPy-22-07-Alunos.ipynb",
   "provenance": []
  },
  "kernelspec": {
   "display_name": "Python 3",
   "language": "python",
   "name": "python3"
  },
  "language_info": {
   "codemirror_mode": {
    "name": "ipython",
    "version": 3
   },
   "file_extension": ".py",
   "mimetype": "text/x-python",
   "name": "python",
   "nbconvert_exporter": "python",
   "pygments_lexer": "ipython3",
   "version": "3.7.6"
  }
 },
 "nbformat": 4,
 "nbformat_minor": 4
}
