{
 "cells": [
  {
   "cell_type": "markdown",
   "metadata": {
    "colab_type": "text",
    "id": "BLpPAJTcxidi"
   },
   "source": [
    "# NumPy \n",
    "\n",
    "Nessa aula vamos aprender um pouco sobre como trabalhar com a biblioteca Numpy. É um pacote para a linguagem Python que suporta arrays e matrizes multidimensionais, possuindo uma larga coleção de funções matemáticas para trabalhar com estas estruturas."
   ]
  },
  {
   "cell_type": "markdown",
   "metadata": {
    "colab_type": "text",
    "id": "m2C8qWprxidk"
   },
   "source": [
    "### Load NumPy and check version"
   ]
  },
  {
   "cell_type": "code",
   "execution_count": 1,
   "metadata": {
    "colab": {},
    "colab_type": "code",
    "id": "NE-lE3pxxidl",
    "outputId": "2f2bb4d8-5193-4436-a859-9822bf9c1d1c"
   },
   "outputs": [
    {
     "data": {
      "text/plain": [
       "'1.18.5'"
      ]
     },
     "execution_count": 1,
     "metadata": {},
     "output_type": "execute_result"
    }
   ],
   "source": [
    "# Como o NumPy não é nativo do Python nós precisamos fazer uma importação da biblioteca \n",
    "import numpy as np\n",
    "\n",
    "\n",
    "#vamos verificar a versão instalada\n",
    "np.__version__"
   ]
  },
  {
   "cell_type": "markdown",
   "metadata": {
    "colab_type": "text",
    "id": "mYMlm7Zhxidp"
   },
   "source": [
    "#### Numpy é uma biblioteca enorme que trabalha com computação científica (tanto que é conhecida o container dos containers dos array) "
   ]
  },
  {
   "cell_type": "code",
   "execution_count": 2,
   "metadata": {
    "colab": {},
    "colab_type": "code",
    "id": "OSZHXPT7xidq"
   },
   "outputs": [
    {
     "name": "stdout",
     "output_type": "stream",
     "text": [
      "[0 1 2 3 4 5 6 7 8 9]\n"
     ]
    },
    {
     "data": {
      "text/plain": [
       "numpy.ndarray"
      ]
     },
     "execution_count": 2,
     "metadata": {},
     "output_type": "execute_result"
    }
   ],
   "source": [
    "x = np.arange(10)\n",
    "print(x)\n",
    "type(x)"
   ]
  },
  {
   "cell_type": "markdown",
   "metadata": {
    "colab_type": "text",
    "id": "HTbAFTr0xidt"
   },
   "source": [
    "### Vamos começar a fazendo um execício sobre lista.\n",
    "Será criada uma lista de 0 à 1000000, crie uma segunda lista na qual os elementos sejam o quadrado de cada elemento da primeira lista"
   ]
  },
  {
   "cell_type": "code",
   "execution_count": 3,
   "metadata": {
    "colab": {},
    "colab_type": "code",
    "id": "hXLgMFsUxidt"
   },
   "outputs": [
    {
     "data": {
      "text/plain": [
       "[0, 1, 4, 9, 16, 25, 36, 49, 64, 81]"
      ]
     },
     "execution_count": 3,
     "metadata": {},
     "output_type": "execute_result"
    }
   ],
   "source": [
    "z = list(range(1000000))\n",
    "## vamos embora!\n",
    "z2=[]\n",
    "for i in range (0, len(z)):\n",
    "    z2.append(z[i]**2)\n",
    "z2[0:10]"
   ]
  },
  {
   "cell_type": "markdown",
   "metadata": {
    "colab_type": "text",
    "id": "P8ooQ26Qxidw"
   },
   "source": [
    "### Agora vamos ver como é a performance do array comparada com a lista"
   ]
  },
  {
   "cell_type": "code",
   "execution_count": 4,
   "metadata": {
    "colab": {},
    "colab_type": "code",
    "id": "dmafG1Hoxidw"
   },
   "outputs": [
    {
     "data": {
      "text/plain": [
       "array([ 0,  1,  4,  9, 16, 25, 36, 49, 64, 81])"
      ]
     },
     "execution_count": 4,
     "metadata": {},
     "output_type": "execute_result"
    }
   ],
   "source": [
    "y = np.arange(1000000)\n",
    "z = y ** 2\n",
    "z[0:10]"
   ]
  },
  {
   "cell_type": "markdown",
   "metadata": {},
   "source": [
    "### Transformando uma array em lista"
   ]
  },
  {
   "cell_type": "code",
   "execution_count": 5,
   "metadata": {},
   "outputs": [],
   "source": [
    "y1 = list(z)"
   ]
  },
  {
   "cell_type": "markdown",
   "metadata": {},
   "source": [
    "### Transformando uma lista em array"
   ]
  },
  {
   "cell_type": "code",
   "execution_count": 6,
   "metadata": {},
   "outputs": [],
   "source": [
    "z3 = np.array(z2)"
   ]
  },
  {
   "cell_type": "markdown",
   "metadata": {
    "colab_type": "text",
    "id": "iK-RJhfJxidz"
   },
   "source": [
    "### Em uma lista podemos adicionar vários tipos diferentes de variáveis "
   ]
  },
  {
   "cell_type": "code",
   "execution_count": 7,
   "metadata": {
    "colab": {},
    "colab_type": "code",
    "id": "wW2bG4cNxidz",
    "outputId": "d6469e6d-a406-43ba-e72c-10270c609708"
   },
   "outputs": [
    {
     "name": "stdout",
     "output_type": "stream",
     "text": [
      "['Dog', 'Mammal', 45, 7]\n"
     ]
    }
   ],
   "source": [
    "animal = ['Dog', 'Mammal', 45, 7]\n",
    "print(animal)"
   ]
  },
  {
   "cell_type": "markdown",
   "metadata": {},
   "source": [
    "### No array isso não acontece, todas as variáveis serão do mesmo tipo"
   ]
  },
  {
   "cell_type": "code",
   "execution_count": 8,
   "metadata": {
    "colab": {},
    "colab_type": "code",
    "id": "QVzr3UpFxid4",
    "outputId": "5f0e07d8-6ceb-418c-ff39-af5056ca23ef"
   },
   "outputs": [
    {
     "data": {
      "text/plain": [
       "array(['Dog', 'Mammal', '45', '7'], dtype='<U6')"
      ]
     },
     "execution_count": 8,
     "metadata": {},
     "output_type": "execute_result"
    }
   ],
   "source": [
    " \n",
    "np.array(animal)"
   ]
  },
  {
   "cell_type": "markdown",
   "metadata": {
    "colab_type": "text",
    "id": "e-_XI9KJxid7"
   },
   "source": [
    "### Array pode ser ter quanta dimensões desejarmos, porém o mais comum é termos arrays de 1, 2 e 3 dimensões"
   ]
  },
  {
   "cell_type": "code",
   "execution_count": 9,
   "metadata": {
    "colab": {},
    "colab_type": "code",
    "id": "BKT6NQsNxid7"
   },
   "outputs": [],
   "source": [
    "#Como será que fica um array de 3 dimensões?\n",
    "ndim = np.arange(27).reshape(3,3,3)\n",
    "#print(ndim)"
   ]
  },
  {
   "cell_type": "code",
   "execution_count": 10,
   "metadata": {
    "colab": {},
    "colab_type": "code",
    "id": "4ZK6mvKwxid-"
   },
   "outputs": [],
   "source": [
    "#um array de quatro dimensões\n",
    "twos = np.arange(16).reshape(2,2,2,2)\n",
    "#print(twos)"
   ]
  },
  {
   "cell_type": "markdown",
   "metadata": {
    "colab_type": "text",
    "id": "KP6bV2PFxieA"
   },
   "source": [
    "### Quando desejamos utilizar um array para salvar dados, devemos fazer uma declaração de variável inicialmente para \"guardar\" memória para salvar futuros dados"
   ]
  },
  {
   "cell_type": "code",
   "execution_count": 11,
   "metadata": {
    "colab": {},
    "colab_type": "code",
    "id": "kqA16A70xieA",
    "outputId": "3b4bfbf3-05f6-4e1f-ac4b-662e42c99896"
   },
   "outputs": [
    {
     "name": "stdout",
     "output_type": "stream",
     "text": [
      "[[1. 1. 1. 1. 1.]\n",
      " [1. 1. 1. 1. 1.]\n",
      " [1. 1. 1. 1. 1.]]\n",
      "\n",
      "[[0. 0. 0. 0. 0.]\n",
      " [0. 0. 0. 0. 0.]\n",
      " [0. 0. 0. 0. 0.]]\n",
      "\n",
      "[[1. 0. 0. 0. 0.]\n",
      " [0. 1. 0. 0. 0.]\n",
      " [0. 0. 1. 0. 0.]]\n"
     ]
    }
   ],
   "source": [
    "## Há algumas maneiras de se fazer isso\n",
    "print(np.ones((3,5)), end='\\n\\n')\n",
    "print(np.zeros((3,5)), end='\\n\\n')\n",
    "print(np.eye(3,5))"
   ]
  },
  {
   "cell_type": "markdown",
   "metadata": {
    "colab_type": "text",
    "id": "D43gZABwxieC"
   },
   "source": [
    "### Como acessar dados dentro do array"
   ]
  },
  {
   "cell_type": "code",
   "execution_count": 12,
   "metadata": {
    "colab": {},
    "colab_type": "code",
    "id": "Y0mBPQavxieD",
    "outputId": "f1085dfd-6be5-4374-845b-1c2d447127a1"
   },
   "outputs": [
    {
     "name": "stdout",
     "output_type": "stream",
     "text": [
      "[0 1 2 5 0 1 4 0 8 5 6 2 0 5 5]\n"
     ]
    }
   ],
   "source": [
    "## vamos criar um array de maneira randômica de tamanho 15\n",
    "data = np.random.randint(10, size=15)\n",
    "print(data)"
   ]
  },
  {
   "cell_type": "code",
   "execution_count": 13,
   "metadata": {
    "colab": {},
    "colab_type": "code",
    "id": "tWTCi_3PxieH",
    "outputId": "190f7a01-c978-43d2-a1c1-bd87057653ee"
   },
   "outputs": [
    {
     "data": {
      "text/plain": [
       "array([0, 1, 4, 0])"
      ]
     },
     "execution_count": 13,
     "metadata": {},
     "output_type": "execute_result"
    }
   ],
   "source": [
    "data[4:8]"
   ]
  },
  {
   "cell_type": "code",
   "execution_count": 14,
   "metadata": {
    "colab": {},
    "colab_type": "code",
    "id": "9TVXPjUxxieK",
    "outputId": "2d44b775-d29c-4673-d46b-9e4906f7afcd"
   },
   "outputs": [
    {
     "data": {
      "text/plain": [
       "array([[0, 1, 2, 5, 0],\n",
       "       [1, 4, 0, 8, 5],\n",
       "       [6, 2, 0, 5, 5]])"
      ]
     },
     "execution_count": 14,
     "metadata": {},
     "output_type": "execute_result"
    }
   ],
   "source": [
    "data = data.reshape(3,5)\n",
    "data"
   ]
  },
  {
   "cell_type": "code",
   "execution_count": 15,
   "metadata": {
    "colab": {},
    "colab_type": "code",
    "id": "1qU_mZYaxieO",
    "outputId": "9806885f-518d-423f-abef-22232e2212ff"
   },
   "outputs": [
    {
     "data": {
      "text/plain": [
       "0"
      ]
     },
     "execution_count": 15,
     "metadata": {},
     "output_type": "execute_result"
    }
   ],
   "source": [
    "data[0,0]"
   ]
  },
  {
   "cell_type": "markdown",
   "metadata": {
    "colab_type": "text",
    "id": "QuUUjvyYxieR"
   },
   "source": [
    "### Vamos fazer mais um exercício?\n",
    "\n",
    "Coloque a lista seguinte e em ordem crescente:\n",
    "1. lista_exercico = [8, 5, 2, 4, 9]"
   ]
  },
  {
   "cell_type": "markdown",
   "metadata": {
    "colab_type": "text",
    "id": "eAl9HGV-xieS"
   },
   "source": [
    "### Argsort --> uma função do numpy que irá retornar a sequência de indices que nos dará uma sequência crescente ou decrescente"
   ]
  },
  {
   "cell_type": "code",
   "execution_count": 16,
   "metadata": {
    "colab": {},
    "colab_type": "code",
    "id": "tD9Xch4kxieS"
   },
   "outputs": [
    {
     "name": "stdout",
     "output_type": "stream",
     "text": [
      "[2 3 1 0 4]\n",
      "[2 4 5 8 9]\n",
      "[8 5 2 4 9]\n"
     ]
    }
   ],
   "source": [
    "x = np.array([8, 5, 2, 4, 9])\n",
    "print(np.argsort(x))\n",
    "print(x[x.argsort()])\n",
    "print(x)"
   ]
  },
  {
   "cell_type": "code",
   "execution_count": 17,
   "metadata": {
    "colab": {},
    "colab_type": "code",
    "id": "5gJRdiZrxieV"
   },
   "outputs": [],
   "source": [
    "##podemos usar o sequenciamento de indices de um array e um outro\n",
    "\n",
    "grade = np.array([3, 5, 1, 6, 2, 7])\n",
    "ages = np.array([8, 10, 6, 11, 7, 12])"
   ]
  },
  {
   "cell_type": "code",
   "execution_count": 18,
   "metadata": {
    "colab": {},
    "colab_type": "code",
    "id": "Y0aixxuSxieZ"
   },
   "outputs": [],
   "source": [
    "sort_index = np.argsort(ages)"
   ]
  },
  {
   "cell_type": "code",
   "execution_count": 19,
   "metadata": {
    "colab": {},
    "colab_type": "code",
    "id": "HbAICaQoxied"
   },
   "outputs": [
    {
     "name": "stdout",
     "output_type": "stream",
     "text": [
      "[1 2 3 5 6 7]\n",
      "[ 6  7  8 10 11 12]\n"
     ]
    }
   ],
   "source": [
    "print(grade[sort_index])\n",
    "print(ages[sort_index])"
   ]
  },
  {
   "cell_type": "code",
   "execution_count": 20,
   "metadata": {
    "colab": {},
    "colab_type": "code",
    "id": "6jUAD4JHxief"
   },
   "outputs": [
    {
     "name": "stdout",
     "output_type": "stream",
     "text": [
      "[12, 11, 10, 8, 7, 6]\n"
     ]
    }
   ],
   "source": [
    "## orde decrescente \n",
    "print(list(ages[sort_index])[::-1])"
   ]
  },
  {
   "cell_type": "markdown",
   "metadata": {
    "colab_type": "text",
    "id": "jY5AUly6xiei"
   },
   "source": [
    "### Vamos manipular algum array"
   ]
  },
  {
   "cell_type": "code",
   "execution_count": 21,
   "metadata": {
    "colab": {},
    "colab_type": "code",
    "id": "Ot3ZNPD8xiei",
    "outputId": "5e67e1b6-c847-4cbc-f3ca-117325bfb3c3"
   },
   "outputs": [
    {
     "name": "stdout",
     "output_type": "stream",
     "text": [
      "[ -9  -3   5   2  -9  -3   4   0  -5   3   5  -5   5  -1   3   7  -1   3\n",
      "   2  -4   8   7  -6  -9   3   3  -7  -7   6  -7  -6   4   9   8  -3  -4\n",
      "  -3   4   9  -8  -2   3   1   5  -1   0  -7   3   6  -9   6  -6   9  -4\n",
      "   6   5   5 -10  -7   5 -10   2 -10   2   7   8   6  -7   2  -5  -4  -8\n",
      "   8   8  -1   8  -1  -9   0   6 -10  -7 -10   8   9   5   8   2   3  -4\n",
      "   5   9  -8   7  -8   3  -5  -1   9   5]\n"
     ]
    }
   ],
   "source": [
    "import numpy.random as npr\n",
    "x = npr.randint(-10,10, size=100)\n",
    "print(x)"
   ]
  },
  {
   "cell_type": "markdown",
   "metadata": {
    "colab_type": "text",
    "id": "5NBmEbYGxiel"
   },
   "source": [
    "### Mais um exercício \n",
    "1. No array acima, substitua os valores menores que -1 por -1, e valores maiores que 5 por 5. Fazendo uso de for "
   ]
  },
  {
   "cell_type": "code",
   "execution_count": 22,
   "metadata": {
    "colab": {},
    "colab_type": "code",
    "id": "MwmrE2CMxiem",
    "outputId": "567e8527-86fc-485e-8129-82adac2d15c8"
   },
   "outputs": [
    {
     "name": "stdout",
     "output_type": "stream",
     "text": [
      "[-1 -1  5  2 -1 -1  4  0 -1  3  5 -1  5 -1  3  5 -1  3  2 -1  5  5 -1 -1\n",
      "  3  3 -1 -1  5 -1 -1  4  5  5 -1 -1 -1  4  5 -1 -1  3  1  5 -1  0 -1  3\n",
      "  5 -1  5 -1  5 -1  5  5  5 -1 -1  5 -1  2 -1  2  5  5  5 -1  2 -1 -1 -1\n",
      "  5  5 -1  5 -1 -1  0  5 -1 -1 -1  5  5  5  5  2  3 -1  5  5 -1  5 -1  3\n",
      " -1 -1  5  5]\n"
     ]
    }
   ],
   "source": [
    "##Quer uma maneira fácil de se fazer isso?\n",
    "print(x.clip(-1, 5))"
   ]
  },
  {
   "cell_type": "markdown",
   "metadata": {
    "colab_type": "text",
    "id": "NCmbwCPIxiep"
   },
   "source": [
    "### Como fazer uma escolha aleatória?"
   ]
  },
  {
   "cell_type": "code",
   "execution_count": 23,
   "metadata": {
    "colab": {},
    "colab_type": "code",
    "id": "jdOEPxjxxiep",
    "outputId": "30233b4f-74f6-4347-ce80-da6bf356e008"
   },
   "outputs": [
    {
     "data": {
      "text/plain": [
       "array([  9,   5,  -7,   3, -10,  -5,   6,  -5,   8,   8])"
      ]
     },
     "execution_count": 23,
     "metadata": {},
     "output_type": "execute_result"
    }
   ],
   "source": [
    "y = npr.choice(x, 10, replace=False)\n",
    "y"
   ]
  },
  {
   "cell_type": "markdown",
   "metadata": {
    "colab_type": "text",
    "id": "vEn4Riezxier"
   },
   "source": [
    "### que tal uma escolha baseada em probabilidades?"
   ]
  },
  {
   "cell_type": "code",
   "execution_count": 24,
   "metadata": {
    "colab": {},
    "colab_type": "code",
    "id": "bPBoIq73xies",
    "outputId": "f64511a1-7cc8-4013-a0ca-10348270bc2e"
   },
   "outputs": [
    {
     "data": {
      "text/plain": [
       "array([6])"
      ]
     },
     "execution_count": 24,
     "metadata": {},
     "output_type": "execute_result"
    }
   ],
   "source": [
    "npr.choice(y, 1, p=[.05, .1, .15, .15, .05, .1, 0.15, .07, .08, 0.1])"
   ]
  },
  {
   "cell_type": "markdown",
   "metadata": {
    "colab_type": "text",
    "id": "Ug1s1mLaxieu"
   },
   "source": [
    "### Para não perder o costume um exercício\n",
    "1. Encontre os elementos unicos do array a seguir\n",
    "2. O retorno deve ser o elemento e seu index\n",
    "3. A quantidade observada em cada elemento"
   ]
  },
  {
   "cell_type": "code",
   "execution_count": 25,
   "metadata": {
    "colab": {},
    "colab_type": "code",
    "id": "lMGlflP0xieu"
   },
   "outputs": [],
   "source": [
    "symbols = np.array(['BCD', 'ACD', 'ACD', 'ACD', 'ABD', 'ABC', 'ABC', 'ABD', 'ABD',\n",
    "       'BCD', 'BCD', 'ABC', 'ABC', 'BCD', 'ACD'])"
   ]
  },
  {
   "cell_type": "code",
   "execution_count": 26,
   "metadata": {
    "colab": {},
    "colab_type": "code",
    "id": "Ni-XkAhxxiex"
   },
   "outputs": [],
   "source": [
    "a, b, c = np.unique(symbols, return_index=True, return_counts=True)"
   ]
  },
  {
   "cell_type": "code",
   "execution_count": 27,
   "metadata": {
    "colab": {},
    "colab_type": "code",
    "id": "WOqyTnxaxiez",
    "outputId": "3fe3e885-0589-450a-c4ef-6c74a7cdf492"
   },
   "outputs": [
    {
     "data": {
      "text/plain": [
       "array(['ABC', 'ABD', 'ACD', 'BCD'], dtype='<U3')"
      ]
     },
     "execution_count": 27,
     "metadata": {},
     "output_type": "execute_result"
    }
   ],
   "source": [
    "a"
   ]
  },
  {
   "cell_type": "code",
   "execution_count": 28,
   "metadata": {
    "colab": {},
    "colab_type": "code",
    "id": "kMNIJ3hSxie1",
    "outputId": "8987a258-7d8f-4e73-c372-cfd4c6818b97"
   },
   "outputs": [
    {
     "data": {
      "text/plain": [
       "array([4, 3, 4, 4])"
      ]
     },
     "execution_count": 28,
     "metadata": {},
     "output_type": "execute_result"
    }
   ],
   "source": [
    "c"
   ]
  },
  {
   "cell_type": "code",
   "execution_count": 29,
   "metadata": {
    "colab": {},
    "colab_type": "code",
    "id": "sMSomg3txie5",
    "outputId": "2f41feff-eb49-475a-c71a-352f35945835"
   },
   "outputs": [
    {
     "data": {
      "text/plain": [
       "(4,)"
      ]
     },
     "execution_count": 29,
     "metadata": {},
     "output_type": "execute_result"
    }
   ],
   "source": [
    "a.shape"
   ]
  },
  {
   "cell_type": "code",
   "execution_count": 30,
   "metadata": {
    "colab": {},
    "colab_type": "code",
    "id": "Rhu8ts3_xie7",
    "outputId": "8241c44e-b48a-46a0-9196-aefe5c5693f1"
   },
   "outputs": [
    {
     "data": {
      "text/plain": [
       "array([5, 4, 1, 0])"
      ]
     },
     "execution_count": 30,
     "metadata": {},
     "output_type": "execute_result"
    }
   ],
   "source": [
    "b"
   ]
  },
  {
   "cell_type": "markdown",
   "metadata": {
    "colab_type": "text",
    "id": "87PiDOkhxie-"
   },
   "source": [
    "### Como combinar arrays? "
   ]
  },
  {
   "cell_type": "code",
   "execution_count": 31,
   "metadata": {
    "colab": {},
    "colab_type": "code",
    "id": "73YNLJ3txie-"
   },
   "outputs": [],
   "source": [
    "array_1 = [[1,2],[3,4]]\n",
    "array_2 = [[5,6],[7,8]]"
   ]
  },
  {
   "cell_type": "code",
   "execution_count": 32,
   "metadata": {
    "colab": {},
    "colab_type": "code",
    "id": "5HIhzurwxifA",
    "outputId": "2265af22-b446-4920-abac-1929bd7cca32"
   },
   "outputs": [
    {
     "data": {
      "text/plain": [
       "array([[1, 2],\n",
       "       [3, 4],\n",
       "       [5, 6],\n",
       "       [7, 8]])"
      ]
     },
     "execution_count": 32,
     "metadata": {},
     "output_type": "execute_result"
    }
   ],
   "source": [
    "np.concatenate((array_1, array_2))"
   ]
  },
  {
   "cell_type": "code",
   "execution_count": 33,
   "metadata": {
    "colab": {},
    "colab_type": "code",
    "id": "DmxSDRi3xifC",
    "outputId": "f53c01b9-7ec4-4bbb-e10d-b898053077fe"
   },
   "outputs": [
    {
     "data": {
      "text/plain": [
       "array([[1, 2, 5, 6],\n",
       "       [3, 4, 7, 8]])"
      ]
     },
     "execution_count": 33,
     "metadata": {},
     "output_type": "execute_result"
    }
   ],
   "source": [
    "np.concatenate((array_1,array_2), axis=1)"
   ]
  },
  {
   "cell_type": "markdown",
   "metadata": {
    "colab_type": "text",
    "id": "2A2QksSXxifG"
   },
   "source": [
    "### Flatten Array"
   ]
  },
  {
   "cell_type": "code",
   "execution_count": 34,
   "metadata": {
    "colab": {},
    "colab_type": "code",
    "id": "H9L-c3ldxifK",
    "outputId": "bde06900-cf0e-4880-afeb-05d953319c95"
   },
   "outputs": [
    {
     "data": {
      "text/plain": [
       "array([[[ 0,  1,  2],\n",
       "        [ 3,  4,  5],\n",
       "        [ 6,  7,  8]],\n",
       "\n",
       "       [[ 9, 10, 11],\n",
       "        [12, 13, 14],\n",
       "        [15, 16, 17]],\n",
       "\n",
       "       [[18, 19, 20],\n",
       "        [21, 22, 23],\n",
       "        [24, 25, 26]]])"
      ]
     },
     "execution_count": 34,
     "metadata": {},
     "output_type": "execute_result"
    }
   ],
   "source": [
    "arr = np.arange(27).reshape(3,3,3)\n",
    "arr"
   ]
  },
  {
   "cell_type": "code",
   "execution_count": 35,
   "metadata": {
    "colab": {},
    "colab_type": "code",
    "id": "dh4Coa9XxifN",
    "outputId": "c0b0b9ec-cf59-41fb-bf30-025e6c301423"
   },
   "outputs": [
    {
     "data": {
      "text/plain": [
       "array([ 0,  1,  2,  3,  4,  5,  6,  7,  8,  9, 10, 11, 12, 13, 14, 15, 16,\n",
       "       17, 18, 19, 20, 21, 22, 23, 24, 25, 26])"
      ]
     },
     "execution_count": 35,
     "metadata": {},
     "output_type": "execute_result"
    }
   ],
   "source": [
    "arr.flatten()"
   ]
  },
  {
   "cell_type": "markdown",
   "metadata": {
    "colab_type": "text",
    "id": "kyqObGW1xifR"
   },
   "source": [
    "### Comando Where"
   ]
  },
  {
   "cell_type": "code",
   "execution_count": 36,
   "metadata": {
    "colab": {},
    "colab_type": "code",
    "id": "9q6jVUwKxifS",
    "outputId": "a1ba3a49-3230-46c5-81e7-b85c9ceb98a2"
   },
   "outputs": [
    {
     "data": {
      "text/plain": [
       "array([ -1,  -3,   5,  -4,  -9,  -3, -10,   8,   3,  -6,   5,   9,  -3,\n",
       "         4,  -1, -10,   2,   9,  -6,   1,  -7,   2, -10,   1,   4,  -7,\n",
       "        -7,  -7,   9,   1,   7,  -5,  -9,  -5,   9,  -2,   3,  -4,  -8,\n",
       "        -5, -10,   9,   4,  -2,  -4,  -9,   0,   5,   1,  -2,  -3,  -2,\n",
       "         9,  -3,   6,   0,  -2,  -2,   2,  -3,  -6,   6,   4,  -3,  -2,\n",
       "         6,  -8,   4,   5,   6,  -4,  -7,  -6,   3,   2,   4,   5,   4,\n",
       "        -2,   6,  -3,   2,   6,  -2,  -4,  -8,   6,   7,  -7,   8, -10,\n",
       "        -1,  -2,  -6,  -2,   3,   8,  -9,   9,   1])"
      ]
     },
     "execution_count": 36,
     "metadata": {},
     "output_type": "execute_result"
    }
   ],
   "source": [
    "x = npr.randint(-10,10, size=100)\n",
    "x"
   ]
  },
  {
   "cell_type": "code",
   "execution_count": 37,
   "metadata": {
    "colab": {},
    "colab_type": "code",
    "id": "10RV17TvxifU",
    "outputId": "f9a0a4dc-d218-4265-ff31-f7334b864174"
   },
   "outputs": [
    {
     "data": {
      "text/plain": [
       "array([ -1,  -3, 200,  -4,  -9,  -3, -10, 200, 200,  -6, 200, 200,  -3,\n",
       "       200,  -1, -10, 200, 200,  -6, 200,  -7, 200, -10, 200, 200,  -7,\n",
       "        -7,  -7, 200, 200, 200,  -5,  -9,  -5, 200,  -2, 200,  -4,  -8,\n",
       "        -5, -10, 200, 200,  -2,  -4,  -9,   0, 200, 200,  -2,  -3,  -2,\n",
       "       200,  -3, 200,   0,  -2,  -2, 200,  -3,  -6, 200, 200,  -3,  -2,\n",
       "       200,  -8, 200, 200, 200,  -4,  -7,  -6, 200, 200, 200, 200, 200,\n",
       "        -2, 200,  -3, 200, 200,  -2,  -4,  -8, 200, 200,  -7, 200, -10,\n",
       "        -1,  -2,  -6,  -2, 200, 200,  -9, 200, 200])"
      ]
     },
     "execution_count": 37,
     "metadata": {},
     "output_type": "execute_result"
    }
   ],
   "source": [
    "positive = np.where(x > 0, 200, x)\n",
    "positive"
   ]
  },
  {
   "cell_type": "code",
   "execution_count": null,
   "metadata": {
    "colab": {},
    "colab_type": "code",
    "id": "OBjRqiIXxifX"
   },
   "outputs": [],
   "source": []
  },
  {
   "cell_type": "code",
   "execution_count": null,
   "metadata": {},
   "outputs": [],
   "source": []
  }
 ],
 "metadata": {
  "colab": {
   "name": "Numpy-22-07.ipynb",
   "provenance": []
  },
  "kernelspec": {
   "display_name": "Python 3",
   "language": "python",
   "name": "python3"
  },
  "language_info": {
   "codemirror_mode": {
    "name": "ipython",
    "version": 3
   },
   "file_extension": ".py",
   "mimetype": "text/x-python",
   "name": "python",
   "nbconvert_exporter": "python",
   "pygments_lexer": "ipython3",
   "version": "3.8.3"
  }
 },
 "nbformat": 4,
 "nbformat_minor": 4
}
