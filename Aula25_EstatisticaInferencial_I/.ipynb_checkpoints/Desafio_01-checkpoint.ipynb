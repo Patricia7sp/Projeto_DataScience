{
 "cells": [
  {
   "cell_type": "markdown",
   "metadata": {},
   "source": [
    "###                 DESAFIO ESTATISCA \n",
    "\n",
    "   * Fazer uma estimativa da quantidade total de sapatos vendidos no mês de julho de 2015 para as lojas     localizadas no Reino Unido\n",
    "   * Considerar venda total\n",
    "   * Fazer a estimativa baseada na média histórica\n",
    "   * Fazer uma avaliacao da qualidade de estimativa feita\n",
    "   * Fazer intervalo de confianca de 95%\n",
    "   "
   ]
  },
  {
   "cell_type": "code",
   "execution_count": 1,
   "metadata": {},
   "outputs": [],
   "source": [
    "import pandas as pd\n",
    "import numpy as np\n",
    "import scipy.stats as stats\n",
    "import matplotlib.pyplot as plt\n",
    "%matplotlib inline"
   ]
  },
  {
   "cell_type": "code",
   "execution_count": 2,
   "metadata": {},
   "outputs": [
    {
     "data": {
      "text/html": [
       "<div>\n",
       "<style scoped>\n",
       "    .dataframe tbody tr th:only-of-type {\n",
       "        vertical-align: middle;\n",
       "    }\n",
       "\n",
       "    .dataframe tbody tr th {\n",
       "        vertical-align: top;\n",
       "    }\n",
       "\n",
       "    .dataframe thead th {\n",
       "        text-align: right;\n",
       "    }\n",
       "</style>\n",
       "<table border=\"1\" class=\"dataframe\">\n",
       "  <thead>\n",
       "    <tr style=\"text-align: right;\">\n",
       "      <th></th>\n",
       "      <th>Unnamed: 0</th>\n",
       "      <th>InvoiceNo</th>\n",
       "      <th>Date</th>\n",
       "      <th>Country</th>\n",
       "      <th>ProductID</th>\n",
       "      <th>Shop</th>\n",
       "      <th>Gender</th>\n",
       "      <th>Size (US)</th>\n",
       "      <th>Size (Europe)</th>\n",
       "      <th>Size (UK)</th>\n",
       "      <th>UnitPrice</th>\n",
       "      <th>Discount</th>\n",
       "      <th>Unnamed: 12</th>\n",
       "      <th>Month</th>\n",
       "      <th>SalePrice</th>\n",
       "    </tr>\n",
       "  </thead>\n",
       "  <tbody>\n",
       "    <tr>\n",
       "      <th>0</th>\n",
       "      <td>NaN</td>\n",
       "      <td>52389</td>\n",
       "      <td>1/1/2014</td>\n",
       "      <td>United Kingdom</td>\n",
       "      <td>2152</td>\n",
       "      <td>UK2</td>\n",
       "      <td>Male</td>\n",
       "      <td>11</td>\n",
       "      <td>#REF!</td>\n",
       "      <td>#REF!</td>\n",
       "      <td>$159,00</td>\n",
       "      <td>0%</td>\n",
       "      <td>2014</td>\n",
       "      <td>1</td>\n",
       "      <td>$159,00</td>\n",
       "    </tr>\n",
       "    <tr>\n",
       "      <th>1</th>\n",
       "      <td>NaN</td>\n",
       "      <td>52390</td>\n",
       "      <td>1/1/2014</td>\n",
       "      <td>United States</td>\n",
       "      <td>2230</td>\n",
       "      <td>US15</td>\n",
       "      <td>Male</td>\n",
       "      <td>11,5</td>\n",
       "      <td>#REF!</td>\n",
       "      <td>#REF!</td>\n",
       "      <td>$199,00</td>\n",
       "      <td>20%</td>\n",
       "      <td>2014</td>\n",
       "      <td>1</td>\n",
       "      <td>$159,20</td>\n",
       "    </tr>\n",
       "    <tr>\n",
       "      <th>2</th>\n",
       "      <td>NaN</td>\n",
       "      <td>52391</td>\n",
       "      <td>1/1/2014</td>\n",
       "      <td>Canada</td>\n",
       "      <td>2160</td>\n",
       "      <td>CAN7</td>\n",
       "      <td>Male</td>\n",
       "      <td>9,5</td>\n",
       "      <td>#REF!</td>\n",
       "      <td>#REF!</td>\n",
       "      <td>$149,00</td>\n",
       "      <td>20%</td>\n",
       "      <td>2014</td>\n",
       "      <td>1</td>\n",
       "      <td>$119,20</td>\n",
       "    </tr>\n",
       "    <tr>\n",
       "      <th>3</th>\n",
       "      <td>NaN</td>\n",
       "      <td>52392</td>\n",
       "      <td>1/1/2014</td>\n",
       "      <td>United States</td>\n",
       "      <td>2234</td>\n",
       "      <td>US6</td>\n",
       "      <td>Female</td>\n",
       "      <td>9,5</td>\n",
       "      <td>#REF!</td>\n",
       "      <td>#REF!</td>\n",
       "      <td>$159,00</td>\n",
       "      <td>0%</td>\n",
       "      <td>2014</td>\n",
       "      <td>1</td>\n",
       "      <td>$159,00</td>\n",
       "    </tr>\n",
       "    <tr>\n",
       "      <th>4</th>\n",
       "      <td>NaN</td>\n",
       "      <td>52393</td>\n",
       "      <td>1/1/2014</td>\n",
       "      <td>United Kingdom</td>\n",
       "      <td>2222</td>\n",
       "      <td>UK4</td>\n",
       "      <td>Female</td>\n",
       "      <td>9</td>\n",
       "      <td>#REF!</td>\n",
       "      <td>#REF!</td>\n",
       "      <td>$159,00</td>\n",
       "      <td>0%</td>\n",
       "      <td>2014</td>\n",
       "      <td>1</td>\n",
       "      <td>$159,00</td>\n",
       "    </tr>\n",
       "  </tbody>\n",
       "</table>\n",
       "</div>"
      ],
      "text/plain": [
       "   Unnamed: 0  InvoiceNo      Date         Country  ProductID  Shop  Gender  \\\n",
       "0         NaN      52389  1/1/2014  United Kingdom       2152   UK2    Male   \n",
       "1         NaN      52390  1/1/2014   United States       2230  US15    Male   \n",
       "2         NaN      52391  1/1/2014          Canada       2160  CAN7    Male   \n",
       "3         NaN      52392  1/1/2014   United States       2234   US6  Female   \n",
       "4         NaN      52393  1/1/2014  United Kingdom       2222   UK4  Female   \n",
       "\n",
       "  Size (US) Size (Europe) Size (UK)  UnitPrice Discount  Unnamed: 12  Month  \\\n",
       "0        11         #REF!     #REF!   $159,00        0%         2014      1   \n",
       "1      11,5         #REF!     #REF!   $199,00       20%         2014      1   \n",
       "2       9,5         #REF!     #REF!   $149,00       20%         2014      1   \n",
       "3       9,5         #REF!     #REF!   $159,00        0%         2014      1   \n",
       "4         9         #REF!     #REF!   $159,00        0%         2014      1   \n",
       "\n",
       "   SalePrice  \n",
       "0   $159,00   \n",
       "1   $159,20   \n",
       "2   $119,20   \n",
       "3   $159,00   \n",
       "4   $159,00   "
      ]
     },
     "execution_count": 2,
     "metadata": {},
     "output_type": "execute_result"
    }
   ],
   "source": [
    "data_sapatos = pd.read_csv('Confidence intervals_exercise.csv', skiprows=3, )\n",
    "data_sapatos.head()"
   ]
  },
  {
   "cell_type": "markdown",
   "metadata": {},
   "source": [
    "* Roneameando a coluna Unnamed:12 para Year"
   ]
  },
  {
   "cell_type": "code",
   "execution_count": 3,
   "metadata": {},
   "outputs": [
    {
     "data": {
      "text/html": [
       "<div>\n",
       "<style scoped>\n",
       "    .dataframe tbody tr th:only-of-type {\n",
       "        vertical-align: middle;\n",
       "    }\n",
       "\n",
       "    .dataframe tbody tr th {\n",
       "        vertical-align: top;\n",
       "    }\n",
       "\n",
       "    .dataframe thead th {\n",
       "        text-align: right;\n",
       "    }\n",
       "</style>\n",
       "<table border=\"1\" class=\"dataframe\">\n",
       "  <thead>\n",
       "    <tr style=\"text-align: right;\">\n",
       "      <th></th>\n",
       "      <th>Unnamed: 0</th>\n",
       "      <th>InvoiceNo</th>\n",
       "      <th>Date</th>\n",
       "      <th>Country</th>\n",
       "      <th>ProductID</th>\n",
       "      <th>Shop</th>\n",
       "      <th>Gender</th>\n",
       "      <th>Size (US)</th>\n",
       "      <th>Size (Europe)</th>\n",
       "      <th>Size (UK)</th>\n",
       "      <th>UnitPrice</th>\n",
       "      <th>Discount</th>\n",
       "      <th>Year</th>\n",
       "      <th>Month</th>\n",
       "      <th>SalePrice</th>\n",
       "    </tr>\n",
       "  </thead>\n",
       "  <tbody>\n",
       "    <tr>\n",
       "      <th>0</th>\n",
       "      <td>NaN</td>\n",
       "      <td>52389</td>\n",
       "      <td>1/1/2014</td>\n",
       "      <td>United Kingdom</td>\n",
       "      <td>2152</td>\n",
       "      <td>UK2</td>\n",
       "      <td>Male</td>\n",
       "      <td>11</td>\n",
       "      <td>#REF!</td>\n",
       "      <td>#REF!</td>\n",
       "      <td>$159,00</td>\n",
       "      <td>0%</td>\n",
       "      <td>2014</td>\n",
       "      <td>1</td>\n",
       "      <td>$159,00</td>\n",
       "    </tr>\n",
       "    <tr>\n",
       "      <th>1</th>\n",
       "      <td>NaN</td>\n",
       "      <td>52390</td>\n",
       "      <td>1/1/2014</td>\n",
       "      <td>United States</td>\n",
       "      <td>2230</td>\n",
       "      <td>US15</td>\n",
       "      <td>Male</td>\n",
       "      <td>11,5</td>\n",
       "      <td>#REF!</td>\n",
       "      <td>#REF!</td>\n",
       "      <td>$199,00</td>\n",
       "      <td>20%</td>\n",
       "      <td>2014</td>\n",
       "      <td>1</td>\n",
       "      <td>$159,20</td>\n",
       "    </tr>\n",
       "    <tr>\n",
       "      <th>2</th>\n",
       "      <td>NaN</td>\n",
       "      <td>52391</td>\n",
       "      <td>1/1/2014</td>\n",
       "      <td>Canada</td>\n",
       "      <td>2160</td>\n",
       "      <td>CAN7</td>\n",
       "      <td>Male</td>\n",
       "      <td>9,5</td>\n",
       "      <td>#REF!</td>\n",
       "      <td>#REF!</td>\n",
       "      <td>$149,00</td>\n",
       "      <td>20%</td>\n",
       "      <td>2014</td>\n",
       "      <td>1</td>\n",
       "      <td>$119,20</td>\n",
       "    </tr>\n",
       "    <tr>\n",
       "      <th>3</th>\n",
       "      <td>NaN</td>\n",
       "      <td>52392</td>\n",
       "      <td>1/1/2014</td>\n",
       "      <td>United States</td>\n",
       "      <td>2234</td>\n",
       "      <td>US6</td>\n",
       "      <td>Female</td>\n",
       "      <td>9,5</td>\n",
       "      <td>#REF!</td>\n",
       "      <td>#REF!</td>\n",
       "      <td>$159,00</td>\n",
       "      <td>0%</td>\n",
       "      <td>2014</td>\n",
       "      <td>1</td>\n",
       "      <td>$159,00</td>\n",
       "    </tr>\n",
       "    <tr>\n",
       "      <th>4</th>\n",
       "      <td>NaN</td>\n",
       "      <td>52393</td>\n",
       "      <td>1/1/2014</td>\n",
       "      <td>United Kingdom</td>\n",
       "      <td>2222</td>\n",
       "      <td>UK4</td>\n",
       "      <td>Female</td>\n",
       "      <td>9</td>\n",
       "      <td>#REF!</td>\n",
       "      <td>#REF!</td>\n",
       "      <td>$159,00</td>\n",
       "      <td>0%</td>\n",
       "      <td>2014</td>\n",
       "      <td>1</td>\n",
       "      <td>$159,00</td>\n",
       "    </tr>\n",
       "  </tbody>\n",
       "</table>\n",
       "</div>"
      ],
      "text/plain": [
       "   Unnamed: 0  InvoiceNo      Date         Country  ProductID  Shop  Gender  \\\n",
       "0         NaN      52389  1/1/2014  United Kingdom       2152   UK2    Male   \n",
       "1         NaN      52390  1/1/2014   United States       2230  US15    Male   \n",
       "2         NaN      52391  1/1/2014          Canada       2160  CAN7    Male   \n",
       "3         NaN      52392  1/1/2014   United States       2234   US6  Female   \n",
       "4         NaN      52393  1/1/2014  United Kingdom       2222   UK4  Female   \n",
       "\n",
       "  Size (US) Size (Europe) Size (UK)  UnitPrice Discount  Year  Month  \\\n",
       "0        11         #REF!     #REF!   $159,00        0%  2014      1   \n",
       "1      11,5         #REF!     #REF!   $199,00       20%  2014      1   \n",
       "2       9,5         #REF!     #REF!   $149,00       20%  2014      1   \n",
       "3       9,5         #REF!     #REF!   $159,00        0%  2014      1   \n",
       "4         9         #REF!     #REF!   $159,00        0%  2014      1   \n",
       "\n",
       "   SalePrice  \n",
       "0   $159,00   \n",
       "1   $159,20   \n",
       "2   $119,20   \n",
       "3   $159,00   \n",
       "4   $159,00   "
      ]
     },
     "execution_count": 3,
     "metadata": {},
     "output_type": "execute_result"
    }
   ],
   "source": [
    "\n",
    "data_sapatos= data_sapatos.rename(columns={'Unnamed: 12': 'Year'})\n",
    "data_sapatos.head()"
   ]
  },
  {
   "cell_type": "markdown",
   "metadata": {},
   "source": [
    "* Inserindo uma nova coluna para quantidade "
   ]
  },
  {
   "cell_type": "code",
   "execution_count": 4,
   "metadata": {},
   "outputs": [
    {
     "data": {
      "text/html": [
       "<div>\n",
       "<style scoped>\n",
       "    .dataframe tbody tr th:only-of-type {\n",
       "        vertical-align: middle;\n",
       "    }\n",
       "\n",
       "    .dataframe tbody tr th {\n",
       "        vertical-align: top;\n",
       "    }\n",
       "\n",
       "    .dataframe thead th {\n",
       "        text-align: right;\n",
       "    }\n",
       "</style>\n",
       "<table border=\"1\" class=\"dataframe\">\n",
       "  <thead>\n",
       "    <tr style=\"text-align: right;\">\n",
       "      <th></th>\n",
       "      <th>Unnamed: 0</th>\n",
       "      <th>InvoiceNo</th>\n",
       "      <th>Date</th>\n",
       "      <th>Country</th>\n",
       "      <th>ProductID</th>\n",
       "      <th>Shop</th>\n",
       "      <th>Gender</th>\n",
       "      <th>Size (US)</th>\n",
       "      <th>Size (Europe)</th>\n",
       "      <th>Size (UK)</th>\n",
       "      <th>UnitPrice</th>\n",
       "      <th>Discount</th>\n",
       "      <th>Year</th>\n",
       "      <th>Month</th>\n",
       "      <th>SalePrice</th>\n",
       "      <th>Count</th>\n",
       "    </tr>\n",
       "  </thead>\n",
       "  <tbody>\n",
       "    <tr>\n",
       "      <th>0</th>\n",
       "      <td>NaN</td>\n",
       "      <td>52389</td>\n",
       "      <td>1/1/2014</td>\n",
       "      <td>United Kingdom</td>\n",
       "      <td>2152</td>\n",
       "      <td>UK2</td>\n",
       "      <td>Male</td>\n",
       "      <td>11</td>\n",
       "      <td>#REF!</td>\n",
       "      <td>#REF!</td>\n",
       "      <td>$159,00</td>\n",
       "      <td>0%</td>\n",
       "      <td>2014</td>\n",
       "      <td>1</td>\n",
       "      <td>$159,00</td>\n",
       "      <td>1</td>\n",
       "    </tr>\n",
       "    <tr>\n",
       "      <th>1</th>\n",
       "      <td>NaN</td>\n",
       "      <td>52390</td>\n",
       "      <td>1/1/2014</td>\n",
       "      <td>United States</td>\n",
       "      <td>2230</td>\n",
       "      <td>US15</td>\n",
       "      <td>Male</td>\n",
       "      <td>11,5</td>\n",
       "      <td>#REF!</td>\n",
       "      <td>#REF!</td>\n",
       "      <td>$199,00</td>\n",
       "      <td>20%</td>\n",
       "      <td>2014</td>\n",
       "      <td>1</td>\n",
       "      <td>$159,20</td>\n",
       "      <td>1</td>\n",
       "    </tr>\n",
       "    <tr>\n",
       "      <th>2</th>\n",
       "      <td>NaN</td>\n",
       "      <td>52391</td>\n",
       "      <td>1/1/2014</td>\n",
       "      <td>Canada</td>\n",
       "      <td>2160</td>\n",
       "      <td>CAN7</td>\n",
       "      <td>Male</td>\n",
       "      <td>9,5</td>\n",
       "      <td>#REF!</td>\n",
       "      <td>#REF!</td>\n",
       "      <td>$149,00</td>\n",
       "      <td>20%</td>\n",
       "      <td>2014</td>\n",
       "      <td>1</td>\n",
       "      <td>$119,20</td>\n",
       "      <td>1</td>\n",
       "    </tr>\n",
       "    <tr>\n",
       "      <th>3</th>\n",
       "      <td>NaN</td>\n",
       "      <td>52392</td>\n",
       "      <td>1/1/2014</td>\n",
       "      <td>United States</td>\n",
       "      <td>2234</td>\n",
       "      <td>US6</td>\n",
       "      <td>Female</td>\n",
       "      <td>9,5</td>\n",
       "      <td>#REF!</td>\n",
       "      <td>#REF!</td>\n",
       "      <td>$159,00</td>\n",
       "      <td>0%</td>\n",
       "      <td>2014</td>\n",
       "      <td>1</td>\n",
       "      <td>$159,00</td>\n",
       "      <td>1</td>\n",
       "    </tr>\n",
       "    <tr>\n",
       "      <th>4</th>\n",
       "      <td>NaN</td>\n",
       "      <td>52393</td>\n",
       "      <td>1/1/2014</td>\n",
       "      <td>United Kingdom</td>\n",
       "      <td>2222</td>\n",
       "      <td>UK4</td>\n",
       "      <td>Female</td>\n",
       "      <td>9</td>\n",
       "      <td>#REF!</td>\n",
       "      <td>#REF!</td>\n",
       "      <td>$159,00</td>\n",
       "      <td>0%</td>\n",
       "      <td>2014</td>\n",
       "      <td>1</td>\n",
       "      <td>$159,00</td>\n",
       "      <td>1</td>\n",
       "    </tr>\n",
       "  </tbody>\n",
       "</table>\n",
       "</div>"
      ],
      "text/plain": [
       "   Unnamed: 0  InvoiceNo      Date         Country  ProductID  Shop  Gender  \\\n",
       "0         NaN      52389  1/1/2014  United Kingdom       2152   UK2    Male   \n",
       "1         NaN      52390  1/1/2014   United States       2230  US15    Male   \n",
       "2         NaN      52391  1/1/2014          Canada       2160  CAN7    Male   \n",
       "3         NaN      52392  1/1/2014   United States       2234   US6  Female   \n",
       "4         NaN      52393  1/1/2014  United Kingdom       2222   UK4  Female   \n",
       "\n",
       "  Size (US) Size (Europe) Size (UK)  UnitPrice Discount  Year  Month  \\\n",
       "0        11         #REF!     #REF!   $159,00        0%  2014      1   \n",
       "1      11,5         #REF!     #REF!   $199,00       20%  2014      1   \n",
       "2       9,5         #REF!     #REF!   $149,00       20%  2014      1   \n",
       "3       9,5         #REF!     #REF!   $159,00        0%  2014      1   \n",
       "4         9         #REF!     #REF!   $159,00        0%  2014      1   \n",
       "\n",
       "   SalePrice  Count  \n",
       "0   $159,00       1  \n",
       "1   $159,20       1  \n",
       "2   $119,20       1  \n",
       "3   $159,00       1  \n",
       "4   $159,00       1  "
      ]
     },
     "execution_count": 4,
     "metadata": {},
     "output_type": "execute_result"
    }
   ],
   "source": [
    "data_sapatos['Count'] = 1\n",
    "data_sapatos.head()"
   ]
  },
  {
   "cell_type": "markdown",
   "metadata": {},
   "source": [
    "* Excluindo colunas sem informacao(NaN e #REF)"
   ]
  },
  {
   "cell_type": "code",
   "execution_count": 5,
   "metadata": {},
   "outputs": [],
   "source": [
    "data_sapatos = data_sapatos.drop(columns=['Unnamed: 0', 'Size (Europe)', 'Size (UK)'])\n"
   ]
  },
  {
   "cell_type": "code",
   "execution_count": 6,
   "metadata": {},
   "outputs": [
    {
     "data": {
      "text/html": [
       "<div>\n",
       "<style scoped>\n",
       "    .dataframe tbody tr th:only-of-type {\n",
       "        vertical-align: middle;\n",
       "    }\n",
       "\n",
       "    .dataframe tbody tr th {\n",
       "        vertical-align: top;\n",
       "    }\n",
       "\n",
       "    .dataframe thead th {\n",
       "        text-align: right;\n",
       "    }\n",
       "</style>\n",
       "<table border=\"1\" class=\"dataframe\">\n",
       "  <thead>\n",
       "    <tr style=\"text-align: right;\">\n",
       "      <th></th>\n",
       "      <th>InvoiceNo</th>\n",
       "      <th>Date</th>\n",
       "      <th>Country</th>\n",
       "      <th>ProductID</th>\n",
       "      <th>Shop</th>\n",
       "      <th>Gender</th>\n",
       "      <th>Size (US)</th>\n",
       "      <th>UnitPrice</th>\n",
       "      <th>Discount</th>\n",
       "      <th>Year</th>\n",
       "      <th>Month</th>\n",
       "      <th>SalePrice</th>\n",
       "      <th>Count</th>\n",
       "    </tr>\n",
       "  </thead>\n",
       "  <tbody>\n",
       "    <tr>\n",
       "      <th>0</th>\n",
       "      <td>52389</td>\n",
       "      <td>1/1/2014</td>\n",
       "      <td>United Kingdom</td>\n",
       "      <td>2152</td>\n",
       "      <td>UK2</td>\n",
       "      <td>Male</td>\n",
       "      <td>11</td>\n",
       "      <td>$159,00</td>\n",
       "      <td>0%</td>\n",
       "      <td>2014</td>\n",
       "      <td>1</td>\n",
       "      <td>$159,00</td>\n",
       "      <td>1</td>\n",
       "    </tr>\n",
       "    <tr>\n",
       "      <th>1</th>\n",
       "      <td>52390</td>\n",
       "      <td>1/1/2014</td>\n",
       "      <td>United States</td>\n",
       "      <td>2230</td>\n",
       "      <td>US15</td>\n",
       "      <td>Male</td>\n",
       "      <td>11,5</td>\n",
       "      <td>$199,00</td>\n",
       "      <td>20%</td>\n",
       "      <td>2014</td>\n",
       "      <td>1</td>\n",
       "      <td>$159,20</td>\n",
       "      <td>1</td>\n",
       "    </tr>\n",
       "    <tr>\n",
       "      <th>2</th>\n",
       "      <td>52391</td>\n",
       "      <td>1/1/2014</td>\n",
       "      <td>Canada</td>\n",
       "      <td>2160</td>\n",
       "      <td>CAN7</td>\n",
       "      <td>Male</td>\n",
       "      <td>9,5</td>\n",
       "      <td>$149,00</td>\n",
       "      <td>20%</td>\n",
       "      <td>2014</td>\n",
       "      <td>1</td>\n",
       "      <td>$119,20</td>\n",
       "      <td>1</td>\n",
       "    </tr>\n",
       "    <tr>\n",
       "      <th>3</th>\n",
       "      <td>52392</td>\n",
       "      <td>1/1/2014</td>\n",
       "      <td>United States</td>\n",
       "      <td>2234</td>\n",
       "      <td>US6</td>\n",
       "      <td>Female</td>\n",
       "      <td>9,5</td>\n",
       "      <td>$159,00</td>\n",
       "      <td>0%</td>\n",
       "      <td>2014</td>\n",
       "      <td>1</td>\n",
       "      <td>$159,00</td>\n",
       "      <td>1</td>\n",
       "    </tr>\n",
       "    <tr>\n",
       "      <th>4</th>\n",
       "      <td>52393</td>\n",
       "      <td>1/1/2014</td>\n",
       "      <td>United Kingdom</td>\n",
       "      <td>2222</td>\n",
       "      <td>UK4</td>\n",
       "      <td>Female</td>\n",
       "      <td>9</td>\n",
       "      <td>$159,00</td>\n",
       "      <td>0%</td>\n",
       "      <td>2014</td>\n",
       "      <td>1</td>\n",
       "      <td>$159,00</td>\n",
       "      <td>1</td>\n",
       "    </tr>\n",
       "  </tbody>\n",
       "</table>\n",
       "</div>"
      ],
      "text/plain": [
       "   InvoiceNo      Date         Country  ProductID  Shop  Gender Size (US)  \\\n",
       "0      52389  1/1/2014  United Kingdom       2152   UK2    Male        11   \n",
       "1      52390  1/1/2014   United States       2230  US15    Male      11,5   \n",
       "2      52391  1/1/2014          Canada       2160  CAN7    Male       9,5   \n",
       "3      52392  1/1/2014   United States       2234   US6  Female       9,5   \n",
       "4      52393  1/1/2014  United Kingdom       2222   UK4  Female         9   \n",
       "\n",
       "   UnitPrice Discount  Year  Month  SalePrice  Count  \n",
       "0   $159,00        0%  2014      1   $159,00       1  \n",
       "1   $199,00       20%  2014      1   $159,20       1  \n",
       "2   $149,00       20%  2014      1   $119,20       1  \n",
       "3   $159,00        0%  2014      1   $159,00       1  \n",
       "4   $159,00        0%  2014      1   $159,00       1  "
      ]
     },
     "execution_count": 6,
     "metadata": {},
     "output_type": "execute_result"
    }
   ],
   "source": [
    "data_sapatos.head()"
   ]
  },
  {
   "cell_type": "code",
   "execution_count": 7,
   "metadata": {},
   "outputs": [
    {
     "data": {
      "text/plain": [
       "(14967, 13)"
      ]
     },
     "execution_count": 7,
     "metadata": {},
     "output_type": "execute_result"
    }
   ],
   "source": [
    "data_sapatos.shape"
   ]
  },
  {
   "cell_type": "code",
   "execution_count": 8,
   "metadata": {},
   "outputs": [
    {
     "name": "stdout",
     "output_type": "stream",
     "text": [
      "<class 'pandas.core.frame.DataFrame'>\n",
      "RangeIndex: 14967 entries, 0 to 14966\n",
      "Data columns (total 13 columns):\n",
      " #   Column     Non-Null Count  Dtype \n",
      "---  ------     --------------  ----- \n",
      " 0   InvoiceNo  14967 non-null  int64 \n",
      " 1   Date       14967 non-null  object\n",
      " 2   Country    14967 non-null  object\n",
      " 3   ProductID  14967 non-null  int64 \n",
      " 4   Shop       14967 non-null  object\n",
      " 5   Gender     14967 non-null  object\n",
      " 6   Size (US)  14967 non-null  object\n",
      " 7   UnitPrice  14967 non-null  object\n",
      " 8   Discount   14967 non-null  object\n",
      " 9   Year       14967 non-null  int64 \n",
      " 10  Month      14967 non-null  int64 \n",
      " 11  SalePrice  14967 non-null  object\n",
      " 12  Count      14967 non-null  int64 \n",
      "dtypes: int64(5), object(8)\n",
      "memory usage: 1.5+ MB\n"
     ]
    }
   ],
   "source": [
    "data_sapatos.info()"
   ]
  },
  {
   "cell_type": "markdown",
   "metadata": {},
   "source": [
    "### Criando uma base  de dados somente com o país do Reino Unido, com suas vendas do ano 2015"
   ]
  },
  {
   "cell_type": "code",
   "execution_count": 9,
   "metadata": {},
   "outputs": [],
   "source": [
    "data_sapatos_UK =  data_sapatos.loc[(data_sapatos['Country']==\"United Kingdom\") &   (data_sapatos['Year']==2015)]"
   ]
  },
  {
   "cell_type": "code",
   "execution_count": 10,
   "metadata": {},
   "outputs": [
    {
     "data": {
      "text/html": [
       "<div>\n",
       "<style scoped>\n",
       "    .dataframe tbody tr th:only-of-type {\n",
       "        vertical-align: middle;\n",
       "    }\n",
       "\n",
       "    .dataframe tbody tr th {\n",
       "        vertical-align: top;\n",
       "    }\n",
       "\n",
       "    .dataframe thead th {\n",
       "        text-align: right;\n",
       "    }\n",
       "</style>\n",
       "<table border=\"1\" class=\"dataframe\">\n",
       "  <thead>\n",
       "    <tr style=\"text-align: right;\">\n",
       "      <th></th>\n",
       "      <th>InvoiceNo</th>\n",
       "      <th>Date</th>\n",
       "      <th>Country</th>\n",
       "      <th>ProductID</th>\n",
       "      <th>Shop</th>\n",
       "      <th>Gender</th>\n",
       "      <th>Size (US)</th>\n",
       "      <th>UnitPrice</th>\n",
       "      <th>Discount</th>\n",
       "      <th>Year</th>\n",
       "      <th>Month</th>\n",
       "      <th>SalePrice</th>\n",
       "      <th>Count</th>\n",
       "    </tr>\n",
       "  </thead>\n",
       "  <tbody>\n",
       "    <tr>\n",
       "      <th>2757</th>\n",
       "      <td>54729</td>\n",
       "      <td>1/1/2015</td>\n",
       "      <td>United Kingdom</td>\n",
       "      <td>2199</td>\n",
       "      <td>UK5</td>\n",
       "      <td>Male</td>\n",
       "      <td>9,5</td>\n",
       "      <td>$139,00</td>\n",
       "      <td>0%</td>\n",
       "      <td>2015</td>\n",
       "      <td>1</td>\n",
       "      <td>$139,00</td>\n",
       "      <td>1</td>\n",
       "    </tr>\n",
       "    <tr>\n",
       "      <th>2760</th>\n",
       "      <td>54732</td>\n",
       "      <td>2/1/2015</td>\n",
       "      <td>United Kingdom</td>\n",
       "      <td>2155</td>\n",
       "      <td>UK5</td>\n",
       "      <td>Female</td>\n",
       "      <td>10</td>\n",
       "      <td>$129,00</td>\n",
       "      <td>0%</td>\n",
       "      <td>2015</td>\n",
       "      <td>1</td>\n",
       "      <td>$129,00</td>\n",
       "      <td>1</td>\n",
       "    </tr>\n",
       "    <tr>\n",
       "      <th>2763</th>\n",
       "      <td>54735</td>\n",
       "      <td>2/1/2015</td>\n",
       "      <td>United Kingdom</td>\n",
       "      <td>2181</td>\n",
       "      <td>UK3</td>\n",
       "      <td>Male</td>\n",
       "      <td>9,5</td>\n",
       "      <td>$199,00</td>\n",
       "      <td>30%</td>\n",
       "      <td>2015</td>\n",
       "      <td>1</td>\n",
       "      <td>$139,30</td>\n",
       "      <td>1</td>\n",
       "    </tr>\n",
       "    <tr>\n",
       "      <th>2764</th>\n",
       "      <td>54736</td>\n",
       "      <td>2/1/2015</td>\n",
       "      <td>United Kingdom</td>\n",
       "      <td>2178</td>\n",
       "      <td>UK2</td>\n",
       "      <td>Male</td>\n",
       "      <td>11</td>\n",
       "      <td>$139,00</td>\n",
       "      <td>20%</td>\n",
       "      <td>2015</td>\n",
       "      <td>1</td>\n",
       "      <td>$111,20</td>\n",
       "      <td>1</td>\n",
       "    </tr>\n",
       "    <tr>\n",
       "      <th>2769</th>\n",
       "      <td>54741</td>\n",
       "      <td>3/1/2015</td>\n",
       "      <td>United Kingdom</td>\n",
       "      <td>2199</td>\n",
       "      <td>UK5</td>\n",
       "      <td>Male</td>\n",
       "      <td>9,5</td>\n",
       "      <td>$139,00</td>\n",
       "      <td>0%</td>\n",
       "      <td>2015</td>\n",
       "      <td>1</td>\n",
       "      <td>$139,00</td>\n",
       "      <td>1</td>\n",
       "    </tr>\n",
       "  </tbody>\n",
       "</table>\n",
       "</div>"
      ],
      "text/plain": [
       "      InvoiceNo      Date         Country  ProductID Shop  Gender Size (US)  \\\n",
       "2757      54729  1/1/2015  United Kingdom       2199  UK5    Male       9,5   \n",
       "2760      54732  2/1/2015  United Kingdom       2155  UK5  Female        10   \n",
       "2763      54735  2/1/2015  United Kingdom       2181  UK3    Male       9,5   \n",
       "2764      54736  2/1/2015  United Kingdom       2178  UK2    Male        11   \n",
       "2769      54741  3/1/2015  United Kingdom       2199  UK5    Male       9,5   \n",
       "\n",
       "      UnitPrice Discount  Year  Month  SalePrice  Count  \n",
       "2757   $139,00        0%  2015      1   $139,00       1  \n",
       "2760   $129,00        0%  2015      1   $129,00       1  \n",
       "2763   $199,00       30%  2015      1   $139,30       1  \n",
       "2764   $139,00       20%  2015      1   $111,20       1  \n",
       "2769   $139,00        0%  2015      1   $139,00       1  "
      ]
     },
     "execution_count": 10,
     "metadata": {},
     "output_type": "execute_result"
    }
   ],
   "source": [
    "data_sapatos_UK.head()"
   ]
  },
  {
   "cell_type": "code",
   "execution_count": null,
   "metadata": {
    "jupyter": {
     "source_hidden": true
    }
   },
   "outputs": [],
   "source": []
  },
  {
   "cell_type": "code",
   "execution_count": 11,
   "metadata": {},
   "outputs": [
    {
     "data": {
      "text/plain": [
       "(440, 13)"
      ]
     },
     "execution_count": 11,
     "metadata": {},
     "output_type": "execute_result"
    }
   ],
   "source": [
    "data_sapatos_UK.shape"
   ]
  },
  {
   "cell_type": "code",
   "execution_count": 12,
   "metadata": {},
   "outputs": [
    {
     "name": "stdout",
     "output_type": "stream",
     "text": [
      "<class 'pandas.core.frame.DataFrame'>\n",
      "Int64Index: 440 entries, 2757 to 7589\n",
      "Data columns (total 13 columns):\n",
      " #   Column     Non-Null Count  Dtype \n",
      "---  ------     --------------  ----- \n",
      " 0   InvoiceNo  440 non-null    int64 \n",
      " 1   Date       440 non-null    object\n",
      " 2   Country    440 non-null    object\n",
      " 3   ProductID  440 non-null    int64 \n",
      " 4   Shop       440 non-null    object\n",
      " 5   Gender     440 non-null    object\n",
      " 6   Size (US)  440 non-null    object\n",
      " 7   UnitPrice  440 non-null    object\n",
      " 8   Discount   440 non-null    object\n",
      " 9   Year       440 non-null    int64 \n",
      " 10  Month      440 non-null    int64 \n",
      " 11  SalePrice  440 non-null    object\n",
      " 12  Count      440 non-null    int64 \n",
      "dtypes: int64(5), object(8)\n",
      "memory usage: 48.1+ KB\n"
     ]
    }
   ],
   "source": [
    "data_sapatos_UK.info()"
   ]
  },
  {
   "cell_type": "markdown",
   "metadata": {},
   "source": [
    "* Verificando o Periodo de venda de 2015"
   ]
  },
  {
   "cell_type": "code",
   "execution_count": 13,
   "metadata": {},
   "outputs": [
    {
     "data": {
      "text/plain": [
       "'1/1/2015'"
      ]
     },
     "execution_count": 13,
     "metadata": {},
     "output_type": "execute_result"
    }
   ],
   "source": [
    "# data de inicio das vendas\n",
    "data_sapatos_UK['Date'].min()"
   ]
  },
  {
   "cell_type": "code",
   "execution_count": 14,
   "metadata": {},
   "outputs": [
    {
     "data": {
      "text/plain": [
       "'9/8/2015'"
      ]
     },
     "execution_count": 14,
     "metadata": {},
     "output_type": "execute_result"
    }
   ],
   "source": [
    "# data fim das vendas\n",
    "data_sapatos_UK['Date'].max()"
   ]
  },
  {
   "cell_type": "code",
   "execution_count": 15,
   "metadata": {},
   "outputs": [
    {
     "data": {
      "text/plain": [
       "1"
      ]
     },
     "execution_count": 15,
     "metadata": {},
     "output_type": "execute_result"
    }
   ],
   "source": [
    "# mes de iniicio das vendas\n",
    "data_sapatos_UK['Month'].min()"
   ]
  },
  {
   "cell_type": "code",
   "execution_count": 16,
   "metadata": {},
   "outputs": [
    {
     "data": {
      "text/plain": [
       "12"
      ]
     },
     "execution_count": 16,
     "metadata": {},
     "output_type": "execute_result"
    }
   ],
   "source": [
    "# ultimo mes de vendas\n",
    "\n",
    "data_sapatos_UK['Month'].max()"
   ]
  },
  {
   "cell_type": "code",
   "execution_count": 17,
   "metadata": {},
   "outputs": [
    {
     "data": {
      "image/png": "[encoded data removed]",
      "text/plain": [
       "<Figure size 432x288 with 1 Axes>"
      ]
     },
     "metadata": {
      "needs_background": "light"
     },
     "output_type": "display_data"
    }
   ],
   "source": [
    "#Analisando as vendas por mes\n",
    "data_sapatos_UK.Month.hist(bins = 50, color= 'Blue')\n",
    "plt.title('Periodo de Vendas')\n",
    "plt.xlabel('Mes')\n",
    "plt.show()"
   ]
  },
  {
   "cell_type": "code",
   "execution_count": 18,
   "metadata": {},
   "outputs": [
    {
     "data": {
      "text/plain": [
       "Male      254\n",
       "Female    186\n",
       "Name: Gender, dtype: int64"
      ]
     },
     "execution_count": 18,
     "metadata": {},
     "output_type": "execute_result"
    }
   ],
   "source": [
    "#Analisando as vendas por Genero\n",
    "data_sapatos_UK['Gender'].value_counts() "
   ]
  },
  {
   "cell_type": "code",
   "execution_count": 19,
   "metadata": {},
   "outputs": [
    {
     "data": {
      "image/png": "[encoded data removed]",
      "text/plain": [
       "<Figure size 432x288 with 1 Axes>"
      ]
     },
     "metadata": {},
     "output_type": "display_data"
    }
   ],
   "source": [
    "#  Plotando um grafico da analise das vendas por genero \n",
    "\n",
    "gender = ['Male', 'Female']\n",
    "\n",
    "venda = [254, 186]\n",
    "\n",
    "# define o nível de separabilidade entre as partes, ordem do vetor representa as partes\n",
    "explode = (0.1, 0)\n",
    "# define o formato de visualização com saída em 1.1%%, sombras e a separação entre as partes\n",
    "\n",
    "plt.pie(venda, labels=gender, autopct='%1.1f%%', shadow=True, explode=explode)\n",
    "\n",
    "\n",
    "plt.legend(gender,loc=3)\n",
    "\n",
    "#Centraliza o gráfico\n",
    "plt.axis('equal')\n",
    "#Ajusta o espaçamento para evitar o recorte do rótulo\n",
    "plt.tight_layout()\n",
    "plt.show()"
   ]
  },
  {
   "cell_type": "code",
   "execution_count": null,
   "metadata": {
    "jupyter": {
     "source_hidden": true
    }
   },
   "outputs": [],
   "source": []
  },
  {
   "cell_type": "markdown",
   "metadata": {},
   "source": [
    "### Calculando a media e o desvio-padrao das vendas de sapatos por genero"
   ]
  },
  {
   "cell_type": "markdown",
   "metadata": {},
   "source": [
    "* Fazendo a soma total das vendas  em cada mes"
   ]
  },
  {
   "cell_type": "code",
   "execution_count": 20,
   "metadata": {},
   "outputs": [
    {
     "data": {
      "text/html": [
       "<div>\n",
       "<style scoped>\n",
       "    .dataframe tbody tr th:only-of-type {\n",
       "        vertical-align: middle;\n",
       "    }\n",
       "\n",
       "    .dataframe tbody tr th {\n",
       "        vertical-align: top;\n",
       "    }\n",
       "\n",
       "    .dataframe thead th {\n",
       "        text-align: right;\n",
       "    }\n",
       "</style>\n",
       "<table border=\"1\" class=\"dataframe\">\n",
       "  <thead>\n",
       "    <tr style=\"text-align: right;\">\n",
       "      <th></th>\n",
       "      <th>Year</th>\n",
       "      <th>Month</th>\n",
       "      <th>Gender</th>\n",
       "      <th>Count</th>\n",
       "    </tr>\n",
       "  </thead>\n",
       "  <tbody>\n",
       "    <tr>\n",
       "      <th>0</th>\n",
       "      <td>2015</td>\n",
       "      <td>1</td>\n",
       "      <td>Female</td>\n",
       "      <td>11</td>\n",
       "    </tr>\n",
       "    <tr>\n",
       "      <th>1</th>\n",
       "      <td>2015</td>\n",
       "      <td>1</td>\n",
       "      <td>Male</td>\n",
       "      <td>16</td>\n",
       "    </tr>\n",
       "    <tr>\n",
       "      <th>2</th>\n",
       "      <td>2015</td>\n",
       "      <td>2</td>\n",
       "      <td>Female</td>\n",
       "      <td>15</td>\n",
       "    </tr>\n",
       "    <tr>\n",
       "      <th>3</th>\n",
       "      <td>2015</td>\n",
       "      <td>2</td>\n",
       "      <td>Male</td>\n",
       "      <td>10</td>\n",
       "    </tr>\n",
       "    <tr>\n",
       "      <th>4</th>\n",
       "      <td>2015</td>\n",
       "      <td>3</td>\n",
       "      <td>Female</td>\n",
       "      <td>16</td>\n",
       "    </tr>\n",
       "  </tbody>\n",
       "</table>\n",
       "</div>"
      ],
      "text/plain": [
       "   Year  Month  Gender  Count\n",
       "0  2015      1  Female     11\n",
       "1  2015      1    Male     16\n",
       "2  2015      2  Female     15\n",
       "3  2015      2    Male     10\n",
       "4  2015      3  Female     16"
      ]
     },
     "execution_count": 20,
     "metadata": {},
     "output_type": "execute_result"
    }
   ],
   "source": [
    "data_sapatos_UK_soma_gender = data_sapatos_UK.groupby([data_sapatos_UK['Year'], data_sapatos_UK['Month'],data_sapatos_UK['Gender']])['Count'].count().reset_index()\n",
    "data_sapatos_UK_soma_gender.head()"
   ]
  },
  {
   "cell_type": "code",
   "execution_count": 21,
   "metadata": {},
   "outputs": [
    {
     "data": {
      "text/plain": [
       "440"
      ]
     },
     "execution_count": 21,
     "metadata": {},
     "output_type": "execute_result"
    }
   ],
   "source": [
    "#Verificado geral ano\n",
    "sum(data_sapatos_UK_soma_gender['Count'])"
   ]
  },
  {
   "cell_type": "markdown",
   "metadata": {},
   "source": [
    "###  Estimativa da quantidade total de sapatos vendidos no mês de julho de 2015 para as lojas localizadas no Reino Unido"
   ]
  },
  {
   "cell_type": "code",
   "execution_count": 22,
   "metadata": {
    "scrolled": true
   },
   "outputs": [
    {
     "name": "stdout",
     "output_type": "stream",
     "text": [
      " Meta de vendas\n"
     ]
    },
    {
     "data": {
      "text/html": [
       "<div>\n",
       "<style scoped>\n",
       "    .dataframe tbody tr th:only-of-type {\n",
       "        vertical-align: middle;\n",
       "    }\n",
       "\n",
       "    .dataframe tbody tr th {\n",
       "        vertical-align: top;\n",
       "    }\n",
       "\n",
       "    .dataframe thead th {\n",
       "        text-align: right;\n",
       "    }\n",
       "</style>\n",
       "<table border=\"1\" class=\"dataframe\">\n",
       "  <thead>\n",
       "    <tr style=\"text-align: right;\">\n",
       "      <th></th>\n",
       "      <th>index</th>\n",
       "      <th>Year</th>\n",
       "      <th>Month</th>\n",
       "      <th>Gender</th>\n",
       "      <th>Count</th>\n",
       "    </tr>\n",
       "  </thead>\n",
       "  <tbody>\n",
       "    <tr>\n",
       "      <th>0</th>\n",
       "      <td>12</td>\n",
       "      <td>2015</td>\n",
       "      <td>7</td>\n",
       "      <td>Female</td>\n",
       "      <td>11</td>\n",
       "    </tr>\n",
       "    <tr>\n",
       "      <th>1</th>\n",
       "      <td>13</td>\n",
       "      <td>2015</td>\n",
       "      <td>7</td>\n",
       "      <td>Male</td>\n",
       "      <td>15</td>\n",
       "    </tr>\n",
       "  </tbody>\n",
       "</table>\n",
       "</div>"
      ],
      "text/plain": [
       "   index  Year  Month  Gender  Count\n",
       "0     12  2015      7  Female     11\n",
       "1     13  2015      7    Male     15"
      ]
     },
     "execution_count": 22,
     "metadata": {},
     "output_type": "execute_result"
    }
   ],
   "source": [
    "print(' Meta de vendas')\n",
    "data_sapatos_UK_jul =(data_sapatos_UK_soma_gender[data_sapatos_UK_soma_gender.Month.isin([7])]).reset_index()\n",
    "data_sapatos_UK_jul"
   ]
  },
  {
   "cell_type": "code",
   "execution_count": 23,
   "metadata": {},
   "outputs": [
    {
     "data": {
      "text/plain": [
       "15"
      ]
     },
     "execution_count": 23,
     "metadata": {},
     "output_type": "execute_result"
    }
   ],
   "source": [
    "# dos homens\n",
    "julho_male = data_sapatos_UK_jul[data_sapatos_UK_jul['Gender']== 'Male']['Count'].sum()\n",
    "julho_male"
   ]
  },
  {
   "cell_type": "code",
   "execution_count": 24,
   "metadata": {},
   "outputs": [
    {
     "data": {
      "text/plain": [
       "11"
      ]
     },
     "execution_count": 24,
     "metadata": {},
     "output_type": "execute_result"
    }
   ],
   "source": [
    "# mulheres\n",
    "julho_female = data_sapatos_UK_jul[data_sapatos_UK_jul['Gender']== 'Female']['Count'].sum()\n",
    "julho_female"
   ]
  },
  {
   "cell_type": "markdown",
   "metadata": {},
   "source": [
    "#### Calculando o nivel de confianca para esta venda"
   ]
  },
  {
   "cell_type": "markdown",
   "metadata": {},
   "source": [
    "* Vendas ultimos 6 meses"
   ]
  },
  {
   "cell_type": "code",
   "execution_count": 25,
   "metadata": {
    "scrolled": true
   },
   "outputs": [
    {
     "data": {
      "text/html": [
       "<div>\n",
       "<style scoped>\n",
       "    .dataframe tbody tr th:only-of-type {\n",
       "        vertical-align: middle;\n",
       "    }\n",
       "\n",
       "    .dataframe tbody tr th {\n",
       "        vertical-align: top;\n",
       "    }\n",
       "\n",
       "    .dataframe thead th {\n",
       "        text-align: right;\n",
       "    }\n",
       "</style>\n",
       "<table border=\"1\" class=\"dataframe\">\n",
       "  <thead>\n",
       "    <tr style=\"text-align: right;\">\n",
       "      <th></th>\n",
       "      <th>Year</th>\n",
       "      <th>Month</th>\n",
       "      <th>Gender</th>\n",
       "      <th>Count</th>\n",
       "    </tr>\n",
       "  </thead>\n",
       "  <tbody>\n",
       "    <tr>\n",
       "      <th>0</th>\n",
       "      <td>2015</td>\n",
       "      <td>1</td>\n",
       "      <td>Female</td>\n",
       "      <td>11</td>\n",
       "    </tr>\n",
       "    <tr>\n",
       "      <th>1</th>\n",
       "      <td>2015</td>\n",
       "      <td>1</td>\n",
       "      <td>Male</td>\n",
       "      <td>16</td>\n",
       "    </tr>\n",
       "    <tr>\n",
       "      <th>2</th>\n",
       "      <td>2015</td>\n",
       "      <td>2</td>\n",
       "      <td>Female</td>\n",
       "      <td>15</td>\n",
       "    </tr>\n",
       "    <tr>\n",
       "      <th>3</th>\n",
       "      <td>2015</td>\n",
       "      <td>2</td>\n",
       "      <td>Male</td>\n",
       "      <td>10</td>\n",
       "    </tr>\n",
       "    <tr>\n",
       "      <th>4</th>\n",
       "      <td>2015</td>\n",
       "      <td>3</td>\n",
       "      <td>Female</td>\n",
       "      <td>16</td>\n",
       "    </tr>\n",
       "    <tr>\n",
       "      <th>5</th>\n",
       "      <td>2015</td>\n",
       "      <td>3</td>\n",
       "      <td>Male</td>\n",
       "      <td>12</td>\n",
       "    </tr>\n",
       "    <tr>\n",
       "      <th>6</th>\n",
       "      <td>2015</td>\n",
       "      <td>4</td>\n",
       "      <td>Female</td>\n",
       "      <td>21</td>\n",
       "    </tr>\n",
       "    <tr>\n",
       "      <th>7</th>\n",
       "      <td>2015</td>\n",
       "      <td>4</td>\n",
       "      <td>Male</td>\n",
       "      <td>19</td>\n",
       "    </tr>\n",
       "    <tr>\n",
       "      <th>8</th>\n",
       "      <td>2015</td>\n",
       "      <td>5</td>\n",
       "      <td>Female</td>\n",
       "      <td>14</td>\n",
       "    </tr>\n",
       "    <tr>\n",
       "      <th>9</th>\n",
       "      <td>2015</td>\n",
       "      <td>5</td>\n",
       "      <td>Male</td>\n",
       "      <td>25</td>\n",
       "    </tr>\n",
       "    <tr>\n",
       "      <th>10</th>\n",
       "      <td>2015</td>\n",
       "      <td>6</td>\n",
       "      <td>Female</td>\n",
       "      <td>6</td>\n",
       "    </tr>\n",
       "    <tr>\n",
       "      <th>11</th>\n",
       "      <td>2015</td>\n",
       "      <td>6</td>\n",
       "      <td>Male</td>\n",
       "      <td>26</td>\n",
       "    </tr>\n",
       "  </tbody>\n",
       "</table>\n",
       "</div>"
      ],
      "text/plain": [
       "    Year  Month  Gender  Count\n",
       "0   2015      1  Female     11\n",
       "1   2015      1    Male     16\n",
       "2   2015      2  Female     15\n",
       "3   2015      2    Male     10\n",
       "4   2015      3  Female     16\n",
       "5   2015      3    Male     12\n",
       "6   2015      4  Female     21\n",
       "7   2015      4    Male     19\n",
       "8   2015      5  Female     14\n",
       "9   2015      5    Male     25\n",
       "10  2015      6  Female      6\n",
       "11  2015      6    Male     26"
      ]
     },
     "execution_count": 25,
     "metadata": {},
     "output_type": "execute_result"
    }
   ],
   "source": [
    "data_sapatos_UK_6 =(data_sapatos_UK_soma_gender[data_sapatos_UK_soma_gender.Month.isin([1,2,3,4,5,6])])\n",
    "data_sapatos_UK_6"
   ]
  },
  {
   "cell_type": "code",
   "execution_count": 26,
   "metadata": {},
   "outputs": [
    {
     "data": {
      "text/plain": [
       "191"
      ]
     },
     "execution_count": 26,
     "metadata": {},
     "output_type": "execute_result"
    }
   ],
   "source": [
    "# somatoria geral do periodo de 6 meses\n",
    "sum(data_sapatos_UK_6['Count'])"
   ]
  },
  {
   "cell_type": "markdown",
   "metadata": {},
   "source": [
    "*  Treinando o modelo"
   ]
  },
  {
   "cell_type": "code",
   "execution_count": 27,
   "metadata": {},
   "outputs": [
    {
     "name": "stdout",
     "output_type": "stream",
     "text": [
      "Analise da quantidade dos 6 meses \n",
      "\n",
      "Soma Male =108\n",
      "Soma Female =83 \n",
      "\n",
      "Media Male =18.0\n",
      "Desvio Padrao Male =6.6\n",
      "Media Female =13.83\n",
      "Desvio Padrao Female =5.04\n"
     ]
    }
   ],
   "source": [
    "\n",
    "print('Analise da quantidade dos 6 meses', '\\n')\n",
    "\n",
    "\n",
    "soma_male = data_sapatos_UK_6[data_sapatos_UK_6['Gender']== 'Male']['Count'].sum()\n",
    "soma_female = data_sapatos_UK_6[data_sapatos_UK_6['Gender']== 'Female']['Count'].sum()\n",
    "\n",
    "media_male = data_sapatos_UK_6[data_sapatos_UK_6['Gender']== 'Male']['Count'].mean()\n",
    "std_male = data_sapatos_UK_6[data_sapatos_UK_6['Gender']== 'Male']['Count'].std()\n",
    "media_female = data_sapatos_UK_6[data_sapatos_UK_6['Gender']== 'Female']['Count'].mean()\n",
    "std_female = data_sapatos_UK_6[data_sapatos_UK_6['Gender']== 'Female']['Count'].std()\n",
    "\n",
    " \n",
    "print('Soma Male =' + str(round(soma_male, 2)))\n",
    "print('Soma Female =' + str(round(soma_female, 2)),'\\n')\n",
    "print('Media Male =' + str(round(media_male, 2)))\n",
    "print('Desvio Padrao Male =' + str(round(std_male, 2)))\n",
    "print('Media Female =' + str(round(media_female, 2)))\n",
    "print('Desvio Padrao Female =' + str(round(std_female, 2)))"
   ]
  },
  {
   "cell_type": "markdown",
   "metadata": {},
   "source": [
    "* Intervalo de Confianca por Genero"
   ]
  },
  {
   "cell_type": "code",
   "execution_count": 28,
   "metadata": {},
   "outputs": [
    {
     "data": {
      "text/plain": [
       "array([ 5.06, 30.94])"
      ]
     },
     "execution_count": 28,
     "metadata": {},
     "output_type": "execute_result"
    }
   ],
   "source": [
    "# Masculino\n",
    "IC_male_6 = np.round(stats.norm.interval(0.95, loc = media_male, scale = std_male),2)\n",
    "IC_male_6"
   ]
  },
  {
   "cell_type": "code",
   "execution_count": 29,
   "metadata": {},
   "outputs": [
    {
     "name": "stdout",
     "output_type": "stream",
     "text": [
      "Variacao entre o limite inferior e limite superior\n",
      "72.0 %\n"
     ]
    }
   ],
   "source": [
    "print('Variacao entre o limite inferior e limite superior')\n",
    "print (round(stats.variation(IC_male_6),2)*100, '%')"
   ]
  },
  {
   "cell_type": "code",
   "execution_count": 30,
   "metadata": {},
   "outputs": [
    {
     "data": {
      "text/plain": [
       "array([ 3.96, 23.7 ])"
      ]
     },
     "execution_count": 30,
     "metadata": {},
     "output_type": "execute_result"
    }
   ],
   "source": [
    "# Feminino\n",
    "IC_fem_6 = np.round(stats.norm.interval(0.95, loc = media_female, scale = std_female),2)\n",
    "IC_fem_6"
   ]
  },
  {
   "cell_type": "code",
   "execution_count": 31,
   "metadata": {},
   "outputs": [
    {
     "name": "stdout",
     "output_type": "stream",
     "text": [
      "Variacao entre o limite inferior e limite superior\n",
      "71.0 %\n"
     ]
    }
   ],
   "source": [
    "print('Variacao entre o limite inferior e limite superior')\n",
    "print (round(stats.variation(IC_fem_6),2)*100, '%')"
   ]
  },
  {
   "cell_type": "markdown",
   "metadata": {},
   "source": [
    "* vendas dos ultimos 3 meses"
   ]
  },
  {
   "cell_type": "code",
   "execution_count": 32,
   "metadata": {},
   "outputs": [
    {
     "data": {
      "text/html": [
       "<div>\n",
       "<style scoped>\n",
       "    .dataframe tbody tr th:only-of-type {\n",
       "        vertical-align: middle;\n",
       "    }\n",
       "\n",
       "    .dataframe tbody tr th {\n",
       "        vertical-align: top;\n",
       "    }\n",
       "\n",
       "    .dataframe thead th {\n",
       "        text-align: right;\n",
       "    }\n",
       "</style>\n",
       "<table border=\"1\" class=\"dataframe\">\n",
       "  <thead>\n",
       "    <tr style=\"text-align: right;\">\n",
       "      <th></th>\n",
       "      <th>index</th>\n",
       "      <th>Year</th>\n",
       "      <th>Month</th>\n",
       "      <th>Gender</th>\n",
       "      <th>Count</th>\n",
       "    </tr>\n",
       "  </thead>\n",
       "  <tbody>\n",
       "    <tr>\n",
       "      <th>0</th>\n",
       "      <td>6</td>\n",
       "      <td>2015</td>\n",
       "      <td>4</td>\n",
       "      <td>Female</td>\n",
       "      <td>21</td>\n",
       "    </tr>\n",
       "    <tr>\n",
       "      <th>1</th>\n",
       "      <td>7</td>\n",
       "      <td>2015</td>\n",
       "      <td>4</td>\n",
       "      <td>Male</td>\n",
       "      <td>19</td>\n",
       "    </tr>\n",
       "    <tr>\n",
       "      <th>2</th>\n",
       "      <td>8</td>\n",
       "      <td>2015</td>\n",
       "      <td>5</td>\n",
       "      <td>Female</td>\n",
       "      <td>14</td>\n",
       "    </tr>\n",
       "    <tr>\n",
       "      <th>3</th>\n",
       "      <td>9</td>\n",
       "      <td>2015</td>\n",
       "      <td>5</td>\n",
       "      <td>Male</td>\n",
       "      <td>25</td>\n",
       "    </tr>\n",
       "    <tr>\n",
       "      <th>4</th>\n",
       "      <td>10</td>\n",
       "      <td>2015</td>\n",
       "      <td>6</td>\n",
       "      <td>Female</td>\n",
       "      <td>6</td>\n",
       "    </tr>\n",
       "    <tr>\n",
       "      <th>5</th>\n",
       "      <td>11</td>\n",
       "      <td>2015</td>\n",
       "      <td>6</td>\n",
       "      <td>Male</td>\n",
       "      <td>26</td>\n",
       "    </tr>\n",
       "  </tbody>\n",
       "</table>\n",
       "</div>"
      ],
      "text/plain": [
       "   index  Year  Month  Gender  Count\n",
       "0      6  2015      4  Female     21\n",
       "1      7  2015      4    Male     19\n",
       "2      8  2015      5  Female     14\n",
       "3      9  2015      5    Male     25\n",
       "4     10  2015      6  Female      6\n",
       "5     11  2015      6    Male     26"
      ]
     },
     "execution_count": 32,
     "metadata": {},
     "output_type": "execute_result"
    }
   ],
   "source": [
    "data_sapatos_UK_3 =(data_sapatos_UK_soma_gender[data_sapatos_UK_soma_gender.Month.isin([4,5,6])]).reset_index()\n",
    "data_sapatos_UK_3"
   ]
  },
  {
   "cell_type": "code",
   "execution_count": 33,
   "metadata": {},
   "outputs": [
    {
     "data": {
      "text/plain": [
       "111"
      ]
     },
     "execution_count": 33,
     "metadata": {},
     "output_type": "execute_result"
    }
   ],
   "source": [
    "# somatoria geral do periodo de 3 meses\n",
    "sum(data_sapatos_UK_3['Count'])"
   ]
  },
  {
   "cell_type": "markdown",
   "metadata": {},
   "source": [
    "*  Treinano o modelo"
   ]
  },
  {
   "cell_type": "code",
   "execution_count": 34,
   "metadata": {},
   "outputs": [
    {
     "name": "stdout",
     "output_type": "stream",
     "text": [
      "Vendas nos meses de abril, maio e junho \n",
      "\n",
      "soma Male =70\n",
      "soma Female =41 \n",
      "\n",
      "Media Male =23.33\n",
      "Desvio Padrao Male =3.79\n",
      "Media Female =13.67\n",
      "Desvio Padrao Female =7.51\n"
     ]
    }
   ],
   "source": [
    "\n",
    "print('Vendas nos meses de abril, maio e junho', '\\n')\n",
    "\n",
    "soma_male_3 = data_sapatos_UK_3[data_sapatos_UK_3['Gender']== 'Male']['Count'].sum()\n",
    "soma_female_3 = data_sapatos_UK_3[data_sapatos_UK_3['Gender']== 'Female']['Count'].sum()\n",
    "\n",
    "media_male_3 = data_sapatos_UK_3[data_sapatos_UK_3['Gender']== 'Male']['Count'].mean()\n",
    "std_male_3 = data_sapatos_UK_3[data_sapatos_UK_3['Gender']== 'Male']['Count'].std()\n",
    "\n",
    "media_female_3 = data_sapatos_UK_3[data_sapatos_UK_3['Gender']== 'Female']['Count'].mean()\n",
    "std_female_3 = data_sapatos_UK_3[data_sapatos_UK_3['Gender']== 'Female']['Count'].std()\n",
    "\n",
    "\n",
    "\n",
    "print('soma Male =' + str(round(soma_male_3, 2)))\n",
    "print('soma Female =' + str(round(soma_female_3, 2)),'\\n')\n",
    "print('Media Male =' + str(round(media_male_3, 2)))\n",
    "print('Desvio Padrao Male =' + str(round(std_male_3, 2)))\n",
    "print('Media Female =' + str(round(media_female_3, 2)))\n",
    "print('Desvio Padrao Female =' + str(round(std_female_3, 2)))"
   ]
  },
  {
   "cell_type": "markdown",
   "metadata": {},
   "source": [
    "* Intervalo de Confianca 95%"
   ]
  },
  {
   "cell_type": "code",
   "execution_count": 35,
   "metadata": {},
   "outputs": [
    {
     "data": {
      "text/plain": [
       "array([15.91, 30.75])"
      ]
     },
     "execution_count": 35,
     "metadata": {},
     "output_type": "execute_result"
    }
   ],
   "source": [
    "# Masculino\n",
    "IC_male_3 = np.round(stats.norm.interval(0.95, loc = media_male_3, scale = std_male_3),2)\n",
    "IC_male_3"
   ]
  },
  {
   "cell_type": "code",
   "execution_count": 36,
   "metadata": {},
   "outputs": [
    {
     "name": "stdout",
     "output_type": "stream",
     "text": [
      "Variacao entre o limite inferior e limite superior\n",
      "32.0 %\n"
     ]
    }
   ],
   "source": [
    "print('Variacao entre o limite inferior e limite superior')\n",
    "print (round(stats.variation(IC_male_3),2)*100, '%')"
   ]
  },
  {
   "cell_type": "code",
   "execution_count": 37,
   "metadata": {
    "scrolled": true
   },
   "outputs": [
    {
     "data": {
      "text/plain": [
       "array([-1.04, 28.38])"
      ]
     },
     "execution_count": 37,
     "metadata": {},
     "output_type": "execute_result"
    }
   ],
   "source": [
    "# Feminino\n",
    "IC_fem_3= np.round(stats.norm.interval(0.95, loc = media_female_3, scale = std_female_3),2)\n",
    "IC_fem_3"
   ]
  },
  {
   "cell_type": "code",
   "execution_count": 38,
   "metadata": {},
   "outputs": [
    {
     "name": "stdout",
     "output_type": "stream",
     "text": [
      "Variacao entre o limite inferior e limite superior\n",
      "108.0 %\n"
     ]
    }
   ],
   "source": [
    "print('Variacao entre o limite inferior e limite superior')\n",
    "print (round(stats.variation(IC_fem_3),2)*100, '%')"
   ]
  },
  {
   "cell_type": "markdown",
   "metadata": {},
   "source": [
    "## Analise\n",
    " Fazendo a estimativa de vendas por genero nao conseguimos alcancar um grau de confianca aceitavel par predizer as vendas."
   ]
  },
  {
   "cell_type": "markdown",
   "metadata": {},
   "source": [
    "## Calculando a media e o desvio-padrao das vendas em geral\n"
   ]
  },
  {
   "cell_type": "code",
   "execution_count": 39,
   "metadata": {},
   "outputs": [
    {
     "data": {
      "text/html": [
       "<div>\n",
       "<style scoped>\n",
       "    .dataframe tbody tr th:only-of-type {\n",
       "        vertical-align: middle;\n",
       "    }\n",
       "\n",
       "    .dataframe tbody tr th {\n",
       "        vertical-align: top;\n",
       "    }\n",
       "\n",
       "    .dataframe thead th {\n",
       "        text-align: right;\n",
       "    }\n",
       "</style>\n",
       "<table border=\"1\" class=\"dataframe\">\n",
       "  <thead>\n",
       "    <tr style=\"text-align: right;\">\n",
       "      <th></th>\n",
       "      <th>Year</th>\n",
       "      <th>Month</th>\n",
       "      <th>Count</th>\n",
       "    </tr>\n",
       "  </thead>\n",
       "  <tbody>\n",
       "    <tr>\n",
       "      <th>0</th>\n",
       "      <td>2015</td>\n",
       "      <td>1</td>\n",
       "      <td>27</td>\n",
       "    </tr>\n",
       "    <tr>\n",
       "      <th>1</th>\n",
       "      <td>2015</td>\n",
       "      <td>2</td>\n",
       "      <td>25</td>\n",
       "    </tr>\n",
       "    <tr>\n",
       "      <th>2</th>\n",
       "      <td>2015</td>\n",
       "      <td>3</td>\n",
       "      <td>28</td>\n",
       "    </tr>\n",
       "    <tr>\n",
       "      <th>3</th>\n",
       "      <td>2015</td>\n",
       "      <td>4</td>\n",
       "      <td>40</td>\n",
       "    </tr>\n",
       "    <tr>\n",
       "      <th>4</th>\n",
       "      <td>2015</td>\n",
       "      <td>5</td>\n",
       "      <td>39</td>\n",
       "    </tr>\n",
       "  </tbody>\n",
       "</table>\n",
       "</div>"
      ],
      "text/plain": [
       "   Year  Month  Count\n",
       "0  2015      1     27\n",
       "1  2015      2     25\n",
       "2  2015      3     28\n",
       "3  2015      4     40\n",
       "4  2015      5     39"
      ]
     },
     "execution_count": 39,
     "metadata": {},
     "output_type": "execute_result"
    }
   ],
   "source": [
    "data_sapatos_UK_soma_geral = data_sapatos_UK.groupby([data_sapatos_UK['Year'], data_sapatos_UK['Month']])['Count'].count().reset_index()\n",
    "data_sapatos_UK_soma_geral.head()"
   ]
  },
  {
   "cell_type": "markdown",
   "metadata": {},
   "source": [
    "####  Meta desejada"
   ]
  },
  {
   "cell_type": "code",
   "execution_count": 40,
   "metadata": {},
   "outputs": [
    {
     "data": {
      "text/html": [
       "<div>\n",
       "<style scoped>\n",
       "    .dataframe tbody tr th:only-of-type {\n",
       "        vertical-align: middle;\n",
       "    }\n",
       "\n",
       "    .dataframe tbody tr th {\n",
       "        vertical-align: top;\n",
       "    }\n",
       "\n",
       "    .dataframe thead th {\n",
       "        text-align: right;\n",
       "    }\n",
       "</style>\n",
       "<table border=\"1\" class=\"dataframe\">\n",
       "  <thead>\n",
       "    <tr style=\"text-align: right;\">\n",
       "      <th></th>\n",
       "      <th>Year</th>\n",
       "      <th>Month</th>\n",
       "      <th>Count</th>\n",
       "    </tr>\n",
       "  </thead>\n",
       "  <tbody>\n",
       "    <tr>\n",
       "      <th>6</th>\n",
       "      <td>2015</td>\n",
       "      <td>7</td>\n",
       "      <td>26</td>\n",
       "    </tr>\n",
       "  </tbody>\n",
       "</table>\n",
       "</div>"
      ],
      "text/plain": [
       "   Year  Month  Count\n",
       "6  2015      7     26"
      ]
     },
     "execution_count": 40,
     "metadata": {},
     "output_type": "execute_result"
    }
   ],
   "source": [
    "data_sapatos_UK_julho =(data_sapatos_UK_soma_geral[data_sapatos_UK_soma_geral.Month.isin([7])])\n",
    "data_sapatos_UK_julho"
   ]
  },
  {
   "cell_type": "markdown",
   "metadata": {},
   "source": [
    "* Calculando as vendas da media e desvio padrao historico dos ultimos 6 meses"
   ]
  },
  {
   "cell_type": "code",
   "execution_count": 41,
   "metadata": {},
   "outputs": [
    {
     "data": {
      "text/html": [
       "<div>\n",
       "<style scoped>\n",
       "    .dataframe tbody tr th:only-of-type {\n",
       "        vertical-align: middle;\n",
       "    }\n",
       "\n",
       "    .dataframe tbody tr th {\n",
       "        vertical-align: top;\n",
       "    }\n",
       "\n",
       "    .dataframe thead th {\n",
       "        text-align: right;\n",
       "    }\n",
       "</style>\n",
       "<table border=\"1\" class=\"dataframe\">\n",
       "  <thead>\n",
       "    <tr style=\"text-align: right;\">\n",
       "      <th></th>\n",
       "      <th>Year</th>\n",
       "      <th>Month</th>\n",
       "      <th>Count</th>\n",
       "    </tr>\n",
       "  </thead>\n",
       "  <tbody>\n",
       "    <tr>\n",
       "      <th>0</th>\n",
       "      <td>2015</td>\n",
       "      <td>1</td>\n",
       "      <td>27</td>\n",
       "    </tr>\n",
       "    <tr>\n",
       "      <th>1</th>\n",
       "      <td>2015</td>\n",
       "      <td>2</td>\n",
       "      <td>25</td>\n",
       "    </tr>\n",
       "    <tr>\n",
       "      <th>2</th>\n",
       "      <td>2015</td>\n",
       "      <td>3</td>\n",
       "      <td>28</td>\n",
       "    </tr>\n",
       "    <tr>\n",
       "      <th>3</th>\n",
       "      <td>2015</td>\n",
       "      <td>4</td>\n",
       "      <td>40</td>\n",
       "    </tr>\n",
       "    <tr>\n",
       "      <th>4</th>\n",
       "      <td>2015</td>\n",
       "      <td>5</td>\n",
       "      <td>39</td>\n",
       "    </tr>\n",
       "    <tr>\n",
       "      <th>5</th>\n",
       "      <td>2015</td>\n",
       "      <td>6</td>\n",
       "      <td>32</td>\n",
       "    </tr>\n",
       "  </tbody>\n",
       "</table>\n",
       "</div>"
      ],
      "text/plain": [
       "   Year  Month  Count\n",
       "0  2015      1     27\n",
       "1  2015      2     25\n",
       "2  2015      3     28\n",
       "3  2015      4     40\n",
       "4  2015      5     39\n",
       "5  2015      6     32"
      ]
     },
     "execution_count": 41,
     "metadata": {},
     "output_type": "execute_result"
    }
   ],
   "source": [
    "data_sapatos_UK_6_geral =(data_sapatos_UK_soma_geral[data_sapatos_UK_soma_geral.Month.isin([1,2,3,4,5,6])])\n",
    "data_sapatos_UK_6_geral"
   ]
  },
  {
   "cell_type": "markdown",
   "metadata": {},
   "source": [
    "*Treinamento do modelo"
   ]
  },
  {
   "cell_type": "code",
   "execution_count": 42,
   "metadata": {},
   "outputs": [
    {
     "name": "stdout",
     "output_type": "stream",
     "text": [
      "Vendas nos meses de abril, maio e junho \n",
      "\n",
      "Media geral =31.83\n",
      "Desvio Padrao geral =6.37 \n",
      "\n"
     ]
    }
   ],
   "source": [
    "print('Vendas nos meses de abril, maio e junho', '\\n')\n",
    "\n",
    "\n",
    "media_6_geral = data_sapatos_UK_6_geral['Count'].mean()\n",
    "std_6_geral = data_sapatos_UK_6_geral['Count'].std()\n",
    "\n",
    "\n",
    "\n",
    "\n",
    "print('Media geral =' + str(round(media_6_geral, 2)))\n",
    "print('Desvio Padrao geral =' + str(round(std_6_geral, 2)),'\\n')\n"
   ]
  },
  {
   "cell_type": "markdown",
   "metadata": {},
   "source": [
    "* Intevalo de confianca de 95%"
   ]
  },
  {
   "cell_type": "code",
   "execution_count": 43,
   "metadata": {},
   "outputs": [
    {
     "data": {
      "text/plain": [
       "array([19.35, 44.32])"
      ]
     },
     "execution_count": 43,
     "metadata": {},
     "output_type": "execute_result"
    }
   ],
   "source": [
    "IC_geral_6 = np.round(stats.norm.interval(0.95, loc = media_6_geral, scale = std_6_geral),2)\n",
    "IC_geral_6"
   ]
  },
  {
   "cell_type": "code",
   "execution_count": 44,
   "metadata": {},
   "outputs": [
    {
     "name": "stdout",
     "output_type": "stream",
     "text": [
      "Variacao entre o limite inferior e limite superior\n",
      "39.0 %\n"
     ]
    }
   ],
   "source": [
    "print('Variacao entre o limite inferior e limite superior')\n",
    "print (round(stats.variation(IC_geral_6),2)*100, '%')"
   ]
  },
  {
   "cell_type": "code",
   "execution_count": null,
   "metadata": {},
   "outputs": [],
   "source": []
  },
  {
   "cell_type": "markdown",
   "metadata": {},
   "source": [
    "### Analise\n",
    "Verificando a media historica dos ultimos 6 meses podemos chegar a uma conclusao com 95% de grau de confianca que a estimativa de sapatos que serao vendidos esta entre 19 a 44."
   ]
  },
  {
   "cell_type": "markdown",
   "metadata": {},
   "source": [
    "* Calculando a media e desvio padrao historico das vendas no ultimos 3 meses"
   ]
  },
  {
   "cell_type": "code",
   "execution_count": 45,
   "metadata": {},
   "outputs": [
    {
     "data": {
      "text/html": [
       "<div>\n",
       "<style scoped>\n",
       "    .dataframe tbody tr th:only-of-type {\n",
       "        vertical-align: middle;\n",
       "    }\n",
       "\n",
       "    .dataframe tbody tr th {\n",
       "        vertical-align: top;\n",
       "    }\n",
       "\n",
       "    .dataframe thead th {\n",
       "        text-align: right;\n",
       "    }\n",
       "</style>\n",
       "<table border=\"1\" class=\"dataframe\">\n",
       "  <thead>\n",
       "    <tr style=\"text-align: right;\">\n",
       "      <th></th>\n",
       "      <th>Year</th>\n",
       "      <th>Month</th>\n",
       "      <th>Count</th>\n",
       "    </tr>\n",
       "  </thead>\n",
       "  <tbody>\n",
       "    <tr>\n",
       "      <th>3</th>\n",
       "      <td>2015</td>\n",
       "      <td>4</td>\n",
       "      <td>40</td>\n",
       "    </tr>\n",
       "    <tr>\n",
       "      <th>4</th>\n",
       "      <td>2015</td>\n",
       "      <td>5</td>\n",
       "      <td>39</td>\n",
       "    </tr>\n",
       "    <tr>\n",
       "      <th>5</th>\n",
       "      <td>2015</td>\n",
       "      <td>6</td>\n",
       "      <td>32</td>\n",
       "    </tr>\n",
       "  </tbody>\n",
       "</table>\n",
       "</div>"
      ],
      "text/plain": [
       "   Year  Month  Count\n",
       "3  2015      4     40\n",
       "4  2015      5     39\n",
       "5  2015      6     32"
      ]
     },
     "execution_count": 45,
     "metadata": {},
     "output_type": "execute_result"
    }
   ],
   "source": [
    "data_sapatos_UK_3_geral =(data_sapatos_UK_soma_geral[data_sapatos_UK_soma_geral.Month.isin([4,5,6])])\n",
    "data_sapatos_UK_3_geral"
   ]
  },
  {
   "cell_type": "markdown",
   "metadata": {},
   "source": [
    "* Treinamento do modelo"
   ]
  },
  {
   "cell_type": "code",
   "execution_count": 46,
   "metadata": {},
   "outputs": [
    {
     "name": "stdout",
     "output_type": "stream",
     "text": [
      "Vendas nos meses de abril, maio e junho \n",
      "\n",
      "Media geral =37.0\n",
      "Desvio Padrao geral =4.36 \n",
      "\n"
     ]
    }
   ],
   "source": [
    "print('Vendas nos meses de abril, maio e junho', '\\n')\n",
    "\n",
    "\n",
    "media_3_geral = data_sapatos_UK_3_geral['Count'].mean()\n",
    "std_3_geral = data_sapatos_UK_3_geral['Count'].std()\n",
    "\n",
    "\n",
    "\n",
    "\n",
    "print('Media geral =' + str(round(media_3_geral, 2)))\n",
    "print('Desvio Padrao geral =' + str(round(std_3_geral, 2)),'\\n')"
   ]
  },
  {
   "cell_type": "markdown",
   "metadata": {},
   "source": [
    "* Intervalo de Confianca 95%"
   ]
  },
  {
   "cell_type": "code",
   "execution_count": 47,
   "metadata": {},
   "outputs": [
    {
     "data": {
      "text/plain": [
       "array([28.46, 45.54])"
      ]
     },
     "execution_count": 47,
     "metadata": {},
     "output_type": "execute_result"
    }
   ],
   "source": [
    "IC_geral = np.round(stats.norm.interval(0.95, loc = media_3_geral, scale = std_3_geral),2)\n",
    "IC_geral"
   ]
  },
  {
   "cell_type": "code",
   "execution_count": 48,
   "metadata": {},
   "outputs": [
    {
     "name": "stdout",
     "output_type": "stream",
     "text": [
      "Variacao entre o limite inferior e limite superior\n",
      "23.0 %\n"
     ]
    }
   ],
   "source": [
    "print('Variacao entre o limite inferior e limite superior')\n",
    "print (round(stats.variation(IC_geral),2)*100, '%')"
   ]
  },
  {
   "cell_type": "markdown",
   "metadata": {},
   "source": [
    "### Analise\n",
    "Verificando a media historica dos ultimos 3 meses podemos chegar a uma conclusao com 95% de grau de confianca que a estimativa de sapatos que serao vendidos no mes de julho  estao dentro de um grau de confianca aceitavel de 28 a 45 pares vendidos.  \n",
    "O modelo historico dos ultimos 3 meses  tras uma estimativa muito boa de vendas com uma variacao baixa."
   ]
  },
  {
   "cell_type": "markdown",
   "metadata": {},
   "source": [
    "### Analise Final\n",
    "O modelo historico dos ultimos 3 meses  tras uma estimativa muito boa de vendas com uma variacao baixa."
   ]
  },
  {
   "cell_type": "code",
   "execution_count": null,
   "metadata": {},
   "outputs": [],
   "source": []
  }
 ],
 "metadata": {
  "kernelspec": {
   "display_name": "Python 3",
   "language": "python",
   "name": "python3"
  },
  "language_info": {
   "codemirror_mode": {
    "name": "ipython",
    "version": 3
   },
   "file_extension": ".py",
   "mimetype": "text/x-python",
   "name": "python",
   "nbconvert_exporter": "python",
   "pygments_lexer": "ipython3",
   "version": "3.8.3"
  },
  "toc-autonumbering": true,
  "toc-showmarkdowntxt": true
 },
 "nbformat": 4,
 "nbformat_minor": 4
}
